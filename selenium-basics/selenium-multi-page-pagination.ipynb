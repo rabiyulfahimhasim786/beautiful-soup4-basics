{
 "cells": [
  {
   "cell_type": "code",
   "execution_count": 3,
   "id": "2cacee0d",
   "metadata": {},
   "outputs": [
    {
     "name": "stdout",
     "output_type": "stream",
     "text": [
      "Collecting selenium\n",
      "  Using cached selenium-4.1.0-py3-none-any.whl (958 kB)\n",
      "Collecting trio~=0.17\n",
      "  Using cached trio-0.19.0-py3-none-any.whl (356 kB)\n",
      "Requirement already satisfied: urllib3[secure]~=1.26 in c:\\users\\admin\\anaconda3\\lib\\site-packages (from selenium) (1.26.7)\n",
      "Collecting trio-websocket~=0.9\n",
      "  Using cached trio_websocket-0.9.2-py3-none-any.whl (16 kB)\n",
      "Requirement already satisfied: sortedcontainers in c:\\users\\admin\\anaconda3\\lib\\site-packages (from trio~=0.17->selenium) (2.4.0)\n",
      "Requirement already satisfied: attrs>=19.2.0 in c:\\users\\admin\\anaconda3\\lib\\site-packages (from trio~=0.17->selenium) (21.2.0)\n",
      "Requirement already satisfied: async-generator>=1.9 in c:\\users\\admin\\anaconda3\\lib\\site-packages (from trio~=0.17->selenium) (1.10)\n",
      "Requirement already satisfied: cffi>=1.14 in c:\\users\\admin\\anaconda3\\lib\\site-packages (from trio~=0.17->selenium) (1.14.6)\n",
      "Collecting outcome\n",
      "  Using cached outcome-1.1.0-py2.py3-none-any.whl (9.7 kB)\n",
      "Requirement already satisfied: sniffio in c:\\users\\admin\\anaconda3\\lib\\site-packages (from trio~=0.17->selenium) (1.2.0)\n",
      "Requirement already satisfied: idna in c:\\users\\admin\\anaconda3\\lib\\site-packages (from trio~=0.17->selenium) (3.2)\n",
      "Requirement already satisfied: pycparser in c:\\users\\admin\\anaconda3\\lib\\site-packages (from cffi>=1.14->trio~=0.17->selenium) (2.20)\n",
      "Collecting wsproto>=0.14\n",
      "  Using cached wsproto-1.0.0-py3-none-any.whl (24 kB)\n",
      "Requirement already satisfied: pyOpenSSL>=0.14 in c:\\users\\admin\\anaconda3\\lib\\site-packages (from urllib3[secure]~=1.26->selenium) (21.0.0)\n",
      "Requirement already satisfied: cryptography>=1.3.4 in c:\\users\\admin\\anaconda3\\lib\\site-packages (from urllib3[secure]~=1.26->selenium) (3.4.8)\n",
      "Requirement already satisfied: certifi in c:\\users\\admin\\anaconda3\\lib\\site-packages (from urllib3[secure]~=1.26->selenium) (2021.10.8)\n",
      "Requirement already satisfied: six>=1.5.2 in c:\\users\\admin\\anaconda3\\lib\\site-packages (from pyOpenSSL>=0.14->urllib3[secure]~=1.26->selenium) (1.16.0)\n",
      "Collecting h11<1,>=0.9.0\n",
      "  Downloading h11-0.13.0-py3-none-any.whl (58 kB)\n",
      "Installing collected packages: outcome, h11, wsproto, trio, trio-websocket, selenium\n",
      "Successfully installed h11-0.13.0 outcome-1.1.0 selenium-4.1.0 trio-0.19.0 trio-websocket-0.9.2 wsproto-1.0.0\n",
      "Note: you may need to restart the kernel to use updated packages.\n"
     ]
    }
   ],
   "source": [
    "pip install selenium"
   ]
  },
  {
   "cell_type": "code",
   "execution_count": 6,
   "id": "9e3ba16c",
   "metadata": {},
   "outputs": [
    {
     "name": "stdout",
     "output_type": "stream",
     "text": [
      "Collecting webdriver_manager\n",
      "  Using cached webdriver_manager-3.5.2-py2.py3-none-any.whl (17 kB)\n",
      "Requirement already satisfied: requests in c:\\users\\admin\\anaconda3\\lib\\site-packages (from webdriver_manager) (2.26.0)\n",
      "Collecting crayons\n",
      "  Using cached crayons-0.4.0-py2.py3-none-any.whl (4.6 kB)\n",
      "Collecting configparser\n",
      "  Using cached configparser-5.2.0-py3-none-any.whl (19 kB)\n",
      "Requirement already satisfied: colorama in c:\\users\\admin\\anaconda3\\lib\\site-packages (from crayons->webdriver_manager) (0.4.4)\n",
      "Requirement already satisfied: urllib3<1.27,>=1.21.1 in c:\\users\\admin\\anaconda3\\lib\\site-packages (from requests->webdriver_manager) (1.26.7)\n",
      "Requirement already satisfied: certifi>=2017.4.17 in c:\\users\\admin\\anaconda3\\lib\\site-packages (from requests->webdriver_manager) (2021.10.8)\n",
      "Requirement already satisfied: charset-normalizer~=2.0.0 in c:\\users\\admin\\anaconda3\\lib\\site-packages (from requests->webdriver_manager) (2.0.4)\n",
      "Requirement already satisfied: idna<4,>=2.5 in c:\\users\\admin\\anaconda3\\lib\\site-packages (from requests->webdriver_manager) (3.2)\n",
      "Installing collected packages: crayons, configparser, webdriver-manager\n",
      "Successfully installed configparser-5.2.0 crayons-0.4.0 webdriver-manager-3.5.2\n",
      "Note: you may need to restart the kernel to use updated packages.\n"
     ]
    }
   ],
   "source": [
    "pip install webdriver_manager"
   ]
  },
  {
   "cell_type": "code",
   "execution_count": 1,
   "id": "aa255782",
   "metadata": {},
   "outputs": [
    {
     "name": "stderr",
     "output_type": "stream",
     "text": [
      "\n",
      "\n",
      "====== WebDriver manager ======\n",
      "Current google-chrome version is 98.0.4758\n",
      "Get LATEST chromedriver version for 98.0.4758 google-chrome\n",
      "There is no [win32] chromedriver for browser  in cache\n",
      "Trying to download new driver from https://chromedriver.storage.googleapis.com/98.0.4758.80/chromedriver_win32.zip\n",
      "Driver has been saved in cache [C:\\Users\\Admin\\.wdm\\drivers\\chromedriver\\win32\\98.0.4758.80]\n",
      "C:\\Users\\Admin\\AppData\\Local\\Temp/ipykernel_2580/2056395506.py:11: DeprecationWarning: executable_path has been deprecated, please pass in a Service object\n",
      "  driver = webdriver.Chrome(ChromeDriverManager().install())\n",
      "C:\\Users\\Admin\\AppData\\Local\\Temp/ipykernel_2580/2056395506.py:13: DeprecationWarning: find_elements_by_* commands are deprecated. Please use find_elements() instead\n",
      "  title = driver.find_elements_by_class_name(\"title\")\n",
      "C:\\Users\\Admin\\AppData\\Local\\Temp/ipykernel_2580/2056395506.py:14: DeprecationWarning: find_elements_by_* commands are deprecated. Please use find_elements() instead\n",
      "  price = driver.find_elements_by_class_name(\"price\")\n",
      "C:\\Users\\Admin\\AppData\\Local\\Temp/ipykernel_2580/2056395506.py:15: DeprecationWarning: find_elements_by_* commands are deprecated. Please use find_elements() instead\n",
      "  description = driver.find_elements_by_class_name(\"description\")\n",
      "C:\\Users\\Admin\\AppData\\Local\\Temp/ipykernel_2580/2056395506.py:16: DeprecationWarning: find_elements_by_* commands are deprecated. Please use find_elements() instead\n",
      "  rating = driver.find_elements_by_class_name(\"ratings\")\n",
      "\n",
      "\n",
      "====== WebDriver manager ======\n",
      "Current google-chrome version is 98.0.4758\n",
      "Get LATEST chromedriver version for 98.0.4758 google-chrome\n",
      "Driver [C:\\Users\\Admin\\.wdm\\drivers\\chromedriver\\win32\\98.0.4758.80\\chromedriver.exe] found in cache\n"
     ]
    },
    {
     "name": "stdout",
     "output_type": "stream",
     "text": [
      "[['Packard 255 G2', '$416.99', '15.6\", AMD E2-3800 1.3GHz, 4GB, 500GB, Windows 8.1', '2 reviews'], ['Aspire E1-510', '$306.99', '15.6\", Pentium N3520 2.16GHz, 4GB, 500GB, Linux', '2 reviews'], ['ThinkPad T540p', '$1178.99', '15.6\", Core i5-4200M, 4GB, 500GB, Win7 Pro 64bit', '2 reviews'], ['ProBook', '$739.99', '14\", Core i5 2.6GHz, 4GB, 500GB, Win7 Pro 64bit', '8 reviews'], ['ThinkPad X240', '$1311.99', '12.5\", Core i5-4300U, 8GB, 240GB SSD, Win7 Pro 64bit', '12 reviews'], ['Aspire E1-572G', '$581.99', '15.6\", Core i5-4200U, 8GB, 1TB, Radeon R7 M265, Windows 8.1', '2 reviews'], ['ThinkPad Yoga', '$1033.99', '12.5\" Touch, Core i3-4010U, 4GB, 500GB + 16GB SSD Cache,', '13 reviews'], ['Pavilion', '$609.99', '15.6\", Core i5-4200U, 6GB, 750GB, Windows 8.1', '4 reviews'], ['Inspiron 15', '$745.99', 'Moon Silver, 15.6\", Core i7-4510U, 8GB, 1TB, Radeon HD R7 M265 2GB,', '12 reviews'], ['Dell XPS 13', '$1281.99', '13.3\" Touch, Core i5-4210U, 8GB, 128GB SSD, Windows 8.1', '4 reviews'], ['ThinkPad X230', '$1244.99', '12.5\", Core i5 2.6GHz, 8GB, 180GB SSD, Win7 Pro 64bit', '10 reviews'], ['HP 250 G3', '$520.99', '15.6\", Core i5-4210U, 4GB, 500GB, Windows 8.1', '13 reviews']]\n"
     ]
    }
   ],
   "source": [
    "\n",
    "# importing necessary packages\n",
    "from selenium import webdriver\n",
    "from webdriver_manager.chrome import ChromeDriverManager\n",
    "\n",
    "# for holding the resultant list\n",
    "element_list = []\n",
    "\n",
    "for page in range(1, 3, 1):\n",
    "\t\n",
    "\tpage_url = \"https://webscraper.io/test-sites/e-commerce/static/computers/laptops?page=\" + str(page)\n",
    "\tdriver = webdriver.Chrome(ChromeDriverManager().install())\n",
    "\tdriver.get(page_url)\n",
    "\ttitle = driver.find_elements_by_class_name(\"title\")\n",
    "\tprice = driver.find_elements_by_class_name(\"price\")\n",
    "\tdescription = driver.find_elements_by_class_name(\"description\")\n",
    "\trating = driver.find_elements_by_class_name(\"ratings\")\n",
    "\n",
    "\tfor i in range(len(title)):\n",
    "\t\telement_list.append([title[i].text, price[i].text, description[i].text, rating[i].text])\n",
    "\n",
    "print(element_list)\n",
    "\n",
    "#closing the driver\n",
    "driver.close()\n"
   ]
  },
  {
   "cell_type": "code",
   "execution_count": 3,
   "id": "9af04178",
   "metadata": {},
   "outputs": [],
   "source": [
    "import xlsxwriter\n",
    "with xlsxwriter.Workbook('result.xlsx') as workbook:\n",
    "\tworksheet = workbook.add_worksheet()\n",
    "\n",
    "\tfor row_num, data in enumerate(element_list):\n",
    "\t\tworksheet.write_row(row_num, 0, data)"
   ]
  },
  {
   "cell_type": "code",
   "execution_count": 4,
   "id": "57fdcaef",
   "metadata": {},
   "outputs": [
    {
     "name": "stderr",
     "output_type": "stream",
     "text": [
      "\n",
      "\n",
      "====== WebDriver manager ======\n",
      "Current google-chrome version is 98.0.4758\n",
      "Get LATEST chromedriver version for 98.0.4758 google-chrome\n",
      "Driver [C:\\Users\\Admin\\.wdm\\drivers\\chromedriver\\win32\\98.0.4758.80\\chromedriver.exe] found in cache\n",
      "C:\\Users\\Admin\\AppData\\Local\\Temp/ipykernel_2580/596599389.py:10: DeprecationWarning: executable_path has been deprecated, please pass in a Service object\n",
      "  driver = webdriver.Chrome(ChromeDriverManager().install())\n",
      "C:\\Users\\Admin\\AppData\\Local\\Temp/ipykernel_2580/596599389.py:12: DeprecationWarning: find_elements_by_* commands are deprecated. Please use find_elements() instead\n",
      "  title = driver.find_elements_by_class_name(\"title\")\n",
      "C:\\Users\\Admin\\AppData\\Local\\Temp/ipykernel_2580/596599389.py:13: DeprecationWarning: find_elements_by_* commands are deprecated. Please use find_elements() instead\n",
      "  price = driver.find_elements_by_class_name(\"price\")\n",
      "C:\\Users\\Admin\\AppData\\Local\\Temp/ipykernel_2580/596599389.py:14: DeprecationWarning: find_elements_by_* commands are deprecated. Please use find_elements() instead\n",
      "  description = driver.find_elements_by_class_name(\"description\")\n",
      "C:\\Users\\Admin\\AppData\\Local\\Temp/ipykernel_2580/596599389.py:15: DeprecationWarning: find_elements_by_* commands are deprecated. Please use find_elements() instead\n",
      "  rating = driver.find_elements_by_class_name(\"ratings\")\n",
      "\n",
      "\n",
      "====== WebDriver manager ======\n",
      "Current google-chrome version is 98.0.4758\n",
      "Get LATEST chromedriver version for 98.0.4758 google-chrome\n",
      "Driver [C:\\Users\\Admin\\.wdm\\drivers\\chromedriver\\win32\\98.0.4758.80\\chromedriver.exe] found in cache\n"
     ]
    }
   ],
   "source": [
    "import xlsxwriter\n",
    "from selenium import webdriver\n",
    "from webdriver_manager.chrome import ChromeDriverManager\n",
    "\n",
    "element_list = []\n",
    "\n",
    "for page in range(1, 3, 1):\n",
    "\t\n",
    "\tpage_url = \"https://webscraper.io/test-sites/e-commerce/static/computers/laptops?page=\" + str(page)\n",
    "\tdriver = webdriver.Chrome(ChromeDriverManager().install())\n",
    "\tdriver.get(page_url)\n",
    "\ttitle = driver.find_elements_by_class_name(\"title\")\n",
    "\tprice = driver.find_elements_by_class_name(\"price\")\n",
    "\tdescription = driver.find_elements_by_class_name(\"description\")\n",
    "\trating = driver.find_elements_by_class_name(\"ratings\")\n",
    "\n",
    "\tfor i in range(len(title)):\n",
    "\t\telement_list.append([title[i].text, price[i].text, description[i].text, rating[i].text])\n",
    "\n",
    "with xlsxwriter.Workbook('result.xlsx') as workbook:\n",
    "\tworksheet = workbook.add_worksheet()\n",
    "\n",
    "\tfor row_num, data in enumerate(element_list):\n",
    "\t\tworksheet.write_row(row_num, 0, data)\n",
    "\n",
    "driver.close()\n"
   ]
  },
  {
   "cell_type": "code",
   "execution_count": null,
   "id": "a3769d30",
   "metadata": {},
   "outputs": [],
   "source": []
  }
 ],
 "metadata": {
  "kernelspec": {
   "display_name": "Python 3 (ipykernel)",
   "language": "python",
   "name": "python3"
  },
  "language_info": {
   "codemirror_mode": {
    "name": "ipython",
    "version": 3
   },
   "file_extension": ".py",
   "mimetype": "text/x-python",
   "name": "python",
   "nbconvert_exporter": "python",
   "pygments_lexer": "ipython3",
   "version": "3.9.7"
  }
 },
 "nbformat": 4,
 "nbformat_minor": 5
}
