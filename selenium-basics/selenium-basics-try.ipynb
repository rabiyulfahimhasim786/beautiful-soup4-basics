{
 "cells": [
  {
   "cell_type": "code",
   "execution_count": 14,
   "id": "a6066fce",
   "metadata": {},
   "outputs": [
    {
     "name": "stderr",
     "output_type": "stream",
     "text": [
      "\n",
      "\n",
      "====== WebDriver manager ======\n",
      "Current google-chrome version is 98.0.4758\n",
      "Get LATEST chromedriver version for 98.0.4758 google-chrome\n",
      "Driver [C:\\Users\\Admin\\.wdm\\drivers\\chromedriver\\win32\\98.0.4758.102\\chromedriver.exe] found in cache\n",
      "C:\\Users\\Admin\\AppData\\Local\\Temp/ipykernel_4104/2909524129.py:14: DeprecationWarning: executable_path has been deprecated, please pass in a Service object\n",
      "  driver = webdriver.Chrome(ChromeDriverManager().install())\n",
      "C:\\Users\\Admin\\AppData\\Local\\Temp/ipykernel_4104/2909524129.py:16: DeprecationWarning: find_elements_by_* commands are deprecated. Please use find_elements() instead\n",
      "  title = driver.find_elements_by_class_name(\"css-1422juy\")\n"
     ]
    },
    {
     "name": "stdout",
     "output_type": "stream",
     "text": [
      "[['Houston']]\n",
      "[['Houston'], ['Health & Medical']]\n",
      "[['Houston'], ['Health & Medical'], ['Acupuncturists']]\n",
      "[['Houston'], ['Health & Medical'], ['Acupuncturists'], ['Top Acupuncture']]\n",
      "[['Houston'], ['Health & Medical'], ['Acupuncturists'], ['Top Acupuncture'], ['Hoa Da Herbal Medicine']]\n",
      "[['Houston'], ['Health & Medical'], ['Acupuncturists'], ['Top Acupuncture'], ['Hoa Da Herbal Medicine'], ['Yin Yang Acupuncture']]\n",
      "[['Houston'], ['Health & Medical'], ['Acupuncturists'], ['Top Acupuncture'], ['Hoa Da Herbal Medicine'], ['Yin Yang Acupuncture'], ['People’s Acupuncture Tx']]\n",
      "[['Houston'], ['Health & Medical'], ['Acupuncturists'], ['Top Acupuncture'], ['Hoa Da Herbal Medicine'], ['Yin Yang Acupuncture'], ['People’s Acupuncture Tx'], ['Healthpro Chiropractic & Acupuncture']]\n",
      "[['Houston'], ['Health & Medical'], ['Acupuncturists'], ['Top Acupuncture'], ['Hoa Da Herbal Medicine'], ['Yin Yang Acupuncture'], ['People’s Acupuncture Tx'], ['Healthpro Chiropractic & Acupuncture'], ['Eastern Balance Oriental Medicine']]\n",
      "[['Houston'], ['Health & Medical'], ['Acupuncturists'], ['Top Acupuncture'], ['Hoa Da Herbal Medicine'], ['Yin Yang Acupuncture'], ['People’s Acupuncture Tx'], ['Healthpro Chiropractic & Acupuncture'], ['Eastern Balance Oriental Medicine'], ['Balance Houston Acupuncture']]\n",
      "[['Houston'], ['Health & Medical'], ['Acupuncturists'], ['Top Acupuncture'], ['Hoa Da Herbal Medicine'], ['Yin Yang Acupuncture'], ['People’s Acupuncture Tx'], ['Healthpro Chiropractic & Acupuncture'], ['Eastern Balance Oriental Medicine'], ['Balance Houston Acupuncture'], ['Shi Acupuncture & Herbal Clinic']]\n",
      "[['Houston'], ['Health & Medical'], ['Acupuncturists'], ['Top Acupuncture'], ['Hoa Da Herbal Medicine'], ['Yin Yang Acupuncture'], ['People’s Acupuncture Tx'], ['Healthpro Chiropractic & Acupuncture'], ['Eastern Balance Oriental Medicine'], ['Balance Houston Acupuncture'], ['Shi Acupuncture & Herbal Clinic'], ['Houston Acupuncture']]\n",
      "[['Houston'], ['Health & Medical'], ['Acupuncturists'], ['Top Acupuncture'], ['Hoa Da Herbal Medicine'], ['Yin Yang Acupuncture'], ['People’s Acupuncture Tx'], ['Healthpro Chiropractic & Acupuncture'], ['Eastern Balance Oriental Medicine'], ['Balance Houston Acupuncture'], ['Shi Acupuncture & Herbal Clinic'], ['Houston Acupuncture'], ['Acupuncture & Holistic Care']]\n",
      "[['Houston'], ['Health & Medical'], ['Acupuncturists'], ['Top Acupuncture'], ['Hoa Da Herbal Medicine'], ['Yin Yang Acupuncture'], ['People’s Acupuncture Tx'], ['Healthpro Chiropractic & Acupuncture'], ['Eastern Balance Oriental Medicine'], ['Balance Houston Acupuncture'], ['Shi Acupuncture & Herbal Clinic'], ['Houston Acupuncture'], ['Acupuncture & Holistic Care'], ['LIFEnhance Acupuncture Clinic']]\n",
      "[['Houston'], ['Health & Medical'], ['Acupuncturists'], ['Top Acupuncture'], ['Hoa Da Herbal Medicine'], ['Yin Yang Acupuncture'], ['People’s Acupuncture Tx'], ['Healthpro Chiropractic & Acupuncture'], ['Eastern Balance Oriental Medicine'], ['Balance Houston Acupuncture'], ['Shi Acupuncture & Herbal Clinic'], ['Houston Acupuncture'], ['Acupuncture & Holistic Care'], ['LIFEnhance Acupuncture Clinic'], ['Double Nine Ginseng Herb & Acupuncture']]\n",
      "[['Houston'], ['Health & Medical'], ['Acupuncturists'], ['Top Acupuncture'], ['Hoa Da Herbal Medicine'], ['Yin Yang Acupuncture'], ['People’s Acupuncture Tx'], ['Healthpro Chiropractic & Acupuncture'], ['Eastern Balance Oriental Medicine'], ['Balance Houston Acupuncture'], ['Shi Acupuncture & Herbal Clinic'], ['Houston Acupuncture'], ['Acupuncture & Holistic Care'], ['LIFEnhance Acupuncture Clinic'], ['Double Nine Ginseng Herb & Acupuncture'], ['Nataly Perez, DC']]\n"
     ]
    }
   ],
   "source": [
    "\n",
    "# importing necessary packages\n",
    "from selenium import webdriver\n",
    "from webdriver_manager.chrome import ChromeDriverManager\n",
    "#driver = webdriver.Chrome(ChromeDriverManager().install())\n",
    "# for holding the resultant list\n",
    "element_list = []\n",
    "#title = []\n",
    "#price = []\n",
    "#description = []\n",
    "#rating = []\n",
    "for page in range(0, 10, 20):\n",
    "\t\n",
    "\tpage_url = \"https://www.yelp.com/search?find_desc=Acupuncturists&find_loc=Houston%2C+TX+77002&start=\" + str(page)\n",
    "\tdriver = webdriver.Chrome(ChromeDriverManager().install())\n",
    "\tdriver.get(page_url)\n",
    "\ttitle = driver.find_elements_by_class_name(\"css-1422juy\")\n",
    "\t#price = driver.find_elements_by_class_name(\"css-1p8aobs\")\n",
    "\t#description = driver.find_elements_by_class_name(\"container__09f24__mpR8_ hoverable__09f24__wQ_on margin-t3__09f24__riq4X margin-b3__09f24__l9v5d padding-t3__09f24__TMrIW padding-r3__09f24__eaF7p padding-b3__09f24__S8R2d padding-l3__09f24__IOjKY border--top__09f24__exYYb border--right__09f24__X7Tln border--bottom__09f24___mg5X border--left__09f24__DMOkM border-color--default__09f24__NPAKY\")\n",
    "\t#rating = driver.find_elements_by_class_name(\"reviewCount__09f24__tnBk4 css-1e4fdj9\")\n",
    "\n",
    "for i in range(len(title)):\n",
    "    element_list.append([title[i].text])\n",
    "    print(element_list)\n",
    "\t#element_list.append([title[i].text, price[i].text, description[i].text, rating[i].text])\n",
    "\n",
    "#print(title.append.text, price.append.text, description.append.text, rating.append.text)\n",
    "\n",
    "        \n",
    "#closing the driver\n",
    "driver.close()"
   ]
  },
  {
   "cell_type": "code",
   "execution_count": 24,
   "id": "098d0fac",
   "metadata": {},
   "outputs": [
    {
     "name": "stdout",
     "output_type": "stream",
     "text": [
      "[<selenium.webdriver.remote.webelement.WebElement (session=\"c35a0ce69addd6239ecebc53e822305a\", element=\"79ca2da5-2052-48a8-bf92-9643acc18dd3\")>, <selenium.webdriver.remote.webelement.WebElement (session=\"c35a0ce69addd6239ecebc53e822305a\", element=\"4386f155-9769-4c12-9d82-7ee1e2a0bd11\")>, <selenium.webdriver.remote.webelement.WebElement (session=\"c35a0ce69addd6239ecebc53e822305a\", element=\"f120c467-116c-4c03-9aa4-44d85432aef6\")>, <selenium.webdriver.remote.webelement.WebElement (session=\"c35a0ce69addd6239ecebc53e822305a\", element=\"311817ed-fb16-48ae-8016-34fd7d96b88c\")>, <selenium.webdriver.remote.webelement.WebElement (session=\"c35a0ce69addd6239ecebc53e822305a\", element=\"a3a33e1e-1554-4ae1-8042-57912223d616\")>, <selenium.webdriver.remote.webelement.WebElement (session=\"c35a0ce69addd6239ecebc53e822305a\", element=\"d40fc83d-1b00-4e3d-ac23-923d5e4a0e37\")>, <selenium.webdriver.remote.webelement.WebElement (session=\"c35a0ce69addd6239ecebc53e822305a\", element=\"347e0671-4292-4f55-8515-27f94896aa7a\")>, <selenium.webdriver.remote.webelement.WebElement (session=\"c35a0ce69addd6239ecebc53e822305a\", element=\"b3a12742-dd20-441d-8a5d-370212f06f7a\")>, <selenium.webdriver.remote.webelement.WebElement (session=\"c35a0ce69addd6239ecebc53e822305a\", element=\"19b11103-320f-4c16-9b0a-438b0b7baea5\")>, <selenium.webdriver.remote.webelement.WebElement (session=\"c35a0ce69addd6239ecebc53e822305a\", element=\"c3949f10-266e-4e3f-837d-b1da23ed0945\")>, <selenium.webdriver.remote.webelement.WebElement (session=\"c35a0ce69addd6239ecebc53e822305a\", element=\"010913b7-bb9f-4e44-b4f9-42f3862aa5ff\")>, <selenium.webdriver.remote.webelement.WebElement (session=\"c35a0ce69addd6239ecebc53e822305a\", element=\"596da0a9-91c3-4d95-bf14-ba29f876dbbc\")>, <selenium.webdriver.remote.webelement.WebElement (session=\"c35a0ce69addd6239ecebc53e822305a\", element=\"fd1ad133-b81e-4c04-b28e-f9d1cd4be65e\")>, <selenium.webdriver.remote.webelement.WebElement (session=\"c35a0ce69addd6239ecebc53e822305a\", element=\"d361a99b-23bf-43b2-b4f6-b2e01568fc44\")>, <selenium.webdriver.remote.webelement.WebElement (session=\"c35a0ce69addd6239ecebc53e822305a\", element=\"13f02655-a3f0-4d96-bbf9-9b631b88394c\")>, <selenium.webdriver.remote.webelement.WebElement (session=\"c35a0ce69addd6239ecebc53e822305a\", element=\"653b6099-28fb-42e9-8770-16db4792acd6\")>]\n"
     ]
    },
    {
     "ename": "AttributeError",
     "evalue": "'NoneType' object has no attribute 'append'",
     "output_type": "error",
     "traceback": [
      "\u001b[1;31m---------------------------------------------------------------------------\u001b[0m",
      "\u001b[1;31mAttributeError\u001b[0m                            Traceback (most recent call last)",
      "\u001b[1;32m~\\AppData\\Local\\Temp/ipykernel_4104/2249283636.py\u001b[0m in \u001b[0;36m<module>\u001b[1;34m\u001b[0m\n\u001b[1;32m----> 1\u001b[1;33m \u001b[0mprint\u001b[0m\u001b[1;33m(\u001b[0m\u001b[0mtitle\u001b[0m\u001b[1;33m)\u001b[0m\u001b[1;33m.\u001b[0m\u001b[0mappend\u001b[0m\u001b[1;33m.\u001b[0m\u001b[0mtext\u001b[0m\u001b[1;33m\u001b[0m\u001b[1;33m\u001b[0m\u001b[0m\n\u001b[0m",
      "\u001b[1;31mAttributeError\u001b[0m: 'NoneType' object has no attribute 'append'"
     ]
    }
   ],
   "source": [
    "print(title).append.text"
   ]
  },
  {
   "cell_type": "code",
   "execution_count": 23,
   "id": "84f66615",
   "metadata": {},
   "outputs": [
    {
     "name": "stderr",
     "output_type": "stream",
     "text": [
      "\n",
      "\n",
      "====== WebDriver manager ======\n",
      "Current google-chrome version is 98.0.4758\n",
      "Get LATEST chromedriver version for 98.0.4758 google-chrome\n",
      "Driver [C:\\Users\\Admin\\.wdm\\drivers\\chromedriver\\win32\\98.0.4758.102\\chromedriver.exe] found in cache\n",
      "C:\\Users\\Admin\\AppData\\Local\\Temp/ipykernel_4104/2683968831.py:11: DeprecationWarning: executable_path has been deprecated, please pass in a Service object\n",
      "  driver = webdriver.Chrome(ChromeDriverManager().install())\n",
      "C:\\Users\\Admin\\AppData\\Local\\Temp/ipykernel_4104/2683968831.py:13: DeprecationWarning: find_elements_by_* commands are deprecated. Please use find_elements() instead\n",
      "  title = driver.find_elements_by_class_name(\"css-1422juy\")\n",
      "C:\\Users\\Admin\\AppData\\Local\\Temp/ipykernel_4104/2683968831.py:14: DeprecationWarning: find_elements_by_* commands are deprecated. Please use find_elements() instead\n",
      "  price = driver.find_elements_by_class_name(\"css-1p8aobs\")\n",
      "C:\\Users\\Admin\\AppData\\Local\\Temp/ipykernel_4104/2683968831.py:15: DeprecationWarning: find_elements_by_* commands are deprecated. Please use find_elements() instead\n",
      "  description = driver.find_elements_by_class_name(\"container__09f24__mpR8_ hoverable__09f24__wQ_on margin-t3__09f24__riq4X margin-b3__09f24__l9v5d padding-t3__09f24__TMrIW padding-r3__09f24__eaF7p padding-b3__09f24__S8R2d padding-l3__09f24__IOjKY border--top__09f24__exYYb border--right__09f24__X7Tln border--bottom__09f24___mg5X border--left__09f24__DMOkM border-color--default__09f24__NPAKY\")\n",
      "C:\\Users\\Admin\\AppData\\Local\\Temp/ipykernel_4104/2683968831.py:16: DeprecationWarning: find_elements_by_* commands are deprecated. Please use find_elements() instead\n",
      "  rating = driver.find_elements_by_class_name(\"reviewCount__09f24__tnBk4 css-1e4fdj9\")\n"
     ]
    },
    {
     "ename": "IndexError",
     "evalue": "list index out of range",
     "output_type": "error",
     "traceback": [
      "\u001b[1;31m---------------------------------------------------------------------------\u001b[0m",
      "\u001b[1;31mIndexError\u001b[0m                                Traceback (most recent call last)",
      "\u001b[1;32m~\\AppData\\Local\\Temp/ipykernel_4104/2683968831.py\u001b[0m in \u001b[0;36m<module>\u001b[1;34m\u001b[0m\n\u001b[0;32m     17\u001b[0m \u001b[1;33m\u001b[0m\u001b[0m\n\u001b[0;32m     18\u001b[0m         \u001b[1;32mfor\u001b[0m \u001b[0mi\u001b[0m \u001b[1;32min\u001b[0m \u001b[0mrange\u001b[0m\u001b[1;33m(\u001b[0m\u001b[0mlen\u001b[0m\u001b[1;33m(\u001b[0m\u001b[0mtitle\u001b[0m\u001b[1;33m)\u001b[0m\u001b[1;33m)\u001b[0m\u001b[1;33m:\u001b[0m\u001b[1;33m\u001b[0m\u001b[1;33m\u001b[0m\u001b[0m\n\u001b[1;32m---> 19\u001b[1;33m                 \u001b[0melement_list\u001b[0m\u001b[1;33m.\u001b[0m\u001b[0mappend\u001b[0m\u001b[1;33m(\u001b[0m\u001b[1;33m[\u001b[0m\u001b[0mtitle\u001b[0m\u001b[1;33m[\u001b[0m\u001b[0mi\u001b[0m\u001b[1;33m]\u001b[0m\u001b[1;33m.\u001b[0m\u001b[0mtext\u001b[0m\u001b[1;33m,\u001b[0m \u001b[0mprice\u001b[0m\u001b[1;33m[\u001b[0m\u001b[0mi\u001b[0m\u001b[1;33m]\u001b[0m\u001b[1;33m.\u001b[0m\u001b[0mtext\u001b[0m\u001b[1;33m,\u001b[0m \u001b[0mdescription\u001b[0m\u001b[1;33m[\u001b[0m\u001b[0mi\u001b[0m\u001b[1;33m]\u001b[0m\u001b[1;33m.\u001b[0m\u001b[0mtext\u001b[0m\u001b[1;33m,\u001b[0m \u001b[0mrating\u001b[0m\u001b[1;33m[\u001b[0m\u001b[0mi\u001b[0m\u001b[1;33m]\u001b[0m\u001b[1;33m.\u001b[0m\u001b[0mtext\u001b[0m\u001b[1;33m]\u001b[0m\u001b[1;33m)\u001b[0m\u001b[1;33m\u001b[0m\u001b[1;33m\u001b[0m\u001b[0m\n\u001b[0m\u001b[0;32m     20\u001b[0m \u001b[1;33m\u001b[0m\u001b[0m\n\u001b[0;32m     21\u001b[0m \u001b[0mprint\u001b[0m\u001b[1;33m(\u001b[0m\u001b[0melement_list\u001b[0m\u001b[1;33m)\u001b[0m\u001b[1;33m\u001b[0m\u001b[1;33m\u001b[0m\u001b[0m\n",
      "\u001b[1;31mIndexError\u001b[0m: list index out of range"
     ]
    }
   ],
   "source": [
    "\n",
    "# importing necessary packages\n",
    "from selenium import webdriver\n",
    "from webdriver_manager.chrome import ChromeDriverManager\n",
    "\n",
    "# for holding the resultant list\n",
    "element_list = []\n",
    "\n",
    "for page in range(0, 10, 20):\n",
    "\t\n",
    "\tpage_url = \"https://www.yelp.com/search?find_desc=Acupuncturists&find_loc=Houston%2C+TX+77002&start=\" + str(page)\n",
    "\tdriver = webdriver.Chrome(ChromeDriverManager().install())\n",
    "\tdriver.get(page_url)\n",
    "\ttitle = driver.find_elements_by_class_name(\"css-1422juy\")\n",
    "\tprice = driver.find_elements_by_class_name(\"css-1p8aobs\")\n",
    "\tdescription = driver.find_elements_by_class_name(\"container__09f24__mpR8_ hoverable__09f24__wQ_on margin-t3__09f24__riq4X margin-b3__09f24__l9v5d padding-t3__09f24__TMrIW padding-r3__09f24__eaF7p padding-b3__09f24__S8R2d padding-l3__09f24__IOjKY border--top__09f24__exYYb border--right__09f24__X7Tln border--bottom__09f24___mg5X border--left__09f24__DMOkM border-color--default__09f24__NPAKY\")\n",
    "\trating = driver.find_elements_by_class_name(\"reviewCount__09f24__tnBk4 css-1e4fdj9\")\n",
    "\n",
    "\tfor i in range(len(title)):\n",
    "\t\telement_list.append([title[i].text, price[i].text, description[i].text, rating[i].text])\n",
    "\n",
    "print(element_list)\n",
    "\n",
    "#closing the driver\n",
    "driver.close()"
   ]
  },
  {
   "cell_type": "code",
   "execution_count": 25,
   "id": "0e7c431e",
   "metadata": {},
   "outputs": [
    {
     "name": "stderr",
     "output_type": "stream",
     "text": [
      "\n",
      "\n",
      "====== WebDriver manager ======\n",
      "Current google-chrome version is 98.0.4758\n",
      "Get LATEST chromedriver version for 98.0.4758 google-chrome\n",
      "Driver [C:\\Users\\Admin\\.wdm\\drivers\\chromedriver\\win32\\98.0.4758.102\\chromedriver.exe] found in cache\n",
      "C:\\Users\\Admin\\AppData\\Local\\Temp/ipykernel_4104/3276738032.py:14: DeprecationWarning: executable_path has been deprecated, please pass in a Service object\n",
      "  driver = webdriver.Chrome(ChromeDriverManager().install())\n",
      "C:\\Users\\Admin\\AppData\\Local\\Temp/ipykernel_4104/3276738032.py:17: DeprecationWarning: find_elements_by_* commands are deprecated. Please use find_elements() instead\n",
      "  price = driver.find_elements_by_class_name(\"css-1p8aobs\")\n"
     ]
    },
    {
     "name": "stdout",
     "output_type": "stream",
     "text": [
      "[['Acupuncture']]\n",
      "[['Acupuncture'], ['Vitamins & Supplements']]\n",
      "[['Acupuncture'], ['Vitamins & Supplements'], ['Traditional Chinese Medicine']]\n",
      "[['Acupuncture'], ['Vitamins & Supplements'], ['Traditional Chinese Medicine'], ['Acupuncture']]\n",
      "[['Acupuncture'], ['Vitamins & Supplements'], ['Traditional Chinese Medicine'], ['Acupuncture'], ['Acupuncture']]\n",
      "[['Acupuncture'], ['Vitamins & Supplements'], ['Traditional Chinese Medicine'], ['Acupuncture'], ['Acupuncture'], ['Traditional Chinese Medicine']]\n",
      "[['Acupuncture'], ['Vitamins & Supplements'], ['Traditional Chinese Medicine'], ['Acupuncture'], ['Acupuncture'], ['Traditional Chinese Medicine'], ['Nutritionists']]\n",
      "[['Acupuncture'], ['Vitamins & Supplements'], ['Traditional Chinese Medicine'], ['Acupuncture'], ['Acupuncture'], ['Traditional Chinese Medicine'], ['Nutritionists'], ['Acupuncture']]\n",
      "[['Acupuncture'], ['Vitamins & Supplements'], ['Traditional Chinese Medicine'], ['Acupuncture'], ['Acupuncture'], ['Traditional Chinese Medicine'], ['Nutritionists'], ['Acupuncture'], ['Traditional Chinese Medicine']]\n",
      "[['Acupuncture'], ['Vitamins & Supplements'], ['Traditional Chinese Medicine'], ['Acupuncture'], ['Acupuncture'], ['Traditional Chinese Medicine'], ['Nutritionists'], ['Acupuncture'], ['Traditional Chinese Medicine'], ['Chiropractors']]\n",
      "[['Acupuncture'], ['Vitamins & Supplements'], ['Traditional Chinese Medicine'], ['Acupuncture'], ['Acupuncture'], ['Traditional Chinese Medicine'], ['Nutritionists'], ['Acupuncture'], ['Traditional Chinese Medicine'], ['Chiropractors'], ['Acupuncture']]\n",
      "[['Acupuncture'], ['Vitamins & Supplements'], ['Traditional Chinese Medicine'], ['Acupuncture'], ['Acupuncture'], ['Traditional Chinese Medicine'], ['Nutritionists'], ['Acupuncture'], ['Traditional Chinese Medicine'], ['Chiropractors'], ['Acupuncture'], ['Massage Therapy']]\n",
      "[['Acupuncture'], ['Vitamins & Supplements'], ['Traditional Chinese Medicine'], ['Acupuncture'], ['Acupuncture'], ['Traditional Chinese Medicine'], ['Nutritionists'], ['Acupuncture'], ['Traditional Chinese Medicine'], ['Chiropractors'], ['Acupuncture'], ['Massage Therapy'], ['Acupuncture']]\n",
      "[['Acupuncture'], ['Vitamins & Supplements'], ['Traditional Chinese Medicine'], ['Acupuncture'], ['Acupuncture'], ['Traditional Chinese Medicine'], ['Nutritionists'], ['Acupuncture'], ['Traditional Chinese Medicine'], ['Chiropractors'], ['Acupuncture'], ['Massage Therapy'], ['Acupuncture'], ['Allergists']]\n",
      "[['Acupuncture'], ['Vitamins & Supplements'], ['Traditional Chinese Medicine'], ['Acupuncture'], ['Acupuncture'], ['Traditional Chinese Medicine'], ['Nutritionists'], ['Acupuncture'], ['Traditional Chinese Medicine'], ['Chiropractors'], ['Acupuncture'], ['Massage Therapy'], ['Acupuncture'], ['Allergists'], ['Pain Management']]\n",
      "[['Acupuncture'], ['Vitamins & Supplements'], ['Traditional Chinese Medicine'], ['Acupuncture'], ['Acupuncture'], ['Traditional Chinese Medicine'], ['Nutritionists'], ['Acupuncture'], ['Traditional Chinese Medicine'], ['Chiropractors'], ['Acupuncture'], ['Massage Therapy'], ['Acupuncture'], ['Allergists'], ['Pain Management'], ['Acupuncture']]\n",
      "[['Acupuncture'], ['Vitamins & Supplements'], ['Traditional Chinese Medicine'], ['Acupuncture'], ['Acupuncture'], ['Traditional Chinese Medicine'], ['Nutritionists'], ['Acupuncture'], ['Traditional Chinese Medicine'], ['Chiropractors'], ['Acupuncture'], ['Massage Therapy'], ['Acupuncture'], ['Allergists'], ['Pain Management'], ['Acupuncture'], ['Traditional Chinese Medicine']]\n",
      "[['Acupuncture'], ['Vitamins & Supplements'], ['Traditional Chinese Medicine'], ['Acupuncture'], ['Acupuncture'], ['Traditional Chinese Medicine'], ['Nutritionists'], ['Acupuncture'], ['Traditional Chinese Medicine'], ['Chiropractors'], ['Acupuncture'], ['Massage Therapy'], ['Acupuncture'], ['Allergists'], ['Pain Management'], ['Acupuncture'], ['Traditional Chinese Medicine'], ['Fertility']]\n",
      "[['Acupuncture'], ['Vitamins & Supplements'], ['Traditional Chinese Medicine'], ['Acupuncture'], ['Acupuncture'], ['Traditional Chinese Medicine'], ['Nutritionists'], ['Acupuncture'], ['Traditional Chinese Medicine'], ['Chiropractors'], ['Acupuncture'], ['Massage Therapy'], ['Acupuncture'], ['Allergists'], ['Pain Management'], ['Acupuncture'], ['Traditional Chinese Medicine'], ['Fertility'], ['Acupuncture']]\n",
      "[['Acupuncture'], ['Vitamins & Supplements'], ['Traditional Chinese Medicine'], ['Acupuncture'], ['Acupuncture'], ['Traditional Chinese Medicine'], ['Nutritionists'], ['Acupuncture'], ['Traditional Chinese Medicine'], ['Chiropractors'], ['Acupuncture'], ['Massage Therapy'], ['Acupuncture'], ['Allergists'], ['Pain Management'], ['Acupuncture'], ['Traditional Chinese Medicine'], ['Fertility'], ['Acupuncture'], ['Tui Na']]\n",
      "[['Acupuncture'], ['Vitamins & Supplements'], ['Traditional Chinese Medicine'], ['Acupuncture'], ['Acupuncture'], ['Traditional Chinese Medicine'], ['Nutritionists'], ['Acupuncture'], ['Traditional Chinese Medicine'], ['Chiropractors'], ['Acupuncture'], ['Massage Therapy'], ['Acupuncture'], ['Allergists'], ['Pain Management'], ['Acupuncture'], ['Traditional Chinese Medicine'], ['Fertility'], ['Acupuncture'], ['Tui Na'], ['Acupuncture']]\n",
      "[['Acupuncture'], ['Vitamins & Supplements'], ['Traditional Chinese Medicine'], ['Acupuncture'], ['Acupuncture'], ['Traditional Chinese Medicine'], ['Nutritionists'], ['Acupuncture'], ['Traditional Chinese Medicine'], ['Chiropractors'], ['Acupuncture'], ['Massage Therapy'], ['Acupuncture'], ['Allergists'], ['Pain Management'], ['Acupuncture'], ['Traditional Chinese Medicine'], ['Fertility'], ['Acupuncture'], ['Tui Na'], ['Acupuncture'], ['Acupuncture']]\n",
      "[['Acupuncture'], ['Vitamins & Supplements'], ['Traditional Chinese Medicine'], ['Acupuncture'], ['Acupuncture'], ['Traditional Chinese Medicine'], ['Nutritionists'], ['Acupuncture'], ['Traditional Chinese Medicine'], ['Chiropractors'], ['Acupuncture'], ['Massage Therapy'], ['Acupuncture'], ['Allergists'], ['Pain Management'], ['Acupuncture'], ['Traditional Chinese Medicine'], ['Fertility'], ['Acupuncture'], ['Tui Na'], ['Acupuncture'], ['Acupuncture'], ['Colonics']]\n",
      "[['Acupuncture'], ['Vitamins & Supplements'], ['Traditional Chinese Medicine'], ['Acupuncture'], ['Acupuncture'], ['Traditional Chinese Medicine'], ['Nutritionists'], ['Acupuncture'], ['Traditional Chinese Medicine'], ['Chiropractors'], ['Acupuncture'], ['Massage Therapy'], ['Acupuncture'], ['Allergists'], ['Pain Management'], ['Acupuncture'], ['Traditional Chinese Medicine'], ['Fertility'], ['Acupuncture'], ['Tui Na'], ['Acupuncture'], ['Acupuncture'], ['Colonics'], ['Traditional Chinese Medicine']]\n",
      "[['Acupuncture'], ['Vitamins & Supplements'], ['Traditional Chinese Medicine'], ['Acupuncture'], ['Acupuncture'], ['Traditional Chinese Medicine'], ['Nutritionists'], ['Acupuncture'], ['Traditional Chinese Medicine'], ['Chiropractors'], ['Acupuncture'], ['Massage Therapy'], ['Acupuncture'], ['Allergists'], ['Pain Management'], ['Acupuncture'], ['Traditional Chinese Medicine'], ['Fertility'], ['Acupuncture'], ['Tui Na'], ['Acupuncture'], ['Acupuncture'], ['Colonics'], ['Traditional Chinese Medicine'], ['Acupuncture']]\n",
      "[['Acupuncture'], ['Vitamins & Supplements'], ['Traditional Chinese Medicine'], ['Acupuncture'], ['Acupuncture'], ['Traditional Chinese Medicine'], ['Nutritionists'], ['Acupuncture'], ['Traditional Chinese Medicine'], ['Chiropractors'], ['Acupuncture'], ['Massage Therapy'], ['Acupuncture'], ['Allergists'], ['Pain Management'], ['Acupuncture'], ['Traditional Chinese Medicine'], ['Fertility'], ['Acupuncture'], ['Tui Na'], ['Acupuncture'], ['Acupuncture'], ['Colonics'], ['Traditional Chinese Medicine'], ['Acupuncture'], ['Traditional Chinese Medicine']]\n",
      "[['Acupuncture'], ['Vitamins & Supplements'], ['Traditional Chinese Medicine'], ['Acupuncture'], ['Acupuncture'], ['Traditional Chinese Medicine'], ['Nutritionists'], ['Acupuncture'], ['Traditional Chinese Medicine'], ['Chiropractors'], ['Acupuncture'], ['Massage Therapy'], ['Acupuncture'], ['Allergists'], ['Pain Management'], ['Acupuncture'], ['Traditional Chinese Medicine'], ['Fertility'], ['Acupuncture'], ['Tui Na'], ['Acupuncture'], ['Acupuncture'], ['Colonics'], ['Traditional Chinese Medicine'], ['Acupuncture'], ['Traditional Chinese Medicine'], ['Acupuncture']]\n",
      "[['Acupuncture'], ['Vitamins & Supplements'], ['Traditional Chinese Medicine'], ['Acupuncture'], ['Acupuncture'], ['Traditional Chinese Medicine'], ['Nutritionists'], ['Acupuncture'], ['Traditional Chinese Medicine'], ['Chiropractors'], ['Acupuncture'], ['Massage Therapy'], ['Acupuncture'], ['Allergists'], ['Pain Management'], ['Acupuncture'], ['Traditional Chinese Medicine'], ['Fertility'], ['Acupuncture'], ['Tui Na'], ['Acupuncture'], ['Acupuncture'], ['Colonics'], ['Traditional Chinese Medicine'], ['Acupuncture'], ['Traditional Chinese Medicine'], ['Acupuncture'], ['Traditional Chinese Medicine']]\n",
      "[['Acupuncture'], ['Vitamins & Supplements'], ['Traditional Chinese Medicine'], ['Acupuncture'], ['Acupuncture'], ['Traditional Chinese Medicine'], ['Nutritionists'], ['Acupuncture'], ['Traditional Chinese Medicine'], ['Chiropractors'], ['Acupuncture'], ['Massage Therapy'], ['Acupuncture'], ['Allergists'], ['Pain Management'], ['Acupuncture'], ['Traditional Chinese Medicine'], ['Fertility'], ['Acupuncture'], ['Tui Na'], ['Acupuncture'], ['Acupuncture'], ['Colonics'], ['Traditional Chinese Medicine'], ['Acupuncture'], ['Traditional Chinese Medicine'], ['Acupuncture'], ['Traditional Chinese Medicine'], ['Pain Management']]\n",
      "[['Acupuncture'], ['Vitamins & Supplements'], ['Traditional Chinese Medicine'], ['Acupuncture'], ['Acupuncture'], ['Traditional Chinese Medicine'], ['Nutritionists'], ['Acupuncture'], ['Traditional Chinese Medicine'], ['Chiropractors'], ['Acupuncture'], ['Massage Therapy'], ['Acupuncture'], ['Allergists'], ['Pain Management'], ['Acupuncture'], ['Traditional Chinese Medicine'], ['Fertility'], ['Acupuncture'], ['Tui Na'], ['Acupuncture'], ['Acupuncture'], ['Colonics'], ['Traditional Chinese Medicine'], ['Acupuncture'], ['Traditional Chinese Medicine'], ['Acupuncture'], ['Traditional Chinese Medicine'], ['Pain Management'], ['Acupuncture']]\n",
      "[['Acupuncture'], ['Vitamins & Supplements'], ['Traditional Chinese Medicine'], ['Acupuncture'], ['Acupuncture'], ['Traditional Chinese Medicine'], ['Nutritionists'], ['Acupuncture'], ['Traditional Chinese Medicine'], ['Chiropractors'], ['Acupuncture'], ['Massage Therapy'], ['Acupuncture'], ['Allergists'], ['Pain Management'], ['Acupuncture'], ['Traditional Chinese Medicine'], ['Fertility'], ['Acupuncture'], ['Tui Na'], ['Acupuncture'], ['Acupuncture'], ['Colonics'], ['Traditional Chinese Medicine'], ['Acupuncture'], ['Traditional Chinese Medicine'], ['Acupuncture'], ['Traditional Chinese Medicine'], ['Pain Management'], ['Acupuncture'], ['Chiropractors']]\n"
     ]
    }
   ],
   "source": [
    "\n",
    "# importing necessary packages\n",
    "from selenium import webdriver\n",
    "from webdriver_manager.chrome import ChromeDriverManager\n",
    "#driver = webdriver.Chrome(ChromeDriverManager().install())\n",
    "# for holding the resultant list\n",
    "element_list = []\n",
    "#title = []\n",
    "#price = []\n",
    "#description = []\n",
    "#rating = []\n",
    "for page in range(0, 10, 20):\n",
    "\t\n",
    "\tpage_url = \"https://www.yelp.com/search?find_desc=Acupuncturists&find_loc=Houston%2C+TX+77002&start=\" + str(page)\n",
    "\tdriver = webdriver.Chrome(ChromeDriverManager().install())\n",
    "\tdriver.get(page_url)\n",
    "\t#title = driver.find_elements_by_class_name(\"css-1422juy\")\n",
    "\tprice = driver.find_elements_by_class_name(\"css-1p8aobs\")\n",
    "\t#description = driver.find_elements_by_class_name(\"container__09f24__mpR8_ hoverable__09f24__wQ_on margin-t3__09f24__riq4X margin-b3__09f24__l9v5d padding-t3__09f24__TMrIW padding-r3__09f24__eaF7p padding-b3__09f24__S8R2d padding-l3__09f24__IOjKY border--top__09f24__exYYb border--right__09f24__X7Tln border--bottom__09f24___mg5X border--left__09f24__DMOkM border-color--default__09f24__NPAKY\")\n",
    "\t#rating = driver.find_elements_by_class_name(\"reviewCount__09f24__tnBk4 css-1e4fdj9\")\n",
    "\n",
    "for i in range(len(price)):\n",
    "    element_list.append([price[i].text])\n",
    "    print(element_list)\n",
    "\t#element_list.append([title[i].text, price[i].text, description[i].text, rating[i].text])\n",
    "\n",
    "#print(title.append.text, price.append.text, description.append.text, rating.append.text)\n",
    "\n",
    "        \n",
    "#closing the driver\n",
    "driver.close()"
   ]
  },
  {
   "cell_type": "code",
   "execution_count": null,
   "id": "8ceb48a2",
   "metadata": {},
   "outputs": [],
   "source": []
  }
 ],
 "metadata": {
  "kernelspec": {
   "display_name": "Python 3 (ipykernel)",
   "language": "python",
   "name": "python3"
  },
  "language_info": {
   "codemirror_mode": {
    "name": "ipython",
    "version": 3
   },
   "file_extension": ".py",
   "mimetype": "text/x-python",
   "name": "python",
   "nbconvert_exporter": "python",
   "pygments_lexer": "ipython3",
   "version": "3.9.7"
  }
 },
 "nbformat": 4,
 "nbformat_minor": 5
}
