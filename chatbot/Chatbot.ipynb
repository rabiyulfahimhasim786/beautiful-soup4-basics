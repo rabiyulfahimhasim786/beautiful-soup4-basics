{
  "nbformat": 4,
  "nbformat_minor": 0,
  "metadata": {
    "colab": {
      "name": "new.ipynb",
      "provenance": [],
      "collapsed_sections": []
    },
    "kernelspec": {
      "name": "python3",
      "display_name": "Python 3"
    },
    "language_info": {
      "name": "python"
    }
  },
  "cells": [
    {
      "cell_type": "code",
      "metadata": {
        "colab": {
          "base_uri": "https://localhost:8080/"
        },
        "id": "EbPhlR-QQTRh",
        "outputId": "de440ccb-97ac-4ecb-c9c5-075b25394954"
      },
      "source": [
        "! pip install chatterbot\n",
        "! pip install chatterbot_corpus"
      ],
      "execution_count": null,
      "outputs": [
        {
          "output_type": "stream",
          "text": [
            "Collecting chatterbot\n",
            "\u001b[?25l  Downloading https://files.pythonhosted.org/packages/7c/21/85c2b114bd9dfabdd46ba58fc4519acdaed45d8c70898d40079e37a45e67/ChatterBot-1.0.8-py2.py3-none-any.whl (63kB)\n",
            "\r\u001b[K     |█████▏                          | 10kB 19.5MB/s eta 0:00:01\r\u001b[K     |██████████▎                     | 20kB 26.7MB/s eta 0:00:01\r\u001b[K     |███████████████▌                | 30kB 19.8MB/s eta 0:00:01\r\u001b[K     |████████████████████▋           | 40kB 17.6MB/s eta 0:00:01\r\u001b[K     |█████████████████████████▊      | 51kB 15.6MB/s eta 0:00:01\r\u001b[K     |███████████████████████████████ | 61kB 13.7MB/s eta 0:00:01\r\u001b[K     |████████████████████████████████| 71kB 5.4MB/s \n",
            "\u001b[?25hCollecting mathparse<0.2,>=0.1\n",
            "  Downloading https://files.pythonhosted.org/packages/c3/e5/4910fb85950cb960fcf3f5aabe1c8e55f5c9201788a1c1302b570a7e1f84/mathparse-0.1.2-py3-none-any.whl\n",
            "Requirement already satisfied: pytz in /usr/local/lib/python3.7/dist-packages (from chatterbot) (2018.9)\n",
            "Collecting sqlalchemy<1.4,>=1.3\n",
            "\u001b[?25l  Downloading https://files.pythonhosted.org/packages/31/44/a86070dda790ce94cd7d9fb9281cd614c7d30850ed774ace9a84d0d5d491/SQLAlchemy-1.3.24-cp37-cp37m-manylinux2010_x86_64.whl (1.3MB)\n",
            "\u001b[K     |████████████████████████████████| 1.3MB 22.8MB/s \n",
            "\u001b[?25hRequirement already satisfied: python-dateutil<2.9,>=2.8 in /usr/local/lib/python3.7/dist-packages (from chatterbot) (2.8.1)\n",
            "Requirement already satisfied: six>=1.5 in /usr/local/lib/python3.7/dist-packages (from python-dateutil<2.9,>=2.8->chatterbot) (1.15.0)\n",
            "Installing collected packages: mathparse, sqlalchemy, chatterbot\n",
            "  Found existing installation: SQLAlchemy 1.4.18\n",
            "    Uninstalling SQLAlchemy-1.4.18:\n",
            "      Successfully uninstalled SQLAlchemy-1.4.18\n",
            "Successfully installed chatterbot-1.0.8 mathparse-0.1.2 sqlalchemy-1.3.24\n",
            "Collecting chatterbot_corpus\n",
            "\u001b[?25l  Downloading https://files.pythonhosted.org/packages/ed/19/f8b41daf36fe4b0f43e283a820362ffdb2c1128600ab4ee187e84262fa4d/chatterbot_corpus-1.2.0-py2.py3-none-any.whl (117kB)\n",
            "\u001b[K     |████████████████████████████████| 122kB 14.3MB/s \n",
            "\u001b[?25hRequirement already satisfied: PyYAML<4.0,>=3.12 in /usr/local/lib/python3.7/dist-packages (from chatterbot_corpus) (3.13)\n",
            "Installing collected packages: chatterbot-corpus\n",
            "Successfully installed chatterbot-corpus-1.2.0\n"
          ],
          "name": "stdout"
        }
      ]
    },
    {
      "cell_type": "code",
      "metadata": {
        "colab": {
          "base_uri": "https://localhost:8080/"
        },
        "id": "E89vXSTXftY7",
        "outputId": "c3869094-b8e8-48d3-8bc3-9b60b4aa2e16"
      },
      "source": [
        "pip install newspaper3k"
      ],
      "execution_count": null,
      "outputs": [
        {
          "output_type": "stream",
          "text": [
            "Collecting newspaper3k\n",
            "\u001b[?25l  Downloading https://files.pythonhosted.org/packages/d7/b9/51afecb35bb61b188a4b44868001de348a0e8134b4dfa00ffc191567c4b9/newspaper3k-0.2.8-py3-none-any.whl (211kB)\n",
            "\u001b[K     |████████████████████████████████| 215kB 13.3MB/s \n",
            "\u001b[?25hCollecting jieba3k>=0.35.1\n",
            "\u001b[?25l  Downloading https://files.pythonhosted.org/packages/a9/cb/2c8332bcdc14d33b0bedd18ae0a4981a069c3513e445120da3c3f23a8aaa/jieba3k-0.35.1.zip (7.4MB)\n",
            "\u001b[K     |████████████████████████████████| 7.4MB 14.0MB/s \n",
            "\u001b[?25hRequirement already satisfied: python-dateutil>=2.5.3 in /usr/local/lib/python3.7/dist-packages (from newspaper3k) (2.8.1)\n",
            "Requirement already satisfied: nltk>=3.2.1 in /root/.local/lib/python3.7/site-packages (from newspaper3k) (3.6.2)\n",
            "Collecting feedfinder2>=0.0.4\n",
            "  Downloading https://files.pythonhosted.org/packages/35/82/1251fefec3bb4b03fd966c7e7f7a41c9fc2bb00d823a34c13f847fd61406/feedfinder2-0.0.4.tar.gz\n",
            "Collecting tinysegmenter==0.3\n",
            "  Downloading https://files.pythonhosted.org/packages/17/82/86982e4b6d16e4febc79c2a1d68ee3b707e8a020c5d2bc4af8052d0f136a/tinysegmenter-0.3.tar.gz\n",
            "Collecting tldextract>=2.0.1\n",
            "\u001b[?25l  Downloading https://files.pythonhosted.org/packages/7e/62/b6acd3129c5615b9860e670df07fd55b76175b63e6b7f68282c7cad38e9e/tldextract-3.1.0-py2.py3-none-any.whl (87kB)\n",
            "\u001b[K     |████████████████████████████████| 92kB 8.8MB/s \n",
            "\u001b[?25hRequirement already satisfied: PyYAML>=3.11 in /usr/local/lib/python3.7/dist-packages (from newspaper3k) (3.13)\n",
            "Collecting cssselect>=0.9.2\n",
            "  Downloading https://files.pythonhosted.org/packages/3b/d4/3b5c17f00cce85b9a1e6f91096e1cc8e8ede2e1be8e96b87ce1ed09e92c5/cssselect-1.1.0-py2.py3-none-any.whl\n",
            "Requirement already satisfied: lxml>=3.6.0 in /usr/local/lib/python3.7/dist-packages (from newspaper3k) (4.2.6)\n",
            "Requirement already satisfied: requests>=2.10.0 in /usr/local/lib/python3.7/dist-packages (from newspaper3k) (2.23.0)\n",
            "Requirement already satisfied: Pillow>=3.3.0 in /usr/local/lib/python3.7/dist-packages (from newspaper3k) (7.1.2)\n",
            "Requirement already satisfied: beautifulsoup4>=4.4.1 in /usr/local/lib/python3.7/dist-packages (from newspaper3k) (4.6.3)\n",
            "Collecting feedparser>=5.2.1\n",
            "\u001b[?25l  Downloading https://files.pythonhosted.org/packages/0e/b8/babbdef2a52fea529f43ca4c08f9917ecca1b7ffb27c340baecb746f39cb/feedparser-6.0.6-py3-none-any.whl (80kB)\n",
            "\u001b[K     |████████████████████████████████| 81kB 8.5MB/s \n",
            "\u001b[?25hRequirement already satisfied: six>=1.5 in /usr/local/lib/python3.7/dist-packages (from python-dateutil>=2.5.3->newspaper3k) (1.15.0)\n",
            "Requirement already satisfied: regex in /usr/local/lib/python3.7/dist-packages (from nltk>=3.2.1->newspaper3k) (2019.12.20)\n",
            "Requirement already satisfied: tqdm in /usr/local/lib/python3.7/dist-packages (from nltk>=3.2.1->newspaper3k) (4.41.1)\n",
            "Requirement already satisfied: joblib in /usr/local/lib/python3.7/dist-packages (from nltk>=3.2.1->newspaper3k) (1.0.1)\n",
            "Requirement already satisfied: click in /usr/local/lib/python3.7/dist-packages (from nltk>=3.2.1->newspaper3k) (7.1.2)\n",
            "Requirement already satisfied: idna in /usr/local/lib/python3.7/dist-packages (from tldextract>=2.0.1->newspaper3k) (2.10)\n",
            "Requirement already satisfied: filelock>=3.0.8 in /usr/local/lib/python3.7/dist-packages (from tldextract>=2.0.1->newspaper3k) (3.0.12)\n",
            "Collecting requests-file>=1.4\n",
            "  Downloading https://files.pythonhosted.org/packages/77/86/cdb5e8eaed90796aa83a6d9f75cfbd37af553c47a291cd47bc410ef9bdb2/requests_file-1.5.1-py2.py3-none-any.whl\n",
            "Requirement already satisfied: urllib3!=1.25.0,!=1.25.1,<1.26,>=1.21.1 in /usr/local/lib/python3.7/dist-packages (from requests>=2.10.0->newspaper3k) (1.24.3)\n",
            "Requirement already satisfied: certifi>=2017.4.17 in /usr/local/lib/python3.7/dist-packages (from requests>=2.10.0->newspaper3k) (2021.5.30)\n",
            "Requirement already satisfied: chardet<4,>=3.0.2 in /usr/local/lib/python3.7/dist-packages (from requests>=2.10.0->newspaper3k) (3.0.4)\n",
            "Collecting sgmllib3k\n",
            "  Downloading https://files.pythonhosted.org/packages/9e/bd/3704a8c3e0942d711c1299ebf7b9091930adae6675d7c8f476a7ce48653c/sgmllib3k-1.0.0.tar.gz\n",
            "Building wheels for collected packages: jieba3k, feedfinder2, tinysegmenter, sgmllib3k\n",
            "  Building wheel for jieba3k (setup.py) ... \u001b[?25l\u001b[?25hdone\n",
            "  Created wheel for jieba3k: filename=jieba3k-0.35.1-cp37-none-any.whl size=7398404 sha256=f7cc9a83c1ab414ff1ddb04ef89c17530eed55e8540ed64e644b8f5d0c2a0fbf\n",
            "  Stored in directory: /root/.cache/pip/wheels/83/15/9c/a3f1f67e7f7181170ad37d32e503c35da20627c013f438ed34\n",
            "  Building wheel for feedfinder2 (setup.py) ... \u001b[?25l\u001b[?25hdone\n",
            "  Created wheel for feedfinder2: filename=feedfinder2-0.0.4-cp37-none-any.whl size=3358 sha256=680b57df07cb750a7fc08a2e324a91749b7d5c2630ff622f51de4bf3942edd28\n",
            "  Stored in directory: /root/.cache/pip/wheels/de/03/ca/778e3a7a627e3d98836cc890e7cb40c7575424cfd3340f40ed\n",
            "  Building wheel for tinysegmenter (setup.py) ... \u001b[?25l\u001b[?25hdone\n",
            "  Created wheel for tinysegmenter: filename=tinysegmenter-0.3-cp37-none-any.whl size=13553 sha256=0a81a39ade965665cf8bc0faf621e58b55965fc41f0322048e141b2b5feef126\n",
            "  Stored in directory: /root/.cache/pip/wheels/81/2b/43/a02ede72324dd40cdd7ca53aad718c7710628e91b8b0dc0f02\n",
            "  Building wheel for sgmllib3k (setup.py) ... \u001b[?25l\u001b[?25hdone\n",
            "  Created wheel for sgmllib3k: filename=sgmllib3k-1.0.0-cp37-none-any.whl size=6067 sha256=2ae25db16c830a5e999d21eb6d661751ece89b0d1dcaf832e9504a9783304466\n",
            "  Stored in directory: /root/.cache/pip/wheels/f1/80/5a/444ba08a550cdd241bd9baf8bae44be750efe370adb944506a\n",
            "Successfully built jieba3k feedfinder2 tinysegmenter sgmllib3k\n",
            "Installing collected packages: jieba3k, feedfinder2, tinysegmenter, requests-file, tldextract, cssselect, sgmllib3k, feedparser, newspaper3k\n",
            "Successfully installed cssselect-1.1.0 feedfinder2-0.0.4 feedparser-6.0.6 jieba3k-0.35.1 newspaper3k-0.2.8 requests-file-1.5.1 sgmllib3k-1.0.0 tinysegmenter-0.3 tldextract-3.1.0\n"
          ],
          "name": "stdout"
        }
      ]
    },
    {
      "cell_type": "code",
      "metadata": {
        "colab": {
          "base_uri": "https://localhost:8080/"
        },
        "id": "oLM21SjKUioK",
        "outputId": "1b430bee-366e-4043-f0f7-0a833001dc1f"
      },
      "source": [
        "pip install --user -U nltk"
      ],
      "execution_count": null,
      "outputs": [
        {
          "output_type": "stream",
          "text": [
            "Requirement already up-to-date: nltk in /root/.local/lib/python3.7/site-packages (3.6.2)\n",
            "Requirement already satisfied, skipping upgrade: click in /usr/local/lib/python3.7/dist-packages (from nltk) (7.1.2)\n",
            "Requirement already satisfied, skipping upgrade: tqdm in /usr/local/lib/python3.7/dist-packages (from nltk) (4.41.1)\n",
            "Requirement already satisfied, skipping upgrade: joblib in /usr/local/lib/python3.7/dist-packages (from nltk) (1.0.1)\n",
            "Requirement already satisfied, skipping upgrade: regex in /usr/local/lib/python3.7/dist-packages (from nltk) (2019.12.20)\n"
          ],
          "name": "stdout"
        }
      ]
    },
    {
      "cell_type": "markdown",
      "metadata": {
        "id": "Jep_brtyZn9-"
      },
      "source": [
        "Import Libraries"
      ]
    },
    {
      "cell_type": "code",
      "metadata": {
        "colab": {
          "base_uri": "https://localhost:8080/"
        },
        "id": "mjpnWIeHQORm",
        "outputId": "5f378494-a114-4c10-f174-dc8ffb85251c"
      },
      "source": [
        "from chatterbot import ChatBot\n",
        "from chatterbot.trainers import ListTrainer\n",
        "# not used\n",
        "\n",
        "import nltk\n",
        "nltk.download('punkt')\n",
        "nltk.download('wordnet')\n",
        "import numpy as np\n",
        "import random\n",
        "import string\n",
        "import bs4 as bs\n",
        "import requests, json\n",
        "import urllib.request\n",
        "import re\n",
        "import random\n",
        "\n",
        "from sklearn.feature_extraction.text import TfidfVectorizer\n",
        "from sklearn.feature_extraction.text import CountVectorizer\n",
        "from sklearn.metrics.pairwise import cosine_similarity\n",
        "\n",
        "\n",
        "import warnings\n",
        "warnings.filterwarnings(\"ignore\")\n",
        "\n",
        "import click"
      ],
      "execution_count": null,
      "outputs": [
        {
          "output_type": "stream",
          "text": [
            "[nltk_data] Downloading package punkt to /root/nltk_data...\n",
            "[nltk_data]   Unzipping tokenizers/punkt.zip.\n",
            "[nltk_data] Downloading package wordnet to /root/nltk_data...\n",
            "[nltk_data]   Unzipping corpora/wordnet.zip.\n"
          ],
          "name": "stdout"
        }
      ]
    },
    {
      "cell_type": "markdown",
      "metadata": {
        "id": "Ilr5k_97Zwud"
      },
      "source": [
        "Specifying the target for additional knowledge"
      ]
    },
    {
      "cell_type": "code",
      "metadata": {
        "id": "fhGaIfBnQohw"
      },
      "source": [
        "raw_html = urllib.request.urlopen('https://en.wikipedia.org/wiki/Weather')\n",
        "raw_html = raw_html.read()\n",
        "\n",
        "article_html = bs.BeautifulSoup(raw_html, 'lxml')\n",
        "\n",
        "article_paragraphs = article_html.find_all('p')\n",
        "\n",
        "article_text = ''\n",
        "\n",
        "for para in article_paragraphs:\n",
        "    article_text += para.text\n",
        "\n",
        "article_text = article_text.lower()"
      ],
      "execution_count": null,
      "outputs": []
    },
    {
      "cell_type": "code",
      "metadata": {
        "colab": {
          "base_uri": "https://localhost:8080/",
          "height": 108
        },
        "id": "-C_EPPGiSB-n",
        "outputId": "c548614c-cc28-490b-9018-99867f5565dc"
      },
      "source": [
        "article_text"
      ],
      "execution_count": null,
      "outputs": [
        {
          "output_type": "execute_result",
          "data": {
            "application/vnd.google.colaboratory.intrinsic+json": {
              "type": "string"
            },
            "text/plain": [
              "'\\nweather is the state of the atmosphere, describing for example the degree to which it is hot or cold, wet or dry, calm or stormy, clear or cloudy.[1] on earth, most weather phenomena occur in the lowest layer of the planet\\'s atmosphere, the troposphere,[2][3] just below the stratosphere. weather refers to day-to-day temperature, precipitation, and other atmospheric conditions, whereas climate is the term for the averaging of atmospheric conditions over longer periods of time.[4] when used without qualification, \"weather\" is generally understood to mean the weather of earth.\\nweather is driven by air pressure, temperature, and moisture differences between one place and another. these differences can occur due to the sun\\'s angle at any particular spot, which varies with latitude. the strong temperature contrast between polar and tropical air gives rise to the largest scale atmospheric circulations: the hadley cell, the ferrel cell, the polar cell, and the jet stream.  weather systems in the middle latitudes, such as extratropical cyclones, are caused by instabilities of the jet streamflow.  because earth\\'s axis is tilted relative to its orbital plane (called the ecliptic), sunlight is incident at different angles at different times of the year. on earth\\'s surface, temperatures usually range ±40\\xa0°c (−40\\xa0°f to 104\\xa0°f) annually. over thousands of years, changes in earth\\'s orbit can affect the amount and distribution of solar energy received by earth, thus influencing long-term climate and global climate change.\\nsurface temperature differences in turn cause pressure differences.  higher altitudes are cooler than lower altitudes, as most atmospheric heating is due to contact with the earth\\'s surface while radiative losses to space are mostly constant. weather forecasting is the application of science and technology to predict the state of the atmosphere for a future time and a given location. earth\\'s weather system is a chaotic system; as a result, small changes to one part of the system can grow to have large effects on the system as a whole. human attempts to control the weather have occurred throughout history, and there is evidence that human activities such as agriculture and industry have modified weather patterns\\nstudying how the weather works on other planets has been helpful in understanding how weather works on earth. a famous landmark in the solar system, jupiter\\'s great red spot, is an anticyclonic storm known to have existed for at least 300 years.  however, the weather is not limited to planetary bodies.  a star\\'s corona is constantly being lost to space, creating what is essentially a very thin atmosphere throughout the solar system.  the movement of mass ejected from the sun is known as the solar wind.\\non earth, the common weather phenomena include wind, cloud, rain, snow, fog and dust storms. less common events include natural disasters such as tornadoes, hurricanes, typhoons and ice storms. almost all familiar weather phenomena occur in the troposphere (the lower part of the atmosphere).[3] weather does occur in the stratosphere and can affect weather lower down in the troposphere, but the exact mechanisms are poorly understood.[5]\\nweather occurs primarily due to air pressure, temperature and moisture differences between one place to another.  these differences can occur due to the sun angle at any particular spot, which varies by latitude from the tropics. in other words, the farther from the tropics one lies, the lower the sun angle is, which causes those locations to be cooler due to the spread of the sunlight over a greater surface.[6]   the strong temperature contrast between polar and tropical air gives rise to the large scale atmospheric circulation cells and the jet stream.[7]  weather systems in the mid-latitudes, such as extratropical cyclones, are caused by instabilities of the jet stream flow (see baroclinity).[8]  weather systems in the tropics, such as monsoons or organized thunderstorm systems, are caused by different processes.\\nbecause the earth\\'s axis is tilted relative to its orbital plane, sunlight is incident at different angles at different times of the year. in june the northern hemisphere is tilted towards the sun, so at any given northern hemisphere latitude sunlight falls more directly on that spot than in december (see effect of sun angle on climate).[10] this effect causes seasons. over thousands to hundreds of thousands of years, changes in earth\\'s orbital parameters affect the amount and distribution of solar energy received by the earth and influence long-term climate. (see milankovitch cycles).[11]\\nthe uneven solar heating (the formation of zones of temperature and moisture gradients, or frontogenesis) can also be due to the weather itself in the form of cloudiness and precipitation.[12]  higher altitudes are typically cooler than lower altitudes, which the result of higher surface temperature and radiational heating, which produces the adiabatic lapse rate.[13][14] in some situations, the temperature actually increases with height. this phenomenon is known as an inversion and can cause mountaintops to be warmer than the valleys below. inversions can lead to the formation of fog and often act as a cap that suppresses thunderstorm development. on local scales, temperature differences can occur because different surfaces (such as oceans, forests, ice sheets, or man-made objects) have differing physical characteristics such as reflectivity, roughness, or moisture content.\\nsurface temperature differences in turn cause pressure differences. a hot surface warms the air above it causing it to expand and lower the density and the resulting surface air pressure.[15] the resulting horizontal pressure gradient moves the air from higher to lower pressure regions, creating a wind, and the earth\\'s rotation then causes deflection of this airflow due to the coriolis effect.[16] the simple systems thus formed can then display emergent behaviour to produce more complex systems and thus other weather phenomena.  large scale examples include the hadley cell while a smaller scale example would be coastal breezes.\\nthe atmosphere is a chaotic system. as a result, small changes to one part of the system can accumulate and magnify to cause large effects on the system as a whole.[17] this atmospheric instability makes weather forecasting less predictable than tides or eclipses.[18] although it is difficult to accurately predict weather more than a few days in advance, weather forecasters are continually working to extend this limit through meteorological research and refining current methodologies in weather prediction. however, it is theoretically impossible to make useful day-to-day predictions more than about two weeks ahead, imposing an upper limit to potential for improved prediction skill.[19]\\nweather is one of the fundamental processes that shape the earth. the process of weathering breaks down the rocks and soils into smaller fragments and then into their constituent substances.[20] during rains precipitation, the water droplets absorb and dissolve carbon dioxide from the surrounding air. this causes the rainwater to be slightly acidic, which aids the erosive properties of water. the released sediment and chemicals are then free to take part in chemical reactions that can affect the surface further (such as acid rain), and sodium and chloride ions (salt) deposited in the seas/oceans. the sediment may reform in time and by geological forces into other rocks and soils. in this way, weather plays a major role in erosion of the surface.[21]\\nweather, seen from an anthropological perspective, is something all humans in the world constantly experience through their senses, at least while being outside. there are socially and scientifically constructed understandings of what weather is, what makes it change, the effect it has on humans in different situations, etc.[22] therefore, weather is something people often communicate about. the national weather service has an annual report for fatalities, injury, and total damage costs which include crop and property. they gather this data via national weather service offices located throughout the 50 states in the united states as well as puerto rico, guam, and the virgin islands. as of 2019, tornadoes have had the greatest impact on humans with 42 fatalities while costing crop and property damage over 3 billion dollars.[23]\\nthe weather has played a large and sometimes direct part in human history. aside from climatic changes that have caused the gradual drift of populations (for example the desertification of the middle east, and the formation of land bridges during glacial periods), extreme weather events have caused smaller scale population movements and intruded directly in historical events. one such event is the saving of japan from invasion by the mongol fleet of kublai khan by the kamikaze winds in 1281.[24]  french claims to florida came to an end in 1565 when a hurricane destroyed the french fleet, allowing spain to conquer fort caroline.[25]  more recently, hurricane katrina redistributed over one million people from the central gulf coast elsewhere across the united states, becoming the largest diaspora in the history of the united states.[26]\\nthe little ice age caused crop failures and famines in europe. during the period known as the grindelwald fluctuation (1560-1630), volcanic forcing events[27] seem to have led to more extreme weather events.[28]  these included droughts, storms and unseasonal blizzards, as well as causing the swiss grindelwald glacier to expand. the 1690s saw the worst famine in france since the middle ages. finland suffered a severe famine in 1696–1697, during which about one-third of the finnish population died.[29]\\nweather forecasting is the application of science and technology to predict the state of the atmosphere for a future time and a given location. human beings have attempted to predict the weather informally for millennia, and formally since at least the nineteenth century.[30]  weather forecasts are made by collecting quantitative data about the current state of the atmosphere and using scientific understanding of atmospheric processes to project how the atmosphere will evolve.[31]\\nonce an all-human endeavor based mainly upon changes in barometric pressure, current weather conditions, and sky condition,[32][33] forecast models are now used to determine future conditions. on the other hand, human input is still required to pick the best possible forecast model to base the forecast upon, which involve many disciplines such as pattern recognition skills, teleconnections, knowledge of model performance, and knowledge of model biases.\\nthe chaotic nature of the atmosphere, the massive computational power required to solve the equations that describe the atmosphere, the error involved in measuring the initial conditions, and an incomplete understanding of atmospheric processes mean that forecasts become less accurate as of the difference in current time and the time for which the forecast is being made (the range of the forecast) increases. the use of ensembles and model consensus helps to narrow the error and pick the most likely outcome.[34][35][36]\\nthere are a variety of end users to weather forecasts. weather warnings are important forecasts because they are used to protect life and property.[37][38]  forecasts based on temperature and precipitation are important to agriculture,[39][40][41][42] and therefore to commodity traders within stock markets. temperature forecasts are used by utility companies to estimate demand over coming days.[43][44][45]\\nin some areas, people use weather forecasts to determine what to wear on a given day. since outdoor activities are severely curtailed by heavy rain, snow and the wind chill, forecasts can be used to plan activities around these events and to plan ahead to survive through them.\\ntropical weather forecasting is different from that at higher latitudes. the sun shines more directly on the tropics than on higher latitudes (at least in the average over a year), which makes the tropics warm (stevens 2011). and, the vertical direction (up, as one stands on the earth\\'s surface) is perpendicular to the earth\\'s axis of rotation at the equator, while the axis of rotation and the vertical are the same at the pole; this causes the earth\\'s rotation to influence the atmospheric circulation more strongly at high latitudes than low. because of these two factors, clouds and rainstorms in the tropics can occur more spontaneously compared to those at higher latitudes, where they are more tightly controlled by larger-scale forces in the atmosphere. because of these differences, clouds and rain are more difficult to forecast in the tropics than at higher latitudes. on the other hand, the temperature is easily forecast in the tropics, because it doesn\\'t change much.[46]\\nthe aspiration to control the weather is evident throughout human history: from ancient rituals intended to bring rain for crops to the u.s. military operation popeye, an attempt to disrupt supply lines by lengthening the north vietnamese monsoon. the most successful attempts at influencing weather involve cloud seeding; they include the fog- and low stratus dispersion techniques employed by major airports, techniques used to increase winter precipitation over mountains, and techniques to suppress hail.[47] a recent example of weather control was china\\'s preparation for the 2008 summer olympic games. china shot 1,104 rain dispersal rockets from 21 sites in the city of beijing in an effort to keep rain away from the opening ceremony of the games on 8 august 2008. guo hu, head of the beijing municipal meteorological bureau (bmb), confirmed the success of the operation with 100 millimeters falling in baoding city of hebei province, to the southwest and beijing\\'s fangshan district recording a rainfall of 25 millimeters.[48]\\nwhereas there is inconclusive evidence for these techniques\\' efficacy, there is extensive evidence that human activity such as agriculture and industry results in inadvertent weather modification:[47]\\nthe effects of inadvertent weather modification may pose serious threats to many aspects of civilization, including ecosystems, natural resources, food and fiber production, economic development, and human health.[51]\\nmicroscale meteorology is the study of short-lived atmospheric phenomena smaller than mesoscale, about 1\\xa0km or less. these two branches of meteorology are sometimes grouped together as \"mesoscale and microscale meteorology\" (mmm) and together study all phenomena smaller than synoptic scale; that is they study features generally too small to be depicted on a weather map. these include small and generally fleeting cloud \"puffs\" and other small cloud features.[52]\\non earth, temperatures usually range ±40\\xa0°c (100\\xa0°f to −40\\xa0°f) annually.  the range of climates and latitudes across the planet can offer extremes of temperature outside this range.  the coldest air temperature ever recorded on earth is −89.2\\xa0°c (−128.6\\xa0°f), at vostok station, antarctica on 21 july 1983.  the hottest air temperature ever recorded was 57.7\\xa0°c (135.9\\xa0°f)  at \\'aziziya, libya, on 13 september 1922,[53] but that reading is queried.  the highest recorded average annual temperature was 34.4\\xa0°c (93.9\\xa0°f) at dallol, ethiopia.[54]  the coldest recorded average annual temperature was −55.1\\xa0°c (−67.2\\xa0°f) at vostok station, antarctica.[55]\\nthe coldest average annual temperature in a permanently inhabited location is at eureka, nunavut, in canada, where the annual average temperature is −19.7\\xa0°c (−3.5\\xa0°f).[56]\\nthe windiest place ever recorded is in antarctica, commonwealth bay (george v coast).[citation needed] here the gales reach 199\\xa0mph (320\\xa0km/h).[citation needed] furthermore, the greatest snowfall in a period of twelve months occurred in mount rainier, washington, usa. it was recorded as 31,102\\xa0mm (102.04\\xa0ft) of snow.[57]\\nstudying how the weather works on other planets has been seen as helpful in understanding how it works on earth.[58] weather on other planets follows many of the same physical principles as weather on earth, but occurs on different scales and in atmospheres having different chemical composition. the cassini–huygens mission to titan discovered clouds formed from methane or ethane which deposit rain composed of liquid methane and other organic compounds.[59]  earth\\'s atmosphere includes six latitudinal circulation zones, three in each hemisphere.[60]  in contrast, jupiter\\'s banded appearance shows many such zones,[61] titan has a single jet stream near the 50th parallel north latitude,[62] and venus has a single jet near the equator.[63]\\none of the most famous landmarks in the solar system, jupiter\\'s great red spot, is an anticyclonic storm known to have existed for at least 300 years.[64]  on other gas giants, the lack of a surface allows the wind to reach enormous speeds: gusts of up to 600\\xa0metres per second (about 2,100\\xa0km/h or 1,300\\xa0mph) have been measured on the planet neptune.[65]  this has created a puzzle for planetary scientists.  the weather is ultimately created by solar energy and the amount of energy received by neptune is only about .mw-parser-output .frac{white-space:nowrap}.mw-parser-output .frac .num,.mw-parser-output .frac .den{font-size:80%;line-height:0;vertical-align:super}.mw-parser-output .frac .den{vertical-align:sub}.mw-parser-output .sr-only{border:0;clip:rect(0,0,0,0);height:1px;margin:-1px;overflow:hidden;padding:0;position:absolute;width:1px}1⁄900 of that received by earth, yet the intensity of weather phenomena on neptune is far greater than on earth.[66] the strongest planetary winds discovered so far are on the extrasolar planet hd 189733 b, which is thought to have easterly winds moving at more than 9,600 kilometres per hour (6,000\\xa0mph).[67]\\nweather is not limited to planetary bodies.  like all stars, the sun\\'s corona is constantly being lost to space, creating what is essentially a very thin atmosphere throughout the solar system.  the movement of mass ejected from the sun is known as the solar wind.  inconsistencies in this wind and larger events on the surface of the star, such as coronal mass ejections, form a system that has features analogous to conventional weather systems (such as pressure and wind) and is generally known as space weather.  coronal mass ejections have been tracked as far out in the solar system as saturn.[68]  the activity of this system can affect planetary atmospheres and occasionally surfaces.  the interaction of the solar wind with the terrestrial atmosphere can produce spectacular aurorae,[69] and can play havoc with electrically sensitive systems such as electricity grids and radio signals.[70]\\n\\n\\n'"
            ]
          },
          "metadata": {
            "tags": []
          },
          "execution_count": 13
        }
      ]
    },
    {
      "cell_type": "code",
      "metadata": {
        "id": "w3MtUE0YTzoI"
      },
      "source": [
        "article_text = re.sub(r'\\[[0-9]*\\]', ' ', article_text)\n",
        "article_text = re.sub(r'\\s+', ' ', article_text)"
      ],
      "execution_count": null,
      "outputs": []
    },
    {
      "cell_type": "code",
      "metadata": {
        "id": "zoy6XU8pVonr"
      },
      "source": [
        "#Throws an error and I am not sure why\n",
        "\n",
        "article_sentences = nltk.sent_tokenize(article_text)\n",
        "article_words = nltk.word_tokenize(article_text)"
      ],
      "execution_count": null,
      "outputs": []
    },
    {
      "cell_type": "code",
      "metadata": {
        "id": "IFvewltMT57m"
      },
      "source": [
        "wnlemmatizer = nltk.stem.WordNetLemmatizer()\n",
        "\n",
        "def perform_lemmatization(tokens):\n",
        "    return [wnlemmatizer.lemmatize(token) for token in tokens]\n",
        "\n",
        "punctuation_removal = dict((ord(punctuation), None) for punctuation in string.punctuation)\n",
        "\n",
        "def get_processed_text(document):\n",
        "    return perform_lemmatization(nltk.word_tokenize(document.lower().translate(punctuation_removal)))"
      ],
      "execution_count": null,
      "outputs": []
    },
    {
      "cell_type": "code",
      "metadata": {
        "id": "tyrvBcJlV3tm"
      },
      "source": [
        "greeting_inputs = (\"hey\", \"good morning\", \"good evening\", \"morning\", \"evening\", \"hi\", \"whatsup\",\"hello\",\"yo\",\"what it do\",\"what it is\",\"wa up\",\"sup\")\n",
        "greeting_responses = [\"hey\", \"hey hows you?\", \"*nods* Sup?\", \"hello, how you doing\", \"hello\", \"Welcome, I am good and you\"]\n",
        "\n",
        "def generate_greeting_response(greeting):\n",
        "    for token in greeting.split():\n",
        "        if token.lower() in greeting_inputs:\n",
        "            return random.choice(greeting_responses)"
      ],
      "execution_count": null,
      "outputs": []
    },
    {
      "cell_type": "code",
      "metadata": {
        "id": "TkGb1bH2WJkq"
      },
      "source": [
        "def generate_response(user_input):\n",
        "    weatherrobo_response = ''\n",
        "    article_sentences.append(user_input)\n",
        "\n",
        "    word_vectorizer = TfidfVectorizer(tokenizer=get_processed_text, stop_words='english')\n",
        "    all_word_vectors = word_vectorizer.fit_transform(article_sentences)\n",
        "    similar_vector_values = cosine_similarity(all_word_vectors[-1], all_word_vectors)\n",
        "    similar_sentence_number = similar_vector_values.argsort()[0][-2]\n",
        "\n",
        "    matched_vector = similar_vector_values.flatten()\n",
        "    matched_vector.sort()\n",
        "    vector_matched = matched_vector[-2]\n",
        "\n",
        "    if vector_matched == 0:\n",
        "        weatherrobo_response = weatherrobo_response + \"I am sorry, but what does that have to do with what we are talking about?\"\n",
        "        return weatherrobo_response\n",
        "    else:\n",
        "        weatherrobo_response = weatherrobo_response + article_sentences[similar_sentence_number]\n",
        "        return weatherrobo_response"
      ],
      "execution_count": null,
      "outputs": []
    },
    {
      "cell_type": "code",
      "metadata": {
        "id": "5jbZFiMoXCkP"
      },
      "source": [
        "#should have some custom stop words here\n",
        "word_vectorizer = TfidfVectorizer(tokenizer=get_processed_text, stop_words='english')\n",
        "all_word_vectors = word_vectorizer.fit_transform(article_sentences)"
      ],
      "execution_count": null,
      "outputs": []
    },
    {
      "cell_type": "code",
      "metadata": {
        "colab": {
          "base_uri": "https://localhost:8080/"
        },
        "id": "DQdv3V81YlVY",
        "outputId": "f3cbc1ba-d381-46cd-e0a8-cca363a87b96"
      },
      "source": [
        "similar_vector_values = cosine_similarity(all_word_vectors[-1], all_word_vectors)\n",
        "similar_vector_values"
      ],
      "execution_count": null,
      "outputs": [
        {
          "output_type": "execute_result",
          "data": {
            "text/plain": [
              "array([[0.0281538 , 0.03632804, 0.        , 0.        , 0.        ,\n",
              "        0.        , 0.        , 0.        , 0.        , 0.        ,\n",
              "        0.02906955, 0.        , 0.        , 0.03475772, 0.        ,\n",
              "        0.        , 0.03562151, 0.        , 0.08216305, 0.11263766,\n",
              "        0.04557665, 0.        , 0.04904988, 0.        , 0.        ,\n",
              "        0.        , 0.        , 0.        , 0.        , 0.        ,\n",
              "        0.        , 0.        , 0.        , 0.03023476, 0.        ,\n",
              "        0.03625953, 0.05268017, 0.        , 0.        , 0.        ,\n",
              "        0.        , 0.        , 0.        , 0.03267926, 0.07491829,\n",
              "        0.        , 0.09118946, 0.        , 0.        , 0.        ,\n",
              "        0.        , 0.        , 0.        , 0.        , 0.        ,\n",
              "        0.        , 0.        , 0.10005657, 0.        , 0.        ,\n",
              "        0.        , 0.        , 0.        , 0.        , 0.        ,\n",
              "        0.        , 0.02255035, 0.        , 0.        , 0.        ,\n",
              "        0.        , 0.        , 0.        , 0.03475772, 0.        ,\n",
              "        0.0558587 , 0.        , 0.        , 0.03675166, 0.        ,\n",
              "        0.        , 0.        , 0.        , 0.        , 0.        ,\n",
              "        0.02942731, 0.        , 0.        , 0.        , 0.02916499,\n",
              "        0.        , 0.        , 0.        , 0.        , 0.        ,\n",
              "        0.        , 0.        , 0.        , 0.        , 0.        ,\n",
              "        0.        , 0.        , 0.        , 0.        , 0.        ,\n",
              "        0.        , 0.        , 0.        , 0.        , 0.        ,\n",
              "        0.        , 0.02892955, 0.        , 0.04319729, 0.        ,\n",
              "        0.03562151, 0.02871479, 0.        , 0.01946344, 0.05801716,\n",
              "        0.        , 0.07375673, 0.11263766, 0.06244658, 0.04646035,\n",
              "        0.05023752, 1.        ]])"
            ]
          },
          "metadata": {
            "tags": []
          },
          "execution_count": 20
        }
      ]
    },
    {
      "cell_type": "code",
      "metadata": {
        "colab": {
          "base_uri": "https://localhost:8080/"
        },
        "id": "o37tnP1lYyCb",
        "outputId": "713f1bfe-9f25-4eaf-c74e-329dce04f64d"
      },
      "source": [
        "similar_sentence_number = similar_vector_values.argsort()[0][-2]\n",
        "similar_sentence_number"
      ],
      "execution_count": null,
      "outputs": [
        {
          "output_type": "execute_result",
          "data": {
            "text/plain": [
              "122"
            ]
          },
          "metadata": {
            "tags": []
          },
          "execution_count": 21
        }
      ]
    },
    {
      "cell_type": "markdown",
      "metadata": {
        "id": "JwuPEa3_cBVU"
      },
      "source": [
        "Connecting to Weather API to get weather for local information"
      ]
    },
    {
      "cell_type": "code",
      "metadata": {
        "colab": {
          "base_uri": "https://localhost:8080/"
        },
        "id": "upT6jhAZZUGl",
        "outputId": "0b3c7974-f268-4a71-db00-269f9b5b7ea5"
      },
      "source": [
        "BASE_URL = \"https://api.openweathermap.org/data/2.5/weather?\"\n",
        "BASE_URL = \"https://api.openweathermap.org/data/2.5/weather?\"\n",
        "CITY = \"New York\"\n",
        "API_KEY = \"80500bda3ab49ea41fa2c4e3b7afa84a\"\n",
        "\n",
        "\n",
        "URL = BASE_URL + \"q=\" + CITY +\"&units=imperial\"+\"&appid=\" + API_KEY\n",
        "response = requests.get(URL)\n",
        "if response.status_code == 200:\n",
        "   data = response.json()\n",
        "   main = data['main']\n",
        "   temperature = main['temp']\n",
        "   humidity = main['humidity']\n",
        "   pressure = main['pressure']\n",
        "   report = data['weather']\n",
        "   print(f\"{CITY:}\")\n",
        "   print(f\"Temperature: {temperature}\")\n",
        "   print(f\"Humidity: {humidity}\")\n",
        "   print(f\"Pressure: {pressure}\")\n",
        "   print(f\"Weather Report: {report[0]['description']}\")\n",
        "else:\n",
        "   # showing the error message\n",
        "   print(\"Error in the HTTP request\")\n",
        "\n"
      ],
      "execution_count": null,
      "outputs": [
        {
          "output_type": "stream",
          "text": [
            "New York\n",
            "Temperature: 82.53\n",
            "Humidity: 56\n",
            "Pressure: 1010\n",
            "Weather Report: clear sky\n"
          ],
          "name": "stdout"
        }
      ]
    },
    {
      "cell_type": "code",
      "metadata": {
        "id": "2JJT2nYrfzZN"
      },
      "source": [
        "tempy=str(round(temperature,0))"
      ],
      "execution_count": null,
      "outputs": []
    },
    {
      "cell_type": "code",
      "metadata": {
        "id": "I_KQgQqvwh30"
      },
      "source": [
        "random_question = [' What kind of weather is best for a cookout? ', ' When is too cold to wear shorts? ',\n",
        "                   ' Have you ever gotten drunk? ',' What is the weather outside like to you?',\n",
        "                   ' What is your ideal weather like? ']\n",
        "\n",
        "random_question_selection3=random.sample(random_question,1)"
      ],
      "execution_count": null,
      "outputs": []
    },
    {
      "cell_type": "code",
      "metadata": {
        "id": "BA4wYlPl1gUJ"
      },
      "source": [
        "question=random_question_selection3[0]"
      ],
      "execution_count": null,
      "outputs": []
    },
    {
      "cell_type": "markdown",
      "metadata": {
        "id": "rABogWqPbUiz"
      },
      "source": [
        "Chat Bot itself"
      ]
    },
    {
      "cell_type": "code",
      "metadata": {
        "id": "AHmjAxASm-yg"
      },
      "source": [
        "#Hello message"
      ],
      "execution_count": null,
      "outputs": []
    },
    {
      "cell_type": "code",
      "metadata": {
        "colab": {
          "base_uri": "https://localhost:8080/"
        },
        "id": "38d7E8svWQ-j",
        "outputId": "3b95af32-f3e5-469e-9020-420ac32a2962"
      },
      "source": [
        "choices={'Sunny':1,'Rainy':2 }\n",
        "choice = click.prompt('What would you rather have?', type=click.Choice(choices, case_sensitive=False))\n",
        "print(f'That is great! I like them both because well I am a machine...I am not sure what I would like if I was a human. I have another question for you!')"
      ],
      "execution_count": null,
      "outputs": [
        {
          "output_type": "stream",
          "text": [
            "What would you rather have? (Sunny, Rainy): Sunny\n",
            "That is great! I like them both because well I am a machine...I am not sure what I would like if I was a human. I have another question for you!\n"
          ],
          "name": "stdout"
        }
      ]
    },
    {
      "cell_type": "code",
      "metadata": {
        "colab": {
          "base_uri": "https://localhost:8080/"
        },
        "id": "PMKdznRKWRGi",
        "outputId": "c5aea775-dbad-424a-b6e3-ce18c6ea8e23"
      },
      "source": [
        "print(f\"Bot: Have you been outside Today is {report[0]['description']} and it is around {tempy} degrees.\")\n",
        "user_input1=input(\"What do you think of that?\\n\")"
      ],
      "execution_count": null,
      "outputs": [
        {
          "output_type": "stream",
          "text": [
            "Bot: Have you been outside Today is clear sky and it is around 83.0 degrees.\n",
            "What do you think of that?\n",
            "I think it stinks\n"
          ],
          "name": "stdout"
        }
      ]
    },
    {
      "cell_type": "code",
      "metadata": {
        "colab": {
          "base_uri": "https://localhost:8080/"
        },
        "id": "0Xd8r6hEWRJ-",
        "outputId": "9854d64a-dbc6-44d7-8149-ae557b4d42f9"
      },
      "source": [
        "continue_dialogue = True\n",
        "print(\"Hello, I am your friend. You can ask me any question regarding weather:\")\n",
        "while(continue_dialogue == True):\n",
        "    human_text = input()\n",
        "    human_text = human_text.lower()\n",
        "    if human_text != 'bye':\n",
        "        if human_text == 'thanks' or human_text == 'thank you very much' or human_text == 'thank you':\n",
        "            continue_dialogue = False\n",
        "            print(f\"Bot: You are welcome go out have fun it is {str(temperature)} degrees and it is {str(report[0]['description'])} outside\")\n",
        "        else:\n",
        "            if generate_greeting_response(human_text) != None:\n",
        "                print(f\"Bot: {generate_greeting_response(human_text)} Today's about {str(temperature)} degrees and it is {str(report[0]['description'])} outside\")\n",
        "            else:\n",
        "                print(\"Bot: \", end=\"\")\n",
        "                print(generate_response(human_text))\n",
        "                article_sentences.remove(human_text)\n",
        "    else:\n",
        "        continue_dialogue = False\n",
        "        print(\"Bot: Good bye and take care of yourself...\")"
      ],
      "execution_count": null,
      "outputs": [
        {
          "output_type": "stream",
          "text": [
            "Hello, I am your friend. You can ask me any question regarding weather:\n",
            "yo\n",
            "Bot: Welcome, I am good and you Today's about 82.53 degrees and it is clear sky outside\n",
            "wow dude it is really hot outside is that because of global warming?\n",
            "Bot: the range of climates and latitudes across the planet can offer extremes of temperature outside this range.\n",
            "so the answer to the earth getting hotter is ?\n",
            "Bot: weather is one of the fundamental processes that shape the earth.\n",
            "Okay so you are a bot\n",
            "Bot: I am sorry, but what does that have to do with what we are talking about?\n",
            "Thanks\n",
            "Bot: You are welcome go out have fun it is 82.53 degrees and it is clear sky outside\n"
          ],
          "name": "stdout"
        }
      ]
    },
    {
      "cell_type": "code",
      "metadata": {
        "id": "5R7Rj5NanuPK"
      },
      "source": [
        "#good bye message"
      ],
      "execution_count": null,
      "outputs": []
    },
    {
      "cell_type": "code",
      "metadata": {
        "id": "zRX36nRBgLJu"
      },
      "source": [
        ""
      ],
      "execution_count": null,
      "outputs": []
    },
    {
      "cell_type": "code",
      "metadata": {
        "id": "7LFizLE2gXdI"
      },
      "source": [
        ""
      ],
      "execution_count": null,
      "outputs": []
    },
    {
      "cell_type": "code",
      "metadata": {
        "id": "qkgNJUNjfx7T"
      },
      "source": [
        ""
      ],
      "execution_count": null,
      "outputs": []
    }
  ]
}