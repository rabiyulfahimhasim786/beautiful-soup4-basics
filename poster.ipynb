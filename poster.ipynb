{
  "nbformat": 4,
  "nbformat_minor": 0,
  "metadata": {
    "colab": {
      "name": "poster.ipynb",
      "provenance": [],
      "collapsed_sections": []
    },
    "kernelspec": {
      "name": "python3",
      "display_name": "Python 3"
    },
    "language_info": {
      "name": "python"
    }
  },
  "cells": [
    {
      "cell_type": "code",
      "execution_count": null,
      "metadata": {
        "colab": {
          "base_uri": "https://localhost:8080/"
        },
        "id": "gdD4XCoqu2OX",
        "outputId": "86eb6dda-e172-4957-a4f3-f49d07baa07e"
      },
      "outputs": [
        {
          "output_type": "stream",
          "name": "stdout",
          "text": [
            "/images/pwsitelogo.gif\n",
            "/resize/Shared/Images/Product/A-Star-Is-Born/53330.jpg?bh=300\n",
            "/resize/Shared/Images/Product/Airplane/53220.jpg?bh=300\n",
            "/resize/Shared/Images/Product/Alien/51543.jpg?bh=300\n",
            "/resize/Shared/Images/Product/Aliens/53267.jpg?bh=300\n",
            "/resize/Shared/Images/Product/Army-of-Darkness/44853.jpeg?bh=300\n",
            "/resize/Shared/Images/Product/Arnold-Schwarzenegger/51823.jpg?bh=300\n",
            "/resize/Shared/Images/Product/Assassin-Of-Youth/52466.jpg?bh=300\n",
            "/resize/Shared/Images/Product/Avengers-Endgame/53184.jpg?bh=300\n",
            "/resize/Shared/Images/Product/Avengers-Infinity-Saga/54340.jpeg?bh=300\n",
            "/resize/Shared/Images/Product/Avengers-Infinty-War/52709.jpg?bh=300\n",
            "/resize/Shared/Images/Product/Back-To-The-Future/53366.jpg?bh=300\n",
            "/resize/Shared/Images/Product/Back-To-The-Future/53224.jpg?bh=300\n",
            "/resize/Shared/Images/Product/Back-To-The-Future/48452b.jpg?bh=300\n",
            "/resize/Shared/Images/Product/Batman-Joker/51827.jpg?bh=300\n",
            "/resize/Shared/Images/Product/Batman-Joker/51687c.jpg?bh=300\n",
            "/resize/Shared/Images/Product/Beetlejuice/52043.jpg?bh=300\n",
            "/resize/Shared/Images/Product/Beetlejuice/53414.jpg?bh=300\n",
            "/resize/Shared/Images/Product/Beetlejuice/54313.jpeg?bh=300\n",
            "/resize/Shared/Images/Product/Big-Lebowski/47287.jpg?bh=300\n",
            "/resize/Shared/Images/Product/Big-Trouble-In-Little-China/53162.jpg?bh=300\n",
            "/resize/Shared/Images/Product/Black-Panther/52575.jpg?bh=300\n",
            "/resize/Shared/Images/Product/Blade-Runner/52577.jpg?bh=300\n",
            "/resize/Shared/Images/Product/Blood-In-Blood-Out/52097.jpg?bh=300\n",
            "/resize/Shared/Images/Product/Blow/44589b.jpg?bh=300\n",
            "/resize/Shared/Images/Product/Breakfast-Club/44719.jpg?bh=300\n",
            "/resize/Shared/Images/Product/Breakfast-Club/53365.jpg?bh=300\n",
            "/resize/Shared/Images/Product/Bride-Of-Frankenstein/51685.jpg?bh=300\n",
            "/resize/Shared/Images/Product/Bride-of-Frankenstein/53238.jpg?bh=300\n",
            "/resize/Shared/Images/Product/Bruce-Lee/53173.jpg?bh=300\n",
            "/resize/Shared/Images/Product/Bullitt/53192.jpg?bh=300\n",
            "/resize/shared/images/50830.jpg?bh=300\n",
            "/resize/Shared/Images/Product/Casablanca/50867.jpg?bh=300\n",
            "/resize/Shared/Images/Product/Child-s-Play-2/53221.jpg?bh=300\n",
            "/resize/Shared/Images/Product/Slash-Supper/53170.jpg?bh=300\n",
            "/resize/Shared/Images/Product/Clint-Eastwood-Fistful-of-Dollars/51303.jpg?bh=300\n",
            "/resize/Shared/Images/Product/Dirty-Harry/52392b.jpg?bh=300\n",
            "/resize/Shared/Images/Product/Commando/54066.jpg?bh=300\n",
            "/resize/Shared/Images/Product/Creature-From-The-Black-Lagoon/52827.jpg?bh=300\n",
            "/resize/Shared/Images/Product/Dazed-and-Confused/48552b.jpg?bh=300\n",
            "/resize/shared/images/38371.jpg?bh=300\n",
            "/resize/shared/images/49932.jpg?bh=300\n",
            "/resize/Shared/Images/Product/Dracula/51199.jpg?bh=300\n",
            "/resize/Shared/Images/Product/Dumb-and-Dumber/47088b.jpg?bh=300\n",
            "/resize/Shared/Images/Product/E-T/28288.jpg?bh=300\n",
            "/resize/Shared/Images/Product/E-T/53351.jpg?bh=300\n",
            "/resize/Shared/Images/Product/Edward-Scissorhands/41427.jpg?bh=300\n",
            "/resize/Shared/Images/Product/Eraserhead/54305.jpg?bh=300\n",
            "/resize/Shared/Images/Product/Evil-Dead/42865.jpg?bh=300\n",
            "https://posterswholesale.americommerce.com/visa-mc-amex-discover-paypal.gif\n"
          ]
        }
      ],
      "source": [
        "import requests\n",
        "from bs4 import BeautifulSoup\n",
        "\t\n",
        "def getdata(url):\n",
        "\tr = requests.get(url)\n",
        "\treturn r.text\n",
        "\t\n",
        "htmldata = getdata(\"https://posterswholesale.americommerce.com/store/c/23-Movie.aspx\")\n",
        "soup = BeautifulSoup(htmldata, 'html.parser')\n",
        "for item in soup.find_all('img'):\n",
        "\tprint(item['src'])"
      ]
    },
    {
      "cell_type": "code",
      "source": [
        "images = soup.findAll('img')\n",
        "Source_URL = 'https://posterswholesale.americommerce.com/resize/Shared/Images/Product/A-Star-Is-Born/53330.jpg?bh=300'\n",
        "r = requests.get(Source_URL).content\n",
        "# Enter File Name with Extension like jpg, png etc..\n",
        "with open(\"53330.jpg\",\"wb+\") as f:\n",
        "      f.write(r)"
      ],
      "metadata": {
        "id": "ZM8igZr3wh9W"
      },
      "execution_count": null,
      "outputs": []
    },
    {
      "cell_type": "code",
      "source": [
        "images = soup.findAll('img')\n",
        "Source_URL = 'https://posterswholesale.americommerce.com//resize/Shared/Images/Product/Airplane/53220.jpg?bh=300'\n",
        "r = requests.get(Source_URL).content\n",
        "# Enter File Name with Extension like jpg, png etc..\n",
        "with open(\"53220.jpg\",\"wb+\") as f:\n",
        "      f.write(r)"
      ],
      "metadata": {
        "id": "piqMAAIFwvwe"
      },
      "execution_count": null,
      "outputs": []
    },
    {
      "cell_type": "code",
      "source": [
        "import requests\n",
        "from bs4 import BeautifulSoup\n",
        "\t\n",
        "def getdata(url):\n",
        "\tr = requests.get(url)\n",
        "\treturn r.text\n",
        "\t\n",
        "htmldata = getdata(\"https://posterswholesale.americommerce.com/store/c/23-Movie.aspx\")\n",
        "soup = BeautifulSoup(htmldata, 'html.parser')\n",
        "for item in soup.find_all('img'):\n",
        "    items = (item['src'])\n",
        "    print('https://posterswholesale.americommerce.com',items)"
      ],
      "metadata": {
        "id": "aZWxtfbo4IOp",
        "colab": {
          "base_uri": "https://localhost:8080/"
        },
        "outputId": "6644c29c-2e0d-4c6d-d252-d267fa84cb0a"
      },
      "execution_count": null,
      "outputs": [
        {
          "output_type": "stream",
          "name": "stdout",
          "text": [
            "https://posterswholesale.americommerce.com /images/pwsitelogo.gif\n",
            "https://posterswholesale.americommerce.com /resize/Shared/Images/Product/A-Star-Is-Born/53330.jpg?bh=300\n",
            "https://posterswholesale.americommerce.com /resize/Shared/Images/Product/Airplane/53220.jpg?bh=300\n",
            "https://posterswholesale.americommerce.com /resize/Shared/Images/Product/Alien/51543.jpg?bh=300\n",
            "https://posterswholesale.americommerce.com /resize/Shared/Images/Product/Aliens/53267.jpg?bh=300\n",
            "https://posterswholesale.americommerce.com /resize/Shared/Images/Product/Army-of-Darkness/44853.jpeg?bh=300\n",
            "https://posterswholesale.americommerce.com /resize/Shared/Images/Product/Arnold-Schwarzenegger/51823.jpg?bh=300\n",
            "https://posterswholesale.americommerce.com /resize/Shared/Images/Product/Assassin-Of-Youth/52466.jpg?bh=300\n",
            "https://posterswholesale.americommerce.com /resize/Shared/Images/Product/Avengers-Endgame/53184.jpg?bh=300\n",
            "https://posterswholesale.americommerce.com /resize/Shared/Images/Product/Avengers-Infinity-Saga/54340.jpeg?bh=300\n",
            "https://posterswholesale.americommerce.com /resize/Shared/Images/Product/Avengers-Infinty-War/52709.jpg?bh=300\n",
            "https://posterswholesale.americommerce.com /resize/Shared/Images/Product/Back-To-The-Future/53366.jpg?bh=300\n",
            "https://posterswholesale.americommerce.com /resize/Shared/Images/Product/Back-To-The-Future/53224.jpg?bh=300\n",
            "https://posterswholesale.americommerce.com /resize/Shared/Images/Product/Back-To-The-Future/48452b.jpg?bh=300\n",
            "https://posterswholesale.americommerce.com /resize/Shared/Images/Product/Batman-Joker/51827.jpg?bh=300\n",
            "https://posterswholesale.americommerce.com /resize/Shared/Images/Product/Batman-Joker/51687c.jpg?bh=300\n",
            "https://posterswholesale.americommerce.com /resize/Shared/Images/Product/Beetlejuice/52043.jpg?bh=300\n",
            "https://posterswholesale.americommerce.com /resize/Shared/Images/Product/Beetlejuice/53414.jpg?bh=300\n",
            "https://posterswholesale.americommerce.com /resize/Shared/Images/Product/Beetlejuice/54313.jpeg?bh=300\n",
            "https://posterswholesale.americommerce.com /resize/Shared/Images/Product/Big-Lebowski/47287.jpg?bh=300\n",
            "https://posterswholesale.americommerce.com /resize/Shared/Images/Product/Big-Trouble-In-Little-China/53162.jpg?bh=300\n",
            "https://posterswholesale.americommerce.com /resize/Shared/Images/Product/Black-Panther/52575.jpg?bh=300\n",
            "https://posterswholesale.americommerce.com /resize/Shared/Images/Product/Blade-Runner/52577.jpg?bh=300\n",
            "https://posterswholesale.americommerce.com /resize/Shared/Images/Product/Blood-In-Blood-Out/52097.jpg?bh=300\n",
            "https://posterswholesale.americommerce.com /resize/Shared/Images/Product/Blow/44589b.jpg?bh=300\n",
            "https://posterswholesale.americommerce.com /resize/Shared/Images/Product/Breakfast-Club/44719.jpg?bh=300\n",
            "https://posterswholesale.americommerce.com /resize/Shared/Images/Product/Breakfast-Club/53365.jpg?bh=300\n",
            "https://posterswholesale.americommerce.com /resize/Shared/Images/Product/Bride-Of-Frankenstein/51685.jpg?bh=300\n",
            "https://posterswholesale.americommerce.com /resize/Shared/Images/Product/Bride-of-Frankenstein/53238.jpg?bh=300\n",
            "https://posterswholesale.americommerce.com /resize/Shared/Images/Product/Bruce-Lee/53173.jpg?bh=300\n",
            "https://posterswholesale.americommerce.com /resize/Shared/Images/Product/Bullitt/53192.jpg?bh=300\n",
            "https://posterswholesale.americommerce.com /resize/shared/images/50830.jpg?bh=300\n",
            "https://posterswholesale.americommerce.com /resize/Shared/Images/Product/Casablanca/50867.jpg?bh=300\n",
            "https://posterswholesale.americommerce.com /resize/Shared/Images/Product/Child-s-Play-2/53221.jpg?bh=300\n",
            "https://posterswholesale.americommerce.com /resize/Shared/Images/Product/Slash-Supper/53170.jpg?bh=300\n",
            "https://posterswholesale.americommerce.com /resize/Shared/Images/Product/Clint-Eastwood-Fistful-of-Dollars/51303.jpg?bh=300\n",
            "https://posterswholesale.americommerce.com /resize/Shared/Images/Product/Dirty-Harry/52392b.jpg?bh=300\n",
            "https://posterswholesale.americommerce.com /resize/Shared/Images/Product/Commando/54066.jpg?bh=300\n",
            "https://posterswholesale.americommerce.com /resize/Shared/Images/Product/Creature-From-The-Black-Lagoon/52827.jpg?bh=300\n",
            "https://posterswholesale.americommerce.com /resize/Shared/Images/Product/Dazed-and-Confused/48552b.jpg?bh=300\n",
            "https://posterswholesale.americommerce.com /resize/shared/images/38371.jpg?bh=300\n",
            "https://posterswholesale.americommerce.com /resize/shared/images/49932.jpg?bh=300\n",
            "https://posterswholesale.americommerce.com /resize/Shared/Images/Product/Dracula/51199.jpg?bh=300\n",
            "https://posterswholesale.americommerce.com /resize/Shared/Images/Product/Dumb-and-Dumber/47088b.jpg?bh=300\n",
            "https://posterswholesale.americommerce.com /resize/Shared/Images/Product/E-T/28288.jpg?bh=300\n",
            "https://posterswholesale.americommerce.com /resize/Shared/Images/Product/E-T/53351.jpg?bh=300\n",
            "https://posterswholesale.americommerce.com /resize/Shared/Images/Product/Edward-Scissorhands/41427.jpg?bh=300\n",
            "https://posterswholesale.americommerce.com /resize/Shared/Images/Product/Eraserhead/54305.jpg?bh=300\n",
            "https://posterswholesale.americommerce.com /resize/Shared/Images/Product/Evil-Dead/42865.jpg?bh=300\n",
            "https://posterswholesale.americommerce.com https://posterswholesale.americommerce.com/visa-mc-amex-discover-paypal.gif\n"
          ]
        }
      ]
    }
  ]
}