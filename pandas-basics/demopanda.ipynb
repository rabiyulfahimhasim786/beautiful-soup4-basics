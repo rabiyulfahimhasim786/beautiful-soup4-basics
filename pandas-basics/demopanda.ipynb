{
  "nbformat": 4,
  "nbformat_minor": 0,
  "metadata": {
    "colab": {
      "name": "demopanda.ipynb",
      "provenance": [],
      "collapsed_sections": []
    },
    "kernelspec": {
      "name": "python3",
      "display_name": "Python 3"
    },
    "language_info": {
      "name": "python"
    }
  },
  "cells": [
    {
      "cell_type": "code",
      "execution_count": null,
      "metadata": {
        "colab": {
          "base_uri": "https://localhost:8080/"
        },
        "id": "MMjWLHsp0JqE",
        "outputId": "1571a6fc-04d0-47c4-b67a-79c62628d187"
      },
      "outputs": [
        {
          "output_type": "stream",
          "name": "stdout",
          "text": [
            "Requirement already satisfied: pandas in /usr/local/lib/python3.7/dist-packages (1.1.5)\n",
            "Requirement already satisfied: python-dateutil>=2.7.3 in /usr/local/lib/python3.7/dist-packages (from pandas) (2.8.2)\n",
            "Requirement already satisfied: pytz>=2017.2 in /usr/local/lib/python3.7/dist-packages (from pandas) (2018.9)\n",
            "Requirement already satisfied: numpy>=1.15.4 in /usr/local/lib/python3.7/dist-packages (from pandas) (1.19.5)\n",
            "Requirement already satisfied: six>=1.5 in /usr/local/lib/python3.7/dist-packages (from python-dateutil>=2.7.3->pandas) (1.15.0)\n"
          ]
        }
      ],
      "source": [
        "pip install pandas"
      ]
    },
    {
      "cell_type": "code",
      "source": [
        "#"
      ],
      "metadata": {
        "id": "AwNaH5BjkwaM"
      },
      "execution_count": null,
      "outputs": []
    },
    {
      "cell_type": "code",
      "source": [
        "##df.to_csv('data.csv') saving csv"
      ],
      "metadata": {
        "id": "UcDyIwoWkyf3"
      },
      "execution_count": null,
      "outputs": []
    },
    {
      "cell_type": "code",
      "source": [
        "pip install xlsxwriter"
      ],
      "metadata": {
        "colab": {
          "base_uri": "https://localhost:8080/"
        },
        "id": "9iFwEtQc2F0z",
        "outputId": "ba68ac2b-eaca-4692-ef63-43936ee1b2ce"
      },
      "execution_count": null,
      "outputs": [
        {
          "output_type": "stream",
          "name": "stdout",
          "text": [
            "Collecting xlsxwriter\n",
            "  Downloading XlsxWriter-3.0.2-py3-none-any.whl (149 kB)\n",
            "\u001b[?25l\r\u001b[K     |██▏                             | 10 kB 30.0 MB/s eta 0:00:01\r\u001b[K     |████▍                           | 20 kB 14.2 MB/s eta 0:00:01\r\u001b[K     |██████▋                         | 30 kB 9.9 MB/s eta 0:00:01\r\u001b[K     |████████▊                       | 40 kB 8.9 MB/s eta 0:00:01\r\u001b[K     |███████████                     | 51 kB 5.0 MB/s eta 0:00:01\r\u001b[K     |█████████████▏                  | 61 kB 5.1 MB/s eta 0:00:01\r\u001b[K     |███████████████▎                | 71 kB 5.4 MB/s eta 0:00:01\r\u001b[K     |█████████████████▌              | 81 kB 6.0 MB/s eta 0:00:01\r\u001b[K     |███████████████████▊            | 92 kB 6.1 MB/s eta 0:00:01\r\u001b[K     |█████████████████████▉          | 102 kB 5.1 MB/s eta 0:00:01\r\u001b[K     |████████████████████████        | 112 kB 5.1 MB/s eta 0:00:01\r\u001b[K     |██████████████████████████▎     | 122 kB 5.1 MB/s eta 0:00:01\r\u001b[K     |████████████████████████████▍   | 133 kB 5.1 MB/s eta 0:00:01\r\u001b[K     |██████████████████████████████▋ | 143 kB 5.1 MB/s eta 0:00:01\r\u001b[K     |████████████████████████████████| 149 kB 5.1 MB/s \n",
            "\u001b[?25hInstalling collected packages: xlsxwriter\n",
            "Successfully installed xlsxwriter-3.0.2\n"
          ]
        }
      ]
    },
    {
      "cell_type": "code",
      "source": [
        "pip install xlrd"
      ],
      "metadata": {
        "colab": {
          "base_uri": "https://localhost:8080/"
        },
        "id": "MNxE5GmP2IK8",
        "outputId": "55b11508-4b7a-4992-e114-9d5295106e7e"
      },
      "execution_count": null,
      "outputs": [
        {
          "output_type": "stream",
          "name": "stdout",
          "text": [
            "Requirement already satisfied: xlrd in /usr/local/lib/python3.7/dist-packages (1.1.0)\n"
          ]
        }
      ]
    },
    {
      "cell_type": "code",
      "source": [
        "pip install openpyxl"
      ],
      "metadata": {
        "colab": {
          "base_uri": "https://localhost:8080/"
        },
        "id": "YIhxE2ny2MhK",
        "outputId": "62632f00-6082-461e-fb2e-043a6b11cf9b"
      },
      "execution_count": null,
      "outputs": [
        {
          "output_type": "stream",
          "name": "stdout",
          "text": [
            "Requirement already satisfied: openpyxl in /usr/local/lib/python3.7/dist-packages (2.5.9)\n",
            "Requirement already satisfied: et-xmlfile in /usr/local/lib/python3.7/dist-packages (from openpyxl) (1.1.0)\n",
            "Requirement already satisfied: jdcal in /usr/local/lib/python3.7/dist-packages (from openpyxl) (1.4.1)\n"
          ]
        }
      ]
    },
    {
      "cell_type": "code",
      "source": [
        "import pandas as pd\n",
        "writer = pd.ExcelWriter('demo.xlsx', engine='xlsxwriter')\n",
        "writer.save()"
      ],
      "metadata": {
        "id": "d94_LLVm2PTy"
      },
      "execution_count": null,
      "outputs": []
    },
    {
      "cell_type": "code",
      "source": [
        "import pandas as pd\n",
        "\n",
        "# dataframe Name and Age columns\n",
        "df = pd.DataFrame({'Name': ['A', 'B', 'C', 'D'],\n",
        "                   'Age': [10, 0, 30, 50]})\n",
        "\n",
        "# Create a Pandas Excel writer using XlsxWriter as the engine.\n",
        "writer = pd.ExcelWriter('demo.xlsx', engine='xlsxwriter')\n",
        "\n",
        "# Convert the dataframe to an XlsxWriter Excel object.\n",
        "df.to_excel(writer, sheet_name='Sheet1', index=False)\n",
        "\n",
        "# Close the Pandas Excel writer and output the Excel file.\n",
        "writer.save()"
      ],
      "metadata": {
        "id": "b6y--ibk2SsL"
      },
      "execution_count": null,
      "outputs": []
    },
    {
      "cell_type": "code",
      "source": [
        "import pandas as pd\n",
        "writer = pd.ExcelWriter('test.xlsx', engine='xlsxwriter')\n",
        "writer.save()\n",
        "\n",
        "import pandas as pd\n",
        "\n",
        "# dataframe Name and Age columns\n",
        "df = pd.DataFrame({'Movie Title': ['A Star Is Born', 'Airplane', 'Alien', 'Aliens', 'Army of Darkness', 'Arnold Schwarzenegger', 'Assassin Of Youth', 'Avengers Endgame', 'Avengers Infinity Saga', 'Avengers Infinity War', 'Back To The Future', 'Back To The Future', 'Back To The Future', 'Batman Joker', 'Batman Joker', 'Beetlejuice', 'Beetlejuice', 'Beetlejuice', 'Big Lebowski', 'Big Trouble In Little China', 'Black Panther', 'Blade Runner', 'Blood In, Blood Out', 'Blow', 'Breakfast Club', 'Breakfast Club', 'Bride Of Frankenstein', 'Bride of Frankenstein', 'Bruce Lee', 'Bullitt', 'Caddyshack', 'Casablanca', \"Child's Play 2\", 'Church of Horror', 'Clint Eastwood', 'Clint Eastwood Dirty Harry', 'Commando', 'Creature From The Black Lagoon', 'Dazed and Confused', \"Devil's Harvest\", 'Dirty Dancing', 'Dracula', 'Dumb and Dumber', 'E.T.', 'E.T.', 'Edward Scissorhands', 'Eraserhead', 'Evil Dead'],\n",
        "                   #'Stock': ['Availability: In Stock', 'Availability: In Stock', 'Availability: In Stock', 'Availability: In Stock', 'Availability: In Stock', 'Availability: In Stock', 'Availability: Temporarily Out of Stock', 'Availability: Temporarily Out of Stock', 'Availability: In Stock', 'Availability: In Stock', 'Availability: In Stock', 'Availability: In Stock', 'Availability: In Stock', 'Availability: In Stock', 'Availability: In Stock', 'Availability: In Stock', 'Availability: Temporarily Out of Stock', 'Availability: Temporarily Out of Stock', 'Availability: In Stock', 'Availability: In Stock', 'Availability: Temporarily Out of Stock', 'Availability: Temporarily Out of Stock', 'Availability: Temporarily Out of Stock', 'Availability: Temporarily Out of Stock', 'Availability: Temporarily Out of Stock', 'Availability: Temporarily Out of Stock', 'Availability: In Stock', 'Availability: In Stock', 'Availability: In Stock', 'Availability: In Stock', 'Availability: Temporarily Out of Stock', 'Availability: Temporarily Out of Stock', 'Availability: Temporarily Out of Stock', 'Availability: Temporarily Out of Stock', 'Availability: Temporarily Out of Stock', 'Availability: Temporarily Out of Stock', 'Availability: In Stock', 'Availability: In Stock', 'Availability: In Stock', 'Availability: In Stock', 'Availability: In Stock', 'Availability: In Stock', 'Availability: In Stock', 'Availability: In Stock', 'Availability: In Stock', 'Availability: In Stock', 'Availability: In Stock', 'Availability: In Stock', 'Availability: Temporarily Out of Stock', 'Availability: Temporarily Out of Stock', 'Availability: Temporarily Out of Stock', 'Availability: Temporarily Out of Stock', 'Availability: In Stock', 'Availability: In Stock', 'Availability: In Stock', 'Availability: In Stock', 'Availability: Temporarily Out of Stock', 'Availability: Temporarily Out of Stock', 'Availability: Temporarily Out of Stock', 'Availability: Temporarily Out of Stock', 'Availability: In Stock', 'Availability: In Stock', 'Availability: In Stock', 'Availability: In Stock', 'Availability: Temporarily Out of Stock', 'Availability: Temporarily Out of Stock', 'Availability: In Stock', 'Availability: In Stock', 'Availability: In Stock', 'Availability: In Stock', 'Availability: Temporarily Out of Stock', 'Availability: Temporarily Out of Stock', 'Availability: In Stock', 'Availability: In Stock', 'Availability: Temporarily Out of Stock', 'Availability: Temporarily Out of Stock', 'Availability: In Stock', 'Availability: In Stock', 'Availability: In Stock', 'Availability: In Stock', 'Availability: In Stock', 'Availability: In Stock', 'Availability: In Stock', 'Availability: In Stock', 'Availability: In Stock', 'Availability: In Stock', 'Availability: In Stock', 'Availability: In Stock', 'Availability: In Stock', 'Availability: In Stock', 'Availability: In Stock', 'Availability: In Stock', 'Availability: In Stock', 'Availability: In Stock', 'Availability: In Stock', 'Availability: In Stock'],\n",
        "                   'Item Number': ['Item #: 53330 -', 'Item #: 53220 -', 'Item #: 51543 -', 'Item #: 53267 -', 'Item #: 44853 -', 'Item #: 51823 -', 'Item #: 52466 -', 'Item #: 53184c -', 'Item #: 54340 -', 'Item #: 52709 -', 'Item #: 53366b -', 'Item #: 53224 -', 'Item #: 48452 -', 'Item #: 51827 -', 'Item #: 51687 -', 'Item #: 52043 -', 'Item #: 53414 -', 'Item #: 54313 -', 'Item #: 47287 -', 'Item #: 53162 -', 'Item #: 52575 -', 'Item #: 52577 -', 'Item #: 52097b -', 'Item #: 44589 -', 'Item #: 44719 -', 'Item #: 53365 -', 'Item #: 51685 -', 'Item #: 53238b -', 'Item #: 53173 -', 'Item #: 53192b -', 'Item #: 50830 -', 'Item #: 50867b -', 'Item #: 53221 -', 'Item #: 53170b -', 'Item #: 51303 -', 'Item #: 52392 -', 'Item #: 54066 -', 'Item #: 52827 -', 'Item #: 48552 -', 'Item #: 38371 -', 'Item #: 49932b -', 'Item #: 51199b -', 'Item #: 47088 -', 'Item #: 28288 -', 'Item #: 53351 -', 'Item #: 41427 -', 'Item #: 54305 -', 'Item #: 42865b -'],\n",
        "                   'Retail Price': ['$7.99', '$8.99', '$8.99', '$8.99', '$8.99', '$8.99', '$8.99', '$8.99', '$8.99', '$8.99', '$8.99', '$8.99', '$8.99', '$8.99', '$8.99', '$8.99', '$8.99', '$8.99', '$8.99', '$8.99', '$8.99', '$8.99', '$8.99', '$8.99', '$8.99', '$8.99', '$8.99', '$8.99', '$8.99', '$8.99', '$8.99', '$8.99', '$8.99', '$8.99', '$7.99', '$8.99', '$8.99', '$8.99', '$8.99', '$8.99', '$8.99', '$8.99', '$8.99', '$9.99', '$8.99', '$8.99', '$8.99', '$8.99']})\n",
        "\n",
        "# Create a Pandas Excel writer using XlsxWriter as the engine.\n",
        "writer = pd.ExcelWriter('demo.xlsx', engine='xlsxwriter')\n",
        "\n",
        "# Convert the dataframe to an XlsxWriter Excel object.\n",
        "df.to_excel(writer, sheet_name='Sheet1', index=False)\n",
        "\n",
        "# Close the Pandas Excel writer and output the Excel file.\n",
        "writer.save()"
      ],
      "metadata": {
        "id": "CUYYIhCKAdeX"
      },
      "execution_count": null,
      "outputs": []
    },
    {
      "cell_type": "code",
      "source": [
        "import pandas as pd\n",
        "\n",
        "# dataframe Name and Age columns\n",
        "df = pd.DataFrame({'Job Title': ['Active Directory Jr. Engineer', 'Junior Software Engineer', 'Junior Software Engineer', 'Junior Software Engineer', 'Junior Software Engineer', 'Jr Software Developer', 'Junior Software Development Engineer-IND', 'Software Engineer - Python (Jr level)'],\n",
        "                   'Company Name': ['Teamware Solutions a division of Quantum Leap Consulting Pvt. Ltd', 'Mangtas', 'TAIGER', 'Canvas Craft Media', 'Mako IT Lab', 'Siemens Technology India', 'Ingram Micro', 'NielsenIQ'],\n",
        "                    'Location': ['Hyderabad, Telangana, India Remote', 'India Remote', 'Bengaluru, Karnataka, India Remote', 'Sahibzada Ajit Singh Nagar, Punjab, India Remote', 'Chennai, Tamil Nadu, India On-site', 'Chennai, Tamil Nadu, India On-site', 'Chennai, Tamil Nadu, India', 'Chennai, Tamil Nadu, India']})\n",
        "\n",
        "# Create a Pandas Excel writer using XlsxWriter as the engine.\n",
        "writer = pd.ExcelWriter('demo.xlsx', engine='xlsxwriter')\n",
        "\n",
        "# Convert the dataframe to an XlsxWriter Excel object.\n",
        "df.to_excel(writer, sheet_name='Sheet1', index=False)\n",
        "\n",
        "# Close the Pandas Excel writer and output the Excel file.\n",
        "writer.save()"
      ],
      "metadata": {
        "id": "yflaaKr44Czq"
      },
      "execution_count": null,
      "outputs": []
    },
    {
      "cell_type": "code",
      "source": [
        "import pandas as pd\n",
        "df = pd.DataFrame({\"col\": [1, 2, 3, 137.46]})\n",
        "\n",
        "print(df)\n",
        "#df.to_csv('data.csv')"
      ],
      "metadata": {
        "colab": {
          "base_uri": "https://localhost:8080/"
        },
        "id": "KYK4m5s_kz2_",
        "outputId": "1c0bfec6-d17c-4e4f-d6ff-4bcf7cbf1b4e"
      },
      "execution_count": null,
      "outputs": [
        {
          "output_type": "stream",
          "name": "stdout",
          "text": [
            "      col\n",
            "0    1.00\n",
            "1    2.00\n",
            "2    3.00\n",
            "3  137.46\n"
          ]
        }
      ]
    },
    {
      "cell_type": "code",
      "source": [
        "df[\"col\"] = 2 * df[\"col\"]\n",
        "\n",
        "print(df)\n",
        "#df.to_csv('data.csv')"
      ],
      "metadata": {
        "colab": {
          "base_uri": "https://localhost:8080/"
        },
        "id": "Ib73KBBdnfbu",
        "outputId": "6e02089b-9c5b-4a59-a392-723336cff134"
      },
      "execution_count": null,
      "outputs": [
        {
          "output_type": "stream",
          "name": "stdout",
          "text": [
            "      col\n",
            "0    2.00\n",
            "1    4.00\n",
            "2    6.00\n",
            "3  274.92\n"
          ]
        }
      ]
    },
    {
      "cell_type": "code",
      "source": [
        "import pandas as pd\n",
        "df = pd.DataFrame({\"col\": [1, 2, 3, 137.46]})\n",
        "\n",
        "print(df)\n",
        "#df.to_csv('data.csv')"
      ],
      "metadata": {
        "colab": {
          "base_uri": "https://localhost:8080/"
        },
        "id": "Mz6b1WBWVmBG",
        "outputId": "496c5adf-5c77-44be-d8e2-92986779a05a"
      },
      "execution_count": null,
      "outputs": [
        {
          "output_type": "stream",
          "name": "stdout",
          "text": [
            "      col\n",
            "0    1.00\n",
            "1    2.00\n",
            "2    3.00\n",
            "3  137.46\n"
          ]
        }
      ]
    },
    {
      "cell_type": "code",
      "source": [
        "# multiplication with data frame\n",
        "\n",
        "df[\"col\"] = round(1000000 * df[\"col\"])\n",
        "\n",
        "print(df)\n",
        "#df.to_csv('data.csv')"
      ],
      "metadata": {
        "colab": {
          "base_uri": "https://localhost:8080/"
        },
        "id": "mEAltIfgk52J",
        "outputId": "89bbe091-ee69-4ab5-80d5-64632e9387a0"
      },
      "execution_count": null,
      "outputs": [
        {
          "output_type": "stream",
          "name": "stdout",
          "text": [
            "            col\n",
            "0  1.000000e+18\n",
            "1  2.000000e+18\n",
            "2  3.000000e+18\n",
            "3  1.374600e+20\n"
          ]
        }
      ]
    },
    {
      "cell_type": "code",
      "source": [
        "# multiplication with data frame\n",
        "df[\"col\"] = 2 * df[\"col\"]\n",
        "\n",
        "print(df)\n",
        "#df.to_csv('data.csv')"
      ],
      "metadata": {
        "id": "OMx9CIc7neMj",
        "colab": {
          "base_uri": "https://localhost:8080/"
        },
        "outputId": "09f57478-af4a-46fc-a229-29f77c4f9b2e"
      },
      "execution_count": null,
      "outputs": [
        {
          "output_type": "stream",
          "name": "stdout",
          "text": [
            "           col\n",
            "0    2000000.0\n",
            "1    4000000.0\n",
            "2    6000000.0\n",
            "3  274920000.0\n"
          ]
        }
      ]
    },
    {
      "cell_type": "code",
      "source": [
        ""
      ],
      "metadata": {
        "id": "QlJGdXlwnr7P"
      },
      "execution_count": null,
      "outputs": []
    },
    {
      "cell_type": "code",
      "source": [
        "# addig nan in data frame while facing value error\n",
        "import pandas as pd\n",
        "import numpy as np\n",
        "d = {'col1': [1, 2,np.nan,4], 'col2': ['a',np.nan,'d', 'f'], 'col3':[np.nan,'x',np.nan,'v'],'col4':['q','w','e',np.nan]}\n",
        "\n",
        "df = pd.DataFrame(data=d)\n",
        "display(df)"
      ],
      "metadata": {
        "colab": {
          "base_uri": "https://localhost:8080/",
          "height": 175
        },
        "id": "AMEw0RWhTcL1",
        "outputId": "bac3459f-0f9f-4124-81f3-ea2f14c689a3"
      },
      "execution_count": null,
      "outputs": [
        {
          "output_type": "display_data",
          "data": {
            "text/plain": [
              "   col1 col2 col3 col4\n",
              "0   1.0    a  NaN    q\n",
              "1   2.0  NaN    x    w\n",
              "2   NaN    d  NaN    e\n",
              "3   4.0    f    v  NaN"
            ],
            "text/html": [
              "\n",
              "  <div id=\"df-f632e7e7-62c9-45bf-88bd-4ede4801dc58\">\n",
              "    <div class=\"colab-df-container\">\n",
              "      <div>\n",
              "<style scoped>\n",
              "    .dataframe tbody tr th:only-of-type {\n",
              "        vertical-align: middle;\n",
              "    }\n",
              "\n",
              "    .dataframe tbody tr th {\n",
              "        vertical-align: top;\n",
              "    }\n",
              "\n",
              "    .dataframe thead th {\n",
              "        text-align: right;\n",
              "    }\n",
              "</style>\n",
              "<table border=\"1\" class=\"dataframe\">\n",
              "  <thead>\n",
              "    <tr style=\"text-align: right;\">\n",
              "      <th></th>\n",
              "      <th>col1</th>\n",
              "      <th>col2</th>\n",
              "      <th>col3</th>\n",
              "      <th>col4</th>\n",
              "    </tr>\n",
              "  </thead>\n",
              "  <tbody>\n",
              "    <tr>\n",
              "      <th>0</th>\n",
              "      <td>1.0</td>\n",
              "      <td>a</td>\n",
              "      <td>NaN</td>\n",
              "      <td>q</td>\n",
              "    </tr>\n",
              "    <tr>\n",
              "      <th>1</th>\n",
              "      <td>2.0</td>\n",
              "      <td>NaN</td>\n",
              "      <td>x</td>\n",
              "      <td>w</td>\n",
              "    </tr>\n",
              "    <tr>\n",
              "      <th>2</th>\n",
              "      <td>NaN</td>\n",
              "      <td>d</td>\n",
              "      <td>NaN</td>\n",
              "      <td>e</td>\n",
              "    </tr>\n",
              "    <tr>\n",
              "      <th>3</th>\n",
              "      <td>4.0</td>\n",
              "      <td>f</td>\n",
              "      <td>v</td>\n",
              "      <td>NaN</td>\n",
              "    </tr>\n",
              "  </tbody>\n",
              "</table>\n",
              "</div>\n",
              "      <button class=\"colab-df-convert\" onclick=\"convertToInteractive('df-f632e7e7-62c9-45bf-88bd-4ede4801dc58')\"\n",
              "              title=\"Convert this dataframe to an interactive table.\"\n",
              "              style=\"display:none;\">\n",
              "        \n",
              "  <svg xmlns=\"http://www.w3.org/2000/svg\" height=\"24px\"viewBox=\"0 0 24 24\"\n",
              "       width=\"24px\">\n",
              "    <path d=\"M0 0h24v24H0V0z\" fill=\"none\"/>\n",
              "    <path d=\"M18.56 5.44l.94 2.06.94-2.06 2.06-.94-2.06-.94-.94-2.06-.94 2.06-2.06.94zm-11 1L8.5 8.5l.94-2.06 2.06-.94-2.06-.94L8.5 2.5l-.94 2.06-2.06.94zm10 10l.94 2.06.94-2.06 2.06-.94-2.06-.94-.94-2.06-.94 2.06-2.06.94z\"/><path d=\"M17.41 7.96l-1.37-1.37c-.4-.4-.92-.59-1.43-.59-.52 0-1.04.2-1.43.59L10.3 9.45l-7.72 7.72c-.78.78-.78 2.05 0 2.83L4 21.41c.39.39.9.59 1.41.59.51 0 1.02-.2 1.41-.59l7.78-7.78 2.81-2.81c.8-.78.8-2.07 0-2.86zM5.41 20L4 18.59l7.72-7.72 1.47 1.35L5.41 20z\"/>\n",
              "  </svg>\n",
              "      </button>\n",
              "      \n",
              "  <style>\n",
              "    .colab-df-container {\n",
              "      display:flex;\n",
              "      flex-wrap:wrap;\n",
              "      gap: 12px;\n",
              "    }\n",
              "\n",
              "    .colab-df-convert {\n",
              "      background-color: #E8F0FE;\n",
              "      border: none;\n",
              "      border-radius: 50%;\n",
              "      cursor: pointer;\n",
              "      display: none;\n",
              "      fill: #1967D2;\n",
              "      height: 32px;\n",
              "      padding: 0 0 0 0;\n",
              "      width: 32px;\n",
              "    }\n",
              "\n",
              "    .colab-df-convert:hover {\n",
              "      background-color: #E2EBFA;\n",
              "      box-shadow: 0px 1px 2px rgba(60, 64, 67, 0.3), 0px 1px 3px 1px rgba(60, 64, 67, 0.15);\n",
              "      fill: #174EA6;\n",
              "    }\n",
              "\n",
              "    [theme=dark] .colab-df-convert {\n",
              "      background-color: #3B4455;\n",
              "      fill: #D2E3FC;\n",
              "    }\n",
              "\n",
              "    [theme=dark] .colab-df-convert:hover {\n",
              "      background-color: #434B5C;\n",
              "      box-shadow: 0px 1px 3px 1px rgba(0, 0, 0, 0.15);\n",
              "      filter: drop-shadow(0px 1px 2px rgba(0, 0, 0, 0.3));\n",
              "      fill: #FFFFFF;\n",
              "    }\n",
              "  </style>\n",
              "\n",
              "      <script>\n",
              "        const buttonEl =\n",
              "          document.querySelector('#df-f632e7e7-62c9-45bf-88bd-4ede4801dc58 button.colab-df-convert');\n",
              "        buttonEl.style.display =\n",
              "          google.colab.kernel.accessAllowed ? 'block' : 'none';\n",
              "\n",
              "        async function convertToInteractive(key) {\n",
              "          const element = document.querySelector('#df-f632e7e7-62c9-45bf-88bd-4ede4801dc58');\n",
              "          const dataTable =\n",
              "            await google.colab.kernel.invokeFunction('convertToInteractive',\n",
              "                                                     [key], {});\n",
              "          if (!dataTable) return;\n",
              "\n",
              "          const docLinkHtml = 'Like what you see? Visit the ' +\n",
              "            '<a target=\"_blank\" href=https://colab.research.google.com/notebooks/data_table.ipynb>data table notebook</a>'\n",
              "            + ' to learn more about interactive tables.';\n",
              "          element.innerHTML = '';\n",
              "          dataTable['output_type'] = 'display_data';\n",
              "          await google.colab.output.renderOutput(dataTable, element);\n",
              "          const docLink = document.createElement('div');\n",
              "          docLink.innerHTML = docLinkHtml;\n",
              "          element.appendChild(docLink);\n",
              "        }\n",
              "      </script>\n",
              "    </div>\n",
              "  </div>\n",
              "  "
            ]
          },
          "metadata": {}
        }
      ]
    },
    {
      "cell_type": "code",
      "source": [
        "d2 = {'col1': [1, 2,'d',4], 'col2': ['a','x','e', 'f'], 'col3':['q','w',np.nan,'v']}\n",
        "\n",
        "df2 = pd.DataFrame(data=d2)\n",
        "display(df2)"
      ],
      "metadata": {
        "colab": {
          "base_uri": "https://localhost:8080/",
          "height": 175
        },
        "id": "ODCo0xgGTneh",
        "outputId": "d8ccfc27-8a5b-4842-d51f-c98bb685a028"
      },
      "execution_count": null,
      "outputs": [
        {
          "output_type": "display_data",
          "data": {
            "text/plain": [
              "  col1 col2 col3\n",
              "0    1    a    q\n",
              "1    2    x    w\n",
              "2    d    e  NaN\n",
              "3    4    f    v"
            ],
            "text/html": [
              "\n",
              "  <div id=\"df-30714393-c60b-49b3-ad82-65fdb345c2aa\">\n",
              "    <div class=\"colab-df-container\">\n",
              "      <div>\n",
              "<style scoped>\n",
              "    .dataframe tbody tr th:only-of-type {\n",
              "        vertical-align: middle;\n",
              "    }\n",
              "\n",
              "    .dataframe tbody tr th {\n",
              "        vertical-align: top;\n",
              "    }\n",
              "\n",
              "    .dataframe thead th {\n",
              "        text-align: right;\n",
              "    }\n",
              "</style>\n",
              "<table border=\"1\" class=\"dataframe\">\n",
              "  <thead>\n",
              "    <tr style=\"text-align: right;\">\n",
              "      <th></th>\n",
              "      <th>col1</th>\n",
              "      <th>col2</th>\n",
              "      <th>col3</th>\n",
              "    </tr>\n",
              "  </thead>\n",
              "  <tbody>\n",
              "    <tr>\n",
              "      <th>0</th>\n",
              "      <td>1</td>\n",
              "      <td>a</td>\n",
              "      <td>q</td>\n",
              "    </tr>\n",
              "    <tr>\n",
              "      <th>1</th>\n",
              "      <td>2</td>\n",
              "      <td>x</td>\n",
              "      <td>w</td>\n",
              "    </tr>\n",
              "    <tr>\n",
              "      <th>2</th>\n",
              "      <td>d</td>\n",
              "      <td>e</td>\n",
              "      <td>NaN</td>\n",
              "    </tr>\n",
              "    <tr>\n",
              "      <th>3</th>\n",
              "      <td>4</td>\n",
              "      <td>f</td>\n",
              "      <td>v</td>\n",
              "    </tr>\n",
              "  </tbody>\n",
              "</table>\n",
              "</div>\n",
              "      <button class=\"colab-df-convert\" onclick=\"convertToInteractive('df-30714393-c60b-49b3-ad82-65fdb345c2aa')\"\n",
              "              title=\"Convert this dataframe to an interactive table.\"\n",
              "              style=\"display:none;\">\n",
              "        \n",
              "  <svg xmlns=\"http://www.w3.org/2000/svg\" height=\"24px\"viewBox=\"0 0 24 24\"\n",
              "       width=\"24px\">\n",
              "    <path d=\"M0 0h24v24H0V0z\" fill=\"none\"/>\n",
              "    <path d=\"M18.56 5.44l.94 2.06.94-2.06 2.06-.94-2.06-.94-.94-2.06-.94 2.06-2.06.94zm-11 1L8.5 8.5l.94-2.06 2.06-.94-2.06-.94L8.5 2.5l-.94 2.06-2.06.94zm10 10l.94 2.06.94-2.06 2.06-.94-2.06-.94-.94-2.06-.94 2.06-2.06.94z\"/><path d=\"M17.41 7.96l-1.37-1.37c-.4-.4-.92-.59-1.43-.59-.52 0-1.04.2-1.43.59L10.3 9.45l-7.72 7.72c-.78.78-.78 2.05 0 2.83L4 21.41c.39.39.9.59 1.41.59.51 0 1.02-.2 1.41-.59l7.78-7.78 2.81-2.81c.8-.78.8-2.07 0-2.86zM5.41 20L4 18.59l7.72-7.72 1.47 1.35L5.41 20z\"/>\n",
              "  </svg>\n",
              "      </button>\n",
              "      \n",
              "  <style>\n",
              "    .colab-df-container {\n",
              "      display:flex;\n",
              "      flex-wrap:wrap;\n",
              "      gap: 12px;\n",
              "    }\n",
              "\n",
              "    .colab-df-convert {\n",
              "      background-color: #E8F0FE;\n",
              "      border: none;\n",
              "      border-radius: 50%;\n",
              "      cursor: pointer;\n",
              "      display: none;\n",
              "      fill: #1967D2;\n",
              "      height: 32px;\n",
              "      padding: 0 0 0 0;\n",
              "      width: 32px;\n",
              "    }\n",
              "\n",
              "    .colab-df-convert:hover {\n",
              "      background-color: #E2EBFA;\n",
              "      box-shadow: 0px 1px 2px rgba(60, 64, 67, 0.3), 0px 1px 3px 1px rgba(60, 64, 67, 0.15);\n",
              "      fill: #174EA6;\n",
              "    }\n",
              "\n",
              "    [theme=dark] .colab-df-convert {\n",
              "      background-color: #3B4455;\n",
              "      fill: #D2E3FC;\n",
              "    }\n",
              "\n",
              "    [theme=dark] .colab-df-convert:hover {\n",
              "      background-color: #434B5C;\n",
              "      box-shadow: 0px 1px 3px 1px rgba(0, 0, 0, 0.15);\n",
              "      filter: drop-shadow(0px 1px 2px rgba(0, 0, 0, 0.3));\n",
              "      fill: #FFFFFF;\n",
              "    }\n",
              "  </style>\n",
              "\n",
              "      <script>\n",
              "        const buttonEl =\n",
              "          document.querySelector('#df-30714393-c60b-49b3-ad82-65fdb345c2aa button.colab-df-convert');\n",
              "        buttonEl.style.display =\n",
              "          google.colab.kernel.accessAllowed ? 'block' : 'none';\n",
              "\n",
              "        async function convertToInteractive(key) {\n",
              "          const element = document.querySelector('#df-30714393-c60b-49b3-ad82-65fdb345c2aa');\n",
              "          const dataTable =\n",
              "            await google.colab.kernel.invokeFunction('convertToInteractive',\n",
              "                                                     [key], {});\n",
              "          if (!dataTable) return;\n",
              "\n",
              "          const docLinkHtml = 'Like what you see? Visit the ' +\n",
              "            '<a target=\"_blank\" href=https://colab.research.google.com/notebooks/data_table.ipynb>data table notebook</a>'\n",
              "            + ' to learn more about interactive tables.';\n",
              "          element.innerHTML = '';\n",
              "          dataTable['output_type'] = 'display_data';\n",
              "          await google.colab.output.renderOutput(dataTable, element);\n",
              "          const docLink = document.createElement('div');\n",
              "          docLink.innerHTML = docLinkHtml;\n",
              "          element.appendChild(docLink);\n",
              "        }\n",
              "      </script>\n",
              "    </div>\n",
              "  </div>\n",
              "  "
            ]
          },
          "metadata": {}
        }
      ]
    },
    {
      "cell_type": "code",
      "source": [
        "df = pd.DataFrame({\"A\":[\"aa\",\"ba\",\"ca\"]})\n",
        "df\n"
      ],
      "metadata": {
        "colab": {
          "base_uri": "https://localhost:8080/",
          "height": 143
        },
        "id": "DqIG-zhQWboY",
        "outputId": "ce0b4278-a710-479d-cc49-dead563266d0"
      },
      "execution_count": null,
      "outputs": [
        {
          "output_type": "execute_result",
          "data": {
            "text/plain": [
              "    A\n",
              "0  aa\n",
              "1  ba\n",
              "2  ca"
            ],
            "text/html": [
              "\n",
              "  <div id=\"df-e39e506a-d348-4906-94d5-2f4a8d23cb3c\">\n",
              "    <div class=\"colab-df-container\">\n",
              "      <div>\n",
              "<style scoped>\n",
              "    .dataframe tbody tr th:only-of-type {\n",
              "        vertical-align: middle;\n",
              "    }\n",
              "\n",
              "    .dataframe tbody tr th {\n",
              "        vertical-align: top;\n",
              "    }\n",
              "\n",
              "    .dataframe thead th {\n",
              "        text-align: right;\n",
              "    }\n",
              "</style>\n",
              "<table border=\"1\" class=\"dataframe\">\n",
              "  <thead>\n",
              "    <tr style=\"text-align: right;\">\n",
              "      <th></th>\n",
              "      <th>A</th>\n",
              "    </tr>\n",
              "  </thead>\n",
              "  <tbody>\n",
              "    <tr>\n",
              "      <th>0</th>\n",
              "      <td>aa</td>\n",
              "    </tr>\n",
              "    <tr>\n",
              "      <th>1</th>\n",
              "      <td>ba</td>\n",
              "    </tr>\n",
              "    <tr>\n",
              "      <th>2</th>\n",
              "      <td>ca</td>\n",
              "    </tr>\n",
              "  </tbody>\n",
              "</table>\n",
              "</div>\n",
              "      <button class=\"colab-df-convert\" onclick=\"convertToInteractive('df-e39e506a-d348-4906-94d5-2f4a8d23cb3c')\"\n",
              "              title=\"Convert this dataframe to an interactive table.\"\n",
              "              style=\"display:none;\">\n",
              "        \n",
              "  <svg xmlns=\"http://www.w3.org/2000/svg\" height=\"24px\"viewBox=\"0 0 24 24\"\n",
              "       width=\"24px\">\n",
              "    <path d=\"M0 0h24v24H0V0z\" fill=\"none\"/>\n",
              "    <path d=\"M18.56 5.44l.94 2.06.94-2.06 2.06-.94-2.06-.94-.94-2.06-.94 2.06-2.06.94zm-11 1L8.5 8.5l.94-2.06 2.06-.94-2.06-.94L8.5 2.5l-.94 2.06-2.06.94zm10 10l.94 2.06.94-2.06 2.06-.94-2.06-.94-.94-2.06-.94 2.06-2.06.94z\"/><path d=\"M17.41 7.96l-1.37-1.37c-.4-.4-.92-.59-1.43-.59-.52 0-1.04.2-1.43.59L10.3 9.45l-7.72 7.72c-.78.78-.78 2.05 0 2.83L4 21.41c.39.39.9.59 1.41.59.51 0 1.02-.2 1.41-.59l7.78-7.78 2.81-2.81c.8-.78.8-2.07 0-2.86zM5.41 20L4 18.59l7.72-7.72 1.47 1.35L5.41 20z\"/>\n",
              "  </svg>\n",
              "      </button>\n",
              "      \n",
              "  <style>\n",
              "    .colab-df-container {\n",
              "      display:flex;\n",
              "      flex-wrap:wrap;\n",
              "      gap: 12px;\n",
              "    }\n",
              "\n",
              "    .colab-df-convert {\n",
              "      background-color: #E8F0FE;\n",
              "      border: none;\n",
              "      border-radius: 50%;\n",
              "      cursor: pointer;\n",
              "      display: none;\n",
              "      fill: #1967D2;\n",
              "      height: 32px;\n",
              "      padding: 0 0 0 0;\n",
              "      width: 32px;\n",
              "    }\n",
              "\n",
              "    .colab-df-convert:hover {\n",
              "      background-color: #E2EBFA;\n",
              "      box-shadow: 0px 1px 2px rgba(60, 64, 67, 0.3), 0px 1px 3px 1px rgba(60, 64, 67, 0.15);\n",
              "      fill: #174EA6;\n",
              "    }\n",
              "\n",
              "    [theme=dark] .colab-df-convert {\n",
              "      background-color: #3B4455;\n",
              "      fill: #D2E3FC;\n",
              "    }\n",
              "\n",
              "    [theme=dark] .colab-df-convert:hover {\n",
              "      background-color: #434B5C;\n",
              "      box-shadow: 0px 1px 3px 1px rgba(0, 0, 0, 0.15);\n",
              "      filter: drop-shadow(0px 1px 2px rgba(0, 0, 0, 0.3));\n",
              "      fill: #FFFFFF;\n",
              "    }\n",
              "  </style>\n",
              "\n",
              "      <script>\n",
              "        const buttonEl =\n",
              "          document.querySelector('#df-e39e506a-d348-4906-94d5-2f4a8d23cb3c button.colab-df-convert');\n",
              "        buttonEl.style.display =\n",
              "          google.colab.kernel.accessAllowed ? 'block' : 'none';\n",
              "\n",
              "        async function convertToInteractive(key) {\n",
              "          const element = document.querySelector('#df-e39e506a-d348-4906-94d5-2f4a8d23cb3c');\n",
              "          const dataTable =\n",
              "            await google.colab.kernel.invokeFunction('convertToInteractive',\n",
              "                                                     [key], {});\n",
              "          if (!dataTable) return;\n",
              "\n",
              "          const docLinkHtml = 'Like what you see? Visit the ' +\n",
              "            '<a target=\"_blank\" href=https://colab.research.google.com/notebooks/data_table.ipynb>data table notebook</a>'\n",
              "            + ' to learn more about interactive tables.';\n",
              "          element.innerHTML = '';\n",
              "          dataTable['output_type'] = 'display_data';\n",
              "          await google.colab.output.renderOutput(dataTable, element);\n",
              "          const docLink = document.createElement('div');\n",
              "          docLink.innerHTML = docLinkHtml;\n",
              "          element.appendChild(docLink);\n",
              "        }\n",
              "      </script>\n",
              "    </div>\n",
              "  </div>\n",
              "  "
            ]
          },
          "metadata": {},
          "execution_count": 16
        }
      ]
    },
    {
      "cell_type": "code",
      "source": [
        "df[\"A\"].str[:-1]"
      ],
      "metadata": {
        "colab": {
          "base_uri": "https://localhost:8080/"
        },
        "id": "qlsH-5gMWt-k",
        "outputId": "75450ec1-8d90-49ec-a180-c7e39554e76e"
      },
      "execution_count": null,
      "outputs": [
        {
          "output_type": "execute_result",
          "data": {
            "text/plain": [
              "0    a\n",
              "1    b\n",
              "2    c\n",
              "Name: A, dtype: object"
            ]
          },
          "metadata": {},
          "execution_count": 17
        }
      ]
    },
    {
      "cell_type": "code",
      "source": [
        "df = pd.DataFrame({\"A\":[\"a\",\"ab\",\"abc\"]})\n",
        "df"
      ],
      "metadata": {
        "id": "RplNvI1YWqvX"
      },
      "execution_count": null,
      "outputs": []
    },
    {
      "cell_type": "code",
      "source": [
        "df[\"A\"].str[:-1]"
      ],
      "metadata": {
        "colab": {
          "base_uri": "https://localhost:8080/"
        },
        "id": "byjJJhxTWieA",
        "outputId": "b397efb7-692a-4ed8-f7bf-16ee075f0e58"
      },
      "execution_count": null,
      "outputs": [
        {
          "output_type": "execute_result",
          "data": {
            "text/plain": [
              "0      \n",
              "1     a\n",
              "2    ab\n",
              "Name: A, dtype: object"
            ]
          },
          "metadata": {},
          "execution_count": 19
        }
      ]
    },
    {
      "cell_type": "code",
      "source": [
        "import pandas as pd\n",
        "df = pd.DataFrame({\"A\": ['100M', '200M', '300M', '137.46M']})\n",
        "\n",
        "print(df)"
      ],
      "metadata": {
        "colab": {
          "base_uri": "https://localhost:8080/"
        },
        "id": "6A4LDkL_XKlx",
        "outputId": "122a925c-9b23-4619-dab2-592ba8ef267f"
      },
      "execution_count": null,
      "outputs": [
        {
          "output_type": "stream",
          "name": "stdout",
          "text": [
            "         A\n",
            "0     100M\n",
            "1     200M\n",
            "2     300M\n",
            "3  137.46M\n"
          ]
        }
      ]
    },
    {
      "cell_type": "code",
      "source": [
        "import pandas as pd\n",
        "a = ['100M', '200M', '300M', '137.46M']\n",
        "b = ['10M', '20M', '30M', '40M']\n",
        "df = pd.DataFrame({\"A\": a, \"b\": b})\n",
        "data = df[\"A\"].str[:-1]\n",
        "df = pd.DataFrame({\"A\": data, \"b\": b})\n",
        "print(df)"
      ],
      "metadata": {
        "colab": {
          "base_uri": "https://localhost:8080/"
        },
        "id": "S33q35D3np81",
        "outputId": "fc8ccd06-f79a-4398-9ee5-0357c37a2953"
      },
      "execution_count": null,
      "outputs": [
        {
          "output_type": "stream",
          "name": "stdout",
          "text": [
            "        A    b\n",
            "0     100  10M\n",
            "1     200  20M\n",
            "2     300  30M\n",
            "3  137.46  40M\n"
          ]
        }
      ]
    },
    {
      "cell_type": "code",
      "source": [
        "data = df[\"A\"].str[:-1]\n",
        "data"
      ],
      "metadata": {
        "colab": {
          "base_uri": "https://localhost:8080/"
        },
        "id": "U1wVXXBnYI_W",
        "outputId": "d884b606-f2f4-4200-e711-70f76eeb4071"
      },
      "execution_count": null,
      "outputs": [
        {
          "output_type": "execute_result",
          "data": {
            "text/plain": [
              "0       100\n",
              "1       200\n",
              "2       300\n",
              "3    137.46\n",
              "Name: A, dtype: object"
            ]
          },
          "metadata": {},
          "execution_count": 3
        }
      ]
    },
    {
      "cell_type": "code",
      "source": [
        "# multiplication with data frame\n",
        "\n",
        "d = 1000000 * data\n",
        "\n",
        "print(d)"
      ],
      "metadata": {
        "colab": {
          "base_uri": "https://localhost:8080/"
        },
        "id": "uYH-Qa4kXqYv",
        "outputId": "aa9120e2-b874-4ea5-f16c-048a2a49e53a"
      },
      "execution_count": null,
      "outputs": [
        {
          "output_type": "stream",
          "name": "stdout",
          "text": [
            "0    1001001001001001001001001001001001001001001001...\n",
            "1    2002002002002002002002002002002002002002002002...\n",
            "2    3003003003003003003003003003003003003003003003...\n",
            "3    137.46137.46137.46137.46137.46137.46137.46137....\n",
            "Name: A, dtype: object\n"
          ]
        }
      ]
    },
    {
      "cell_type": "code",
      "source": [
        "df[\"A\"].str[:-1]"
      ],
      "metadata": {
        "colab": {
          "base_uri": "https://localhost:8080/"
        },
        "id": "yFKyQJO3XVZ3",
        "outputId": "9c040c4f-425c-4457-b632-4a0fc43b9a6b"
      },
      "execution_count": null,
      "outputs": [
        {
          "output_type": "execute_result",
          "data": {
            "text/plain": [
              "0       100\n",
              "1       200\n",
              "2       300\n",
              "3    137.46\n",
              "Name: A, dtype: object"
            ]
          },
          "metadata": {},
          "execution_count": 13
        }
      ]
    },
    {
      "cell_type": "code",
      "source": [
        "string = \"geeks for geeks geeks geeks geeks\"\n",
        " \n",
        "# Prints the string by replacing\n",
        "# e by a\n",
        "print(string.replace(\"geeks\", \"Geeks\"))"
      ],
      "metadata": {
        "colab": {
          "base_uri": "https://localhost:8080/"
        },
        "id": "HBEQdTgTxeFg",
        "outputId": "1bceb518-b831-4bbe-dda9-dbc34026b8e8"
      },
      "execution_count": null,
      "outputs": [
        {
          "output_type": "stream",
          "name": "stdout",
          "text": [
            "Geeks for Geeks Geeks Geeks Geeks\n"
          ]
        }
      ]
    },
    {
      "cell_type": "code",
      "source": [
        "string = \"100M\"\n",
        " \n",
        "# Prints the string by replacing\n",
        "# e by a\n",
        "print(string.replace(\"M\", \"\"))"
      ],
      "metadata": {
        "colab": {
          "base_uri": "https://localhost:8080/"
        },
        "id": "xByqARwoy8KG",
        "outputId": "7c65e969-6d88-4ddd-fe3b-357c15d03d03"
      },
      "execution_count": null,
      "outputs": [
        {
          "output_type": "stream",
          "name": "stdout",
          "text": [
            "100\n"
          ]
        }
      ]
    },
    {
      "cell_type": "code",
      "source": [
        "#basics - https://stackoverflow.com/questions/28986489/how-to-replace-text-in-a-string-column-of-a-pandas-dataframe\n",
        "# accurate reference - https://stackoverflow.com/questions/24197305/error-when-trying-to-convert-a-column-with-string-in-python-pandas-to-float\n",
        "  # m replacing- using string replacement .str.replace('M','',inplace=True)\n",
        "import pandas as pd\n",
        "a = ['100.1M', '200.6M', '300.2M', '137.6M']\n",
        "b = ['10M', '20M', '30M', '40M']\n",
        "df = pd.DataFrame({\"A\": a, \"b\": b})\n",
        "#data = df[\"A\"].str.replace('M','',inplace=True)\n",
        "data = df[\"A\"].replace('[M]', '', regex=True).astype(float)\n",
        "df = pd.DataFrame({\"A\": data, \"b\": b})\n",
        "print(df)"
      ],
      "metadata": {
        "colab": {
          "base_uri": "https://localhost:8080/"
        },
        "id": "NKik_BwAzO2a",
        "outputId": "34ff857c-dc9b-4fee-8cf2-71bc03e012d0"
      },
      "execution_count": null,
      "outputs": [
        {
          "output_type": "stream",
          "name": "stdout",
          "text": [
            "       A    b\n",
            "0  100.1  10M\n",
            "1  200.6  20M\n",
            "2  300.2  30M\n",
            "3  137.6  40M\n"
          ]
        }
      ]
    },
    {
      "cell_type": "code",
      "source": [
        "import pandas as pd\n",
        "a = ['100M', '200M', '300M', '137M']\n",
        "b = ['10M', '20M', '30M', '40M']\n",
        "df = pd.DataFrame({\"A\": a, \"b\": b})\n",
        "#data = df[\"A\"].str.replace('M','',inplace=True)\n",
        "data = df[\"A\"].replace('[M]', '', regex=True).astype(int)\n",
        "df = pd.DataFrame({\"A\": data, \"b\": b})\n",
        "print(df)"
      ],
      "metadata": {
        "colab": {
          "base_uri": "https://localhost:8080/"
        },
        "id": "x_HWud1G0P6J",
        "outputId": "44a9869c-00b8-423a-8c79-9d599372dca6"
      },
      "execution_count": null,
      "outputs": [
        {
          "output_type": "stream",
          "name": "stdout",
          "text": [
            "     A    b\n",
            "0  100  10M\n",
            "1  200  20M\n",
            "2  300  30M\n",
            "3  137  40M\n"
          ]
        }
      ]
    },
    {
      "cell_type": "code",
      "source": [
        "import pandas as pd\n",
        "\n",
        "file_path = 'yahoo_gainers2.csv'\n",
        "df = pd.read_csv(file_path)\n",
        "#df.columns = [\"Volume\"] \n",
        "df"
      ],
      "metadata": {
        "id": "JHrhV13cV04S"
      },
      "execution_count": null,
      "outputs": []
    },
    {
      "cell_type": "code",
      "source": [
        "#references\n",
        "\n",
        "#https://stackoverflow.com/questions/39684548/convert-the-string-2-90k-to-2900-or-5-2m-to-5200000-in-pandas-dataframe\n",
        "def value_to_float(x):\n",
        "    if type(x) == float or type(x) == int:\n",
        "        return x\n",
        "    if 'K' in x:\n",
        "        if len(x) > 1:\n",
        "            return float(x.replace('K', '')) * 1000\n",
        "        return 1000.0\n",
        "    if 'M' in x:\n",
        "        if len(x) > 1:\n",
        "            return float(x.replace('M', '')) * 1000000\n",
        "        return 1000000.0\n",
        "    if 'B' in x:\n",
        "        return float(x.replace('B', '')) * 1000000000\n",
        "    return x\n",
        "\n",
        "df['Volume'] = df['Volume'].apply(value_to_float)\n",
        "df"
      ],
      "metadata": {
        "id": "brmKNnfpV5Yq"
      },
      "execution_count": null,
      "outputs": []
    },
    {
      "cell_type": "code",
      "source": [
        "import pandas as pd\n",
        "df=pd.DataFrame({'ssn':[12345,54321,111,47895,222311],'Name':['john','mike','adam','doug','liz']})\n",
        "mask = df['ssn'].astype(str).str.len() != 5\n",
        "df.loc[mask, 'ssn'] = ''\n",
        "print(df)"
      ],
      "metadata": {
        "colab": {
          "base_uri": "https://localhost:8080/"
        },
        "id": "ebXJ2eXqfxZE",
        "outputId": "4a65a56d-e929-44fe-c249-9d81ba66786a"
      },
      "execution_count": null,
      "outputs": [
        {
          "output_type": "stream",
          "name": "stdout",
          "text": [
            "     ssn  Name\n",
            "0  12345  john\n",
            "1  54321  mike\n",
            "2         adam\n",
            "3  47895  doug\n",
            "4          liz\n"
          ]
        }
      ]
    },
    {
      "cell_type": "code",
      "source": [
        "import pandas as pd\n",
        "df=pd.DataFrame({'ssn':[12345,54321,0,47895,0],'Name':['john','mike','adam','doug','liz']})\n",
        "if len(df) != 0:\n",
        "  mask = df['ssn'].astype(str).str.len() != 0\n",
        "  df.loc[mask, 'ssn'] = ''\n",
        "print(df)"
      ],
      "metadata": {
        "colab": {
          "base_uri": "https://localhost:8080/"
        },
        "id": "UmEEeK26gDNE",
        "outputId": "b7c9ae73-d35d-4a19-891e-21e84b4249e4"
      },
      "execution_count": null,
      "outputs": [
        {
          "output_type": "stream",
          "name": "stdout",
          "text": [
            "  ssn  Name\n",
            "0      john\n",
            "1      mike\n",
            "2      adam\n",
            "3      doug\n",
            "4       liz\n"
          ]
        }
      ]
    },
    {
      "cell_type": "code",
      "source": [
        "import numpy as np\n",
        "df = pd.DataFrame([\n",
        "    [-0.532681, 'foo', 0],\n",
        "    [1.490752, 'bar', 1],\n",
        "    [-1.387326, 'foo', 2],\n",
        "    [0.814772, 'baz', ' '],     \n",
        "    [-0.222552, '   ', 4],\n",
        "    [-1.176781,  'qux', '  '],         \n",
        "], columns='A B C'.split(), index=pd.date_range('2000-01-01','2000-01-06'))\n",
        "\n",
        "# replace field that's entirely space (or empty) with NaN\n",
        "print(df.replace(r'^\\s*$', np.nan, regex=True))"
      ],
      "metadata": {
        "colab": {
          "base_uri": "https://localhost:8080/"
        },
        "id": "fO3yXy-Qg8BK",
        "outputId": "81929245-5a74-4cd3-fcca-3c6e86baf59e"
      },
      "execution_count": null,
      "outputs": [
        {
          "output_type": "stream",
          "name": "stdout",
          "text": [
            "                   A    B    C\n",
            "2000-01-01 -0.532681  foo    0\n",
            "2000-01-02  1.490752  bar    1\n",
            "2000-01-03 -1.387326  foo    2\n",
            "2000-01-04  0.814772  baz  NaN\n",
            "2000-01-05 -0.222552  NaN    4\n",
            "2000-01-06 -1.176781  qux  NaN\n"
          ]
        }
      ]
    },
    {
      "cell_type": "code",
      "source": [
        "! pip install yfinance"
      ],
      "metadata": {
        "colab": {
          "base_uri": "https://localhost:8080/"
        },
        "id": "8x9V6EfVV6l4",
        "outputId": "2f9ef6e5-9a29-4e1f-dcad-bf855f6bacfd"
      },
      "execution_count": 3,
      "outputs": [
        {
          "output_type": "stream",
          "name": "stdout",
          "text": [
            "Collecting yfinance\n",
            "  Downloading yfinance-0.1.70-py2.py3-none-any.whl (26 kB)\n",
            "Collecting requests>=2.26\n",
            "  Downloading requests-2.27.1-py2.py3-none-any.whl (63 kB)\n",
            "\u001b[K     |████████████████████████████████| 63 kB 1.5 MB/s \n",
            "\u001b[?25hRequirement already satisfied: pandas>=0.24.0 in /usr/local/lib/python3.7/dist-packages (from yfinance) (1.3.5)\n",
            "Requirement already satisfied: multitasking>=0.0.7 in /usr/local/lib/python3.7/dist-packages (from yfinance) (0.0.10)\n",
            "Requirement already satisfied: numpy>=1.15 in /usr/local/lib/python3.7/dist-packages (from yfinance) (1.21.6)\n",
            "Collecting lxml>=4.5.1\n",
            "  Downloading lxml-4.8.0-cp37-cp37m-manylinux_2_17_x86_64.manylinux2014_x86_64.manylinux_2_24_x86_64.whl (6.4 MB)\n",
            "\u001b[K     |████████████████████████████████| 6.4 MB 20.4 MB/s \n",
            "\u001b[?25hRequirement already satisfied: pytz>=2017.3 in /usr/local/lib/python3.7/dist-packages (from pandas>=0.24.0->yfinance) (2022.1)\n",
            "Requirement already satisfied: python-dateutil>=2.7.3 in /usr/local/lib/python3.7/dist-packages (from pandas>=0.24.0->yfinance) (2.8.2)\n",
            "Requirement already satisfied: six>=1.5 in /usr/local/lib/python3.7/dist-packages (from python-dateutil>=2.7.3->pandas>=0.24.0->yfinance) (1.15.0)\n",
            "Requirement already satisfied: certifi>=2017.4.17 in /usr/local/lib/python3.7/dist-packages (from requests>=2.26->yfinance) (2021.10.8)\n",
            "Requirement already satisfied: charset-normalizer~=2.0.0 in /usr/local/lib/python3.7/dist-packages (from requests>=2.26->yfinance) (2.0.12)\n",
            "Requirement already satisfied: idna<4,>=2.5 in /usr/local/lib/python3.7/dist-packages (from requests>=2.26->yfinance) (2.10)\n",
            "Requirement already satisfied: urllib3<1.27,>=1.21.1 in /usr/local/lib/python3.7/dist-packages (from requests>=2.26->yfinance) (1.24.3)\n",
            "Installing collected packages: requests, lxml, yfinance\n",
            "  Attempting uninstall: requests\n",
            "    Found existing installation: requests 2.23.0\n",
            "    Uninstalling requests-2.23.0:\n",
            "      Successfully uninstalled requests-2.23.0\n",
            "  Attempting uninstall: lxml\n",
            "    Found existing installation: lxml 4.2.6\n",
            "    Uninstalling lxml-4.2.6:\n",
            "      Successfully uninstalled lxml-4.2.6\n",
            "\u001b[31mERROR: pip's dependency resolver does not currently take into account all the packages that are installed. This behaviour is the source of the following dependency conflicts.\n",
            "google-colab 1.0.0 requires requests~=2.23.0, but you have requests 2.27.1 which is incompatible.\n",
            "datascience 0.10.6 requires folium==0.2.1, but you have folium 0.8.3 which is incompatible.\u001b[0m\n",
            "Successfully installed lxml-4.8.0 requests-2.27.1 yfinance-0.1.70\n"
          ]
        }
      ]
    },
    {
      "cell_type": "code",
      "source": [
        "import yfinance as yf\n",
        "import csv\n",
        "import pandas as pd\n",
        "import numpy as np\n",
        "\n",
        "urls=[\n",
        "'amd',\n",
        "#'voo',\n",
        "'msft'\n",
        "    ]\n",
        "shortName = []\n",
        "symbol = []\n",
        "volume = []\n",
        "currentPrice = []\n",
        "averageVolume = []\n",
        "previousClose = []\n",
        "for url in urls:\n",
        "    tickerTag = yf.Ticker(url)\n",
        "    shortName.append(tickerTag.info['shortName'])\n",
        "    symbol.append(tickerTag.info['symbol'])\n",
        "    volume.append(tickerTag.info['volume'])\n",
        "    currentPrice.append(tickerTag.info['currentPrice'])\n",
        "    averageVolume.append(tickerTag.info['averageVolume'])\n",
        "    previousClose.append(tickerTag.info['previousClose'])\n",
        "print(shortName)\n",
        "print(symbol)\n",
        "print(volume)\n",
        "print(currentPrice)\n",
        "print(averageVolume)\n",
        "print(previousClose)\n",
        "\n",
        "data = [\n",
        "    shortName,\n",
        "    symbol,\n",
        "    volume,\n",
        "    currentPrice,\n",
        "    averageVolume,\n",
        "    previousClose,\n",
        "]\n",
        "\n",
        "df = pd.DataFrame(columns=[\"amd\", \"msft\"], data=data)\n",
        "df\n",
        "df.to_csv('data.csv')"
      ],
      "metadata": {
        "colab": {
          "base_uri": "https://localhost:8080/",
          "height": 345
        },
        "id": "TxFmX07UVx-J",
        "outputId": "e7f16ded-4942-43c2-cff8-fdb4d5aaa200"
      },
      "execution_count": 4,
      "outputs": [
        {
          "output_type": "stream",
          "name": "stdout",
          "text": [
            "['Advanced Micro Devices, Inc.', 'Microsoft Corporation']\n",
            "['AMD', 'MSFT']\n",
            "[82512504, 37073923]\n",
            "[85.52, 277.52]\n",
            "[102835503, 33015655]\n",
            "[89.64, 289.63]\n"
          ]
        },
        {
          "output_type": "execute_result",
          "data": {
            "text/plain": [
              "                            amd                   msft\n",
              "0  Advanced Micro Devices, Inc.  Microsoft Corporation\n",
              "1                           AMD                   MSFT\n",
              "2                      82512504               37073923\n",
              "3                         85.52                 277.52\n",
              "4                     102835503               33015655\n",
              "5                         89.64                 289.63"
            ],
            "text/html": [
              "\n",
              "  <div id=\"df-c701c824-48a2-4465-8f36-6f915fa6b66b\">\n",
              "    <div class=\"colab-df-container\">\n",
              "      <div>\n",
              "<style scoped>\n",
              "    .dataframe tbody tr th:only-of-type {\n",
              "        vertical-align: middle;\n",
              "    }\n",
              "\n",
              "    .dataframe tbody tr th {\n",
              "        vertical-align: top;\n",
              "    }\n",
              "\n",
              "    .dataframe thead th {\n",
              "        text-align: right;\n",
              "    }\n",
              "</style>\n",
              "<table border=\"1\" class=\"dataframe\">\n",
              "  <thead>\n",
              "    <tr style=\"text-align: right;\">\n",
              "      <th></th>\n",
              "      <th>amd</th>\n",
              "      <th>msft</th>\n",
              "    </tr>\n",
              "  </thead>\n",
              "  <tbody>\n",
              "    <tr>\n",
              "      <th>0</th>\n",
              "      <td>Advanced Micro Devices, Inc.</td>\n",
              "      <td>Microsoft Corporation</td>\n",
              "    </tr>\n",
              "    <tr>\n",
              "      <th>1</th>\n",
              "      <td>AMD</td>\n",
              "      <td>MSFT</td>\n",
              "    </tr>\n",
              "    <tr>\n",
              "      <th>2</th>\n",
              "      <td>82512504</td>\n",
              "      <td>37073923</td>\n",
              "    </tr>\n",
              "    <tr>\n",
              "      <th>3</th>\n",
              "      <td>85.52</td>\n",
              "      <td>277.52</td>\n",
              "    </tr>\n",
              "    <tr>\n",
              "      <th>4</th>\n",
              "      <td>102835503</td>\n",
              "      <td>33015655</td>\n",
              "    </tr>\n",
              "    <tr>\n",
              "      <th>5</th>\n",
              "      <td>89.64</td>\n",
              "      <td>289.63</td>\n",
              "    </tr>\n",
              "  </tbody>\n",
              "</table>\n",
              "</div>\n",
              "      <button class=\"colab-df-convert\" onclick=\"convertToInteractive('df-c701c824-48a2-4465-8f36-6f915fa6b66b')\"\n",
              "              title=\"Convert this dataframe to an interactive table.\"\n",
              "              style=\"display:none;\">\n",
              "        \n",
              "  <svg xmlns=\"http://www.w3.org/2000/svg\" height=\"24px\"viewBox=\"0 0 24 24\"\n",
              "       width=\"24px\">\n",
              "    <path d=\"M0 0h24v24H0V0z\" fill=\"none\"/>\n",
              "    <path d=\"M18.56 5.44l.94 2.06.94-2.06 2.06-.94-2.06-.94-.94-2.06-.94 2.06-2.06.94zm-11 1L8.5 8.5l.94-2.06 2.06-.94-2.06-.94L8.5 2.5l-.94 2.06-2.06.94zm10 10l.94 2.06.94-2.06 2.06-.94-2.06-.94-.94-2.06-.94 2.06-2.06.94z\"/><path d=\"M17.41 7.96l-1.37-1.37c-.4-.4-.92-.59-1.43-.59-.52 0-1.04.2-1.43.59L10.3 9.45l-7.72 7.72c-.78.78-.78 2.05 0 2.83L4 21.41c.39.39.9.59 1.41.59.51 0 1.02-.2 1.41-.59l7.78-7.78 2.81-2.81c.8-.78.8-2.07 0-2.86zM5.41 20L4 18.59l7.72-7.72 1.47 1.35L5.41 20z\"/>\n",
              "  </svg>\n",
              "      </button>\n",
              "      \n",
              "  <style>\n",
              "    .colab-df-container {\n",
              "      display:flex;\n",
              "      flex-wrap:wrap;\n",
              "      gap: 12px;\n",
              "    }\n",
              "\n",
              "    .colab-df-convert {\n",
              "      background-color: #E8F0FE;\n",
              "      border: none;\n",
              "      border-radius: 50%;\n",
              "      cursor: pointer;\n",
              "      display: none;\n",
              "      fill: #1967D2;\n",
              "      height: 32px;\n",
              "      padding: 0 0 0 0;\n",
              "      width: 32px;\n",
              "    }\n",
              "\n",
              "    .colab-df-convert:hover {\n",
              "      background-color: #E2EBFA;\n",
              "      box-shadow: 0px 1px 2px rgba(60, 64, 67, 0.3), 0px 1px 3px 1px rgba(60, 64, 67, 0.15);\n",
              "      fill: #174EA6;\n",
              "    }\n",
              "\n",
              "    [theme=dark] .colab-df-convert {\n",
              "      background-color: #3B4455;\n",
              "      fill: #D2E3FC;\n",
              "    }\n",
              "\n",
              "    [theme=dark] .colab-df-convert:hover {\n",
              "      background-color: #434B5C;\n",
              "      box-shadow: 0px 1px 3px 1px rgba(0, 0, 0, 0.15);\n",
              "      filter: drop-shadow(0px 1px 2px rgba(0, 0, 0, 0.3));\n",
              "      fill: #FFFFFF;\n",
              "    }\n",
              "  </style>\n",
              "\n",
              "      <script>\n",
              "        const buttonEl =\n",
              "          document.querySelector('#df-c701c824-48a2-4465-8f36-6f915fa6b66b button.colab-df-convert');\n",
              "        buttonEl.style.display =\n",
              "          google.colab.kernel.accessAllowed ? 'block' : 'none';\n",
              "\n",
              "        async function convertToInteractive(key) {\n",
              "          const element = document.querySelector('#df-c701c824-48a2-4465-8f36-6f915fa6b66b');\n",
              "          const dataTable =\n",
              "            await google.colab.kernel.invokeFunction('convertToInteractive',\n",
              "                                                     [key], {});\n",
              "          if (!dataTable) return;\n",
              "\n",
              "          const docLinkHtml = 'Like what you see? Visit the ' +\n",
              "            '<a target=\"_blank\" href=https://colab.research.google.com/notebooks/data_table.ipynb>data table notebook</a>'\n",
              "            + ' to learn more about interactive tables.';\n",
              "          element.innerHTML = '';\n",
              "          dataTable['output_type'] = 'display_data';\n",
              "          await google.colab.output.renderOutput(dataTable, element);\n",
              "          const docLink = document.createElement('div');\n",
              "          docLink.innerHTML = docLinkHtml;\n",
              "          element.appendChild(docLink);\n",
              "        }\n",
              "      </script>\n",
              "    </div>\n",
              "  </div>\n",
              "  "
            ]
          },
          "metadata": {},
          "execution_count": 4
        }
      ]
    }
  ]
}