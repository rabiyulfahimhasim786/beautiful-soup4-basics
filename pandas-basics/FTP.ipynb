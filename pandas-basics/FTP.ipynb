{
  "nbformat": 4,
  "nbformat_minor": 0,
  "metadata": {
    "colab": {
      "name": "FTP.ipynb",
      "provenance": [],
      "collapsed_sections": []
    },
    "kernelspec": {
      "name": "python3",
      "display_name": "Python 3"
    },
    "language_info": {
      "name": "python"
    }
  },
  "cells": [
    {
      "cell_type": "code",
      "execution_count": null,
      "metadata": {
        "colab": {
          "base_uri": "https://localhost:8080/"
        },
        "id": "fGAssAyb4vCB",
        "outputId": "a8f85ae0-8c11-4275-84fc-bf894dadde24"
      },
      "outputs": [
        {
          "output_type": "stream",
          "name": "stdout",
          "text": [
            "Collecting pyftpdlib\n",
            "  Downloading pyftpdlib-1.5.6.tar.gz (188 kB)\n",
            "\u001b[?25l\r\u001b[K     |█▊                              | 10 kB 9.3 MB/s eta 0:00:01\r\u001b[K     |███▌                            | 20 kB 7.8 MB/s eta 0:00:01\r\u001b[K     |█████▎                          | 30 kB 6.1 MB/s eta 0:00:01\r\u001b[K     |███████                         | 40 kB 6.1 MB/s eta 0:00:01\r\u001b[K     |████████▊                       | 51 kB 3.5 MB/s eta 0:00:01\r\u001b[K     |██████████▌                     | 61 kB 4.2 MB/s eta 0:00:01\r\u001b[K     |████████████▏                   | 71 kB 4.2 MB/s eta 0:00:01\r\u001b[K     |██████████████                  | 81 kB 4.8 MB/s eta 0:00:01\r\u001b[K     |███████████████▊                | 92 kB 4.8 MB/s eta 0:00:01\r\u001b[K     |█████████████████▍              | 102 kB 4.1 MB/s eta 0:00:01\r\u001b[K     |███████████████████▏            | 112 kB 4.1 MB/s eta 0:00:01\r\u001b[K     |█████████████████████           | 122 kB 4.1 MB/s eta 0:00:01\r\u001b[K     |██████████████████████▋         | 133 kB 4.1 MB/s eta 0:00:01\r\u001b[K     |████████████████████████▍       | 143 kB 4.1 MB/s eta 0:00:01\r\u001b[K     |██████████████████████████▏     | 153 kB 4.1 MB/s eta 0:00:01\r\u001b[K     |███████████████████████████▉    | 163 kB 4.1 MB/s eta 0:00:01\r\u001b[K     |█████████████████████████████▋  | 174 kB 4.1 MB/s eta 0:00:01\r\u001b[K     |███████████████████████████████▍| 184 kB 4.1 MB/s eta 0:00:01\r\u001b[K     |████████████████████████████████| 188 kB 4.1 MB/s \n",
            "\u001b[?25hBuilding wheels for collected packages: pyftpdlib\n",
            "  Building wheel for pyftpdlib (setup.py) ... \u001b[?25l\u001b[?25hdone\n",
            "  Created wheel for pyftpdlib: filename=pyftpdlib-1.5.6-py3-none-any.whl size=125597 sha256=0cf2fd38fffdd8ad30694c262f666c5de7dd273ea764309ce31b8d472e322402\n",
            "  Stored in directory: /root/.cache/pip/wheels/69/f8/37/059165ed5bf71d7d824ac4f792009823361e159a47f4469420\n",
            "Successfully built pyftpdlib\n",
            "Installing collected packages: pyftpdlib\n",
            "Successfully installed pyftpdlib-1.5.6\n"
          ]
        }
      ],
      "source": [
        "#pip install pyftpdlib"
      ]
    },
    {
      "cell_type": "code",
      "source": [
        "# Import Module\n",
        "import ftplib\n",
        " \n",
        "# Fill Required Information\n",
        "HOSTNAME = \"74.208.51.69\"\n",
        "USERNAME = \"stockftpusr\"\n",
        "PASSWORD = \"T11wz8w_\"\n",
        "#Connect FTP Server\n",
        "ftp_server = ftplib.FTP(HOSTNAME, USERNAME, PASSWORD)\n",
        "#ftp_server.login()\n",
        "# force UTF-8 encoding\n",
        "ftp_server.encoding = \"utf-8\""
      ],
      "metadata": {
        "id": "-DEkrJrO40re"
      },
      "execution_count": null,
      "outputs": []
    },
    {
      "cell_type": "code",
      "source": [
        "# Get list of files\n",
        "ftp_server.dir()"
      ],
      "metadata": {
        "colab": {
          "base_uri": "https://localhost:8080/"
        },
        "id": "yDdG4pk05P1a",
        "outputId": "3ea8f63e-8452-4cf4-ddcd-9db3e524268f"
      },
      "execution_count": null,
      "outputs": [
        {
          "output_type": "stream",
          "name": "stdout",
          "text": [
            "drwxr-xr-x   9 stockftpusr psacln       4096 Mar 31 14:45 admin\n",
            "drwxr-xr-x  14 stockftpusr psacln       4096 Mar 31 14:45 application\n",
            "drwxr-xr-x  20 stockftpusr psacln       4096 Apr  1 05:17 assets\n",
            "-rwxr-xr-x   1 stockftpusr psacln        594 Mar 31 14:45 composer.json\n",
            "drwxr-xr-x   3 stockftpusr psacln       4096 Mar 31 14:45 images\n",
            "-rwxr-xr-x   1 stockftpusr psacln        464 Mar 30 04:32 indexbck.html\n",
            "-rwxr-xr-x   1 stockftpusr psacln      10343 Mar 31 14:45 index.php\n",
            "-rwxr-xr-x   1 stockftpusr psacln         42 Mar 31 14:45 phpinfo.php\n",
            "-rwxr-xr-x   1 stockftpusr psacln         62 Mar 31 14:45 robots.txt\n",
            "drwxr-xr-x   2 stockftpusr psacln       4096 Mar 31 14:45 sitemap\n",
            "drwxr-xr-x   8 stockftpusr psacln       4096 Mar 31 14:45 system\n",
            "-rwxr-xr-x   1 stockftpusr psacln      46318 Mar 31 14:45 test.pdf\n",
            "-rwxr-xr-x   1 stockftpusr psacln     884407 Mar 31 14:45 wdh_2021-12-10_09-14-33.sql.zip\n",
            "-rwxr-xr-x   1 stockftpusr psacln    1031999 Mar 31 14:45 wdh_2022-02-28_13-26-24.sql.zip\n",
            "drwxr-xr-x   2 stockftpusr psacln       4096 Apr 26 10:20 yahoo_update\n",
            "drwxr-xr-x   2 stockftpusr psacln       4096 Mar 31 14:45 zcms\n"
          ]
        }
      ]
    },
    {
      "cell_type": "code",
      "source": [
        "#ftp_server.quit()\n",
        "ftp_server.cwd('/assets/yahoo/') "
      ],
      "metadata": {
        "colab": {
          "base_uri": "https://localhost:8080/",
          "height": 35
        },
        "id": "Ar5c94hG5cNF",
        "outputId": "b4f8e15e-d86b-4b42-edec-db3d428c4d47"
      },
      "execution_count": null,
      "outputs": [
        {
          "output_type": "execute_result",
          "data": {
            "text/plain": [
              "'250 CWD command successful'"
            ],
            "application/vnd.google.colaboratory.intrinsic+json": {
              "type": "string"
            }
          },
          "metadata": {},
          "execution_count": 3
        }
      ]
    },
    {
      "cell_type": "code",
      "source": [
        "# Get list of files\n",
        "ftp_server.dir()"
      ],
      "metadata": {
        "colab": {
          "base_uri": "https://localhost:8080/"
        },
        "id": "4K59dEHw5zpv",
        "outputId": "22709577-a0a7-4001-99b5-bf29ea1e175b"
      },
      "execution_count": null,
      "outputs": [
        {
          "output_type": "stream",
          "name": "stdout",
          "text": [
            "drwxr-xr-x   2 stockftpusr psacln       4096 Apr 20 06:03 most_active\n",
            "drwxr-xr-x   2 stockftpusr psacln       4096 Apr 21 07:11 yahoo_gainers\n",
            "drwxr-xr-x   2 stockftpusr psacln       4096 Apr 28 09:31 yahoo_global\n",
            "drwxr-xr-x   2 stockftpusr psacln       4096 Apr 20 05:28 yahoo_losers\n",
            "drwxr-xr-x   2 stockftpusr psacln       4096 Apr 27 13:47 yahoo_trending\n"
          ]
        }
      ]
    },
    {
      "cell_type": "code",
      "source": [
        "ftp_server.cwd('most_active/') "
      ],
      "metadata": {
        "colab": {
          "base_uri": "https://localhost:8080/",
          "height": 35
        },
        "id": "A0GVgHm96uPh",
        "outputId": "f91589a8-b210-4bc6-abdf-3c33180e2c1c"
      },
      "execution_count": null,
      "outputs": [
        {
          "output_type": "execute_result",
          "data": {
            "text/plain": [
              "'250 CWD command successful'"
            ],
            "application/vnd.google.colaboratory.intrinsic+json": {
              "type": "string"
            }
          },
          "metadata": {},
          "execution_count": 5
        }
      ]
    },
    {
      "cell_type": "code",
      "source": [
        "# Get list of files\n",
        "ftp_server.dir()"
      ],
      "metadata": {
        "colab": {
          "base_uri": "https://localhost:8080/"
        },
        "id": "KHHLckLC61V_",
        "outputId": "8712af8b-aaf1-4973-9917-9af42a5fa2eb"
      },
      "execution_count": null,
      "outputs": [
        {
          "output_type": "stream",
          "name": "stdout",
          "text": [
            "-rw-r--r--   1 stockftpusr psacln       7781 Apr 27 22:59 yahoo_most_active1.csv\n"
          ]
        }
      ]
    },
    {
      "cell_type": "code",
      "source": [
        " \n",
        "# Enter File Name with Extension\n",
        "filename = \"test.txt\"\n",
        " \n",
        "# Read file in binary mode\n",
        "with open(filename, \"rb\") as file:\n",
        "    # Command for Uploading the file \"STOR filename\"\n",
        "    ftp_server.storbinary(f\"STOR {filename}\", file)\n",
        " \n",
        "# Get list of files\n",
        "ftp_server.dir()\n",
        " "
      ],
      "metadata": {
        "colab": {
          "base_uri": "https://localhost:8080/"
        },
        "id": "V9tGTWO466Va",
        "outputId": "b0e4b039-7e90-4ea5-faa3-1db7a242acd5"
      },
      "execution_count": null,
      "outputs": [
        {
          "output_type": "stream",
          "name": "stdout",
          "text": [
            "-rw-r--r--   1 stockftpusr psacln      43095 Apr 28 12:59 test.txt\n",
            "-rw-r--r--   1 stockftpusr psacln       7781 Apr 27 22:59 yahoo_most_active1.csv\n"
          ]
        }
      ]
    },
    {
      "cell_type": "code",
      "source": [
        "# Close the Connection\n",
        "ftp_server.quit()"
      ],
      "metadata": {
        "colab": {
          "base_uri": "https://localhost:8080/",
          "height": 35
        },
        "id": "yZgXE1ir6zJe",
        "outputId": "6948464d-a032-4363-be14-6ac643fe45fd"
      },
      "execution_count": null,
      "outputs": [
        {
          "output_type": "execute_result",
          "data": {
            "text/plain": [
              "'221 Goodbye.'"
            ],
            "application/vnd.google.colaboratory.intrinsic+json": {
              "type": "string"
            }
          },
          "metadata": {},
          "execution_count": 8
        }
      ]
    },
    {
      "cell_type": "code",
      "source": [
        "# Import Module\n",
        "import ftplib\n",
        "\n",
        "# Fill Required Information\n",
        "HOSTNAME = \"ftp.dlptest.com\"\n",
        "USERNAME = \"dlpuser@dlptest.com\"\n",
        "PASSWORD = \"eUj8GeW55SvYaswqUyDSm5v6N\"\n",
        "\n",
        "# Connect FTP Server\n",
        "ftp_server = ftplib.FTP(HOSTNAME, USERNAME, PASSWORD)\n",
        "\n",
        "# force UTF-8 encoding\n",
        "ftp_server.encoding = \"utf-8\"\n",
        "\n",
        "# Enter File Name with Extension\n",
        "filename = \"test.txt\"\n",
        "\n",
        "# Write file in binary mode\n",
        "with open(filename, \"wb\") as file:\n",
        "\t# Command for Downloading the file \"RETR filename\"\n",
        "\tftp_server.retrbinary(f\"RETR {filename}\", file.write)\n",
        "\n",
        "# Get list of files\n",
        "ftp_server.dir()\n",
        "\n",
        "# Display the content of downloaded file\n",
        "file= open(filename, \"r\")\n",
        "print('File Content:', file.read())\n",
        "\n",
        "# Close the Connection\n",
        "ftp_server.quit()\n"
      ],
      "metadata": {
        "id": "id8yvsu17J4o"
      },
      "execution_count": null,
      "outputs": []
    },
    {
      "cell_type": "code",
      "source": [
        "# upload a file from FTP\n",
        "# Import Module\n",
        "import ftplib\n",
        "\n",
        "# Fill Required Information\n",
        "HOSTNAME = \"74.208.51.69\"\n",
        "USERNAME = \"stockftpusr\"\n",
        "PASSWORD = \"T11wz8w_\"\n",
        "\n",
        "# Connect FTP Server\n",
        "ftp_server = ftplib.FTP(HOSTNAME, USERNAME, PASSWORD)\n",
        "\n",
        "# force UTF-8 encoding\n",
        "ftp_server.encoding = \"utf-8\"\n",
        "ftp_server.cwd('/assets/yahoo/most_active/')\n",
        "# Get list of files\n",
        "ftp_server.dir() \n",
        "# Enter File Name with Extension\n",
        "filename = \"test.txt\"\n",
        "\n",
        "# Write file in binary mode\n",
        "with open(filename, \"wb\") as file:\n",
        "\t# Command for Downloading the file \"RETR filename\"\n",
        "\tftp_server.retrbinary(f\"RETR {filename}\", file.write)\n",
        "\n",
        "# Get list of files\n",
        "ftp_server.dir()\n",
        "\n",
        "# Display the content of downloaded file\n",
        "#file= open(filename, \"r\")\n",
        "#print('File Content:', file.read())\n",
        "\n",
        "# Close the Connection\n",
        "ftp_server.quit()\n"
      ],
      "metadata": {
        "colab": {
          "base_uri": "https://localhost:8080/",
          "height": 107
        },
        "id": "XayQ6dIiQEzM",
        "outputId": "55ed09ee-1642-4310-d55d-72b535a87a0e"
      },
      "execution_count": 2,
      "outputs": [
        {
          "output_type": "stream",
          "name": "stdout",
          "text": [
            "-rw-r--r--   1 stockftpusr psacln      43095 Apr 28 12:59 test.txt\n",
            "-rw-r--r--   1 stockftpusr psacln       7743 Apr 29 22:59 yahoo_most_active1.csv\n",
            "-rw-r--r--   1 stockftpusr psacln      43095 Apr 28 12:59 test.txt\n",
            "-rw-r--r--   1 stockftpusr psacln       7743 Apr 29 22:59 yahoo_most_active1.csv\n"
          ]
        },
        {
          "output_type": "execute_result",
          "data": {
            "text/plain": [
              "'221 Goodbye.'"
            ],
            "application/vnd.google.colaboratory.intrinsic+json": {
              "type": "string"
            }
          },
          "metadata": {},
          "execution_count": 2
        }
      ]
    },
    {
      "cell_type": "code",
      "source": [
        "# download a file form FTP\n",
        "#Reading a file from  ftp server\n",
        "\n",
        "import ftplib\n",
        "\n",
        "# Fill Required Information\n",
        "HOSTNAME = \"74.208.51.69\"\n",
        "USERNAME = \"stockftpusr\"\n",
        "\n",
        "PASSWORD = \"T11wz8w_\"\n",
        "\n",
        "# Connect FTP Server\n",
        "ftp_server = ftplib.FTP(HOSTNAME, USERNAME, PASSWORD)\n",
        "\n",
        "# force UTF-8 encoding\n",
        "ftp_server.encoding = \"utf-8\"\n",
        "ftp_server.cwd('/assets/yahoo/most_active/')\n",
        "# Get list of files\n",
        "ftp_server.dir() \n",
        "# Enter File Name with Extension\n",
        "filename = \"test.txt\"\n",
        "\n",
        "# Write file in binary mode\n",
        "with open(filename, \"wb\") as file:\n",
        "\t# Command for Downloading the file \"RETR filename\"\n",
        "\tftp_server.retrbinary(f\"RETR {filename}\", file.write)\n",
        "\n",
        "# Get list of files\n",
        "ftp_server.dir()\n",
        "\n",
        "# Display the content of downloaded file\n",
        "#file= open(filename, \"r\")\n",
        "#print('File Content:', file.read())\n",
        "\n",
        "# Close the Connection\n",
        "ftp_server.quit()"
      ],
      "metadata": {
        "colab": {
          "base_uri": "https://localhost:8080/",
          "height": 107
        },
        "id": "f8XBF5vvDQ3V",
        "outputId": "88920e21-ea15-49e0-e74c-5665bb1c120d"
      },
      "execution_count": 3,
      "outputs": [
        {
          "output_type": "stream",
          "name": "stdout",
          "text": [
            "-rw-r--r--   1 stockftpusr psacln      43095 Apr 28 12:59 test.txt\n",
            "-rw-r--r--   1 stockftpusr psacln       7743 Apr 29 22:59 yahoo_most_active1.csv\n",
            "-rw-r--r--   1 stockftpusr psacln      43095 Apr 28 12:59 test.txt\n",
            "-rw-r--r--   1 stockftpusr psacln       7743 Apr 29 22:59 yahoo_most_active1.csv\n"
          ]
        },
        {
          "output_type": "execute_result",
          "data": {
            "text/plain": [
              "'221 Goodbye.'"
            ],
            "application/vnd.google.colaboratory.intrinsic+json": {
              "type": "string"
            }
          },
          "metadata": {},
          "execution_count": 3
        }
      ]
    },
    {
      "cell_type": "code",
      "source": [
        "# reading a second row in csv\n",
        "import csv\n",
        "noise_amp=[]         #an empty list to store the second column\n",
        "with open('data.csv', 'r') as rf:\n",
        "    reader = csv.reader(rf, delimiter=',')\n",
        "    for row in reader:\n",
        "        noise_amp.append(row[1]) # which row we need to read , 1 is frist row , 2 is second row\n",
        "    print(noise_amp)"
      ],
      "metadata": {
        "id": "lGwNuB6DmxxU"
      },
      "execution_count": null,
      "outputs": []
    }
  ]
}