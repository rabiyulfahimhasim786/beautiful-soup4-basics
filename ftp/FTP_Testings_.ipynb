{
  "nbformat": 4,
  "nbformat_minor": 0,
  "metadata": {
    "colab": {
      "name": "FTP-Testings-.ipynb",
      "provenance": [],
      "collapsed_sections": []
    },
    "kernelspec": {
      "name": "python3",
      "display_name": "Python 3"
    },
    "language_info": {
      "name": "python"
    }
  },
  "cells": [
    {
      "cell_type": "code",
      "execution_count": null,
      "metadata": {
        "id": "-hvytF-UTv2q"
      },
      "outputs": [],
      "source": [
        "#pip install pyftpdlib"
      ]
    },
    {
      "cell_type": "code",
      "source": [
        "#pip install pyuser_agent"
      ],
      "metadata": {
        "id": "2r_BZG4NVZKh"
      },
      "execution_count": null,
      "outputs": []
    },
    {
      "cell_type": "code",
      "source": [
        "import requests\n",
        "from bs4 import BeautifulSoup\n",
        "import pandas as pd\n",
        "import pyuser_agent\n",
        "\n",
        "def gainersdatas():\n",
        "    #if request.method == \"POST\":\n",
        "    if True:\n",
        "      #url = request.form['text']\n",
        "      # getting input with name = fname in HTML form\n",
        "      ua = pyuser_agent.UA()\n",
        "      #ua = UserAgent()\n",
        "      url = 'https://finance.yahoo.com/most-active?count=100&guce_referrer=aHR0cHM6Ly9sb2dpbi55YWhvby5jb20v&guce_referrer_sig=AQAAAI9gecImEAchRGLbJWaMQRr0edvgHEKjXhV89uZ46DDqOZKQJn7TsZ4k2hHgl09_vQ3_lYa9k_RWrl-tXRFFIR5zhJ5V0CV59JLQKHGfoDQtb_2cD9RLko43tSWYaqR1DtLibvUkwYkJM5MU71P6bpx7nrUwMbOurSz3MmHf7Qey&offset=0'\n",
        "\n",
        "      ###url = request.form['namee']\n",
        "      #gainers = form(name = url)\n",
        "      #db.session.add(gainers)\n",
        "      #db.session.commit()\n",
        "      #url = 'https://finance.yahoo.com/gainers?count=100&offset=0'\n",
        "      headers = {'User-Agent': ua.random }\n",
        "      html = requests.get(url, headers=headers).content\n",
        "      #html = requests.get(url).content\n",
        "      soup = BeautifulSoup(html, 'lxml')\n",
        "      ac = soup.find_all('a', attrs={'data-test': 'quoteLink'})\n",
        "      bc = soup.find_all('td', attrs={'aria-label': 'Name'})\n",
        "      cc = soup.find_all('td', attrs={'aria-label': 'Price (Intraday)'})\n",
        "      dc = soup.find_all('td', attrs={'aria-label': 'Change'})\n",
        "      ec = soup.find_all('td', attrs={'aria-label': '% Change'})\n",
        "      fc = soup.find_all('td', attrs={'aria-label': 'Volume'})\n",
        "      gc = soup.find_all('td', attrs={'aria-label': 'Avg Vol (3 month)'})\n",
        "      hc = soup.find_all('td', attrs={'aria-label': 'Market Cap'})\n",
        "      ic = soup.find_all('td', attrs={'aria-label': 'PE Ratio (TTM)'})\n",
        "  \n",
        "\n",
        "      ac_ = []\n",
        "      bc_ = []\n",
        "      cc_ = []\n",
        "      dc_ = []\n",
        "      ec_ = []\n",
        "      fc_ = []\n",
        "      gc_ = []\n",
        "      hc_ = []\n",
        "      ic_ = []\n",
        "      for title in ac:\n",
        "        ac_.append(title.text.strip())\n",
        "      for title in bc:\n",
        "        bc_.append(title.text.strip())\n",
        "      for title in cc:\n",
        "        cc_.append(title.text.strip())\n",
        "      for title in dc:\n",
        "        dc_.append(title.text.strip())\n",
        "      for title in ec:\n",
        "        ec_.append(title.text.strip())\n",
        "      for title in fc:\n",
        "        fc_.append(title.text.strip())\n",
        "      for title in gc:\n",
        "        gc_.append(title.text.strip())\n",
        "      for title in hc:\n",
        "        hc_.append(title.text.strip())\n",
        "      for title in ic:\n",
        "        ic_.append(title.text.strip())\n",
        "  # dataframe Name and Age columns\n",
        "    #df = pd.DataFrame({'Symbol': ac_, 'Name': bc_, 'Price': cc_, 'Change': dc_, 'Change %': ec_, 'Volume': fc_, 'Avg volume': gc_, 'Market cap': hc_, 'Ration': ic_,})\n",
        "      dict = {'Symbol': ac_, 'Name': bc_, 'Price': cc_, 'Change': dc_, 'Change %': ec_, 'Volume': fc_, 'Avg volume': gc_, 'Market cap': hc_, 'Ration': ic_,}\n",
        "      df = pd.DataFrame(dict)\n",
        "  \n",
        "      # saving the dataframe\n",
        "      df.to_csv('yahoo_most_active1.csv')"
      ],
      "metadata": {
        "id": "JDrKsGgNUYrt"
      },
      "execution_count": null,
      "outputs": []
    },
    {
      "cell_type": "code",
      "source": [
        "import requests\n",
        "from bs4 import BeautifulSoup\n",
        "import pandas as pd\n",
        "import pyuser_agent\n",
        "\n",
        "\n",
        "if True:\n",
        "      #url = request.form['text']\n",
        "      # getting input with name = fname in HTML form\n",
        "      ua = pyuser_agent.UA()\n",
        "      #ua = UserAgent()\n",
        "      url = 'https://finance.yahoo.com/most-active?count=100&guce_referrer=aHR0cHM6Ly9sb2dpbi55YWhvby5jb20v&guce_referrer_sig=AQAAAI9gecImEAchRGLbJWaMQRr0edvgHEKjXhV89uZ46DDqOZKQJn7TsZ4k2hHgl09_vQ3_lYa9k_RWrl-tXRFFIR5zhJ5V0CV59JLQKHGfoDQtb_2cD9RLko43tSWYaqR1DtLibvUkwYkJM5MU71P6bpx7nrUwMbOurSz3MmHf7Qey&offset=0'\n",
        "\n",
        "      ###url = request.form['namee']\n",
        "      #gainers = form(name = url)\n",
        "      #db.session.add(gainers)\n",
        "      #db.session.commit()\n",
        "      #url = 'https://finance.yahoo.com/gainers?count=100&offset=0'\n",
        "      headers = {'User-Agent': ua.random }\n",
        "      html = requests.get(url, headers=headers).content\n",
        "      #html = requests.get(url).content\n",
        "      soup = BeautifulSoup(html, 'lxml')\n",
        "      ac = soup.find_all('a', attrs={'data-test': 'quoteLink'})\n",
        "      bc = soup.find_all('td', attrs={'aria-label': 'Name'})\n",
        "      cc = soup.find_all('td', attrs={'aria-label': 'Price (Intraday)'})\n",
        "      dc = soup.find_all('td', attrs={'aria-label': 'Change'})\n",
        "      ec = soup.find_all('td', attrs={'aria-label': '% Change'})\n",
        "      fc = soup.find_all('td', attrs={'aria-label': 'Volume'})\n",
        "      gc = soup.find_all('td', attrs={'aria-label': 'Avg Vol (3 month)'})\n",
        "      hc = soup.find_all('td', attrs={'aria-label': 'Market Cap'})\n",
        "      ic = soup.find_all('td', attrs={'aria-label': 'PE Ratio (TTM)'})\n",
        "  \n",
        "\n",
        "      ac_ = []\n",
        "      bc_ = []\n",
        "      cc_ = []\n",
        "      dc_ = []\n",
        "      ec_ = []\n",
        "      fc_ = []\n",
        "      gc_ = []\n",
        "      hc_ = []\n",
        "      ic_ = []\n",
        "      for title in ac:\n",
        "        ac_.append(title.text.strip())\n",
        "      for title in bc:\n",
        "        bc_.append(title.text.strip())\n",
        "      for title in cc:\n",
        "        cc_.append(title.text.strip())\n",
        "      for title in dc:\n",
        "        dc_.append(title.text.strip())\n",
        "      for title in ec:\n",
        "        ec_.append(title.text.strip())\n",
        "      for title in fc:\n",
        "        fc_.append(title.text.strip())\n",
        "      for title in gc:\n",
        "        gc_.append(title.text.strip())\n",
        "      for title in hc:\n",
        "        hc_.append(title.text.strip())\n",
        "      for title in ic:\n",
        "        ic_.append(title.text.strip())\n",
        "  # dataframe Name and Age columns\n",
        "    #df = pd.DataFrame({'Symbol': ac_, 'Name': bc_, 'Price': cc_, 'Change': dc_, 'Change %': ec_, 'Volume': fc_, 'Avg volume': gc_, 'Market cap': hc_, 'Ration': ic_,})\n",
        "      dict = {'Symbol': ac_, 'Name': bc_, 'Price': cc_, 'Change': dc_, 'Change %': ec_, 'Volume': fc_, 'Avg volume': gc_, 'Market cap': hc_, 'Ration': ic_,}\n",
        "      df = pd.DataFrame(dict)\n",
        "  \n",
        "      # saving the dataframe\n",
        "      df.to_csv('yahoo_most_active1.csv')\n",
        "      print(\"done\")"
      ],
      "metadata": {
        "colab": {
          "base_uri": "https://localhost:8080/"
        },
        "id": "11UnU75DWnKH",
        "outputId": "8898ec0a-ab37-4323-a940-b640a2fbc3c3"
      },
      "execution_count": null,
      "outputs": [
        {
          "output_type": "stream",
          "name": "stdout",
          "text": [
            "done\n"
          ]
        }
      ]
    },
    {
      "cell_type": "code",
      "source": [
        "# Import Module\n",
        "import ftplib\n",
        " \n",
        "# Fill Required Information\n",
        "HOSTNAME = \"74.208.51.69\"\n",
        "USERNAME = \"stockftpusr\"\n",
        "PASSWORD = \"T11wz8w_\"\n",
        "#Connect FTP Server\n",
        "ftp_server = ftplib.FTP(HOSTNAME, USERNAME, PASSWORD)\n",
        "#ftp_server.login()\n",
        "# force UTF-8 encoding\n",
        "ftp_server.encoding = \"utf-8\"\n",
        "#ftp_server.cwd changing required directory\n",
        "ftp_server.cwd('/assets/yahoo/most_active/') "
      ],
      "metadata": {
        "colab": {
          "base_uri": "https://localhost:8080/",
          "height": 35
        },
        "id": "H3RLBwD5XGIQ",
        "outputId": "b45a4626-3206-4c78-cb65-d33e2433c5c2"
      },
      "execution_count": null,
      "outputs": [
        {
          "output_type": "execute_result",
          "data": {
            "text/plain": [
              "'250 CWD command successful'"
            ],
            "application/vnd.google.colaboratory.intrinsic+json": {
              "type": "string"
            }
          },
          "metadata": {},
          "execution_count": 15
        }
      ]
    },
    {
      "cell_type": "code",
      "source": [
        "# Get list of files\n",
        "ftp_server.dir()"
      ],
      "metadata": {
        "colab": {
          "base_uri": "https://localhost:8080/"
        },
        "id": "ht3NFcVFXTpK",
        "outputId": "18ad019f-c5a5-4e6c-9013-4cad5fe46792"
      },
      "execution_count": null,
      "outputs": [
        {
          "output_type": "stream",
          "name": "stdout",
          "text": [
            "-rw-r--r--   1 stockftpusr psacln          4 Apr 18 09:06 test.txt\n",
            "-rw-r--r--   1 stockftpusr psacln      22158 Apr  2 14:26 yahoo-finance-page01-.xlsx\n",
            "-rw-r--r--   1 stockftpusr psacln      22248 Apr  2 14:26 yahoo-finance-page02-.xlsx\n",
            "-rw-r--r--   1 stockftpusr psacln      16050 Apr  2 14:26 yahoo-finance-page03-.xlsx\n",
            "-rw-r--r--   1 stockftpusr psacln       7822 Apr 18 11:10 yahoo_most_active1.csv\n"
          ]
        }
      ]
    },
    {
      "cell_type": "code",
      "source": [
        "\n",
        "# Enter File Name with Extension\n",
        "filename = \"yahoo_most_active1.csv\"\n",
        " \n",
        "# Read file in binary mode\n",
        "with open(filename, \"rb\") as file:\n",
        "    # Command for Uploading the file \"STOR filename\"\n",
        "    ftp_server.storbinary(f\"STOR {filename}\", file)\n",
        " \n",
        "# Get list of files\n",
        "ftp_server.dir()"
      ],
      "metadata": {
        "colab": {
          "base_uri": "https://localhost:8080/"
        },
        "id": "sNqaEzQOXWoj",
        "outputId": "c6eee78c-b11e-4b23-c756-0211961cda67"
      },
      "execution_count": null,
      "outputs": [
        {
          "output_type": "stream",
          "name": "stdout",
          "text": [
            "-rw-r--r--   1 stockftpusr psacln          4 Apr 18 09:06 test.txt\n",
            "-rw-r--r--   1 stockftpusr psacln      22158 Apr  2 14:26 yahoo-finance-page01-.xlsx\n",
            "-rw-r--r--   1 stockftpusr psacln      22248 Apr  2 14:26 yahoo-finance-page02-.xlsx\n",
            "-rw-r--r--   1 stockftpusr psacln      16050 Apr  2 14:26 yahoo-finance-page03-.xlsx\n",
            "-rw-r--r--   1 stockftpusr psacln       7822 Apr 18 11:22 yahoo_most_active1.csv\n"
          ]
        }
      ]
    },
    {
      "cell_type": "code",
      "source": [
        "# Enter File Name with Extension\n",
        "filename = \"yahoo_most_active1.csv\"\n",
        " \n",
        "# Write file in binary mode\n",
        "with open(filename, \"wb\") as file:\n",
        "    # Command for Downloading the file \"RETR filename\"\n",
        "    ftp_server.retrbinary(f\"RETR {filename}\", file.write)\n",
        " \n",
        "# Get list of files\n",
        "ftp_server.dir()\n",
        " \n",
        "# Display the content of downloaded file\n",
        "##file= open(filename, \"r\")\n",
        "#print('File Content:', file.read())\n"
      ],
      "metadata": {
        "colab": {
          "base_uri": "https://localhost:8080/"
        },
        "id": "sRBF1pSmaTup",
        "outputId": "81bc3a80-20c9-46ca-8d99-de0f2f41ba6b"
      },
      "execution_count": null,
      "outputs": [
        {
          "output_type": "stream",
          "name": "stdout",
          "text": [
            "-rw-r--r--   1 stockftpusr psacln          4 Apr 18 09:06 test.txt\n",
            "-rw-r--r--   1 stockftpusr psacln      22158 Apr  2 14:26 yahoo-finance-page01-.xlsx\n",
            "-rw-r--r--   1 stockftpusr psacln      22248 Apr  2 14:26 yahoo-finance-page02-.xlsx\n",
            "-rw-r--r--   1 stockftpusr psacln      16050 Apr  2 14:26 yahoo-finance-page03-.xlsx\n",
            "-rw-r--r--   1 stockftpusr psacln       7822 Apr 18 11:22 yahoo_most_active1.csv\n",
            "File Content: ,Symbol,Name,Price,Change,Change %,Volume,Avg volume,Market cap,Ration\n",
            "0,TWTR,\"Twitter, Inc.\",45.08,-0.77,-1.68%,258.868M,38.597M,34.422B,N/A\n",
            "1,BAC,Bank of America Corporation,37.57,-1.25,-3.22%,79.032M,55.122M,302.997B,10.52\n",
            "2,AAPL,Apple Inc.,165.29,-5.11,-3.00%,75.329M,93.284M,2.697T,27.48\n",
            "3,AMD,\"Advanced Micro Devices, Inc.\",93.06,-4.68,-4.79%,73.354M,107.142M,151.442B,36.21\n",
            "4,WFC,Wells Fargo & Company,46.35,-2.19,-4.51%,65.583M,31.989M,176.204B,9.36\n",
            "5,NVDA,NVIDIA Corporation,212.58,-9.45,-4.26%,56.91M,54.765M,529.749B,55.22\n",
            "6,T,AT&T Inc.,19.54,+0.12,+0.62%,52.731M,68.474M,139.966B,7.07\n",
            "7,NIO,NIO Inc.,19.65,-0.77,-3.77%,43.937M,73.815M,35.945B,N/A\n",
            "8,AAL,American Airlines Group Inc.,19.00,+0.05,+0.26%,43.181M,45.306M,12.334B,N/A\n",
            "9,SOFI,\"SoFi Technologies, Inc.\",7.26,-0.35,-4.60%,42.198M,68.31M,5.805B,N/A\n",
            "10,PBR,Petróleo Brasileiro S.A. - Petrobras,14.71,-0.03,-0.21%,42.065M,34.668M,101.164B,4.22\n",
            "11,F,Ford Motor Company,15.48,-0.03,-0.19%,39.313M,89.231M,62.211B,3.48\n",
            "12,WBD,\"Warner Bros. Discovery, Inc.\",24.88,-1.12,-4.31%,37.862M,11.994M,12.49B,18.06\n",
            "13,PCG,PG&E Corporation,12.30,-0.55,-4.28%,37.224M,19.587M,24.445B,N/A\n",
            "14,INTC,Intel Corporation,45.67,-1.34,-2.85%,36.182M,38.864M,186.731B,9.40\n",
            "15,C,Citigroup Inc.,50.93,+0.78,+1.56%,34.043M,28.122M,100.458B,5.02\n",
            "16,SWN,Southwestern Energy Company,8.19,-0.07,-0.85%,33.52M,31.194M,9.141B,N/A\n",
            "17,ITUB,Itaú Unibanco Holding S.A.,5.54,-0.02,-0.36%,32.21M,48.064M,54.181B,9.57\n",
            "18,BBD,Banco Bradesco S.A.,4.5000,-0.0500,-1.10%,30.49M,39.968M,47.83B,8.86\n",
            "19,TELL,Tellurian Inc.,6.19,+0.40,+6.91%,30.275M,21.96M,3.209B,N/A\n",
            "20,DAL,\"Delta Air Lines, Inc.\",42.36,+1.34,+3.27%,29.129M,15.904M,27.107B,96.27\n",
            "21,MSFT,Microsoft Corporation,279.83,-7.79,-2.71%,28.222M,36.972M,2.098T,29.80\n",
            "22,VALE,Vale S.A.,19.48,-0.43,-2.16%,25.599M,36.863M,94.376B,3.77\n",
            "23,AMC,\"AMC Entertainment Holdings, Inc.\",18.02,-0.51,-2.75%,25.334M,56.531M,9.25B,N/A\n",
            "24,CCL,Carnival Corporation & plc,19.56,+0.05,+0.26%,25.317M,39.147M,22.991B,N/A\n",
            "25,IQ,\"iQIYI, Inc.\",4.1200,-0.2000,-4.63%,25.194M,23.078M,3.548B,N/A\n",
            "26,XOM,Exxon Mobil Corporation,87.83,+1.02,+1.17%,24.566M,32.924M,371.836B,16.30\n",
            "27,TLRY,\"Tilray Brands, Inc.\",6.02,-0.40,-6.23%,23.546M,33.895M,2.996B,N/A\n",
            "28,PLTR,Palantir Technologies Inc.,12.42,-0.48,-3.72%,23.284M,51.937M,25.214B,N/A\n",
            "29,NLSN,Nielsen Holdings plc,27.40,-0.12,-0.44%,22.773M,11.051M,9.899B,10.25\n",
            "30,MRK,\"Merck & Co., Inc.\",86.91,+0.78,+0.91%,22.096M,12.292M,219.739B,16.92\n",
            "31,NOK,Nokia Oyj,5.11,-0.14,-2.67%,21.081M,28.57M,28.986B,16.38\n",
            "32,BABA,Alibaba Group Holding Limited,95.49,-4.54,-4.54%,20.931M,33.112M,257.932B,25.46\n",
            "33,DNA,\"Ginkgo Bioworks Holdings, Inc.\",3.8400,+0.0100,+0.26%,20.599M,17.508M,6.739B,N/A\n",
            "34,PBR-A,Petróleo Brasileiro S.A. - Petrobras,13.29,-0.22,-1.63%,20.287M,15.49M,74.45B,3.81\n",
            "35,TSLA,\"Tesla, Inc.\",985.00,-37.37,-3.66%,19.474M,26.108M,1.018T,200.98\n",
            "36,GOLD,Barrick Gold Corporation,25.20,-0.38,-1.49%,19.311M,23.472M,44.84B,22.16\n",
            "37,LCID,\"Lucid Group, Inc.\",21.01,-1.04,-4.72%,18.858M,28.738M,36.454B,N/A\n",
            "38,JPM,JPMorgan Chase & Co.,126.12,-1.18,-0.93%,18.835M,16.534M,370.427B,8.21\n",
            "39,OXY,Occidental Petroleum Corporation,59.34,-0.28,-0.47%,18.789M,34.409M,55.596B,37.75\n",
            "40,UBER,\"Uber Technologies, Inc.\",32.68,+0.05,+0.15%,18.763M,33.519M,63.888B,N/A\n",
            "41,MU,\"Micron Technology, Inc.\",70.13,-2.25,-3.11%,18.544M,24.285M,78.312B,8.83\n",
            "42,FB,\"Meta Platforms, Inc.\",210.18,-4.81,-2.24%,18.379M,37.854M,570.54B,15.26\n",
            "43,CSCO,\"Cisco Systems, Inc.\",51.17,-0.98,-1.88%,18.025M,22.138M,212.569B,18.27\n",
            "44,TSM,Taiwan Semiconductor Manufacturing Company Limited,98.36,-3.14,-3.09%,17.828M,13.04M,510.075B,24.81\n",
            "45,SNAP,Snap Inc.,33.19,-1.49,-4.30%,17.742M,36.211M,53.911B,N/A\n",
            "46,PFE,Pfizer Inc.,53.12,+0.02,+0.04%,17.24M,31.712M,300.01B,13.78\n",
            "47,INFY,Infosys Limited,20.46,-0.73,-3.45%,17.2M,11.187M,92.946B,30.09\n",
            "48,GRAB,Grab Holdings Limited,3.2000,-0.2800,-8.05%,17.179M,25.583M,11.971B,N/A\n",
            "49,VZ,Verizon Communications Inc.,53.83,-0.31,-0.57%,16.915M,25.087M,226.086B,10.12\n",
            "50,ABEV,Ambev S.A.,3.1000,-0.0400,-1.27%,16.902M,24.809M,49.145B,18.13\n",
            "51,AUY,Yamana Gold Inc.,6.21,+0.09,+1.47%,16.799M,19.721M,5.968B,41.40\n",
            "52,BMY,Bristol-Myers Squibb Company,77.51,+0.64,+0.83%,16.73M,15.273M,164.724B,24.84\n",
            "53,CMCSA,Comcast Corporation,47.58,-0.33,-0.69%,16.54M,22.591M,215.691B,15.65\n",
            "54,DKNG,DraftKings Inc.,16.49,-0.26,-1.55%,16.451M,27.81M,6.739B,N/A\n",
            "55,KO,The Coca-Cola Company,65.02,+0.29,+0.45%,16.388M,19.091M,281.861B,28.90\n",
            "56,MS,Morgan Stanley,84.76,+0.63,+0.75%,16.348M,11.604M,148.852B,10.56\n",
            "57,MRO,Marathon Oil Corporation,26.61,+0.04,+0.15%,16.235M,21.881M,19.121B,22.17\n",
            "58,OPEN,Opendoor Technologies Inc.,8.83,+0.07,+0.80%,16.233M,17.05M,5.476B,N/A\n",
            "59,PYPL,\"PayPal Holdings, Inc.\",102.31,-2.86,-2.72%,16.126M,22.745M,119.191B,29.07\n",
            "60,CLF,Cleveland-Cliffs Inc.,30.84,-1.18,-3.69%,15.585M,23.808M,16.173B,5.76\n",
            "61,NLY,\"Annaly Capital Management, Inc.\",6.77,-0.02,-0.29%,15.423M,24.849M,9.891B,4.23\n",
            "62,PTON,\"Peloton Interactive, Inc.\",23.87,-1.16,-4.63%,15.065M,23.708M,7.915B,N/A\n",
            "63,PDD,Pinduoduo Inc.,40.03,-3.88,-8.84%,14.358M,17.203M,50.169B,46.93\n",
            "64,ZNGA,Zynga Inc.,8.94,-0.02,-0.22%,14.248M,27.138M,10.167B,N/A\n",
            "65,ERIC,Telefonaktiebolaget LM Ericsson (publ),8.49,-0.87,-9.29%,13.945M,12.379M,29.516B,N/A\n",
            "66,RIG,Transocean Ltd.,4.5800,+0.0600,+1.33%,13.717M,24.786M,3.119B,N/A\n",
            "67,DIDI,DiDi Global Inc.,2.4600,-0.0800,-3.15%,13.525M,49.943M,11.865B,N/A\n",
            "68,RBLX,Roblox Corporation,42.36,-2.61,-5.80%,13.482M,24.815M,25.041B,N/A\n",
            "69,FSLY,\"Fastly, Inc.\",18.88,-0.18,-0.94%,13.436M,5.666M,2.271B,N/A\n",
            "70,GM,General Motors Company,40.13,-0.09,-0.22%,13.316M,19.636M,58.31B,5.99\n",
            "71,BEKE,KE Holdings Inc.,14.04,-0.35,-2.43%,13.112M,18.634M,21.028B,N/A\n",
            "72,NKE,\"NIKE, Inc.\",133.46,+5.97,+4.68%,12.811M,7.253M,210.035B,35.21\n",
            "73,NCLH,Norwegian Cruise Line Holdings Ltd.,21.64,+0.19,+0.89%,12.775M,22.81M,9.026B,N/A\n",
            "74,CSX,CSX Corporation,35.06,+0.17,+0.49%,12.727M,16.671M,76.381B,20.87\n",
            "75,KGC,Kinross Gold Corporation,6.14,0.00,0.00%,12.626M,22.309M,7.962B,36.12\n",
            "76,X,United States Steel Corporation,37.04,+0.17,+0.46%,12.615M,19.664M,9.65B,2.49\n",
            "77,ET,Energy Transfer LP,11.53,-0.03,-0.26%,12.533M,22.92M,35.545B,6.10\n",
            "78,UAL,\"United Airlines Holdings, Inc.\",45.13,-0.01,-0.02%,12.315M,15.113M,14.65B,N/A\n",
            "79,MO,\"Altria Group, Inc.\",54.98,+0.18,+0.33%,12.214M,9.114M,99.663B,41.15\n",
            "80,FCX,Freeport-McMoRan Inc.,49.19,-0.24,-0.49%,12.11M,18.525M,71.561B,16.96\n",
            "81,HOOD,\"Robinhood Markets, Inc.\",11.38,-0.51,-4.29%,12.084M,23.031M,9.51B,N/A\n",
            "82,M,\"Macy's, Inc.\",25.80,-0.02,-0.08%,11.993M,13.906M,7.349B,5.67\n",
            "83,SCHW,The Charles Schwab Corporation,82.75,-1.08,-1.29%,11.563M,8.403M,156.836B,29.24\n",
            "84,SIRI,Sirius XM Holdings Inc.,6.46,-0.07,-1.07%,11.314M,21.206M,25.504B,20.25\n",
            "85,CTRA,Coterra Energy Inc.,29.42,+0.29,+1.00%,11.147M,10.589M,23.859B,12.85\n",
            "86,ABBV,AbbVie Inc.,162.31,+3.36,+2.11%,11.075M,7.954M,286.685B,25.16\n",
            "87,PINS,\"Pinterest, Inc.\",22.16,-0.79,-3.44%,10.846M,13.246M,14.676B,48.17\n",
            "88,USB,U.S. Bancorp,52.71,+2.10,+4.15%,10.824M,8.389M,78.327B,10.34\n",
            "89,PLUG,Plug Power Inc.,25.77,-0.98,-3.66%,10.764M,21.493M,14.895B,N/A\n",
            "90,CS,Credit Suisse Group AG,7.51,-0.13,-1.70%,10.756M,11.71M,19.298B,N/A\n",
            "91,SLB,Schlumberger Limited,43.25,+0.68,+1.60%,10.715M,16.793M,61.118B,32.77\n",
            "92,SAIL,\"SailPoint Technologies Holdings, Inc.\",64.16,-0.04,-0.06%,10.663M,2.25M,6.047B,N/A\n",
            "93,HBAN,Huntington Bancshares Incorporated,13.36,-0.08,-0.60%,10.599M,12.786M,19.303B,14.84\n",
            "94,BCS,Barclays PLC,7.66,-0.06,-0.78%,10.533M,9.048M,32.099B,4.02\n",
            "95,CAIXY,\"CaixaBank, S.A.\",1.0800,-0.0500,-4.42%,10.391M,\"784,178\",26.491B,4.56\n",
            "96,JBLU,JetBlue Airways Corporation,12.78,+0.08,+0.63%,10.298M,9.898M,4.1B,N/A\n",
            "97,GILD,\"Gilead Sciences, Inc.\",61.82,-0.24,-0.39%,9.75M,11.446M,77.633B,12.54\n",
            "98,KOS,Kosmos Energy Ltd.,7.63,-0.11,-1.42%,9.72M,13.106M,3.524B,N/A\n",
            "99,CDEV,\"Centennial Resource Development, Inc.\",9.40,+0.16,+1.73%,9.694M,10.41M,2.679B,20.39\n",
            "\n"
          ]
        }
      ]
    },
    {
      "cell_type": "code",
      "source": [
        "# Close the Connection\n",
        "ftp_server.quit()"
      ],
      "metadata": {
        "colab": {
          "base_uri": "https://localhost:8080/",
          "height": 35
        },
        "id": "GMcH6YqhXlIa",
        "outputId": "c499e5d7-4927-4465-c7ad-e3b88f790db2"
      },
      "execution_count": null,
      "outputs": [
        {
          "output_type": "execute_result",
          "data": {
            "text/plain": [
              "'221 Goodbye.'"
            ],
            "application/vnd.google.colaboratory.intrinsic+json": {
              "type": "string"
            }
          },
          "metadata": {},
          "execution_count": 19
        }
      ]
    },
    {
      "cell_type": "code",
      "source": [
        "# Import Module\n",
        "import ftplib\n",
        " \n",
        "# Fill Required Information\n",
        "HOSTNAME = \"74.208.51.69\"\n",
        "USERNAME = \"stockftpusr\"\n",
        "PASSWORD = \"T11wz8w_\"\n",
        "#Connect FTP Server\n",
        "ftp_server = ftplib.FTP(HOSTNAME, USERNAME, PASSWORD)\n",
        "#ftp_server.login()\n",
        "# force UTF-8 encoding\n",
        "ftp_server.encoding = \"utf-8\"\n",
        "#ftp_server.cwd changing required directory\n",
        "ftp_server.cwd('/assets/yahoo/') "
      ],
      "metadata": {
        "colab": {
          "base_uri": "https://localhost:8080/",
          "height": 35
        },
        "id": "o-mB8rmWzdCc",
        "outputId": "17e1097d-e1ab-430e-d9ef-b8ba16aaf919"
      },
      "execution_count": null,
      "outputs": [
        {
          "output_type": "execute_result",
          "data": {
            "text/plain": [
              "'250 CWD command successful'"
            ],
            "application/vnd.google.colaboratory.intrinsic+json": {
              "type": "string"
            }
          },
          "metadata": {},
          "execution_count": 1
        }
      ]
    },
    {
      "cell_type": "code",
      "source": [
        "ftp_server.dir()"
      ],
      "metadata": {
        "colab": {
          "base_uri": "https://localhost:8080/"
        },
        "id": "Hgtf8a-LzgEc",
        "outputId": "03856ae0-c092-4445-e281-f81f41a7ea68"
      },
      "execution_count": null,
      "outputs": [
        {
          "output_type": "stream",
          "name": "stdout",
          "text": [
            "drwxr-xr-x   2 stockftpusr psacln       4096 Apr 18 11:10 most_active\n",
            "drwxr-xr-x   2 stockftpusr psacln       4096 Apr  1 05:19 yahoo_gainers\n",
            "drwxr-xr-x   2 stockftpusr psacln       4096 Apr  1 05:19 yahoo_losers\n",
            "drwxr-xr-x   2 stockftpusr psacln       4096 Apr  1 06:43 yahoo_trending\n"
          ]
        }
      ]
    },
    {
      "cell_type": "code",
      "source": [
        "# Close the Connection\n",
        "ftp_server.quit()"
      ],
      "metadata": {
        "id": "sHkeoc1zzphV",
        "outputId": "7f08e53f-bda2-47b3-c02f-886736e5b818",
        "colab": {
          "base_uri": "https://localhost:8080/",
          "height": 35
        }
      },
      "execution_count": null,
      "outputs": [
        {
          "output_type": "execute_result",
          "data": {
            "text/plain": [
              "'221 Goodbye.'"
            ],
            "application/vnd.google.colaboratory.intrinsic+json": {
              "type": "string"
            }
          },
          "metadata": {},
          "execution_count": 3
        }
      ]
    }
  ]
}