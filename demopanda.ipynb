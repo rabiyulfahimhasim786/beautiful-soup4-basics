{
  "nbformat": 4,
  "nbformat_minor": 0,
  "metadata": {
    "colab": {
      "name": "demopanda.ipynb",
      "provenance": [],
      "collapsed_sections": []
    },
    "kernelspec": {
      "name": "python3",
      "display_name": "Python 3"
    },
    "language_info": {
      "name": "python"
    }
  },
  "cells": [
    {
      "cell_type": "code",
      "execution_count": null,
      "metadata": {
        "colab": {
          "base_uri": "https://localhost:8080/"
        },
        "id": "MMjWLHsp0JqE",
        "outputId": "1571a6fc-04d0-47c4-b67a-79c62628d187"
      },
      "outputs": [
        {
          "output_type": "stream",
          "name": "stdout",
          "text": [
            "Requirement already satisfied: pandas in /usr/local/lib/python3.7/dist-packages (1.1.5)\n",
            "Requirement already satisfied: python-dateutil>=2.7.3 in /usr/local/lib/python3.7/dist-packages (from pandas) (2.8.2)\n",
            "Requirement already satisfied: pytz>=2017.2 in /usr/local/lib/python3.7/dist-packages (from pandas) (2018.9)\n",
            "Requirement already satisfied: numpy>=1.15.4 in /usr/local/lib/python3.7/dist-packages (from pandas) (1.19.5)\n",
            "Requirement already satisfied: six>=1.5 in /usr/local/lib/python3.7/dist-packages (from python-dateutil>=2.7.3->pandas) (1.15.0)\n"
          ]
        }
      ],
      "source": [
        "pip install pandas"
      ]
    },
    {
      "cell_type": "code",
      "source": [
        "pip install xlsxwriter"
      ],
      "metadata": {
        "colab": {
          "base_uri": "https://localhost:8080/"
        },
        "id": "9iFwEtQc2F0z",
        "outputId": "ba68ac2b-eaca-4692-ef63-43936ee1b2ce"
      },
      "execution_count": null,
      "outputs": [
        {
          "output_type": "stream",
          "name": "stdout",
          "text": [
            "Collecting xlsxwriter\n",
            "  Downloading XlsxWriter-3.0.2-py3-none-any.whl (149 kB)\n",
            "\u001b[?25l\r\u001b[K     |██▏                             | 10 kB 30.0 MB/s eta 0:00:01\r\u001b[K     |████▍                           | 20 kB 14.2 MB/s eta 0:00:01\r\u001b[K     |██████▋                         | 30 kB 9.9 MB/s eta 0:00:01\r\u001b[K     |████████▊                       | 40 kB 8.9 MB/s eta 0:00:01\r\u001b[K     |███████████                     | 51 kB 5.0 MB/s eta 0:00:01\r\u001b[K     |█████████████▏                  | 61 kB 5.1 MB/s eta 0:00:01\r\u001b[K     |███████████████▎                | 71 kB 5.4 MB/s eta 0:00:01\r\u001b[K     |█████████████████▌              | 81 kB 6.0 MB/s eta 0:00:01\r\u001b[K     |███████████████████▊            | 92 kB 6.1 MB/s eta 0:00:01\r\u001b[K     |█████████████████████▉          | 102 kB 5.1 MB/s eta 0:00:01\r\u001b[K     |████████████████████████        | 112 kB 5.1 MB/s eta 0:00:01\r\u001b[K     |██████████████████████████▎     | 122 kB 5.1 MB/s eta 0:00:01\r\u001b[K     |████████████████████████████▍   | 133 kB 5.1 MB/s eta 0:00:01\r\u001b[K     |██████████████████████████████▋ | 143 kB 5.1 MB/s eta 0:00:01\r\u001b[K     |████████████████████████████████| 149 kB 5.1 MB/s \n",
            "\u001b[?25hInstalling collected packages: xlsxwriter\n",
            "Successfully installed xlsxwriter-3.0.2\n"
          ]
        }
      ]
    },
    {
      "cell_type": "code",
      "source": [
        "pip install xlrd"
      ],
      "metadata": {
        "colab": {
          "base_uri": "https://localhost:8080/"
        },
        "id": "MNxE5GmP2IK8",
        "outputId": "55b11508-4b7a-4992-e114-9d5295106e7e"
      },
      "execution_count": null,
      "outputs": [
        {
          "output_type": "stream",
          "name": "stdout",
          "text": [
            "Requirement already satisfied: xlrd in /usr/local/lib/python3.7/dist-packages (1.1.0)\n"
          ]
        }
      ]
    },
    {
      "cell_type": "code",
      "source": [
        "pip install openpyxl"
      ],
      "metadata": {
        "colab": {
          "base_uri": "https://localhost:8080/"
        },
        "id": "YIhxE2ny2MhK",
        "outputId": "62632f00-6082-461e-fb2e-043a6b11cf9b"
      },
      "execution_count": null,
      "outputs": [
        {
          "output_type": "stream",
          "name": "stdout",
          "text": [
            "Requirement already satisfied: openpyxl in /usr/local/lib/python3.7/dist-packages (2.5.9)\n",
            "Requirement already satisfied: et-xmlfile in /usr/local/lib/python3.7/dist-packages (from openpyxl) (1.1.0)\n",
            "Requirement already satisfied: jdcal in /usr/local/lib/python3.7/dist-packages (from openpyxl) (1.4.1)\n"
          ]
        }
      ]
    },
    {
      "cell_type": "code",
      "source": [
        "import pandas as pd\n",
        "writer = pd.ExcelWriter('demo.xlsx', engine='xlsxwriter')\n",
        "writer.save()"
      ],
      "metadata": {
        "id": "d94_LLVm2PTy"
      },
      "execution_count": null,
      "outputs": []
    },
    {
      "cell_type": "code",
      "source": [
        "import pandas as pd\n",
        "\n",
        "# dataframe Name and Age columns\n",
        "df = pd.DataFrame({'Name': ['A', 'B', 'C', 'D'],\n",
        "                   'Age': [10, 0, 30, 50]})\n",
        "\n",
        "# Create a Pandas Excel writer using XlsxWriter as the engine.\n",
        "writer = pd.ExcelWriter('demo.xlsx', engine='xlsxwriter')\n",
        "\n",
        "# Convert the dataframe to an XlsxWriter Excel object.\n",
        "df.to_excel(writer, sheet_name='Sheet1', index=False)\n",
        "\n",
        "# Close the Pandas Excel writer and output the Excel file.\n",
        "writer.save()"
      ],
      "metadata": {
        "id": "b6y--ibk2SsL"
      },
      "execution_count": null,
      "outputs": []
    },
    {
      "cell_type": "code",
      "source": [
        "import pandas as pd\n",
        "writer = pd.ExcelWriter('test.xlsx', engine='xlsxwriter')\n",
        "writer.save()\n",
        "\n",
        "import pandas as pd\n",
        "\n",
        "# dataframe Name and Age columns\n",
        "df = pd.DataFrame({'Movie Title': ['A Star Is Born', 'Airplane', 'Alien', 'Aliens', 'Army of Darkness', 'Arnold Schwarzenegger', 'Assassin Of Youth', 'Avengers Endgame', 'Avengers Infinity Saga', 'Avengers Infinity War', 'Back To The Future', 'Back To The Future', 'Back To The Future', 'Batman Joker', 'Batman Joker', 'Beetlejuice', 'Beetlejuice', 'Beetlejuice', 'Big Lebowski', 'Big Trouble In Little China', 'Black Panther', 'Blade Runner', 'Blood In, Blood Out', 'Blow', 'Breakfast Club', 'Breakfast Club', 'Bride Of Frankenstein', 'Bride of Frankenstein', 'Bruce Lee', 'Bullitt', 'Caddyshack', 'Casablanca', \"Child's Play 2\", 'Church of Horror', 'Clint Eastwood', 'Clint Eastwood Dirty Harry', 'Commando', 'Creature From The Black Lagoon', 'Dazed and Confused', \"Devil's Harvest\", 'Dirty Dancing', 'Dracula', 'Dumb and Dumber', 'E.T.', 'E.T.', 'Edward Scissorhands', 'Eraserhead', 'Evil Dead'],\n",
        "                   #'Stock': ['Availability: In Stock', 'Availability: In Stock', 'Availability: In Stock', 'Availability: In Stock', 'Availability: In Stock', 'Availability: In Stock', 'Availability: Temporarily Out of Stock', 'Availability: Temporarily Out of Stock', 'Availability: In Stock', 'Availability: In Stock', 'Availability: In Stock', 'Availability: In Stock', 'Availability: In Stock', 'Availability: In Stock', 'Availability: In Stock', 'Availability: In Stock', 'Availability: Temporarily Out of Stock', 'Availability: Temporarily Out of Stock', 'Availability: In Stock', 'Availability: In Stock', 'Availability: Temporarily Out of Stock', 'Availability: Temporarily Out of Stock', 'Availability: Temporarily Out of Stock', 'Availability: Temporarily Out of Stock', 'Availability: Temporarily Out of Stock', 'Availability: Temporarily Out of Stock', 'Availability: In Stock', 'Availability: In Stock', 'Availability: In Stock', 'Availability: In Stock', 'Availability: Temporarily Out of Stock', 'Availability: Temporarily Out of Stock', 'Availability: Temporarily Out of Stock', 'Availability: Temporarily Out of Stock', 'Availability: Temporarily Out of Stock', 'Availability: Temporarily Out of Stock', 'Availability: In Stock', 'Availability: In Stock', 'Availability: In Stock', 'Availability: In Stock', 'Availability: In Stock', 'Availability: In Stock', 'Availability: In Stock', 'Availability: In Stock', 'Availability: In Stock', 'Availability: In Stock', 'Availability: In Stock', 'Availability: In Stock', 'Availability: Temporarily Out of Stock', 'Availability: Temporarily Out of Stock', 'Availability: Temporarily Out of Stock', 'Availability: Temporarily Out of Stock', 'Availability: In Stock', 'Availability: In Stock', 'Availability: In Stock', 'Availability: In Stock', 'Availability: Temporarily Out of Stock', 'Availability: Temporarily Out of Stock', 'Availability: Temporarily Out of Stock', 'Availability: Temporarily Out of Stock', 'Availability: In Stock', 'Availability: In Stock', 'Availability: In Stock', 'Availability: In Stock', 'Availability: Temporarily Out of Stock', 'Availability: Temporarily Out of Stock', 'Availability: In Stock', 'Availability: In Stock', 'Availability: In Stock', 'Availability: In Stock', 'Availability: Temporarily Out of Stock', 'Availability: Temporarily Out of Stock', 'Availability: In Stock', 'Availability: In Stock', 'Availability: Temporarily Out of Stock', 'Availability: Temporarily Out of Stock', 'Availability: In Stock', 'Availability: In Stock', 'Availability: In Stock', 'Availability: In Stock', 'Availability: In Stock', 'Availability: In Stock', 'Availability: In Stock', 'Availability: In Stock', 'Availability: In Stock', 'Availability: In Stock', 'Availability: In Stock', 'Availability: In Stock', 'Availability: In Stock', 'Availability: In Stock', 'Availability: In Stock', 'Availability: In Stock', 'Availability: In Stock', 'Availability: In Stock', 'Availability: In Stock', 'Availability: In Stock'],\n",
        "                   'Item Number': ['Item #: 53330 -', 'Item #: 53220 -', 'Item #: 51543 -', 'Item #: 53267 -', 'Item #: 44853 -', 'Item #: 51823 -', 'Item #: 52466 -', 'Item #: 53184c -', 'Item #: 54340 -', 'Item #: 52709 -', 'Item #: 53366b -', 'Item #: 53224 -', 'Item #: 48452 -', 'Item #: 51827 -', 'Item #: 51687 -', 'Item #: 52043 -', 'Item #: 53414 -', 'Item #: 54313 -', 'Item #: 47287 -', 'Item #: 53162 -', 'Item #: 52575 -', 'Item #: 52577 -', 'Item #: 52097b -', 'Item #: 44589 -', 'Item #: 44719 -', 'Item #: 53365 -', 'Item #: 51685 -', 'Item #: 53238b -', 'Item #: 53173 -', 'Item #: 53192b -', 'Item #: 50830 -', 'Item #: 50867b -', 'Item #: 53221 -', 'Item #: 53170b -', 'Item #: 51303 -', 'Item #: 52392 -', 'Item #: 54066 -', 'Item #: 52827 -', 'Item #: 48552 -', 'Item #: 38371 -', 'Item #: 49932b -', 'Item #: 51199b -', 'Item #: 47088 -', 'Item #: 28288 -', 'Item #: 53351 -', 'Item #: 41427 -', 'Item #: 54305 -', 'Item #: 42865b -'],\n",
        "                   'Retail Price': ['$7.99', '$8.99', '$8.99', '$8.99', '$8.99', '$8.99', '$8.99', '$8.99', '$8.99', '$8.99', '$8.99', '$8.99', '$8.99', '$8.99', '$8.99', '$8.99', '$8.99', '$8.99', '$8.99', '$8.99', '$8.99', '$8.99', '$8.99', '$8.99', '$8.99', '$8.99', '$8.99', '$8.99', '$8.99', '$8.99', '$8.99', '$8.99', '$8.99', '$8.99', '$7.99', '$8.99', '$8.99', '$8.99', '$8.99', '$8.99', '$8.99', '$8.99', '$8.99', '$9.99', '$8.99', '$8.99', '$8.99', '$8.99']})\n",
        "\n",
        "# Create a Pandas Excel writer using XlsxWriter as the engine.\n",
        "writer = pd.ExcelWriter('demo.xlsx', engine='xlsxwriter')\n",
        "\n",
        "# Convert the dataframe to an XlsxWriter Excel object.\n",
        "df.to_excel(writer, sheet_name='Sheet1', index=False)\n",
        "\n",
        "# Close the Pandas Excel writer and output the Excel file.\n",
        "writer.save()"
      ],
      "metadata": {
        "id": "CUYYIhCKAdeX"
      },
      "execution_count": null,
      "outputs": []
    },
    {
      "cell_type": "code",
      "source": [
        "import pandas as pd\n",
        "\n",
        "# dataframe Name and Age columns\n",
        "df = pd.DataFrame({'Job Title': ['Active Directory Jr. Engineer', 'Junior Software Engineer', 'Junior Software Engineer', 'Junior Software Engineer', 'Junior Software Engineer', 'Jr Software Developer', 'Junior Software Development Engineer-IND', 'Software Engineer - Python (Jr level)'],\n",
        "                   'Company Name': ['Teamware Solutions a division of Quantum Leap Consulting Pvt. Ltd', 'Mangtas', 'TAIGER', 'Canvas Craft Media', 'Mako IT Lab', 'Siemens Technology India', 'Ingram Micro', 'NielsenIQ'],\n",
        "                    'Location': ['Hyderabad, Telangana, India Remote', 'India Remote', 'Bengaluru, Karnataka, India Remote', 'Sahibzada Ajit Singh Nagar, Punjab, India Remote', 'Chennai, Tamil Nadu, India On-site', 'Chennai, Tamil Nadu, India On-site', 'Chennai, Tamil Nadu, India', 'Chennai, Tamil Nadu, India']})\n",
        "\n",
        "# Create a Pandas Excel writer using XlsxWriter as the engine.\n",
        "writer = pd.ExcelWriter('demo.xlsx', engine='xlsxwriter')\n",
        "\n",
        "# Convert the dataframe to an XlsxWriter Excel object.\n",
        "df.to_excel(writer, sheet_name='Sheet1', index=False)\n",
        "\n",
        "# Close the Pandas Excel writer and output the Excel file.\n",
        "writer.save()"
      ],
      "metadata": {
        "id": "yflaaKr44Czq"
      },
      "execution_count": null,
      "outputs": []
    }
  ]
}