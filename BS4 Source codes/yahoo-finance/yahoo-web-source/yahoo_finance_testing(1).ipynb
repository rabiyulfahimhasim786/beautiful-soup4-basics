{
  "nbformat": 4,
  "nbformat_minor": 0,
  "metadata": {
    "colab": {
      "name": "yahoo_finance_testing.ipynb",
      "provenance": [],
      "collapsed_sections": []
    },
    "kernelspec": {
      "name": "python3",
      "display_name": "Python 3"
    },
    "language_info": {
      "name": "python"
    }
  },
  "cells": [
    {
      "cell_type": "code",
      "execution_count": 5,
      "metadata": {
        "colab": {
          "base_uri": "https://localhost:8080/"
        },
        "id": "Dsb-Fd8balQP",
        "outputId": "054f0243-a228-45ff-9462-e101d58788ce"
      },
      "outputs": [
        {
          "output_type": "stream",
          "name": "stdout",
          "text": [
            "Collecting yahoo_fin\n",
            "  Downloading yahoo_fin-0.8.9.1-py3-none-any.whl (10 kB)\n",
            "Requirement already satisfied: pandas in /usr/local/lib/python3.7/dist-packages (from yahoo_fin) (1.3.5)\n",
            "Requirement already satisfied: requests in /usr/local/lib/python3.7/dist-packages (from yahoo_fin) (2.23.0)\n",
            "Collecting requests-html\n",
            "  Downloading requests_html-0.10.0-py3-none-any.whl (13 kB)\n",
            "Collecting feedparser\n",
            "  Downloading feedparser-6.0.8-py3-none-any.whl (81 kB)\n",
            "\u001b[K     |████████████████████████████████| 81 kB 4.0 MB/s \n",
            "\u001b[?25hCollecting sgmllib3k\n",
            "  Downloading sgmllib3k-1.0.0.tar.gz (5.8 kB)\n",
            "Requirement already satisfied: numpy>=1.17.3 in /usr/local/lib/python3.7/dist-packages (from pandas->yahoo_fin) (1.21.6)\n",
            "Requirement already satisfied: python-dateutil>=2.7.3 in /usr/local/lib/python3.7/dist-packages (from pandas->yahoo_fin) (2.8.2)\n",
            "Requirement already satisfied: pytz>=2017.3 in /usr/local/lib/python3.7/dist-packages (from pandas->yahoo_fin) (2022.1)\n",
            "Requirement already satisfied: six>=1.5 in /usr/local/lib/python3.7/dist-packages (from python-dateutil>=2.7.3->pandas->yahoo_fin) (1.15.0)\n",
            "Requirement already satisfied: urllib3!=1.25.0,!=1.25.1,<1.26,>=1.21.1 in /usr/local/lib/python3.7/dist-packages (from requests->yahoo_fin) (1.24.3)\n",
            "Requirement already satisfied: chardet<4,>=3.0.2 in /usr/local/lib/python3.7/dist-packages (from requests->yahoo_fin) (3.0.4)\n",
            "Requirement already satisfied: idna<3,>=2.5 in /usr/local/lib/python3.7/dist-packages (from requests->yahoo_fin) (2.10)\n",
            "Requirement already satisfied: certifi>=2017.4.17 in /usr/local/lib/python3.7/dist-packages (from requests->yahoo_fin) (2021.10.8)\n",
            "Collecting pyquery\n",
            "  Downloading pyquery-1.4.3-py3-none-any.whl (22 kB)\n",
            "Collecting w3lib\n",
            "  Downloading w3lib-1.22.0-py2.py3-none-any.whl (20 kB)\n",
            "Collecting pyppeteer>=0.0.14\n",
            "  Downloading pyppeteer-1.0.2-py3-none-any.whl (83 kB)\n",
            "\u001b[K     |████████████████████████████████| 83 kB 2.0 MB/s \n",
            "\u001b[?25hRequirement already satisfied: bs4 in /usr/local/lib/python3.7/dist-packages (from requests-html->yahoo_fin) (0.0.1)\n",
            "Collecting fake-useragent\n",
            "  Downloading fake-useragent-0.1.11.tar.gz (13 kB)\n",
            "Collecting parse\n",
            "  Downloading parse-1.19.0.tar.gz (30 kB)\n",
            "Requirement already satisfied: tqdm<5.0.0,>=4.42.1 in /usr/local/lib/python3.7/dist-packages (from pyppeteer>=0.0.14->requests-html->yahoo_fin) (4.64.0)\n",
            "Collecting urllib3!=1.25.0,!=1.25.1,<1.26,>=1.21.1\n",
            "  Downloading urllib3-1.25.11-py2.py3-none-any.whl (127 kB)\n",
            "\u001b[K     |████████████████████████████████| 127 kB 58.8 MB/s \n",
            "\u001b[?25hCollecting pyee<9.0.0,>=8.1.0\n",
            "  Downloading pyee-8.2.2-py2.py3-none-any.whl (12 kB)\n",
            "Requirement already satisfied: importlib-metadata>=1.4 in /usr/local/lib/python3.7/dist-packages (from pyppeteer>=0.0.14->requests-html->yahoo_fin) (4.11.3)\n",
            "Collecting websockets<11.0,>=10.0\n",
            "  Downloading websockets-10.3-cp37-cp37m-manylinux_2_5_x86_64.manylinux1_x86_64.manylinux_2_12_x86_64.manylinux2010_x86_64.whl (112 kB)\n",
            "\u001b[K     |████████████████████████████████| 112 kB 31.6 MB/s \n",
            "\u001b[?25hRequirement already satisfied: appdirs<2.0.0,>=1.4.3 in /usr/local/lib/python3.7/dist-packages (from pyppeteer>=0.0.14->requests-html->yahoo_fin) (1.4.4)\n",
            "Requirement already satisfied: zipp>=0.5 in /usr/local/lib/python3.7/dist-packages (from importlib-metadata>=1.4->pyppeteer>=0.0.14->requests-html->yahoo_fin) (3.8.0)\n",
            "Requirement already satisfied: typing-extensions>=3.6.4 in /usr/local/lib/python3.7/dist-packages (from importlib-metadata>=1.4->pyppeteer>=0.0.14->requests-html->yahoo_fin) (4.2.0)\n",
            "Requirement already satisfied: beautifulsoup4 in /usr/local/lib/python3.7/dist-packages (from bs4->requests-html->yahoo_fin) (4.6.3)\n",
            "Requirement already satisfied: lxml>=2.1 in /usr/local/lib/python3.7/dist-packages (from pyquery->requests-html->yahoo_fin) (4.2.6)\n",
            "Collecting cssselect>0.7.9\n",
            "  Downloading cssselect-1.1.0-py2.py3-none-any.whl (16 kB)\n",
            "Building wheels for collected packages: fake-useragent, parse, sgmllib3k\n",
            "  Building wheel for fake-useragent (setup.py) ... \u001b[?25l\u001b[?25hdone\n",
            "  Created wheel for fake-useragent: filename=fake_useragent-0.1.11-py3-none-any.whl size=13502 sha256=d1992dbce928037edfc2da9eacf6753e130f48d041d71f409e018d3fd698dfbe\n",
            "  Stored in directory: /root/.cache/pip/wheels/ed/f7/62/50ab6c9a0b5567267ab76a9daa9d06315704209b2c5d032031\n",
            "  Building wheel for parse (setup.py) ... \u001b[?25l\u001b[?25hdone\n",
            "  Created wheel for parse: filename=parse-1.19.0-py3-none-any.whl size=24591 sha256=73f288929f861c3e29a35bea4bd38752c52602df59dcb3cd38370e6a07abb9b9\n",
            "  Stored in directory: /root/.cache/pip/wheels/9c/aa/cc/f2228050ccb40f22144b073f15a2c84f11204f29fc0dce028e\n",
            "  Building wheel for sgmllib3k (setup.py) ... \u001b[?25l\u001b[?25hdone\n",
            "  Created wheel for sgmllib3k: filename=sgmllib3k-1.0.0-py3-none-any.whl size=6066 sha256=118f0a9176656f5db060705f8cf9e8b2e1d63c3b144cf2ab3361429873c74a5b\n",
            "  Stored in directory: /root/.cache/pip/wheels/73/ad/a4/0dff4a6ef231fc0dfa12ffbac2a36cebfdddfe059f50e019aa\n",
            "Successfully built fake-useragent parse sgmllib3k\n",
            "Installing collected packages: websockets, urllib3, pyee, cssselect, w3lib, sgmllib3k, pyquery, pyppeteer, parse, fake-useragent, requests-html, feedparser, yahoo-fin\n",
            "  Attempting uninstall: urllib3\n",
            "    Found existing installation: urllib3 1.24.3\n",
            "    Uninstalling urllib3-1.24.3:\n",
            "      Successfully uninstalled urllib3-1.24.3\n",
            "\u001b[31mERROR: pip's dependency resolver does not currently take into account all the packages that are installed. This behaviour is the source of the following dependency conflicts.\n",
            "datascience 0.10.6 requires folium==0.2.1, but you have folium 0.8.3 which is incompatible.\u001b[0m\n",
            "Successfully installed cssselect-1.1.0 fake-useragent-0.1.11 feedparser-6.0.8 parse-1.19.0 pyee-8.2.2 pyppeteer-1.0.2 pyquery-1.4.3 requests-html-0.10.0 sgmllib3k-1.0.0 urllib3-1.25.11 w3lib-1.22.0 websockets-10.3 yahoo-fin-0.8.9.1\n"
          ]
        }
      ],
      "source": [
        "pip install yahoo_fin"
      ]
    },
    {
      "cell_type": "code",
      "source": [
        "# load the stock_info module from yahoo_fin\n",
        "from yahoo_fin import stock_info as si\n",
        "\n",
        "# get Apple's live quote price\n",
        "si.get_live_price(\"AAPL\")\n",
        "\n",
        "# or Amazon's\n",
        "si.get_live_price(\"AMZN\")\n",
        "#si.get_premarket_price(\"AMZN\")\n",
        "#si.get_prev_close(\"AMZN\")"
      ],
      "metadata": {
        "colab": {
          "base_uri": "https://localhost:8080/"
        },
        "id": "cR5MJUIXarXx",
        "outputId": "24594e32-124d-4da0-d174-a155d605f49e"
      },
      "execution_count": 6,
      "outputs": [
        {
          "output_type": "execute_result",
          "data": {
            "text/plain": [
              "2138.610107421875"
            ]
          },
          "metadata": {},
          "execution_count": 6
        }
      ]
    },
    {
      "cell_type": "code",
      "source": [
        "si.get_quote_table(\"WERN\")"
      ],
      "metadata": {
        "colab": {
          "base_uri": "https://localhost:8080/"
        },
        "id": "NLpwqYSIiUnz",
        "outputId": "f312ff78-bd37-4514-edfc-273ea69f2a86"
      },
      "execution_count": 16,
      "outputs": [
        {
          "output_type": "execute_result",
          "data": {
            "text/plain": [
              "{'1y Target Est': 48.47,\n",
              " '52 Week Range': '36.29 - 48.96',\n",
              " 'Ask': '44.00 x 900',\n",
              " 'Avg. Volume': 919148.0,\n",
              " 'Beta (5Y Monthly)': 0.84,\n",
              " 'Bid': '36.00 x 2900',\n",
              " \"Day's Range\": '40.65 - 42.69',\n",
              " 'EPS (TTM)': 3.82,\n",
              " 'Earnings Date': 'Jul 27, 2022 - Aug 01, 2022',\n",
              " 'Ex-Dividend Date': 'Apr 14, 2022',\n",
              " 'Forward Dividend & Yield': '0.48 (1.15%)',\n",
              " 'Market Cap': '2.735B',\n",
              " 'Open': 41.7,\n",
              " 'PE Ratio (TTM)': 11.01,\n",
              " 'Previous Close': 41.79,\n",
              " 'Quote Price': 42.040000915527344,\n",
              " 'Volume': 1313728.0}"
            ]
          },
          "metadata": {},
          "execution_count": 16
        }
      ]
    },
    {
      "cell_type": "code",
      "source": [
        "import pandas as pd\n",
        "\n",
        "read_file = pd.read_csv (r'normal.txt')\n",
        "read_file.to_csv (r'new.csv', index=None)"
      ],
      "metadata": {
        "id": "YCtBs8ERavl3"
      },
      "execution_count": 7,
      "outputs": []
    },
    {
      "cell_type": "code",
      "source": [
        "# reading a second row in csv\n",
        "import csv\n",
        "noise_amp=[]         #an empty list to store the second column\n",
        "with open('new.csv', 'r') as rf:\n",
        "    reader = csv.reader(rf, delimiter=',')\n",
        "    for row in reader:\n",
        "        noise_amp.append(row[0]) # which row we need to read , 1 is frist row , 2 is second row\n",
        "    print(noise_amp)"
      ],
      "metadata": {
        "colab": {
          "base_uri": "https://localhost:8080/"
        },
        "id": "6Gr_5lzLaz_s",
        "outputId": "49f8b664-8178-4139-cfd5-eb2957f9cf20"
      },
      "execution_count": 8,
      "outputs": [
        {
          "output_type": "stream",
          "name": "stdout",
          "text": [
            "['PBCT', 'BEKE', 'KOS', 'MTDR', 'CPT', 'HPQ', 'CDEV', 'QCOM', 'BILI', 'EDU', 'JD', 'UMC', 'VIV', 'WBA', 'INFY', 'NLSN', 'KEY', 'VIPS', 'ERIC', 'FCEL', 'X', 'BMY', 'HBAN', 'ALLG', 'JBHT', 'HUBG', 'SDXAY', 'SNDR', 'EMBCV', 'WERN', 'LSTR', 'SMBMF', 'NPNYY', 'NSC', 'ODFL', 'R', 'SCBFF', 'KNX', 'COMP', 'MKSI', 'TFII', 'LLDTF', 'CRDO', 'ACLS', 'CP', 'DNUT', 'UNP', 'AAWW', 'ON', 'CNI', 'ALE', 'ENTG', 'HTZ', 'ACIW', 'FWRD', 'MPWR', 'DAVE', 'FDX', 'HRI', 'CHRW', 'MATX', 'SGIOY', 'TBK', 'GPS', 'TUIFY', 'XPO', 'DXC', 'EXPI', 'FNF', 'FICO', 'UPS', 'CXMSF', 'WFG', 'VRRM', 'COLB', 'DIOD', 'RF', 'SITM', 'BRDG', 'AZO', 'AMAT', 'WEX', 'TNL', 'MXL', 'PCAR', 'EPAM', 'CF', 'LOGI', 'ZETA', 'LSCC', 'FAF', 'ALPMY', 'EXPD', 'CRI', 'VORB', 'CMPGY', 'GXO', 'FITB', 'MTB', 'TSCO', 'SEAS', 'TGDLF', 'FUTU', 'YMM', 'OLLI', 'NRGV', 'NEGG', 'SPWR', 'CZOO', 'ZNTL', 'KIND', 'NVNXF', 'UNLRY', 'RLAY', 'PACB', 'NVX', 'SHLS', 'BIDU', 'RCUS', 'ASOMY', 'YY', 'BYDDF', 'BYDDY', 'LILAK', 'EVVTY', 'CITAF', 'POYYF', 'OKTA', 'LILA', 'HDB', 'NFE', 'BLDP', 'PTAIY', 'DQ', 'LLKKF', 'LAW', 'TSP', 'PD', 'BE', 'NOVA', 'MPNGY', 'ZLNDY', 'APPN', 'LU', 'VMEO', 'BOLSY', 'ATER', 'SBFM', 'SST', 'LILM', 'NNOX', 'GGR', 'MFA', 'TEVA', 'SAVA', 'ANY', 'RCON', 'RH', 'BRCC', 'CVE.TO', 'GNRC', 'CGNT', 'ENB', 'VRTX', 'RCL', 'TANH', 'IMRA', 'AYI', 'GLG', 'JBLU', 'SAVE', 'CFLT', 'NET', 'PLAY', 'MMYT', 'SNOW', 'EGFEY', 'WRBY', 'SHAK', 'ULCC', 'DDOG', 'LSPD', 'NTCO', 'AGL', 'OLO', 'NTLA', 'TDOC', 'AI', 'ONEM', 'TEAM', 'TXG', 'TASK', 'RIOT', 'ABLZF', 'EMBK', 'CZR', 'MDB', 'MTTR', 'TWST', 'LYSCF', 'ZM', 'MSTR', 'LYSDY', 'SG', 'ARVL', 'CFRUY', 'VCSA', 'ADYEY', 'IGT', 'ANZLY', 'GOGO', 'BBAJF', 'NGCRF', 'BCCLF', 'RPM', 'MOS', 'PTR', 'FMCKM', 'SMPL', 'BEPTF', 'IMBBY', 'RES', 'CRK', 'RRC', 'IOVA', 'YETI', 'SMAR', 'MARA', 'FVRR', 'TTD', 'BILL', 'COUR', 'VSCO', 'DADA', 'RVLV', 'ATASY', 'DELKY', 'WFRD', 'PBF', 'LXU', 'VAL', 'PCRX', 'PPC', 'EQT', 'VLO', 'AZZVF', 'TKAMY', 'LAZR', 'PENN', 'SKIN', 'CD', 'ANET', 'CALX', 'GCTAY', 'HUBS', 'RAIFY', 'FSLY', 'TSM', 'MRVL', 'CCCS', 'PAGS', 'MLCO', 'DAN', 'GPI', 'RYKKY', 'ATHM', 'SES', 'LUV', 'LEG', 'STNE', 'TROX', 'KEP', 'KD', 'LEVI', 'PIPR', 'HTHT', 'LVS', 'CFX', 'BEN', 'PSX', 'LKNCY', 'TCOM', 'ABG', 'HMC', 'WYNN', 'PNFP', 'QFIN', 'CWK', 'LEA', 'CC', 'SMMYY', 'BWA', 'CDK', 'EURN', 'NXE', 'LW', 'BAK', 'CIXX', 'CCJ', 'AJRD', 'STZ', 'DPSTF', 'ZS', 'ALNY', 'COUP', 'ENPH', 'TIIAY', 'GLNG', 'PLTK', 'BML-PG', 'AMRC', 'VCISY', 'CRWD', 'NOG', 'LAC', 'ISBC', 'HMHC', 'JXHLY', 'MMI', 'MNSO', 'GPN', 'MAC', 'RL', 'MHK', 'COTY', 'BHVN', 'TTDKY', 'GTBIF', 'ARVN', 'COOP', 'PARA', 'ALSMY', 'IBRX', 'FMCCJ', 'ATASF', 'TABCF', 'EBR-B', 'KPLUY', 'PSMT', 'FLMMF', 'NEX', 'WBDWV', 'CTRA', 'WDFC', 'FNMAL', 'KRYPF', 'PIAIF', 'DISCB', 'PSFE', 'DISCA', 'DISCK', 'HAL', 'EBR', 'EOG', 'BVN', 'NOV', 'SVNLF', 'MGY', 'HNP', 'RLX', 'PTEN', 'APA', 'SVNLY', 'CPG', 'CACC', 'LBRT', 'MRRTY', 'ZIJMF', 'EQRX', 'FTI', 'HES', 'BKGFY', 'ACHC', 'FNMAJ', 'KCDMY', 'STOHF', 'CAH', 'YASKY', 'RYDAF', 'EGO', 'BSM', 'ERF', 'PXD', 'SWTX', 'CMSQY', 'DNBBY', 'EDVMF', 'SLB', 'JBSAY', 'DKS', 'EQX', 'AAP', 'CVT', 'OI', 'BCRX', 'LXP', 'CX', 'CVX', 'GILD', 'KR', 'NUTX', 'RXT', 'MLSPF', 'TRTN', 'BAP', 'ABCL', 'JTKWY', 'AYX', 'HELFY', 'RGEN', 'SSMXY', 'ONTO', 'FORM', 'MRCY', 'KTOS', 'BCH', 'DASTY', 'GMAB', 'AEIS', 'DNLI', 'CWAN', 'WUXAY', 'TRUP', 'PGNY', 'ALHC', 'SEDG', 'SDGR', 'RKUNY', 'FROG', 'KWR', 'KKOYY', 'FLYW', 'SPT', 'FATE', 'UNVGY', 'EQNR', 'MEGEF', 'DVN', 'CLR', 'WOOF', 'REPYY', 'AHKSY', 'LPLA', 'SPGYF', 'WHD', 'FSNUY', 'KHOLY', 'TDS', 'GOGL', 'GKOS', 'DVA', 'AN', 'TTM', 'BMRN', 'HEP', 'PRMRF', 'SSL', 'KMX', 'CIADY', 'COP', 'IPXHY', 'SFM', 'SAIL', 'MSP', 'PING', 'SCGLY', 'AKBTY', 'DRKTF', 'BURL', 'FNMAH', 'RPD', 'TENB', 'AMPH', 'VRNS', 'PRYMY', 'AVAV', 'NTNX', 'RYAAY', 'ROST', 'ICAGY', 'AXAHY', 'LCII', 'PAG', 'FL', 'DY', 'PPERF', 'FIVN', 'JKS', 'MNTV', 'OWL', 'BRZE', 'ESAB', 'QLYS', 'FOXF', 'BBWI', 'SIVB', 'WSM', 'GNENF', 'ACAD', 'STER', 'PEN', 'INMD', 'HCM', 'CENX', 'BRFS', 'HOCPY', 'HGTY', 'DB', 'IDXX', 'HPK', 'DSDVY', 'VICR', 'GELYF', 'SONY', 'OVV', 'DFKCY', 'MORN', 'WYNMY', 'GELYY', 'TCCPY', 'PNGAY', 'BEAM', 'HRMY', 'SHZHY', 'WXXWY', 'ICLR', 'NARI', 'PUK', 'CGNX', 'SNPHY', 'NTRA', 'ASMIY', 'NJDCY', 'MSSMY', 'ABMD', 'RNECY', 'SQM', 'BPMC', 'MRK', 'WMB', 'VERU', '1024.HK', 'HOTH', 'ATHX', 'PTE', '^IXIC', 'IBIO', 'COALINDIA.NS', 'Y', '0669.HK', 'EVTL', 'GIGNF', 'NTOIY', 'HNLGF', 'SIMO', 'KSS', 'DH', 'OPK', 'ARLP', 'HSHCY', 'RKLB', 'SGHC', 'CERT', 'LZ', 'DCP', 'RAZFF', 'HESM', 'TMVWY', 'MODV', 'INFA', 'AMPL', 'WES', 'LZRFY', 'ATSG', 'CQP', 'PAGP', 'BCC', 'RCM', 'LVMUY', 'CEA', 'HP', 'CMP', 'IHS', 'EVH', 'ENLC', 'FINMF', 'SCHYY', 'SHOO', 'EPIAF', 'CNQ', 'CHX', 'FHN', 'CFG', 'ACI', 'EVOTF', 'EVO', 'NONOF', 'CTLT', 'CRZBF', 'KMTUF', 'AMED', 'TAIPY', 'AIBRF', 'FANUY', 'BIO', 'LNVGY', 'CRZBY', 'CORZ', 'MKTAY', 'GSHD', 'KMTUY', 'MP', 'SMNNY', 'GO', 'OHI', 'LAD', 'VRT', 'KUBTY', 'SBRA', 'A', 'OCDDY', 'PAY', 'PAX', 'UNCRY', 'BTLCY', 'RYCEY', 'PHG', 'RNG', 'IBDSF', 'MRTX', 'BJ', 'DHR', 'SMCAY', 'ADRNY', 'ENSG', 'WST', 'ESALY', 'SHIB-USD', 'BBBY', 'SHIB-CAD', 'GNS', 'TTLHF', 'HSTO', 'ATNM', 'SONN', 'AGRX', 'QLGN', '0883.HK', 'POONAWALLA.NS', 'SCHW', 'TD.TO', 'EPD', 'LIN', 'HCC', 'LNTH', 'ASH', 'ALGT', 'NTES', 'PLL', 'CUK', 'MT', 'ABNB', 'TRIP', 'PVH', 'PK', 'APLS', 'DKILY', 'ASX', 'YOU', 'TEF', 'MRNA', 'AAFRF', 'SPLK', 'MAR', 'ZIM', 'HLMN', 'EAF', 'TSCDY', 'CILJF', 'REYN', 'CGSHY', 'CIHHF', 'BLK', 'BCTX', 'ATRS', 'SRRA', 'KLDO', 'GS', 'FAST', 'STAB', 'ARTL', 'METX', 'CTIC', 'KKPNY', 'VALN', 'NDEKY', 'OTSKY', 'MIELY', 'RPRX', 'PALAF', 'HALO', 'HII', 'IBM', 'SKHSY', 'USB', 'MS', 'JHX', 'ATI', 'KBR', 'FMCKN', 'ZTCOY', 'FRCOY', 'NKE', 'CAT', 'ACCYY', 'CRS', 'DAR', 'XYIGF', 'WHGLY', 'CAOVY', 'XPRO', 'WTBDY', 'PRGS', 'ESYJY', 'BIPC', 'CCEP', 'JAZZ', 'BML-PL', 'ACC', 'XRAY', 'JNJ', 'IBN', 'TFC', 'ICHBF', 'SMCI', 'BDDDY', 'SYAXF', 'PHJMF', 'TMSNY', 'CNNE', 'NVRO', 'TPRKY', 'FND', 'AMSYF', 'MLI', 'ATRC', 'DECK', 'MAN', 'DBRG', 'LDSCY', 'SGMS', 'ISRG', 'COVTY', 'VCTR', 'IRDM', 'AXON', 'ADT', 'QTWO', 'EVR', 'DOCU', 'VEEV', 'ITVPF', 'BMI', 'CIBEY', 'AG', 'CIG-C', 'INPOY', 'USM', 'STVN', 'NUVSF', 'TRV', 'CIG', 'AETUF', 'SSREY', 'LAUR', 'SBS', 'CIHKY', 'GLPEY', 'IFJPY', 'ARZGY', 'BDORY', 'PDCO', 'RHHBY', 'WMMVY', 'CRHKY', 'BIREF', 'CIVI', 'XNGSY', 'LZAGY', 'TSYHY', 'PROSF', 'BG', 'BTGOF', 'ERIXF', 'KRYAY', 'TKOMY', 'PDCE', 'SEV', 'CMPI', 'CRXT', 'STSS', 'RELIANCE.NS', 'ANF', 'BRQS', 'PTPI', 'AJBU.SI', 'EICHERMOT.NS', 'DOGE-CAD', 'PLD', 'DOGE-USD', 'LT.NS', 'ASML', 'LTI.NS', 'ASML.AS', 'PG', 'LULU', 'NQ=F', 'ELON-USD', 'AXSM', 'DOT-USD', 'BRK-A', 'ABT', 'IO', 'WINT', 'WWR', 'ANTM', 'NDAQ', 'ALVR', 'ARCT', 'FNGU', 'LRCX', 'LGF-B', 'LGF-A', 'LI', 'BHPLF', 'DUFRY', 'RIO', 'ROIV', 'NAVI', 'UPWK', 'AVNT', 'DANOY', 'RCI', 'OMC', 'LPX', 'CRH', 'BUD', 'VRTV', 'MKTX', 'KLAC', 'STM', 'ALKS', 'AZTA', 'FTNT', 'TER', 'BDC', 'VC', 'EXPGY', 'NTAP', 'TT', 'KLIC', 'BNPQY', 'CALM', 'TYIDY', 'GRFS', 'WDC', 'HTHIY', 'ATKR', 'HCA', 'CWEN', 'WAL', 'THC', 'PTITF', 'FBBPF', 'BKRKF', 'REXR', 'NLLSF', 'DTRUY', 'LEGN', 'SVNDY', 'WTFC', 'FIX', 'HEINY', 'SRUUF', 'HSQVY', 'DKL', 'INGVF', 'AAVMY', 'SDVKY', 'ETRN', 'ACOPY', 'NSANY', 'WAT', 'TRNO', 'IPG', 'ITGR', 'EXP', 'ABM', 'PPERY', 'NRG', 'EGP', 'PUBGY', 'BBSEY', 'EPOKY', 'CDW', 'ASAZY', 'AWR', 'FR', 'BSX', 'TMO', 'SCRYY', 'AVTR', 'AVTR-PA', 'RQI', 'VMC', 'IR', 'PARAA', 'CCOZF', 'TGOPF', 'GCHOY', 'PYCR', 'VLOWY', 'UNFI', 'DNKEY', 'GNW', 'RYAN', 'ACT', 'AIRC', 'CRGY', 'MOH', 'ENIA', 'CNC', 'ENIC', 'RAD', 'SHOP.TO', '2168.HK', '0700.HK', 'NQM22.CME', '3690.HK', '9618.HK', 'VMI', 'ETWO', 'POOL', 'STLD', 'WSO', 'DLAKY', 'NUE', 'ABB', 'DOW', 'EADSY', 'ALV', 'CPA', 'PPRUY', 'WCC', 'FULT', 'VWAGY', 'SNN', 'PFGC', 'VLRS', 'MMC', 'AMKR', 'AMBA', 'EWBC', 'WPP', 'PSO', 'DRH', 'ITCB', 'CAKE', 'GLPG', 'MNDT', 'HST', 'XRX', 'OUKPY', 'AKZOY', 'BXBLY', 'JCYGY', 'RLI', 'PRDSY', 'AAON', 'SKHCF', 'EEFT', 'UPMMY', 'TRKNY', 'KIROY', 'ITMPF', 'LTHM', 'PWR', 'PWSC', 'ALGN', 'EFX', 'MAXR', 'SMG', 'CG', 'AES', 'VSAT', 'GTLS', 'MUR', 'PACW', 'DOV', 'CERE', 'CRSR', 'CYN', 'ES=F', 'DWAC', 'BS6.SI', 'CRM', 'SPY', 'YM=F', 'BORORENEW.NS', 'QQQ', '^TNX', 'AWL.NS', '^VIX', 'RENUKA.NS', 'SQQQ', 'BX', 'GBPHKD=X', 'GBPUSD=X', 'SAP.DE', 'MATIC-USD', 'FING-B.ST', 'HOLN.SW', 'KER.PA', 'MITQ', 'CEI', 'ESM22.CME', 'NNDM', 'BN4.SI', 'POLYCAB.NS', 'GFAI', 'KMB', 'SAP', 'SAM', 'GRPAF', 'ESTA', 'GNTX', 'UFPI', 'WB', 'GMED', 'UHS', 'HTH', 'CHFLF', 'MPNGF', 'SNPHF', 'CHWRF', 'TCEHY', 'PROSY', 'MGA', 'MPW', 'CSPCY', 'AACAY', 'CRRFY', 'ITCI', 'SYK', 'CLPBY', 'RDEIY', 'EDR', 'SNMRY', 'EHC', 'TCNNF', 'ALL', 'BDRBF', 'URBN', 'EW', 'AUOTY', 'SEOAY', 'NHYKF', 'HCMLY', 'XM', 'CAHPF', 'ZBH', 'SON', 'PODD', 'BAX', 'HZNP', 'STE', 'ALLE', 'DXCM', 'MDT', 'HTGC', 'CRL', 'TNDM', 'PAYX', 'PSN', 'APD', 'TJX', 'INSP', 'GPC', 'KMT', 'IQV', 'NVCR', 'OMI', 'JWN', 'PKI', 'FFBC', 'VLON', 'BKEP', 'SCYX', 'CFVI', 'BDOUY', 'LNG', 'TFX', 'IDEXF', 'COO', 'CNMD', 'NUS', 'OPCH', 'RMD', 'IART', 'ROK', 'NUVA', 'URI', 'PGR', 'UBSFY', 'CODYY', 'MMSI', 'LESL', 'HKXCY', 'GOL', 'TV', 'KMPR', 'LIVN', 'GFL', 'SMMNY', 'LNNGF', 'ALBKY', 'FQVLF', 'ASO', 'WLL', 'OAS', 'SBUX', 'HCDI', 'VOO', 'OCDGF', 'IHRT', 'FOJCY', 'DOGZ', 'NBGIF', 'GBOOY', 'EA', 'SSU', 'BMRRY', 'CSGKF', 'RNW', 'SHY', 'TOSYY', 'TTWO', 'LNVGF', 'SIG', 'KGFHY', 'CURLF', 'SUTNY', 'VTI', 'UVXY', 'OPMXF', 'GWLLF', 'OGCP', 'BBLN', 'RY.TO', 'ITA', 'IEO', 'UNH', 'EE', 'CENN', '^RUT', 'BRK-B', 'HD', 'V', 'CL=F', '^HSI', '^N225', '000001.SS', 'ADANIPOWER.NS', '9988.HK', '^FTSE', 'BTC-CAD', '6862.HK', 'CLM22.NYM', 'YMM22.CBT', 'ICICIBANK.NS', 'NG=F', '^NSEI', '^BSESN', 'NMDC.NS', '^CMC200', '^NSEBANK', '1772.HK', 'C6L.SI', '0857.HK', 'RTY=F', 'ATVI', '0005.HK', '0981.HK', 'PHIA.AS', '^FCHI', '^GDAXI', 'IOC.NS', '2800.HK', 'CANG', 'VXRT', 'ERYP', 'TTCF', 'SNDL', 'TPGVF', 'ARDX', 'NKTX', 'TBLT', 'MCLS.L', 'SYNH', 'SLCJY', 'MEOH', 'TIAOF', 'DE', 'BPAQF', 'PAA', 'SAPGF', 'RCRUY', 'PSB', 'SGFY', 'GSAT', 'PANW', 'GDDY', 'TKGBY', 'UNICY', 'CVI', 'LII', 'TRGP', 'OLN', 'IMO', 'BHP', 'ATUS', 'TX', 'OTIS', 'QNRX', 'PEP', 'DINO', 'TS', 'VNOM', 'MELI', 'ESTC', 'NVMI', 'AEG', 'CINT', 'SHECY', 'NICMF', 'OKE', 'EC', 'CRC', 'SU.TO', 'ADBE', 'SAN', 'TEO', 'ICL', 'MTN', 'CLVT', 'PCOR', 'EXAS', 'CPCAF', 'NTR', 'CCOEY', 'ACVA', 'LMDX', 'MPLX', 'CNQ.TO', 'RDBX', 'BCDRF', 'BOOT', 'TXRH', 'NG', 'TDCX', 'JAMF', 'THNPY', 'HAE', 'BLDR', 'TOL', 'YELP', 'TTNDY', 'GBT', 'EVCM', 'SKYH', 'DAVA', 'MED', 'ODP', 'BLD', 'AGCO', 'CEQP', 'SPHD', 'CLVS', 'WKEY', 'VUZI', 'FSUMF', 'ATLKY', 'GNGYF', 'OVCHF', 'NWE', 'AB', 'HXGBY', 'BURBY', 'GRBMF', 'AMBP', 'BKH', 'HYG', 'SUBCY', 'CNXC', 'ENGQF', 'KBH', 'TBVPF', 'CYDY', 'MTNOY', 'TWI', 'TW', 'AVDL', 'WHR', 'CDNS', 'AMP', 'ZION', 'PTGX', 'OMF', '0001.HK', '1299.HK', 'Z74.SI', 'BHP.AX', 'UBS', 'DOGE-EUR', 'MAERSK-B.CO', '1099.HK', '^AORD', 'QK', 'GE', 'VNTR', 'ADANIPORTS.NS', 'ADANIENT.NS', '0011.HK', 'HSBA.L', 'HSBC', 'DOGE-GBP', 'MOTHERSUMI.NS', 'ABF.L', 'DATS', 'SAN.MC', 'MMM', 'DHI', 'RTX', 'ARCC', 'PII', 'WM', 'GLW', 'ADM', 'GMDA', 'IVZ', 'SHW', 'ROP', 'NSP', 'AXTA', 'HUBB', 'AVY', 'SPPJY', 'TLK', 'HENOY', 'RSG', 'HXL', 'BSBR', 'MEDP', 'AWI', 'BBVA', 'XYIGY', 'LFC', 'CMCLF', 'AIN', 'ST', 'JZXN', 'EVOK', 'ECL', 'MX', 'PPG', 'NTRS', 'WCN', 'ARNC', 'CCK', 'GLOB', 'SAFE', 'AMKBY', 'FELE', 'MCW', 'INTU', 'SNPMF', 'GT', 'ALFFF', 'CHGCY', 'DK', 'VLEEY', 'POAHY', 'CMG', 'ATLCY', 'ASBFY', 'RNLSY', 'BIGZ', 'STLA', 'WING', 'ARKK', 'HOUR', 'GNGBY', 'ABCM', 'YSHLF', 'MSCI', 'PZZA', 'BKKT', 'ALFVY', 'MPC', 'PAC', 'ASR', 'MAKSY', 'SCBFY', 'AMCR', 'NCR', 'PSB-PX', 'CYTK', 'HYMC', 'TXN', 'MDLZ', 'MA', 'BAJFINANCE.NS', 'KPITTECH.NS', 'TOKMAN.HE', 'FORTUM.HE', 'DBK.DE', 'COSM', 'KTRA', 'CHKP', 'HIMS', 'HUM', 'KHC', 'GRMN', 'FISV', 'GD', 'ADP', 'CME', 'TMUS', 'JBT', 'MAT', 'FFIV', 'CSGP', 'SLAB', 'ZTO', 'TRN', 'SKX', 'MAS', 'CTTAY', 'OC', 'CSTM', 'STX', 'DRVN', 'SAUHY', 'SKBSY', 'JPXGY', 'JNPR', 'BKNG', 'KUNUF', 'IFNNY', 'TGOPY', 'RTMVY', 'PANDY', 'CB', 'GFS', 'SIEGY', 'VWAPY', 'FBASF', 'ADDYY', 'RUSHA', 'SBGSY', 'SMFKY', 'ESLOY', 'EONGY', 'DPSGY', 'BASFY', 'VLVLY', 'EKTAY', 'ZWS', 'KNRRY', 'RTOKY', 'FHNGY', 'SKM', 'APAM', 'FINMY', 'RHCGF', 'PCRFF', 'FRME', 'DQJCY', 'ABCB', 'VIVK', 'AFIB', 'RHI', 'FNMAI', 'ANYYY', 'ARGX', 'BYD', 'AAGIY', 'LPL', 'ENGIY', 'OSK', 'GPK', 'CIAFF', 'NYCB', 'KNBWY', 'HOKCF', 'FMCKI', 'KAEPY', 'CNM', 'MTH', 'RRR', 'LYV', 'CR', 'HYPMY', 'MDC', 'SF', 'EQR', 'TPSRF', 'CHIZF', 'SSTK', 'AIMC', 'DSNKY', 'WBRBY', 'CSUAY', 'CNR.TO', 'ING', 'WAB', 'TEL', 'BAYRY', 'BTDPY', 'TLSNY', 'ORKLY', 'HOKCY', 'FIS', 'THUPY', 'SYIEY', 'DIISF', 'DNNGY', 'IFS', 'SLN', 'ROL', 'EDNMY', 'BBVXF', 'CWT', 'HLDCY', 'BFFAF', 'SLG', 'TPST', 'CIGI', 'TSGTY', 'PSB-PY', 'DWACW', 'ACON', 'MVIS', 'LCFY', 'PAVM', 'ESRT', 'RUSHB', 'HAYW', 'CMTG', 'NHI', 'DORM', 'NVR', 'WXIBF', 'AXS', 'AHCHY', 'WIZEY', 'GPOR', 'OST', 'BKRIF', 'PSMMY', 'PBSFY', 'JSM', 'OZSC', 'JCSE', 'ATOS', 'NOW', 'AMGN', 'LC', 'ORLY', 'AFL', 'CSCW', 'COKE', 'JPY=X', 'JPYHKD=X', 'TV18BRDCST.NS', '2888.HK', 'BARC.L', 'NOKIA.HE', 'EVO.ST', 'SINCH.ST', 'SBRY.L', 'STAN.L', 'HFG.DE', 'FB2A.BE', 'DHER.DE', 'VEON', 'IDAI', 'LLY', 'SWK', 'SO', 'OSTK', 'PHM', 'IRM', 'MO', 'MCD', 'DPZ', 'NOC', 'TROW', 'LRENY', 'FTAI', 'PTC', 'AVT', 'SU', 'SRCL', 'FBP', 'BFH', 'TIGO', 'VIRT', 'LH', 'LECO', 'CHD', 'ATEYY', 'HOLX', 'AOS', 'FREJN', 'ADSK', 'TXT', 'NVST', 'WBS', 'AMX', 'ORI', 'WSC', 'INVH', 'NRDBY', 'UNEGF', 'KREVF', 'EME', 'DNZOY', 'CHTR', 'NTDOY', 'FCFS', 'FCNCA', 'CARR', 'SEKEY', 'TYL', 'PLXS', 'LBRDA', 'LBRDK', 'AIT', 'CLBK', 'GGG', 'RS', 'POR', 'ERJ', 'YUMC', 'FJTSY', 'LKQ', 'EQIX', 'SWRAY', 'ESI', 'XELA', 'BABAF', 'AZPN', 'TPX', 'JOE', 'TIXT', 'SPB', 'CHDN', 'CGEMY', 'MZDAY', 'AM', 'FNMAN', 'MSA', 'BHC', 'PKX', 'WTW', 'POWI', 'ARW', 'DDAIF', 'ALSN', 'ANSS', 'SNPS', 'KRTX', 'GWW', 'DMLRY', 'VICI', 'RARE', 'SHG', 'MURGY', 'SWVL', 'CBZ', 'RRX', 'GIKLY', 'WDAY', 'CACI', 'FNMFM', 'CABO', 'NDEKF', 'PFSI', 'ARKG', 'CJPRY', 'WEGRY', 'ACGL', 'HPP', 'HUN', 'SQZ', 'APPS', 'JSAIY', 'MLYBY', 'NEXXY', 'DEN', 'AEXAY', 'SYNA', 'ACHR', 'SKHHY', 'BIOL', 'FSLR', 'LHX', 'WU', 'ZYME', 'BTE.TO', 'PHUN', 'BC', 'MARK', 'ENZC', 'EFC', '0388.HK', 'D05.SI', 'O39.SI', 'AXISBANK.NS', '6618.HK', '9999.HK', '9626.HK', '9866.HK', '9888.HK', 'NOVO-B.CO', 'WY', 'PRX.AS', 'DANSKE.CO', 'NESTE.HE', 'HEN3.DE', 'TEM1V.HE', 'NVO', 'CWEB', 'KWEB', 'AZN.L', 'AZN', 'TIGR', 'FNCH', 'TRX-USD', 'DUO', 'HON', 'NBEV', 'ABBV', 'CL', 'NWL', 'TKAT', 'GTYH', 'VRSN', 'COLM', 'CINF', 'AON', 'CUBE', 'VOD', 'SSNC', 'NWG', 'WIT', 'BLMN', 'CSL', 'TPH', 'CE', 'PSA', 'EXR', 'SHTDY', 'NPSNY', 'STAG', 'AX', 'NSA', 'CCOI', 'AJG', 'EXLS', 'TKC', 'PGRE', 'HENKY', 'EXPO', 'PRFT', 'FHI', 'TRP', 'RJF', 'ULTA', 'ARES', 'VRSK', 'COLD', 'HBCYF', 'DBSDY', 'OMCL', 'MGP', 'UGI', 'LSI', 'CSAN', 'WPC', 'CVS', 'CUZ', 'NFI.TO', 'EBKDY', 'RAMP', 'BRO', 'ATR', 'TCTZF', 'ERIE', 'AMT', 'NMRK', 'APLE', 'AVB', 'CAE', 'FBHS', 'HCXLY', 'NSANF', 'CBGPF', 'VERX', 'ANSLY', 'VAXX', 'OVCHY', 'KYOCY', 'HLPPY', 'EGFEF', 'HIMX', 'COST', 'ACCD', 'AAIGF', 'AGLXY', 'TSYHF', 'IMO.TO', 'DLPTF', 'BGAOY', 'RE', 'LKCO', 'ZTS', 'ATNF', 'CRO-USD', 'YESBANK.NS', 'SOL-USD', 'TATACHEM.NS', 'DIXON.NS', '^KS11', 'CDSL.NS', 'ETH-CAD', 'AUDUSD=X', 'WIPRO.NS', 'VWS.CO', 'BAS.DE', 'BAYN.DE', 'LEO.ST', 'ICP1V.HE', 'ADJ.DE', 'EMBRAC-B.ST', 'VNA.DE', '^OMX', 'PROG', 'FTSEMIB.MI', '^OMXC25', 'BTTX', 'SOUN', 'OCGN', 'CRNT', 'VLYPP', 'INVZ', 'MCO', 'WEC', 'ELUXY', 'DREUF', 'HR', 'FUPBY', 'TKR', 'ASHTF', 'BACHF', 'OR', 'ELP', 'ENGGY', 'SONVY', 'ISUZY', 'ORA', 'HTA', 'CWST', 'SPGI', 'MRAAY', 'PIFMF', 'AVLR', 'ARWR', 'ZBRA', 'ACA', 'MANU', 'ZGN', 'LYFT', 'MASI', 'BBY', 'CGAU', 'CVET', 'GS-PA', 'FIBK', 'MRPLY', 'CNX', 'WTRU', 'NYT', 'DSEY', 'HLNE', 'APRN', 'FUBO', 'IRT', 'SBCF', 'IPGP', 'AMG', 'IFNNF', 'ASAI', 'BBDO', 'WIRE', 'CNA', 'MAA', 'THO', 'TPG', 'BIP', 'NWBO', 'CICHY', 'BOIVF', 'DLR', 'KIM', 'ESS', 'SUI', 'ELS', 'DIFTY', 'AMH', 'STOR', 'NEU', 'AXS-PE', 'AAT', 'ESGR', 'RYN', 'REG', 'SOS', 'ARRY', 'BMRPF', 'DNP', 'BNL', 'EPRT', 'O', 'CLH', 'WTKWY', 'RF-PC', 'CBRL', 'HSY', 'SPG', 'GWO.TO', 'IITSF', 'TR', 'FUV', 'MGM', 'CLX', 'ZI', 'NXPI', 'PUNK', 'BIGC', 'ASTS', 'MEG.TO', 'PKK.CN', 'BKI', 'PAYC', 'ITRI', 'SCI', 'LFUS', 'REZI', 'DOOR', 'XYL', 'PDYPY', 'ALB', 'LITE', 'PREKF', 'WMK', 'PCTY', 'AMBBY', 'AIG', 'NEOG', 'CDAY', 'FMCCG', 'AKAM', 'JCI', 'JHG', 'BFAM', 'WK', 'AMIGY', 'SWKS', 'ICE', 'RNMBY', 'SHTLF', 'RADLY', 'WD', 'EBAY', 'SKLZ', 'AMRN', 'RVSN', 'IMPP', 'TNRSF', 'SRPT', 'NGVT', 'OGN', 'INSM', 'LAMR', 'APO', 'MGPI', 'MANT', 'K', 'VSTO', 'HAIN', 'EVA', 'GIL', 'CTSH', 'QRVO', 'SIGI', 'HBI', 'ICPT', 'SONM', 'PPL', 'SGLY', 'SHEL', 'D', 'SITE', 'TTEC', 'AUST', 'ARGNF', 'MSGS', 'WBX', 'SUM', 'HPE', 'LOPE', 'TRMB', 'GOFPY', 'AHEXY', 'JDSPY', 'NLST', 'WISH', 'DBX', 'ILMN', 'GPRO', 'FNKO', 'RDFN', '2382.HK', 'AMBU-B.CO', 'ADS.DE', 'IAG.L', 'CCXI', 'BTC-EUR', 'HYZN', 'TNXP', 'CI', 'PRLB', 'FTDR', 'LNSPF', 'SLLDY', 'TDC', 'NWSA', 'MHGVY', 'CRARY', 'GMVHY', 'NABZY', 'ANZBY', 'SGBLY', 'EVFM', 'UNM', 'FYBR', 'RGA', 'POST', 'G', 'AGO', 'MCK', 'MTZ', 'STGW', 'OLED', 'YAHOF', 'NWS', 'ENV', 'UI', 'PRI', 'KSRYY', 'CORT', 'NLOK', 'FWONK', 'FWONA', 'JAPAY', 'IMKTA', 'MNST', 'ATDRY', 'PTCT', 'TFSL', 'SIDU', 'HOG', 'RLJ', 'KTB', 'DSCSY', 'STEM', 'CLNE', 'TYCMY', 'PEGRY', 'OLCLY', 'HVRRY', 'VODPF', 'MDRX', 'SKFRY', 'NTCT', 'PEB', 'PBA', 'FLT', 'REMYY', 'JAPSY', 'VMNFX', 'CNVVF', 'ENB.TO', 'JYNT', 'SCPPF', 'VRNOF', 'PETRY', 'FLR', 'CW', 'DNOPY', 'ATZ.TO', 'ACRX', 'CAN', 'MSOS', 'GLD', 'WPRT', 'ZNTE', 'CPB', 'SRE', 'ASHR', 'MREO', 'NIU', 'IPOF', 'XBI', 'VTSAX', 'WMT', 'ALGO-USD', '^NDX', 'LMT', 'BTI', 'SOL-CAD', 'LTC-USD', 'LINK-USD', 'AVAX-USD', 'LRC-USD', 'PM', '2222.SR', 'ETH-EUR', 'FNILX', 'VB', 'VXUS', 'VERS', 'BNGO', 'CLOV', 'BTC-GBP', 'QYLD', 'BZ=F', 'BLDP.TO', 'HG=F', 'DMTK', '^JKSE', 'BBCA.JK', 'GOTO.JK', 'TATAPOWER.NS', 'INR=X', 'CAD=X', 'SGD=X', 'POWERGRID.NS', '1120.SR', 'PNL.AS', 'BAVA.CO', 'GMAB.CO', 'BBRI.JK', 'IFX.DE', 'LMND', 'DPSI', 'LEV', 'DUK', 'TXMD', 'TSN', 'RMV.L', 'LOGC', 'SREV', 'ENR', 'AJINY', 'SJR', 'EPC', 'LANC', 'SOPA', 'PRTY', 'HMTV', 'BB.TO', 'CENTA', 'GROUF', 'THS', 'MNGPF', 'SWX', 'CENT', 'GLXY.TO', 'SWMAY', 'PBH', 'SJM', 'GMOM', 'GBTC', 'WTM', 'BWV', 'GIS', 'FMCCL', 'GEVO', 'DDD', 'VRM', 'MCHP', 'PUBM', 'AEP', 'UST-USD', 'BLNK', 'PSEI.PS', 'SWMA.ST', 'TATASTEEL.NS', 'BIOR', 'CEZ.PR', 'KOSS', 'AKAN', 'VTNR', 'AUPH', 'IIVI', 'KXIN', 'PLNT', 'SXYAY', 'PSHZF', 'BLMIF', 'MTUAY', 'CPYYY', 'NBIX', 'RBA', 'FSK', 'SYY', 'PSEC', 'IFF', 'BCO', 'UNVR', 'IAA', 'ICUI', 'IAC', 'DNB', 'DM', 'EVAX', 'SSUMY', 'FOXA', 'FOX', 'HI', 'ITOCY', 'UNLRF', 'MIDD', 'PNR', 'ENOV', 'LGGNF', 'VVV', 'ALGM', 'IHICY', 'PHI', 'XHR', 'NVEI.TO', 'CRON', 'NXST', 'TKAYF', 'TLKMF', 'BL', 'BLKB', 'WWE', 'INCY', 'BIIB', 'KAOOY', 'GEBHY', 'LNSTY', 'BDRFF', 'SOMLY', 'ESLT', 'SPSC', 'MICT', 'HYLN', 'AVVIY', 'GBERY', 'CGHLY', 'FRRVY', 'ELEEF', 'SNMCY', 'AMRS', 'VAC', 'VTR', 'KRC', 'GMBXF', 'VFF', 'KBCSY', 'ITOCF', 'MSGE', 'BAYZF', 'VNO', 'SENS', 'HHC', 'GERN', 'FMCKL', 'EQUEY', 'INO', 'GRWG', 'PLBY', 'BIRD', 'SFT', 'GOEV', 'ACM', 'ZOM', 'KBE', 'EQB.TO', '2269.HK', 'MYNZ', 'IBULHSGFIN.NS', '1211.HK', '2015.HK', 'ROG.SW', 'ALFEN.AS', 'LUNA-USD', 'XCUR', 'ELBM', 'AD.AS', 'TM', 'VIEW', 'TKA.DE', 'CPG.L', 'SWCH', 'ALC', 'CICHF', 'NDBKY', 'TRQ', 'CLPXY', 'SHO', 'RIOCF', 'AWCMY', 'LEN-B', 'MEGGF', 'WF', 'TAK', 'LEN', 'LAZ', 'NE', 'CSSE', 'IPAR', 'MSADY', 'ZD', 'APTPF', 'SOBKY', 'MFG', 'ACDSF', 'CNS', 'CHVKF', 'CNICF', 'XISHY', 'CGHOF', 'SCHYF', 'BYDIF', 'HUATF', 'MDDNF', 'KGDEF', 'WEICF', 'ZZHGF', 'CHLLF', 'SWMAF', 'BMCLF', 'SWGAY', 'ELEZY', 'DTCWY', 'KEYUF', 'AFI', 'RGLS', 'SHKLF', 'IWGFF', 'AICAF', 'LRLCY', 'JSNSF', 'AANNF', 'IVSBF', 'WMMVF', 'USDC-USD', 'ETH-GBP', 'RR.L', 'CGEM', 'RHHVF', 'WYNMF', 'PRMW', 'MITO', 'CIM-PC', 'ATC', 'AFLYY', 'PDI', 'FIZZ', 'FUN', 'WELL.TO', 'AEL', 'SLF', 'TAC']\n"
          ]
        }
      ]
    },
    {
      "cell_type": "code",
      "source": [
        "noise_amp[26:30]"
      ],
      "metadata": {
        "colab": {
          "base_uri": "https://localhost:8080/"
        },
        "id": "Q22RKUZ7a2Hw",
        "outputId": "31136ab7-3a3a-4718-8950-64095f19de55"
      },
      "execution_count": 9,
      "outputs": [
        {
          "output_type": "execute_result",
          "data": {
            "text/plain": [
              "['SDXAY', 'SNDR', 'EMBCV', 'WERN']"
            ]
          },
          "metadata": {},
          "execution_count": 9
        }
      ]
    },
    {
      "cell_type": "code",
      "source": [
        "#get_prev_close()\n",
        "# or Amazon's\n",
        "#si.get_live_price(\"AMZN\")\n",
        "#list = ['BEKE', 'KOS', 'MTDR', 'CPT', 'HPQ', 'CDEV', 'QCOM', 'BILI', 'EDU']\n",
        "list = ['SDXAY']\n",
        "#list  = noise_amp[1:10]\n",
        "y = []\n",
        "for x in list:\n",
        "  y.append(si.get_quote_table(x))"
      ],
      "metadata": {
        "id": "qCUXbyTxa37p"
      },
      "execution_count": 18,
      "outputs": []
    },
    {
      "cell_type": "code",
      "source": [
        "print(y)"
      ],
      "metadata": {
        "colab": {
          "base_uri": "https://localhost:8080/"
        },
        "id": "jqpKmOEla7A_",
        "outputId": "e5f1e8ea-1d67-48d2-e1f4-08b461ad93e1"
      },
      "execution_count": null,
      "outputs": [
        {
          "output_type": "stream",
          "name": "stdout",
          "text": [
            "[{'1y Target Est': 23.74, '52 Week Range': '7.31 - 54.49', 'Ask': '12.40 x 1200', 'Avg. Volume': 19783095.0, 'Beta (5Y Monthly)': nan, 'Bid': '12.31 x 1800', \"Day's Range\": '10.94 - 12.06', 'EPS (TTM)': -0.07, 'Earnings Date': 'May 17, 2022 - May 23, 2022', 'Ex-Dividend Date': nan, 'Forward Dividend & Yield': 'N/A (N/A)', 'Market Cap': '17.673B', 'Open': 11.32, 'PE Ratio (TTM)': nan, 'Previous Close': 11.5, 'Quote Price': 11.800000190734863, 'Volume': 9518698.0}, {'1y Target Est': 5.28, '52 Week Range': '1.80 - 8.36', 'Ask': '0.00 x 4000', 'Avg. Volume': 12709140.0, 'Beta (5Y Monthly)': 3.25, 'Bid': '6.03 x 4000', \"Day's Range\": '5.99 - 6.53', 'EPS (TTM)': -0.19, 'Earnings Date': 'Aug 08, 2022 - Aug 12, 2022', 'Ex-Dividend Date': 'Mar 04, 2020', 'Forward Dividend & Yield': 'N/A (N/A)', 'Market Cap': '2.874B', 'Open': 6.02, 'PE Ratio (TTM)': nan, 'Previous Close': 6.08, 'Quote Price': 6.309999942779541, 'Volume': 11065979.0}, {'1y Target Est': 71.5, '52 Week Range': '24.76 - 59.27', 'Ask': '65.00 x 900', 'Avg. Volume': 2368829.0, 'Beta (5Y Monthly)': 4.05, 'Bid': '42.06 x 1000', \"Day's Range\": '43.73 - 46.71', 'EPS (TTM)': 6.13, 'Earnings Date': 'Jul 25, 2022 - Jul 29, 2022', 'Ex-Dividend Date': 'May 17, 2022', 'Forward Dividend & Yield': '0.20 (0.44%)', 'Market Cap': '5.396B', 'Open': 44.94, 'PE Ratio (TTM)': 7.46, 'Previous Close': 45.58, 'Quote Price': 45.68000030517578, 'Volume': 1699130.0}, {'1y Target Est': 182.5, '52 Week Range': '120.13 - 180.37', 'Ask': '0.00 x 900', 'Avg. Volume': 1312512.0, 'Beta (5Y Monthly)': 0.79, 'Bid': '73.58 x 900', \"Day's Range\": '142.17 - 145.04', 'EPS (TTM)': 3.39, 'Earnings Date': 'Jul 27, 2022 - Aug 01, 2022', 'Ex-Dividend Date': 'Mar 30, 2022', 'Forward Dividend & Yield': '3.76 (2.66%)', 'Market Cap': '15.362B', 'Open': 143.91, 'PE Ratio (TTM)': 42.52, 'Previous Close': 143.5, 'Quote Price': 144.22000122070312, 'Volume': 768819.0}, {'1y Target Est': 37.27, '52 Week Range': '26.11 - 41.47', 'Ask': '36.24 x 2200', 'Avg. Volume': 15890190.0, 'Beta (5Y Monthly)': 1.0, 'Bid': '36.20 x 1000', \"Day's Range\": '35.00 - 36.37', 'EPS (TTM)': 5.57, 'Earnings Date': 'May 31, 2022', 'Ex-Dividend Date': 'Mar 08, 2022', 'Forward Dividend & Yield': '1.00 (2.79%)', 'Market Cap': '37.774B', 'Open': 35.58, 'PE Ratio (TTM)': 6.44, 'Previous Close': 35.86, 'Quote Price': 35.84000015258789, 'Volume': 11138567.0}, {'1y Target Est': 10.86, '52 Week Range': '3.90 - 9.58', 'Ask': '7.11 x 2200', 'Avg. Volume': 10446303.0, 'Beta (5Y Monthly)': 5.57, 'Bid': '7.05 x 4000', \"Day's Range\": '6.72 - 7.11', 'EPS (TTM)': 0.46, 'Earnings Date': 'Aug 01, 2022 - Aug 05, 2022', 'Ex-Dividend Date': nan, 'Forward Dividend & Yield': 'N/A (N/A)', 'Market Cap': '1.992B', 'Open': 6.99, 'PE Ratio (TTM)': 15.16, 'Previous Close': 7.1, 'Quote Price': 6.989999771118164, 'Volume': 9584251.0}, {'1y Target Est': 202.8, '52 Week Range': '122.17 - 193.58', 'Ask': '0.00 x 1000', 'Avg. Volume': 11118506.0, 'Beta (5Y Monthly)': 1.23, 'Bid': '134.05 x 3000', \"Day's Range\": '127.82 - 133.06', 'EPS (TTM)': 9.76, 'Earnings Date': 'Jul 26, 2022 - Aug 01, 2022', 'Ex-Dividend Date': 'Jun 01, 2022', 'Forward Dividend & Yield': '3.00 (2.27%)', 'Market Cap': '147.582B', 'Open': 131.0, 'PE Ratio (TTM)': 13.5, 'Previous Close': 132.3, 'Quote Price': 131.77000427246094, 'Volume': 10749846.0}, {'1y Target Est': 53.67, '52 Week Range': '14.93 - 129.24', 'Ask': '19.89 x 1200', 'Avg. Volume': 12122362.0, 'Beta (5Y Monthly)': 1.29, 'Bid': '19.60 x 1400', \"Day's Range\": '17.48 - 19.80', 'EPS (TTM)': -2.65, 'Earnings Date': 'Jun 09, 2022', 'Ex-Dividend Date': nan, 'Forward Dividend & Yield': 'N/A (N/A)', 'Market Cap': '7.241B', 'Open': 18.6, 'PE Ratio (TTM)': nan, 'Previous Close': 18.85, 'Quote Price': 18.90999984741211, 'Volume': 8480049.0}, {'1y Target Est': 31.73, '52 Week Range': '8.40 - 125.10', 'Ask': '10.14 x 1200', 'Avg. Volume': 4882762.0, 'Beta (5Y Monthly)': 0.94, 'Bid': '10.05 x 800', \"Day's Range\": '9.29 - 10.13', 'EPS (TTM)': -6.18, 'Earnings Date': 'Apr 26, 2022', 'Ex-Dividend Date': 'Sep 01, 2017', 'Forward Dividend & Yield': 'N/A (N/A)', 'Market Cap': '1.816B', 'Open': 9.64, 'PE Ratio (TTM)': nan, 'Previous Close': 9.84, 'Quote Price': 9.779999732971191, 'Volume': 2849427.0}]\n"
          ]
        }
      ]
    },
    {
      "cell_type": "code",
      "source": [
        "import csv\n",
        "col_name=['1y Target Est',\n",
        " '52 Week Range',\n",
        " 'Ask',\n",
        " 'Avg. Volume',\n",
        " 'Beta (5Y Monthly)',\n",
        " 'Bid',\n",
        " \"Day's Range\",\n",
        " 'EPS (TTM)',\n",
        " 'Earnings Date',\n",
        " 'Ex-Dividend Date',\n",
        " 'Forward Dividend & Yield',\n",
        " 'Market Cap',\n",
        " 'Open',\n",
        " 'PE Ratio (TTM)',\n",
        " 'Previous Close',\n",
        " 'Quote Price',\n",
        " 'Volume']\n",
        "with open(\"export.csv\", 'w') as csvFile:\n",
        "        wr = csv.DictWriter(csvFile, fieldnames=col_name)\n",
        "        wr.writeheader()\n",
        "        for ele in y:\n",
        "            wr.writerow(ele)"
      ],
      "metadata": {
        "id": "VDJn3p4ea9Xu"
      },
      "execution_count": null,
      "outputs": []
    }
  ]
}