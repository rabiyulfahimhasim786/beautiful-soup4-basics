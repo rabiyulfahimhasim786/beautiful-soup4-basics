{
 "cells": [
  {
   "cell_type": "code",
   "execution_count": 1,
   "id": "16570e90",
   "metadata": {},
   "outputs": [],
   "source": [
    "#"
   ]
  },
  {
   "cell_type": "code",
   "execution_count": 13,
   "id": "c7027909",
   "metadata": {},
   "outputs": [],
   "source": [
    "#"
   ]
  },
  {
   "cell_type": "code",
   "execution_count": null,
   "id": "b2ef4941",
   "metadata": {},
   "outputs": [],
   "source": [
    "#https://stackoverflow.com/questions/36716242/xlrderror-no-sheet-named-sheet1-in-python\n",
    "#https://stackoverflow.com/questions/60044233/converting-excel-into-json-using-python"
   ]
  },
  {
   "cell_type": "code",
   "execution_count": 11,
   "id": "e4954890",
   "metadata": {},
   "outputs": [
    {
     "name": "stdout",
     "output_type": "stream",
     "text": [
      "Excel Sheet to JSON:\n",
      " [{\"Brand Symbol\":\"TLRY\",\"Brand Titles\":\"Tilray Brands, Inc.\",\"price\":\"8.56\",\"Change\":1.59,\"Change Precentage\":\"+22.81%\",\"Volume\":\"302.811M\",\"Average Volume\":\"27.522M\",\"Market Cap\":\"4.115B\",\"Ratio\":null},{\"Brand Symbol\":\"NIO\",\"Brand Titles\":\"NIO Inc.\",\"price\":\"19.91\",\"Change\":-2.07,\"Change Precentage\":\"-9.42%\",\"Volume\":\"106.471M\",\"Average Volume\":\"67.226M\",\"Market Cap\":\"36.29B\",\"Ratio\":null},{\"Brand Symbol\":\"AMD\",\"Brand Titles\":\"Advanced Micro Devices, Inc.\",\"price\":\"119.67\",\"Change\":-0.86,\"Change Precentage\":\"-0.71%\",\"Volume\":\"95.201M\",\"Average Volume\":\"98.662M\",\"Market Cap\":\"194.746B\",\"Ratio\":46.56},{\"Brand Symbol\":\"SWN\",\"Brand Titles\":\"Southwestern Energy Company\",\"price\":\"6.88\",\"Change\":0.93,\"Change Precentage\":\"+15.63%\",\"Volume\":\"79.98M\",\"Average Volume\":\"26.198M\",\"Market Cap\":\"7.667B\",\"Ratio\":null},{\"Brand Symbol\":\"AAPL\",\"Brand Titles\":\"Apple Inc.\",\"price\":\"174.72\",\"Change\":0.65,\"Change Precentage\":\"+0.37%\",\"Volume\":\"80.546M\",\"Average Volume\":\"93.172M\",\"Market Cap\":\"2.851T\",\"Ratio\":29.05},{\"Brand Symbol\":\"AMC\",\"Brand Titles\":\"AMC Entertainment Holdings, Inc.\",\"price\":\"20.24\",\"Change\":0.01,\"Change Precentage\":\"+0.05%\",\"Volume\":\"71.166M\",\"Average Volume\":\"47.582M\",\"Market Cap\":\"10.39B\",\"Ratio\":null},{\"Brand Symbol\":\"DIDI\",\"Brand Titles\":\"DiDi Global Inc.\",\"price\":\"3.2700\",\"Change\":-0.53,\"Change Precentage\":\"-13.95%\",\"Volume\":\"68.727M\",\"Average Volume\":\"44.418M\",\"Market Cap\":\"15.772B\",\"Ratio\":null},{\"Brand Symbol\":\"TELL\",\"Brand Titles\":\"Tellurian Inc.\",\"price\":\"5.84\",\"Change\":0.99,\"Change Precentage\":\"+20.41%\",\"Volume\":\"67.173M\",\"Average Volume\":\"16.78M\",\"Market Cap\":\"3.028B\",\"Ratio\":null},{\"Brand Symbol\":\"F\",\"Brand Titles\":\"Ford Motor Company\",\"price\":\"16.47\",\"Change\":-0.36,\"Change Precentage\":\"-2.14%\",\"Volume\":\"61.23M\",\"Average Volume\":\"102.873M\",\"Market Cap\":\"65.95B\",\"Ratio\":3.7},{\"Brand Symbol\":\"ITUB\",\"Brand Titles\":\"Ita\\u00fa Unibanco Holding S.A.\",\"price\":\"5.72\",\"Change\":0.08,\"Change Precentage\":\"+1.42%\",\"Volume\":\"61.676M\",\"Average Volume\":\"46.067M\",\"Market Cap\":\"55.941B\",\"Ratio\":10.14},{\"Brand Symbol\":\"NVDA\",\"Brand Titles\":\"NVIDIA Corporation\",\"price\":\"276.92\",\"Change\":-4.58,\"Change Precentage\":\"-1.63%\",\"Volume\":\"57.902M\",\"Average Volume\":\"52.078M\",\"Market Cap\":\"690.085B\",\"Ratio\":71.93},{\"Brand Symbol\":\"BBD\",\"Brand Titles\":\"Banco Bradesco S.A.\",\"price\":\"4.6400\",\"Change\":0.12,\"Change Precentage\":\"+2.65%\",\"Volume\":\"43.694M\",\"Average Volume\":\"39.971M\",\"Market Cap\":\"49.318B\",\"Ratio\":9.91},{\"Brand Symbol\":\"RIG\",\"Brand Titles\":\"Transocean Ltd.\",\"price\":\"5.03\",\"Change\":0.6,\"Change Precentage\":\"+13.54%\",\"Volume\":\"48.541M\",\"Average Volume\":\"23.822M\",\"Market Cap\":\"3.297B\",\"Ratio\":null},{\"Brand Symbol\":\"BABA\",\"Brand Titles\":\"Alibaba Group Holding Limited\",\"price\":\"112.99\",\"Change\":-2.16,\"Change Precentage\":\"-1.88%\",\"Volume\":\"41.557M\",\"Average Volume\":\"32.086M\",\"Market Cap\":\"306.855B\",\"Ratio\":30.16},{\"Brand Symbol\":\"SOFI\",\"Brand Titles\":\"SoFi Technologies, Inc.\",\"price\":\"9.01\",\"Change\":-0.46,\"Change Precentage\":\"-4.86%\",\"Volume\":\"42.216M\",\"Average Volume\":\"63.188M\",\"Market Cap\":\"7.205B\",\"Ratio\":null},{\"Brand Symbol\":\"AAL\",\"Brand Titles\":\"American Airlines Group Inc.\",\"price\":\"17.01\",\"Change\":0.29,\"Change Precentage\":\"+1.73%\",\"Volume\":\"39.51M\",\"Average Volume\":\"43.823M\",\"Market Cap\":\"11.042B\",\"Ratio\":null},{\"Brand Symbol\":\"BAC\",\"Brand Titles\":\"Bank of America Corporation\",\"price\":\"43.73\",\"Change\":0.66,\"Change Precentage\":\"+1.53%\",\"Volume\":\"37.865M\",\"Average Volume\":\"54.462M\",\"Market Cap\":\"352.676B\",\"Ratio\":12.25},{\"Brand Symbol\":\"CGC\",\"Brand Titles\":\"Canopy Growth Corporation\",\"price\":\"8.69\",\"Change\":0.79,\"Change Precentage\":\"+10.00%\",\"Volume\":\"38.446M\",\"Average Volume\":\"7.564M\",\"Market Cap\":\"3.425B\",\"Ratio\":null},{\"Brand Symbol\":\"OXY\",\"Brand Titles\":\"Occidental Petroleum Corporation\",\"price\":\"58.71\",\"Change\":0.96,\"Change Precentage\":\"+1.66%\",\"Volume\":\"37.01M\",\"Average Volume\":\"31.588M\",\"Market Cap\":\"54.839B\",\"Ratio\":37.35},{\"Brand Symbol\":\"FB\",\"Brand Titles\":\"Meta Platforms, Inc.\",\"price\":\"221.82\",\"Change\":2.25,\"Change Precentage\":\"+1.02%\",\"Volume\":\"39.987M\",\"Average Volume\":\"35.708M\",\"Market Cap\":\"603.781B\",\"Ratio\":16.11},{\"Brand Symbol\":\"EDU\",\"Brand Titles\":\"New Oriental Education & Technology Group Inc.\",\"price\":\"1.2600\",\"Change\":-0.07,\"Change Precentage\":\"-5.26%\",\"Volume\":\"20.065M\",\"Average Volume\":\"27.254M\",\"Market Cap\":\"2.138B\",\"Ratio\":null},{\"Brand Symbol\":\"INTC\",\"Brand Titles\":\"Intel Corporation\",\"price\":\"51.83\",\"Change\":0.21,\"Change Precentage\":\"+0.41%\",\"Volume\":\"33.249M\",\"Average Volume\":\"39.16M\",\"Market Cap\":\"211.052B\",\"Ratio\":10.66},{\"Brand Symbol\":\"ET\",\"Brand Titles\":\"Energy Transfer LP\",\"price\":\"10.57\",\"Change\":0.32,\"Change Precentage\":\"+3.12%\",\"Volume\":\"30.722M\",\"Average Volume\":\"21.796M\",\"Market Cap\":\"32.586B\",\"Ratio\":5.59},{\"Brand Symbol\":\"T\",\"Brand Titles\":\"AT&T Inc.\",\"price\":\"23.84\",\"Change\":0.51,\"Change Precentage\":\"+2.19%\",\"Volume\":\"31.757M\",\"Average Volume\":\"52.907M\",\"Market Cap\":\"170.767B\",\"Ratio\":8.63},{\"Brand Symbol\":\"UBER\",\"Brand Titles\":\"Uber Technologies, Inc.\",\"price\":\"34.06\",\"Change\":-0.64,\"Change Precentage\":\"-1.84%\",\"Volume\":\"25.681M\",\"Average Volume\":\"33.292M\",\"Market Cap\":\"66.569B\",\"Ratio\":null},{\"Brand Symbol\":\"RYCEY\",\"Brand Titles\":\"Rolls-Royce Holdings plc\",\"price\":\"1.5200\",\"Change\":0.31,\"Change Precentage\":\"+25.62%\",\"Volume\":\"27.548M\",\"Average Volume\":\"4.597M\",\"Market Cap\":\"12.835B\",\"Ratio\":80.0},{\"Brand Symbol\":\"VALE\",\"Brand Titles\":\"Vale S.A.\",\"price\":\"19.94\",\"Change\":-0.08,\"Change Precentage\":\"-0.40%\",\"Volume\":\"27.371M\",\"Average Volume\":\"36.365M\",\"Market Cap\":\"96.874B\",\"Ratio\":3.98},{\"Brand Symbol\":\"ABEV\",\"Brand Titles\":\"Ambev S.A.\",\"price\":\"3.0000\",\"Change\":0.08,\"Change Precentage\":\"+2.74%\",\"Volume\":\"26.075M\",\"Average Volume\":\"22.888M\",\"Market Cap\":\"47.214B\",\"Ratio\":18.4},{\"Brand Symbol\":\"PDD\",\"Brand Titles\":\"Pinduoduo Inc.\",\"price\":\"44.24\",\"Change\":-0.7,\"Change Precentage\":\"-1.56%\",\"Volume\":\"25.979M\",\"Average Volume\":\"14.688M\",\"Market Cap\":\"55.446B\",\"Ratio\":51.92},{\"Brand Symbol\":\"DNA\",\"Brand Titles\":\"Ginkgo Bioworks Holdings, Inc.\",\"price\":\"3.6600\",\"Change\":-0.06,\"Change Precentage\":\"-1.61%\",\"Volume\":\"25.957M\",\"Average Volume\":\"13.397M\",\"Market Cap\":\"5.441B\",\"Ratio\":null},{\"Brand Symbol\":\"CCL\",\"Brand Titles\":\"Carnival Corporation & plc\",\"price\":\"18.39\",\"Change\":-0.1,\"Change Precentage\":\"-0.54%\",\"Volume\":\"25.768M\",\"Average Volume\":\"39.141M\",\"Market Cap\":\"21.541B\",\"Ratio\":null},{\"Brand Symbol\":\"NLY\",\"Brand Titles\":\"Annaly Capital Management, Inc.\",\"price\":\"7.27\",\"Change\":0.06,\"Change Precentage\":\"+0.83%\",\"Volume\":\"25.722M\",\"Average Volume\":\"23.967M\",\"Market Cap\":\"10.617B\",\"Ratio\":4.55},{\"Brand Symbol\":\"ZNGA\",\"Brand Titles\":\"Zynga Inc.\",\"price\":\"9.18\",\"Change\":0.09,\"Change Precentage\":\"+0.99%\",\"Volume\":\"25.42M\",\"Average Volume\":\"36.832M\",\"Market Cap\":\"10.396B\",\"Ratio\":null},{\"Brand Symbol\":\"KMI\",\"Brand Titles\":\"Kinder Morgan, Inc.\",\"price\":\"19.07\",\"Change\":0.77,\"Change Precentage\":\"+4.21%\",\"Volume\":\"23.774M\",\"Average Volume\":\"17.986M\",\"Market Cap\":\"43.241B\",\"Ratio\":24.42},{\"Brand Symbol\":\"PLTR\",\"Brand Titles\":\"Palantir Technologies Inc.\",\"price\":\"12.97\",\"Change\":-0.42,\"Change Precentage\":\"-3.14%\",\"Volume\":\"24.41M\",\"Average Volume\":\"53.48M\",\"Market Cap\":\"26.331B\",\"Ratio\":null},{\"Brand Symbol\":\"IQ\",\"Brand Titles\":\"iQIYI, Inc.\",\"price\":\"4.3100\",\"Change\":-0.46,\"Change Precentage\":\"-9.64%\",\"Volume\":\"22.796M\",\"Average Volume\":\"17.981M\",\"Market Cap\":\"3.712B\",\"Ratio\":null},{\"Brand Symbol\":\"CLF\",\"Brand Titles\":\"Cleveland-Cliffs Inc.\",\"price\":\"33.00\",\"Change\":0.33,\"Change Precentage\":\"+1.01%\",\"Volume\":\"22.539M\",\"Average Volume\":\"23.621M\",\"Market Cap\":\"17.339B\",\"Ratio\":6.16},{\"Brand Symbol\":\"MSFT\",\"Brand Titles\":\"Microsoft Corporation\",\"price\":\"303.68\",\"Change\":-0.42,\"Change Precentage\":\"-0.14%\",\"Volume\":\"22.566M\",\"Average Volume\":\"37.172M\",\"Market Cap\":\"2.277T\",\"Ratio\":32.34},{\"Brand Symbol\":\"MU\",\"Brand Titles\":\"Micron Technology, Inc.\",\"price\":\"78.10\",\"Change\":-0.11,\"Change Precentage\":\"-0.14%\",\"Volume\":\"22.491M\",\"Average Volume\":\"22.095M\",\"Market Cap\":\"87.455B\",\"Ratio\":12.09},{\"Brand Symbol\":\"XOM\",\"Brand Titles\":\"Exxon Mobil Corporation\",\"price\":\"85.20\",\"Change\":1.82,\"Change Precentage\":\"+2.18%\",\"Volume\":\"21.371M\",\"Average Volume\":\"32.634M\",\"Market Cap\":\"360.702B\",\"Ratio\":15.81},{\"Brand Symbol\":\"JOBY\",\"Brand Titles\":\"Joby Aviation, Inc.\",\"price\":\"5.98\",\"Change\":0.65,\"Change Precentage\":\"+12.20%\",\"Volume\":\"22.161M\",\"Average Volume\":\"6.118M\",\"Market Cap\":\"3.613B\",\"Ratio\":null},{\"Brand Symbol\":\"SNAP\",\"Brand Titles\":\"Snap Inc.\",\"price\":\"35.40\",\"Change\":-1.65,\"Change Precentage\":\"-4.45%\",\"Volume\":\"22.163M\",\"Average Volume\":\"35.043M\",\"Market Cap\":\"57.5B\",\"Ratio\":null},{\"Brand Symbol\":\"EQT\",\"Brand Titles\":\"EQT Corporation\",\"price\":\"34.33\",\"Change\":3.59,\"Change Precentage\":\"+11.68%\",\"Volume\":\"21.172M\",\"Average Volume\":\"9.127M\",\"Market Cap\":\"12.909B\",\"Ratio\":null},{\"Brand Symbol\":\"GGB\",\"Brand Titles\":\"Gerdau S.A.\",\"price\":\"6.41\",\"Change\":0.05,\"Change Precentage\":\"+0.79%\",\"Volume\":\"21.24M\",\"Average Volume\":\"10.563M\",\"Market Cap\":\"10.933B\",\"Ratio\":3.42},{\"Brand Symbol\":\"C\",\"Brand Titles\":\"Citigroup Inc.\",\"price\":\"56.74\",\"Change\":0.32,\"Change Precentage\":\"+0.57%\",\"Volume\":\"20.185M\",\"Average Volume\":\"27.304M\",\"Market Cap\":\"112.396B\",\"Ratio\":5.59},{\"Brand Symbol\":\"RBLX\",\"Brand Titles\":\"Roblox Corporation\",\"price\":\"47.07\",\"Change\":-3.72,\"Change Precentage\":\"-7.32%\",\"Volume\":\"20.981M\",\"Average Volume\":\"24.393M\",\"Market Cap\":\"27.666B\",\"Ratio\":null},{\"Brand Symbol\":\"TWTR\",\"Brand Titles\":\"Twitter, Inc.\",\"price\":\"38.60\",\"Change\":-0.22,\"Change Precentage\":\"-0.57%\",\"Volume\":\"20.601M\",\"Average Volume\":\"18.661M\",\"Market Cap\":\"30.905B\",\"Ratio\":null},{\"Brand Symbol\":\"TSLA\",\"Brand Titles\":\"Tesla, Inc.\",\"price\":\"1,010.64\",\"Change\":-3.28,\"Change Precentage\":\"-0.32%\",\"Volume\":\"20.677M\",\"Average Volume\":\"26.594M\",\"Market Cap\":\"1.045T\",\"Ratio\":206.21},{\"Brand Symbol\":\"LU\",\"Brand Titles\":\"Lufax Holding Ltd\",\"price\":\"6.02\",\"Change\":-0.53,\"Change Precentage\":\"-8.09%\",\"Volume\":\"20.155M\",\"Average Volume\":\"10.673M\",\"Market Cap\":\"15.276B\",\"Ratio\":5.74},{\"Brand Symbol\":\"PBR\",\"Brand Titles\":\"Petr\\u00f3leo Brasileiro S.A. - Petrobras\",\"price\":\"14.69\",\"Change\":0.23,\"Change Precentage\":\"+1.59%\",\"Volume\":\"19.891M\",\"Average Volume\":\"34.308M\",\"Market Cap\":\"95.812B\",\"Ratio\":4.34},{\"Brand Symbol\":\"NCLH\",\"Brand Titles\":\"Norwegian Cruise Line Holdings Ltd.\",\"price\":\"19.86\",\"Change\":0.11,\"Change Precentage\":\"+0.56%\",\"Volume\":\"19.468M\",\"Average Volume\":\"23.028M\",\"Market Cap\":\"8.283B\",\"Ratio\":null},{\"Brand Symbol\":\"UMC\",\"Brand Titles\":\"United Microelectronics Corporation\",\"price\":\"9.44\",\"Change\":0.04,\"Change Precentage\":\"+0.43%\",\"Volume\":\"19.009M\",\"Average Volume\":\"10.157M\",\"Market Cap\":\"23.368B\",\"Ratio\":12.03},{\"Brand Symbol\":\"MRO\",\"Brand Titles\":\"Marathon Oil Corporation\",\"price\":\"26.04\",\"Change\":0.51,\"Change Precentage\":\"+2.00%\",\"Volume\":\"19.59M\",\"Average Volume\":\"21.738M\",\"Market Cap\":\"19.029B\",\"Ratio\":21.7},{\"Brand Symbol\":\"TME\",\"Brand Titles\":\"Tencent Music Entertainment Group\",\"price\":\"4.9600\",\"Change\":-0.26,\"Change Precentage\":\"-4.98%\",\"Volume\":\"18.87M\",\"Average Volume\":\"17.825M\",\"Market Cap\":\"8.395B\",\"Ratio\":17.59},{\"Brand Symbol\":\"VZ\",\"Brand Titles\":\"Verizon Communications Inc.\",\"price\":\"51.28\",\"Change\":0.28,\"Change Precentage\":\"+0.55%\",\"Volume\":\"18.587M\",\"Average Volume\":\"23.697M\",\"Market Cap\":\"215.264B\",\"Ratio\":9.64},{\"Brand Symbol\":\"NKLA\",\"Brand Titles\":\"Nikola Corporation\",\"price\":\"10.11\",\"Change\":0.45,\"Change Precentage\":\"+4.66%\",\"Volume\":\"18.627M\",\"Average Volume\":\"17.045M\",\"Market Cap\":\"4.22B\",\"Ratio\":null},{\"Brand Symbol\":\"NOK\",\"Brand Titles\":\"Nokia Oyj\",\"price\":\"5.37\",\"Change\":0.03,\"Change Precentage\":\"+0.56%\",\"Volume\":\"18.516M\",\"Average Volume\":\"28.513M\",\"Market Cap\":\"30.504B\",\"Ratio\":16.94},{\"Brand Symbol\":\"FCEL\",\"Brand Titles\":\"FuelCell Energy, Inc.\",\"price\":\"6.22\",\"Change\":-0.4,\"Change Precentage\":\"-6.04%\",\"Volume\":\"18.878M\",\"Average Volume\":\"25.218M\",\"Market Cap\":\"2.281B\",\"Ratio\":null},{\"Brand Symbol\":\"CVE\",\"Brand Titles\":\"Cenovus Energy Inc.\",\"price\":\"16.81\",\"Change\":0.74,\"Change Precentage\":\"+4.60%\",\"Volume\":\"18.161M\",\"Average Volume\":\"13.112M\",\"Market Cap\":\"33.541B\",\"Ratio\":78.19},{\"Brand Symbol\":\"CSCO\",\"Brand Titles\":\"Cisco Systems, Inc.\",\"price\":\"54.97\",\"Change\":0.47,\"Change Precentage\":\"+0.86%\",\"Volume\":\"18.092M\",\"Average Volume\":\"21.933M\",\"Market Cap\":\"228.355B\",\"Ratio\":19.63},{\"Brand Symbol\":\"BEKE\",\"Brand Titles\":\"KE Holdings Inc.\",\"price\":\"12.13\",\"Change\":-1.06,\"Change Precentage\":\"-8.04%\",\"Volume\":\"14.242M\",\"Average Volume\":\"16.226M\",\"Market Cap\":\"14.52B\",\"Ratio\":null},{\"Brand Symbol\":\"CPNG\",\"Brand Titles\":\"Coupang, Inc.\",\"price\":\"17.70\",\"Change\":-1.22,\"Change Precentage\":\"-6.45%\",\"Volume\":\"17.495M\",\"Average Volume\":\"11.991M\",\"Market Cap\":\"31.075B\",\"Ratio\":null},{\"Brand Symbol\":\"PFE\",\"Brand Titles\":\"Pfizer Inc.\",\"price\":\"52.78\",\"Change\":0.19,\"Change Precentage\":\"+0.36%\",\"Volume\":\"15.84M\",\"Average Volume\":\"34.272M\",\"Market Cap\":\"298.089B\",\"Ratio\":13.69},{\"Brand Symbol\":\"LCID\",\"Brand Titles\":\"Lucid Group, Inc.\",\"price\":\"25.16\",\"Change\":-1.09,\"Change Precentage\":\"-4.15%\",\"Volume\":\"17.277M\",\"Average Volume\":\"33.905M\",\"Market Cap\":\"41.596B\",\"Ratio\":null},{\"Brand Symbol\":\"GOLD\",\"Brand Titles\":\"Barrick Gold Corporation\",\"price\":\"24.54\",\"Change\":0.04,\"Change Precentage\":\"+0.16%\",\"Volume\":\"16.975M\",\"Average Volume\":\"22.933M\",\"Market Cap\":\"43.665B\",\"Ratio\":21.58},{\"Brand Symbol\":\"BP\",\"Brand Titles\":\"BP p.l.c.\",\"price\":\"31.05\",\"Change\":0.31,\"Change Precentage\":\"+1.01%\",\"Volume\":\"16.859M\",\"Average Volume\":\"17.267M\",\"Market Cap\":\"101.215B\",\"Ratio\":13.87},{\"Brand Symbol\":\"WFC\",\"Brand Titles\":\"Wells Fargo & Company\",\"price\":\"52.56\",\"Change\":1.23,\"Change Precentage\":\"+2.40%\",\"Volume\":\"18.595M\",\"Average Volume\":\"32.168M\",\"Market Cap\":\"200.493B\",\"Ratio\":10.62},{\"Brand Symbol\":\"DKNG\",\"Brand Titles\":\"DraftKings Inc.\",\"price\":\"18.20\",\"Change\":-0.85,\"Change Precentage\":\"-4.46%\",\"Volume\":\"16.684M\",\"Average Volume\":\"27.53M\",\"Market Cap\":\"7.438B\",\"Ratio\":null},{\"Brand Symbol\":\"ERIC\",\"Brand Titles\":\"Telefonaktiebolaget LM Ericsson (publ)\",\"price\":\"9.27\",\"Change\":0.06,\"Change Precentage\":\"+0.65%\",\"Volume\":\"16.1M\",\"Average Volume\":\"10.844M\",\"Market Cap\":\"30.87B\",\"Ratio\":null},{\"Brand Symbol\":\"JD\",\"Brand Titles\":\"JD.com, Inc.\",\"price\":\"59.92\",\"Change\":-1.6,\"Change Precentage\":\"-2.60%\",\"Volume\":\"16.014M\",\"Average Volume\":\"14.998M\",\"Market Cap\":\"93.835B\",\"Ratio\":null},{\"Brand Symbol\":\"VTRS\",\"Brand Titles\":\"Viatris Inc.\",\"price\":\"11.19\",\"Change\":0.24,\"Change Precentage\":\"+2.19%\",\"Volume\":\"15.723M\",\"Average Volume\":\"13.221M\",\"Market Cap\":\"13.535B\",\"Ratio\":null},{\"Brand Symbol\":\"OPEN\",\"Brand Titles\":\"Opendoor Technologies Inc.\",\"price\":\"8.65\",\"Change\":-0.38,\"Change Precentage\":\"-4.21%\",\"Volume\":\"15.631M\",\"Average Volume\":\"16.354M\",\"Market Cap\":\"5.453B\",\"Ratio\":null},{\"Brand Symbol\":\"GRAB\",\"Brand Titles\":\"Grab Holdings Limited\",\"price\":\"3.3000\",\"Change\":-0.33,\"Change Precentage\":\"-9.09%\",\"Volume\":\"15.601M\",\"Average Volume\":\"25.724M\",\"Market Cap\":\"12.346B\",\"Ratio\":null},{\"Brand Symbol\":\"CTRA\",\"Brand Titles\":\"Coterra Energy Inc.\",\"price\":\"28.91\",\"Change\":1.88,\"Change Precentage\":\"+6.96%\",\"Volume\":\"15.023M\",\"Average Volume\":\"10.01M\",\"Market Cap\":\"23.445B\",\"Ratio\":12.62},{\"Brand Symbol\":\"CMCSA\",\"Brand Titles\":\"Comcast Corporation\",\"price\":\"47.13\",\"Change\":0.33,\"Change Precentage\":\"+0.71%\",\"Volume\":\"15.015M\",\"Average Volume\":\"22.436M\",\"Market Cap\":\"213.651B\",\"Ratio\":15.5},{\"Brand Symbol\":\"SIRI\",\"Brand Titles\":\"Sirius XM Holdings Inc.\",\"price\":\"6.56\",\"Change\":0.06,\"Change Precentage\":\"+0.92%\",\"Volume\":\"14.708M\",\"Average Volume\":\"21.694M\",\"Market Cap\":\"25.898B\",\"Ratio\":20.56},{\"Brand Symbol\":\"BILI\",\"Brand Titles\":\"Bilibili Inc.\",\"price\":\"27.53\",\"Change\":-2.78,\"Change Precentage\":\"-9.17%\",\"Volume\":\"14.359M\",\"Average Volume\":\"9.056M\",\"Market Cap\":\"10.542B\",\"Ratio\":null},{\"Brand Symbol\":\"CDEV\",\"Brand Titles\":\"Centennial Resource Development, Inc.\",\"price\":\"8.65\",\"Change\":0.42,\"Change Precentage\":\"+5.10%\",\"Volume\":\"14.347M\",\"Average Volume\":\"9.267M\",\"Market Cap\":\"2.465B\",\"Ratio\":18.76},{\"Brand Symbol\":\"IBN\",\"Brand Titles\":\"ICICI Bank Limited\",\"price\":\"18.19\",\"Change\":-0.07,\"Change Precentage\":\"-0.38%\",\"Volume\":\"14.073M\",\"Average Volume\":\"11.323M\",\"Market Cap\":\"63.668B\",\"Ratio\":22.13},{\"Brand Symbol\":\"PLUG\",\"Brand Titles\":\"Plug Power Inc.\",\"price\":\"27.95\",\"Change\":-0.51,\"Change Precentage\":\"-1.79%\",\"Volume\":\"14.138M\",\"Average Volume\":\"21.035M\",\"Market Cap\":\"16.155B\",\"Ratio\":null},{\"Brand Symbol\":\"STNE\",\"Brand Titles\":\"StoneCo Ltd.\",\"price\":\"12.30\",\"Change\":-2.05,\"Change Precentage\":\"-14.29%\",\"Volume\":\"14.028M\",\"Average Volume\":\"8.369M\",\"Market Cap\":\"3.537B\",\"Ratio\":null},{\"Brand Symbol\":\"PLAN\",\"Brand Titles\":\"Anaplan, Inc.\",\"price\":\"64.94\",\"Change\":0.16,\"Change Precentage\":\"+0.25%\",\"Volume\":\"13.59M\",\"Average Volume\":\"5.48M\",\"Market Cap\":\"9.755B\",\"Ratio\":null},{\"Brand Symbol\":\"MQ\",\"Brand Titles\":\"Marqeta, Inc.\",\"price\":\"11.02\",\"Change\":-1.08,\"Change Precentage\":\"-8.93%\",\"Volume\":\"13.741M\",\"Average Volume\":\"8.375M\",\"Market Cap\":\"5.982B\",\"Ratio\":null},{\"Brand Symbol\":\"XPEV\",\"Brand Titles\":\"XPeng Inc.\",\"price\":\"27.05\",\"Change\":-2.21,\"Change Precentage\":\"-7.55%\",\"Volume\":\"13.905M\",\"Average Volume\":\"12.429M\",\"Market Cap\":\"23.166B\",\"Ratio\":null},{\"Brand Symbol\":\"PBR-A\",\"Brand Titles\":\"Petr\\u00f3leo Brasileiro S.A. - Petrobras\",\"price\":\"13.54\",\"Change\":0.12,\"Change Precentage\":\"+0.89%\",\"Volume\":\"13.376M\",\"Average Volume\":\"13.794M\",\"Market Cap\":\"75.851B\",\"Ratio\":4.0},{\"Brand Symbol\":\"X\",\"Brand Titles\":\"United States Steel Corporation\",\"price\":\"38.45\",\"Change\":0.25,\"Change Precentage\":\"+0.65%\",\"Volume\":\"14.17M\",\"Average Volume\":\"20.066M\",\"Market Cap\":\"10.033B\",\"Ratio\":2.58},{\"Brand Symbol\":\"SQ\",\"Brand Titles\":\"Block, Inc.\",\"price\":\"130.33\",\"Change\":-4.73,\"Change Precentage\":\"-3.50%\",\"Volume\":\"13.131M\",\"Average Volume\":\"20.352M\",\"Market Cap\":\"75.599B\",\"Ratio\":394.94},{\"Brand Symbol\":\"HPQ\",\"Brand Titles\":\"HP Inc.\",\"price\":\"39.84\",\"Change\":1.31,\"Change Precentage\":\"+3.40%\",\"Volume\":\"12.693M\",\"Average Volume\":\"12.225M\",\"Market Cap\":\"41.966B\",\"Ratio\":7.16},{\"Brand Symbol\":\"UPST\",\"Brand Titles\":\"Upstart Holdings, Inc.\",\"price\":\"103.77\",\"Change\":-11.68,\"Change Precentage\":\"-10.12%\",\"Volume\":\"13.358M\",\"Average Volume\":\"10.42M\",\"Market Cap\":\"8.723B\",\"Ratio\":72.57},{\"Brand Symbol\":\"RLX\",\"Brand Titles\":\"RLX Technology Inc.\",\"price\":\"1.9600\",\"Change\":-0.09,\"Change Precentage\":\"-4.39%\",\"Volume\":\"13.421M\",\"Average Volume\":\"14.665M\",\"Market Cap\":\"3.079B\",\"Ratio\":8.71},{\"Brand Symbol\":\"GME\",\"Brand Titles\":\"GameStop Corp.\",\"price\":\"151.95\",\"Change\":9.56,\"Change Precentage\":\"+6.71%\",\"Volume\":\"13.335M\",\"Average Volume\":\"3.86M\",\"Market Cap\":\"11.6B\",\"Ratio\":null},{\"Brand Symbol\":\"UAL\",\"Brand Titles\":\"United Airlines Holdings, Inc.\",\"price\":\"43.18\",\"Change\":0.4,\"Change Precentage\":\"+0.94%\",\"Volume\":\"12.835M\",\"Average Volume\":\"14.623M\",\"Market Cap\":\"14.017B\",\"Ratio\":null},{\"Brand Symbol\":\"KOS\",\"Brand Titles\":\"Kosmos Energy Ltd.\",\"price\":\"7.02\",\"Change\":0.39,\"Change Precentage\":\"+5.88%\",\"Volume\":\"12.727M\",\"Average Volume\":\"11.499M\",\"Market Cap\":\"3.196B\",\"Ratio\":null},{\"Brand Symbol\":\"ING\",\"Brand Titles\":\"ING Groep N.V.\",\"price\":\"10.37\",\"Change\":-0.02,\"Change Precentage\":\"-0.19%\",\"Volume\":\"12.54M\",\"Average Volume\":\"6.951M\",\"Market Cap\":\"39.029B\",\"Ratio\":7.67},{\"Brand Symbol\":\"BBBY\",\"Brand Titles\":\"Bed Bath & Beyond Inc.\",\"price\":\"22.59\",\"Change\":0.49,\"Change Precentage\":\"+2.22%\",\"Volume\":\"12.62M\",\"Average Volume\":\"8.671M\",\"Market Cap\":\"2.176B\",\"Ratio\":null},{\"Brand Symbol\":\"TEVA\",\"Brand Titles\":\"Teva Pharmaceutical Industries Limited\",\"price\":\"8.62\",\"Change\":0.45,\"Change Precentage\":\"+5.51%\",\"Volume\":\"12.332M\",\"Average Volume\":\"8.893M\",\"Market Cap\":\"9.53B\",\"Ratio\":22.8},{\"Brand Symbol\":\"PYPL\",\"Brand Titles\":\"PayPal Holdings, Inc.\",\"price\":\"113.76\",\"Change\":-2.29,\"Change Precentage\":\"-1.97%\",\"Volume\":\"12.378M\",\"Average Volume\":\"21.771M\",\"Market Cap\":\"132.53B\",\"Ratio\":32.32},{\"Brand Symbol\":\"KGC\",\"Brand Titles\":\"Kinross Gold Corporation\",\"price\":\"5.73\",\"Change\":0.07,\"Change Precentage\":\"+1.24%\",\"Volume\":\"12.072M\",\"Average Volume\":\"20.827M\",\"Market Cap\":\"7.412B\",\"Ratio\":33.71},{\"Brand Symbol\":\"SLB\",\"Brand Titles\":\"Schlumberger Limited\",\"price\":\"43.68\",\"Change\":1.04,\"Change Precentage\":\"+2.44%\",\"Volume\":\"12.076M\",\"Average Volume\":\"17.235M\",\"Market Cap\":\"61.726B\",\"Ratio\":33.09},{\"Brand Symbol\":\"MARA\",\"Brand Titles\":\"Marathon Digital Holdings, Inc.\",\"price\":\"28.89\",\"Change\":-1.44,\"Change Precentage\":\"-4.75%\",\"Volume\":\"12.102M\",\"Average Volume\":\"12.66M\",\"Market Cap\":\"2.977B\",\"Ratio\":null}]\n"
     ]
    }
   ],
   "source": [
    "import pandas\n",
    "import json\n",
    "file = 'yahoo-finance-01-.xlsx'\n",
    "# the file is endswith '.xls' and there is multiple sheets\n",
    "\n",
    "# error method\n",
    "#df_sheet1 = pd.read_excel(file, sheet_name='Sheet1')\n",
    "\n",
    "# Read excel document\n",
    "excel_data_df = pandas.read_excel(file, sheet_name='Sheet1')\n",
    "\n",
    "# Convert excel to string \n",
    "# (define orientation of document in this case from up to down)\n",
    "thisisjson = excel_data_df.to_json(orient='records')\n",
    "\n",
    "# Print out the result\n",
    "print('Excel Sheet to JSON:\\n', thisisjson)\n",
    "\n",
    "# Make the string into a list to be able to input in to a JSON-file\n",
    "thisisjson_dict = json.loads(thisisjson)\n",
    "\n",
    "# Define file to write to and 'w' for write option -> json.dump() \n",
    "# defining the list to write from and file to write to\n",
    "with open('data.json', 'w') as json_file:\n",
    "    json.dump(thisisjson_dict, json_file)"
   ]
  },
  {
   "cell_type": "code",
   "execution_count": 10,
   "id": "c4b9fe8b",
   "metadata": {},
   "outputs": [
    {
     "name": "stdout",
     "output_type": "stream",
     "text": [
      "  Brand Symbol                  Brand Titles   price  Change  \\\n",
      "0         TLRY           Tilray Brands, Inc.    8.56    1.59   \n",
      "1          NIO                      NIO Inc.   19.91   -2.07   \n",
      "2          AMD  Advanced Micro Devices, Inc.  119.67   -0.86   \n",
      "3          SWN   Southwestern Energy Company    6.88    0.93   \n",
      "4         AAPL                    Apple Inc.  174.72    0.65   \n",
      "\n",
      "  Change Precentage    Volume Average Volume Market Cap  Ratio  \n",
      "0           +22.81%  302.811M        27.522M     4.115B    NaN  \n",
      "1            -9.42%  106.471M        67.226M     36.29B    NaN  \n",
      "2            -0.71%   95.201M        98.662M   194.746B  46.56  \n",
      "3           +15.63%    79.98M        26.198M     7.667B    NaN  \n",
      "4            +0.37%   80.546M        93.172M     2.851T  29.05  \n"
     ]
    }
   ],
   "source": [
    "import pandas as pd\n",
    "file = 'yahoo-finance-01-.xlsx'\n",
    "# the file is endswith '.xls' and there is multiple sheets\n",
    "\n",
    "# error method\n",
    "df_sheet1 = pd.read_excel(file, sheet_name='Sheet1')\n",
    "#df_sheet2 = pd.read_excel(file, sheet_name='Sheet2')\n",
    "# when read Sheet1 had no error, but when read Sheet2, had an error: \n",
    "# xlrd.biffh.XLRDError: No sheet named <'Sheet2'>\n",
    "\n",
    "\n",
    "# right method \n",
    "with pd.ExcelFile(file) as xls:\n",
    "    for sheet_name in xls.sheet_names:\n",
    "        df = pd.read_excel(xls, sheet_name=sheet_name)\n",
    "        print(df.head())"
   ]
  },
  {
   "cell_type": "code",
   "execution_count": null,
   "id": "09322e9e",
   "metadata": {},
   "outputs": [],
   "source": []
  }
 ],
 "metadata": {
  "kernelspec": {
   "display_name": "Python 3 (ipykernel)",
   "language": "python",
   "name": "python3"
  },
  "language_info": {
   "codemirror_mode": {
    "name": "ipython",
    "version": 3
   },
   "file_extension": ".py",
   "mimetype": "text/x-python",
   "name": "python",
   "nbconvert_exporter": "python",
   "pygments_lexer": "ipython3",
   "version": "3.9.7"
  }
 },
 "nbformat": 4,
 "nbformat_minor": 5
}
