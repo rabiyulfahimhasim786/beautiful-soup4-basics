{
 "cells": [
  {
   "cell_type": "code",
   "execution_count": 1,
   "id": "1f6594cd",
   "metadata": {},
   "outputs": [
    {
     "name": "stdout",
     "output_type": "stream",
     "text": [
      "['ironSource Ltd. (IS)']\n",
      "['United Microelectronics Corporation (UMC)']\n",
      "['Nu Holdings Ltd. (NU)']\n",
      "['Foot Locker, Inc. (FL)']\n",
      "['NIKE, Inc. (NKE)']\n",
      "['Citizens Financial Group, Inc. (CFG)']\n",
      "['VICI Properties Inc. (VICI)']\n",
      "['Companhia Siderúrgica Nacional (SID)']\n",
      "['Medtronic plc (MDT)']\n",
      "['Deutsche Bank Aktiengesellschaft (DB)']\n"
     ]
    }
   ],
   "source": [
    "from bs4 import BeautifulSoup\n",
    "import requests\n",
    "import pprint\n",
    "import re\n",
    "import pyperclip\n",
    "\n",
    "urls = ['https://finance.yahoo.com/quote/IS?p=IS',\n",
    "'https://finance.yahoo.com/quote/UMC?p=UMC',\n",
    "'https://finance.yahoo.com/quote/NU?p=NU',\n",
    "'https://finance.yahoo.com/quote/FL?p=FL',\n",
    "'https://finance.yahoo.com/quote/NKE?p=NKE',\n",
    "'https://finance.yahoo.com/quote/CFG?p=CFG',\n",
    "'https://finance.yahoo.com/quote/VICI?p=VICI',\n",
    "'https://finance.yahoo.com/quote/SID?p=SID',\n",
    "'https://finance.yahoo.com/quote/MDT?p=MDT',\n",
    "'https://finance.yahoo.com/quote/DB?p=DB',]\n",
    "#scrape elements\n",
    "for url in urls:\n",
    "    response = requests.get(url)\n",
    "    soup = BeautifulSoup(response.content, \"html.parser\")\n",
    "\n",
    "    #print titles only\n",
    "    h1 = soup.find_all('h1', attrs={'class': 'D(ib) Fz(18px)'})\n",
    "    #print(h1.get_text())\n",
    "    doctor_n = []\n",
    "\n",
    "    for title in h1:\n",
    "        doctor_n.append(title.text.strip())\n",
    "    print(doctor_n)"
   ]
  },
  {
   "cell_type": "code",
   "execution_count": 66,
   "id": "4dcbfa33",
   "metadata": {},
   "outputs": [
    {
     "name": "stdout",
     "output_type": "stream",
     "text": [
      "['ironSource Ltd. (IS)', 'United Microelectronics Corporation (UMC)', 'Nu Holdings Ltd. (NU)', 'Foot Locker, Inc. (FL)', 'NIKE, Inc. (NKE)', 'Citizens Financial Group, Inc. (CFG)', 'VICI Properties Inc. (VICI)', 'Companhia Siderúrgica Nacional (SID)', 'Medtronic plc (MDT)', 'Deutsche Bank Aktiengesellschaft (DB)']\n"
     ]
    }
   ],
   "source": [
    "import itertools\n",
    "ab = itertools.chain(['ironSource Ltd. (IS)'],\n",
    "['United Microelectronics Corporation (UMC)'],\n",
    "['Nu Holdings Ltd. (NU)'],\n",
    "['Foot Locker, Inc. (FL)'],\n",
    "['NIKE, Inc. (NKE)'],\n",
    "['Citizens Financial Group, Inc. (CFG)'],\n",
    "['VICI Properties Inc. (VICI)'],\n",
    "['Companhia Siderúrgica Nacional (SID)'],\n",
    "['Medtronic plc (MDT)'],\n",
    "['Deutsche Bank Aktiengesellschaft (DB)'],)\n",
    "bc = list(ab)\n",
    "print(bc)"
   ]
  },
  {
   "cell_type": "code",
   "execution_count": 10,
   "id": "7f1fae8e",
   "metadata": {},
   "outputs": [
    {
     "name": "stdout",
     "output_type": "stream",
     "text": [
      "['NYSE - NYSE Delayed Price. Currency in USD']\n",
      "['NYSE - NYSE Delayed Price. Currency in USD']\n",
      "['NYSE - NYSE Delayed Price. Currency in USD']\n",
      "['NYSE - NYSE Delayed Price. Currency in USD']\n",
      "['NYSE - NYSE Delayed Price. Currency in USD']\n",
      "['NYSE - Nasdaq Real Time Price. Currency in USD']\n",
      "['NYSE - NYSE Delayed Price. Currency in USD']\n",
      "['NYSE - NYSE Delayed Price. Currency in USD']\n",
      "['NYSE - NYSE Delayed Price. Currency in USD']\n",
      "['NYSE - NYSE Delayed Price. Currency in USD']\n"
     ]
    }
   ],
   "source": [
    "\n",
    "urls = ['https://finance.yahoo.com/quote/IS?p=IS',\n",
    "'https://finance.yahoo.com/quote/UMC?p=UMC',\n",
    "'https://finance.yahoo.com/quote/NU?p=NU',\n",
    "'https://finance.yahoo.com/quote/FL?p=FL',\n",
    "'https://finance.yahoo.com/quote/NKE?p=NKE',\n",
    "'https://finance.yahoo.com/quote/CFG?p=CFG',\n",
    "'https://finance.yahoo.com/quote/VICI?p=VICI',\n",
    "'https://finance.yahoo.com/quote/SID?p=SID',\n",
    "'https://finance.yahoo.com/quote/MDT?p=MDT',\n",
    "'https://finance.yahoo.com/quote/DB?p=DB',]\n",
    "#scrape elements\n",
    "for url in urls:\n",
    "    response = requests.get(url)\n",
    "    soup = BeautifulSoup(response.content, \"html.parser\")\n",
    "\n",
    "    #print titles only\n",
    "    h1 = soup.find_all('div', attrs={'class': 'C($tertiaryColor) Fz(12px)'})\n",
    "    #print(h1.get_text())\n",
    "    doctor_n = []\n",
    "\n",
    "    for title in h1:\n",
    "        doctor_n.append(title.text.strip())\n",
    "    print(doctor_n)"
   ]
  },
  {
   "cell_type": "code",
   "execution_count": 67,
   "id": "1f6a272e",
   "metadata": {},
   "outputs": [
    {
     "name": "stdout",
     "output_type": "stream",
     "text": [
      "['NYSE - NYSE Delayed Price. Currency in USD', 'NYSE - NYSE Delayed Price. Currency in USD', 'NYSE - NYSE Delayed Price. Currency in USD', 'NYSE - NYSE Delayed Price. Currency in USD', 'NYSE - NYSE Delayed Price. Currency in USD', 'NYSE - Nasdaq Real Time Price. Currency in USD', 'NYSE - NYSE Delayed Price. Currency in USD', 'NYSE - NYSE Delayed Price. Currency in USD', 'NYSE - NYSE Delayed Price. Currency in USD', 'NYSE - NYSE Delayed Price. Currency in USD']\n"
     ]
    }
   ],
   "source": [
    "import itertools\n",
    "a = itertools.chain(['NYSE - NYSE Delayed Price. Currency in USD'],\n",
    "['NYSE - NYSE Delayed Price. Currency in USD'],\n",
    "['NYSE - NYSE Delayed Price. Currency in USD'],\n",
    "['NYSE - NYSE Delayed Price. Currency in USD'],\n",
    "['NYSE - NYSE Delayed Price. Currency in USD'],\n",
    "['NYSE - Nasdaq Real Time Price. Currency in USD'],\n",
    "['NYSE - NYSE Delayed Price. Currency in USD'],\n",
    "['NYSE - NYSE Delayed Price. Currency in USD'],\n",
    "['NYSE - NYSE Delayed Price. Currency in USD'],\n",
    "['NYSE - NYSE Delayed Price. Currency in USD'],)\n",
    "b = list(a)\n",
    "print(b)"
   ]
  },
  {
   "cell_type": "code",
   "execution_count": 18,
   "id": "64660d43",
   "metadata": {},
   "outputs": [
    {
     "name": "stdout",
     "output_type": "stream",
     "text": [
      "['5.31']\n",
      "['9.56']\n",
      "['8.36']\n",
      "['31.51']\n",
      "['139.14']\n",
      "['48.26']\n",
      "['28.89']\n",
      "['5.44']\n",
      "['112.38']\n",
      "['13.23']\n"
     ]
    }
   ],
   "source": [
    "\n",
    "urls = ['https://finance.yahoo.com/quote/IS?p=IS',\n",
    "'https://finance.yahoo.com/quote/UMC?p=UMC',\n",
    "'https://finance.yahoo.com/quote/NU?p=NU',\n",
    "'https://finance.yahoo.com/quote/FL?p=FL',\n",
    "'https://finance.yahoo.com/quote/NKE?p=NKE',\n",
    "'https://finance.yahoo.com/quote/CFG?p=CFG',\n",
    "'https://finance.yahoo.com/quote/VICI?p=VICI',\n",
    "'https://finance.yahoo.com/quote/SID?p=SID',\n",
    "'https://finance.yahoo.com/quote/MDT?p=MDT',\n",
    "'https://finance.yahoo.com/quote/DB?p=DB',]\n",
    "#scrape elements\n",
    "for url in urls:\n",
    "    response = requests.get(url)\n",
    "    soup = BeautifulSoup(response.content, \"html.parser\")\n",
    "\n",
    "    #print titles only\n",
    "    h1 = soup.find_all('fin-streamer', attrs={'class': 'Fw(b) Fz(36px) Mb(-4px) D(ib)'})\n",
    "\n",
    "    #print(h1.get_text())\n",
    "    doctor_n = []\n",
    "\n",
    "    for title in h1:\n",
    "        doctor_n.append(title.text.strip())\n",
    "    print(doctor_n)"
   ]
  },
  {
   "cell_type": "code",
   "execution_count": 68,
   "id": "aa3bbf84",
   "metadata": {},
   "outputs": [
    {
     "name": "stdout",
     "output_type": "stream",
     "text": [
      "['5.31', '9.56', '8.36', '31.51', '139.14', '48.26', '28.89', '5.44', '112.38', '13.23']\n"
     ]
    }
   ],
   "source": [
    "import itertools\n",
    "c = itertools.chain(['5.31'],\n",
    "['9.56'],\n",
    "['8.36'],\n",
    "['31.51'],\n",
    "['139.14'],\n",
    "['48.26'],\n",
    "['28.89'],\n",
    "['5.44'],\n",
    "['112.38'],\n",
    "['13.23'],)\n",
    "d = list(c)\n",
    "print(d)"
   ]
  },
  {
   "cell_type": "code",
   "execution_count": 19,
   "id": "b288345d",
   "metadata": {},
   "outputs": [
    {
     "name": "stdout",
     "output_type": "stream",
     "text": [
      "['+0.29']\n",
      "['+0.10']\n",
      "['+0.30']\n",
      "['+1.33']\n",
      "['+4.33']\n",
      "['-1.70']\n",
      "['+1.03']\n",
      "['-0.02']\n",
      "['+2.45']\n",
      "['+0.32']\n"
     ]
    }
   ],
   "source": [
    "\n",
    "urls = ['https://finance.yahoo.com/quote/IS?p=IS',\n",
    "'https://finance.yahoo.com/quote/UMC?p=UMC',\n",
    "'https://finance.yahoo.com/quote/NU?p=NU',\n",
    "'https://finance.yahoo.com/quote/FL?p=FL',\n",
    "'https://finance.yahoo.com/quote/NKE?p=NKE',\n",
    "'https://finance.yahoo.com/quote/CFG?p=CFG',\n",
    "'https://finance.yahoo.com/quote/VICI?p=VICI',\n",
    "'https://finance.yahoo.com/quote/SID?p=SID',\n",
    "'https://finance.yahoo.com/quote/MDT?p=MDT',\n",
    "'https://finance.yahoo.com/quote/DB?p=DB',]\n",
    "#scrape elements\n",
    "for url in urls:\n",
    "    response = requests.get(url)\n",
    "    soup = BeautifulSoup(response.content, \"html.parser\")\n",
    "\n",
    "    #print titles only\n",
    "    h1 = soup.find_all('fin-streamer', attrs={'data-test': 'qsp-price-change'})\n",
    "\n",
    "    #print(h1.get_text())\n",
    "    doctor_n = []\n",
    "\n",
    "    for title in h1:\n",
    "        doctor_n.append(title.text.strip())\n",
    "    print(doctor_n)"
   ]
  },
  {
   "cell_type": "code",
   "execution_count": 69,
   "id": "1a2fecf8",
   "metadata": {},
   "outputs": [
    {
     "name": "stdout",
     "output_type": "stream",
     "text": [
      "['+0.29', '+0.10', '+0.30', '+1.33', '+4.33', '-1.70', '+1.03', '-0.02', '+2.45', '+0.32']\n"
     ]
    }
   ],
   "source": [
    "import itertools\n",
    "e = itertools.chain(['+0.29'],\n",
    "['+0.10'],\n",
    "['+0.30'],\n",
    "['+1.33'],\n",
    "['+4.33'],\n",
    "['-1.70'],\n",
    "['+1.03'],\n",
    "['-0.02'],\n",
    "['+2.45'],\n",
    "['+0.32'],\n",
    ")\n",
    "f = list(e)\n",
    "print(f)"
   ]
  },
  {
   "cell_type": "code",
   "execution_count": 22,
   "id": "74f57d0f",
   "metadata": {},
   "outputs": [
    {
     "name": "stdout",
     "output_type": "stream",
     "text": [
      "['+0.29', '(+5.78%)']\n",
      "['+0.10', '(+1.06%)']\n",
      "['+0.30', '(+3.72%)']\n",
      "['+1.33', '(+4.41%)']\n",
      "['+4.33', '(+3.21%)']\n",
      "['-1.70', '(-3.41%)']\n",
      "['+1.03', '(+3.70%)']\n",
      "['-0.02', '(-0.37%)']\n",
      "['+2.45', '(+2.23%)']\n",
      "['+0.32', '(+2.48%)']\n"
     ]
    }
   ],
   "source": [
    "\n",
    "urls = ['https://finance.yahoo.com/quote/IS?p=IS',\n",
    "'https://finance.yahoo.com/quote/UMC?p=UMC',\n",
    "'https://finance.yahoo.com/quote/NU?p=NU',\n",
    "'https://finance.yahoo.com/quote/FL?p=FL',\n",
    "'https://finance.yahoo.com/quote/NKE?p=NKE',\n",
    "'https://finance.yahoo.com/quote/CFG?p=CFG',\n",
    "'https://finance.yahoo.com/quote/VICI?p=VICI',\n",
    "'https://finance.yahoo.com/quote/SID?p=SID',\n",
    "'https://finance.yahoo.com/quote/MDT?p=MDT',\n",
    "'https://finance.yahoo.com/quote/DB?p=DB',]\n",
    "#scrape elements\n",
    "for url in urls:\n",
    "    response = requests.get(url)\n",
    "    soup = BeautifulSoup(response.content, \"html.parser\")\n",
    "\n",
    "    #print titles only\n",
    "    h1 = soup.find_all('fin-streamer', attrs={'class': 'Fw(500) Pstart(8px) Fz(24px)'})\n",
    "\n",
    "    #print(h1.get_text())\n",
    "    doctor_n = []\n",
    "\n",
    "    for title in h1:\n",
    "        doctor_n.append(title.text.strip())\n",
    "    print(doctor_n)"
   ]
  },
  {
   "cell_type": "code",
   "execution_count": 70,
   "id": "5787589d",
   "metadata": {},
   "outputs": [
    {
     "name": "stdout",
     "output_type": "stream",
     "text": [
      "['(+5.78%)', '(+1.06%)', '(+3.72%)', '(+4.41%)', '(+3.21%)', '(-3.41%)', '(+3.70%)', '(-0.37%)', '(+2.23%)', '(+2.48%)']\n"
     ]
    }
   ],
   "source": [
    "\n",
    "import itertools\n",
    "g = itertools.chain(['(+5.78%)'],\n",
    "['(+1.06%)'],\n",
    "['(+3.72%)'],\n",
    "['(+4.41%)'],\n",
    "['(+3.21%)'],\n",
    "['(-3.41%)'],\n",
    "['(+3.70%)'],\n",
    "['(-0.37%)'],\n",
    "['(+2.23%)'],\n",
    "['(+2.48%)'],\n",
    ")\n",
    "h = list(g)\n",
    "print(h)"
   ]
  },
  {
   "cell_type": "code",
   "execution_count": 24,
   "id": "8d7e7126",
   "metadata": {},
   "outputs": [
    {
     "name": "stdout",
     "output_type": "stream",
     "text": [
      "['5.02']\n",
      "['9.46']\n",
      "['8.06']\n",
      "['30.18']\n",
      "['134.81']\n",
      "['49.96']\n",
      "['27.86']\n",
      "['5.46']\n",
      "['109.93']\n",
      "['12.91']\n"
     ]
    }
   ],
   "source": [
    "\n",
    "urls = ['https://finance.yahoo.com/quote/IS?p=IS',\n",
    "'https://finance.yahoo.com/quote/UMC?p=UMC',\n",
    "'https://finance.yahoo.com/quote/NU?p=NU',\n",
    "'https://finance.yahoo.com/quote/FL?p=FL',\n",
    "'https://finance.yahoo.com/quote/NKE?p=NKE',\n",
    "'https://finance.yahoo.com/quote/CFG?p=CFG',\n",
    "'https://finance.yahoo.com/quote/VICI?p=VICI',\n",
    "'https://finance.yahoo.com/quote/SID?p=SID',\n",
    "'https://finance.yahoo.com/quote/MDT?p=MDT',\n",
    "'https://finance.yahoo.com/quote/DB?p=DB',]\n",
    "#scrape elements\n",
    "for url in urls:\n",
    "    response = requests.get(url)\n",
    "    soup = BeautifulSoup(response.content, \"html.parser\")\n",
    "\n",
    "    #print titles only\n",
    "    h1 = soup.find_all('td', attrs={'data-test': 'PREV_CLOSE-value'})\n",
    "\n",
    "    #print(h1.get_text())\n",
    "    doctor_n = []\n",
    "\n",
    "    for title in h1:\n",
    "        doctor_n.append(title.text.strip())\n",
    "    print(doctor_n)"
   ]
  },
  {
   "cell_type": "code",
   "execution_count": 71,
   "id": "591d05d7",
   "metadata": {},
   "outputs": [
    {
     "name": "stdout",
     "output_type": "stream",
     "text": [
      "['5.02', '9.46', '8.06', '30.18', '134.81', '49.96', '27.86', '5.46', '109.93', '12.91']\n"
     ]
    }
   ],
   "source": [
    "import itertools\n",
    "i = itertools.chain(['5.02'],\n",
    "['9.46'],\n",
    "['8.06'],\n",
    "['30.18'],\n",
    "['134.81'],\n",
    "['49.96'],\n",
    "['27.86'],\n",
    "['5.46'],\n",
    "['109.93'],\n",
    "['12.91'],\n",
    ")\n",
    "j = list(i)\n",
    "print(j)"
   ]
  },
  {
   "cell_type": "code",
   "execution_count": 26,
   "id": "ca7bbac8",
   "metadata": {},
   "outputs": [
    {
     "name": "stdout",
     "output_type": "stream",
     "text": [
      "['5.14']\n",
      "['9.51']\n",
      "['8.17']\n",
      "['30.80']\n",
      "['137.85']\n",
      "['49.45']\n",
      "['28.19']\n",
      "['5.43']\n",
      "['111.00']\n",
      "['13.30']\n"
     ]
    }
   ],
   "source": [
    "urls = ['https://finance.yahoo.com/quote/IS?p=IS',\n",
    "'https://finance.yahoo.com/quote/UMC?p=UMC',\n",
    "'https://finance.yahoo.com/quote/NU?p=NU',\n",
    "'https://finance.yahoo.com/quote/FL?p=FL',\n",
    "'https://finance.yahoo.com/quote/NKE?p=NKE',\n",
    "'https://finance.yahoo.com/quote/CFG?p=CFG',\n",
    "'https://finance.yahoo.com/quote/VICI?p=VICI',\n",
    "'https://finance.yahoo.com/quote/SID?p=SID',\n",
    "'https://finance.yahoo.com/quote/MDT?p=MDT',\n",
    "'https://finance.yahoo.com/quote/DB?p=DB',]\n",
    "#scrape elements\n",
    "for url in urls:\n",
    "    response = requests.get(url)\n",
    "    soup = BeautifulSoup(response.content, \"html.parser\")\n",
    "\n",
    "    #print titles only\n",
    "    h1 = soup.find_all('td', attrs={'data-test': 'OPEN-value'})\n",
    "\n",
    "    #print(h1.get_text())\n",
    "    doctor_n = []\n",
    "\n",
    "    for title in h1:\n",
    "        doctor_n.append(title.text.strip())\n",
    "    print(doctor_n)"
   ]
  },
  {
   "cell_type": "code",
   "execution_count": 72,
   "id": "dee128a1",
   "metadata": {},
   "outputs": [
    {
     "name": "stdout",
     "output_type": "stream",
     "text": [
      "['5.14', '9.51', '8.17', '30.80', '137.85', '49.45', '28.19', '5.43', '111.00', '13.30']\n"
     ]
    }
   ],
   "source": [
    "import itertools\n",
    "k = itertools.chain(['5.14'],\n",
    "['9.51'],\n",
    "['8.17'],\n",
    "['30.80'],\n",
    "['137.85'],\n",
    "['49.45'],\n",
    "['28.19'],\n",
    "['5.43'],\n",
    "['111.00'],\n",
    "['13.30'],\n",
    "\n",
    ")\n",
    "l = list(k)\n",
    "print(l)"
   ]
  },
  {
   "cell_type": "code",
   "execution_count": 29,
   "id": "f96be9ef",
   "metadata": {},
   "outputs": [
    {
     "name": "stdout",
     "output_type": "stream",
     "text": [
      "['5.17 x 3200']\n",
      "['9.01 x 900']\n",
      "['8.28 x 2200']\n",
      "['0.00 x 900']\n",
      "['0.00 x 800']\n",
      "['48.41 x 800']\n",
      "['0.00 x 3000']\n",
      "['0.00 x 43500']\n",
      "['109.70 x 800']\n",
      "['0.00 x 1800']\n"
     ]
    }
   ],
   "source": [
    "urls = ['https://finance.yahoo.com/quote/IS?p=IS',\n",
    "'https://finance.yahoo.com/quote/UMC?p=UMC',\n",
    "'https://finance.yahoo.com/quote/NU?p=NU',\n",
    "'https://finance.yahoo.com/quote/FL?p=FL',\n",
    "'https://finance.yahoo.com/quote/NKE?p=NKE',\n",
    "'https://finance.yahoo.com/quote/CFG?p=CFG',\n",
    "'https://finance.yahoo.com/quote/VICI?p=VICI',\n",
    "'https://finance.yahoo.com/quote/SID?p=SID',\n",
    "'https://finance.yahoo.com/quote/MDT?p=MDT',\n",
    "'https://finance.yahoo.com/quote/DB?p=DB',]\n",
    "#scrape elements\n",
    "for url in urls:\n",
    "    response = requests.get(url)\n",
    "    soup = BeautifulSoup(response.content, \"html.parser\")\n",
    "\n",
    "    #print titles only\n",
    "    h1 = soup.find_all('td', attrs={'data-test': 'BID-value'})\n",
    "    #print(h1.get_text())\n",
    "    doctor_n = []\n",
    "\n",
    "    for title in h1:\n",
    "        doctor_n.append(title.text.strip())\n",
    "    print(doctor_n)"
   ]
  },
  {
   "cell_type": "code",
   "execution_count": 73,
   "id": "c645072a",
   "metadata": {},
   "outputs": [
    {
     "name": "stdout",
     "output_type": "stream",
     "text": [
      "['5.17 x 3200', '9.01 x 900', '8.28 x 2200', '0.00 x 900', '0.00 x 800', '48.41 x 800', '0.00 x 3000', '0.00 x 43500', '109.70 x 800', '0.00 x 1800']\n"
     ]
    }
   ],
   "source": [
    "import itertools\n",
    "m = itertools.chain(['5.17 x 3200'],\n",
    "['9.01 x 900'],\n",
    "['8.28 x 2200'],\n",
    "['0.00 x 900'],\n",
    "['0.00 x 800'],\n",
    "['48.41 x 800'],\n",
    "['0.00 x 3000'],\n",
    "['0.00 x 43500'],\n",
    "['109.70 x 800'],\n",
    "['0.00 x 1800'],\n",
    "\n",
    ")\n",
    "n = list(m)\n",
    "print(n)"
   ]
  },
  {
   "cell_type": "code",
   "execution_count": 32,
   "id": "4be65a8a",
   "metadata": {},
   "outputs": [
    {
     "name": "stdout",
     "output_type": "stream",
     "text": [
      "['0.00 x 1800']\n",
      "['9.95 x 40700']\n",
      "['8.22 x 4000']\n",
      "['0.00 x 800']\n",
      "['139.15 x 800']\n",
      "['48.42 x 900']\n",
      "['0.00 x 2200']\n",
      "['5.67 x 42300']\n",
      "['113.88 x 1300']\n",
      "['0.00 x 3000']\n"
     ]
    }
   ],
   "source": [
    "urls = ['https://finance.yahoo.com/quote/IS?p=IS',\n",
    "'https://finance.yahoo.com/quote/UMC?p=UMC',\n",
    "'https://finance.yahoo.com/quote/NU?p=NU',\n",
    "'https://finance.yahoo.com/quote/FL?p=FL',\n",
    "'https://finance.yahoo.com/quote/NKE?p=NKE',\n",
    "'https://finance.yahoo.com/quote/CFG?p=CFG',\n",
    "'https://finance.yahoo.com/quote/VICI?p=VICI',\n",
    "'https://finance.yahoo.com/quote/SID?p=SID',\n",
    "'https://finance.yahoo.com/quote/MDT?p=MDT',\n",
    "'https://finance.yahoo.com/quote/DB?p=DB',]\n",
    "#scrape elements\n",
    "for url in urls:\n",
    "    response = requests.get(url)\n",
    "    soup = BeautifulSoup(response.content, \"html.parser\")\n",
    "\n",
    "    #print titles only\n",
    "    h1 = soup.find_all('td', attrs={'data-test': 'ASK-value'})\n",
    "    #print(h1.get_text())\n",
    "    doctor_n = []\n",
    "\n",
    "    for title in h1:\n",
    "        doctor_n.append(title.text.strip())\n",
    "    print(doctor_n)"
   ]
  },
  {
   "cell_type": "code",
   "execution_count": 74,
   "id": "60411e8e",
   "metadata": {},
   "outputs": [
    {
     "name": "stdout",
     "output_type": "stream",
     "text": [
      "['0.00 x 1800', '9.95 x 40700', '8.22 x 4000', '0.00 x 800', '139.15 x 800', '48.42 x 900', '0.00 x 2200', '5.67 x 42300', '113.88 x 1300', '0.00 x 3000']\n"
     ]
    }
   ],
   "source": [
    "import itertools\n",
    "o = itertools.chain(['0.00 x 1800'],\n",
    "['9.95 x 40700'],\n",
    "['8.22 x 4000'],\n",
    "['0.00 x 800'],\n",
    "['139.15 x 800'],\n",
    "['48.42 x 900'],\n",
    "['0.00 x 2200'],\n",
    "['5.67 x 42300'],\n",
    "['113.88 x 1300'],\n",
    "['0.00 x 3000'],\n",
    "\n",
    ")\n",
    "p = list(o)\n",
    "print(p)"
   ]
  },
  {
   "cell_type": "code",
   "execution_count": 34,
   "id": "1a983d2a",
   "metadata": {},
   "outputs": [
    {
     "name": "stdout",
     "output_type": "stream",
     "text": [
      "['5.14 - 5.43']\n",
      "['9.45 - 9.60']\n",
      "['8.05 - 8.46']\n",
      "['30.70 - 31.61']\n",
      "['136.95 - 139.75']\n",
      "['48.26 - 49.85']\n",
      "['28.17 - 28.94']\n",
      "['5.33 - 5.54']\n",
      "['110.69 - 112.47']\n",
      "['13.15 - 13.36']\n"
     ]
    }
   ],
   "source": [
    "urls = ['https://finance.yahoo.com/quote/IS?p=IS',\n",
    "'https://finance.yahoo.com/quote/UMC?p=UMC',\n",
    "'https://finance.yahoo.com/quote/NU?p=NU',\n",
    "'https://finance.yahoo.com/quote/FL?p=FL',\n",
    "'https://finance.yahoo.com/quote/NKE?p=NKE',\n",
    "'https://finance.yahoo.com/quote/CFG?p=CFG',\n",
    "'https://finance.yahoo.com/quote/VICI?p=VICI',\n",
    "'https://finance.yahoo.com/quote/SID?p=SID',\n",
    "'https://finance.yahoo.com/quote/MDT?p=MDT',\n",
    "'https://finance.yahoo.com/quote/DB?p=DB',]\n",
    "#scrape elements\n",
    "for url in urls:\n",
    "    response = requests.get(url)\n",
    "    soup = BeautifulSoup(response.content, \"html.parser\")\n",
    "\n",
    "    #print titles only\n",
    "    h1 = soup.find_all('td', attrs={'data-test': 'DAYS_RANGE-value'})\n",
    "    #print(h1.get_text())\n",
    "    doctor_n = []\n",
    "\n",
    "    for title in h1:\n",
    "        doctor_n.append(title.text.strip())\n",
    "    print(doctor_n)"
   ]
  },
  {
   "cell_type": "code",
   "execution_count": 87,
   "id": "7c0fc370",
   "metadata": {},
   "outputs": [
    {
     "name": "stdout",
     "output_type": "stream",
     "text": [
      "['5.14 - 5.43', '9.45 - 9.60', '8.05 - 8.46', '30.70 - 31.61', '136.95 - 139.75', '48.26 - 49.85', '28.17 - 28.94', '5.33 - 5.54', '110.69 - 112.47', '13.15 - 13.36']\n"
     ]
    }
   ],
   "source": [
    "import itertools\n",
    "q = itertools.chain(['5.14 - 5.43'],\n",
    "['9.45 - 9.60'],\n",
    "['8.05 - 8.46'],\n",
    "['30.70 - 31.61'],\n",
    "['136.95 - 139.75'],\n",
    "['48.26 - 49.85'],\n",
    "['28.17 - 28.94'],\n",
    "['5.33 - 5.54'],\n",
    "['110.69 - 112.47'],\n",
    "['13.15 - 13.36'],\n",
    "\n",
    ")\n",
    "r = list(q)\n",
    "print(r)"
   ]
  },
  {
   "cell_type": "code",
   "execution_count": 36,
   "id": "4c8e30f8",
   "metadata": {},
   "outputs": [
    {
     "name": "stdout",
     "output_type": "stream",
     "text": [
      "['4.53 - 13.14']\n",
      "['7.90 - 12.68']\n",
      "['5.55 - 12.24']\n",
      "['26.36 - 66.71']\n",
      "['116.75 - 179.10']\n",
      "['39.56 - 57.00']\n",
      "['26.23 - 33.35']\n",
      "['3.56 - 10.33']\n",
      "['98.38 - 135.89']\n",
      "['9.46 - 16.70']\n"
     ]
    }
   ],
   "source": [
    "urls = ['https://finance.yahoo.com/quote/IS?p=IS',\n",
    "'https://finance.yahoo.com/quote/UMC?p=UMC',\n",
    "'https://finance.yahoo.com/quote/NU?p=NU',\n",
    "'https://finance.yahoo.com/quote/FL?p=FL',\n",
    "'https://finance.yahoo.com/quote/NKE?p=NKE',\n",
    "'https://finance.yahoo.com/quote/CFG?p=CFG',\n",
    "'https://finance.yahoo.com/quote/VICI?p=VICI',\n",
    "'https://finance.yahoo.com/quote/SID?p=SID',\n",
    "'https://finance.yahoo.com/quote/MDT?p=MDT',\n",
    "'https://finance.yahoo.com/quote/DB?p=DB',]\n",
    "#scrape elements\n",
    "for url in urls:\n",
    "    response = requests.get(url)\n",
    "    soup = BeautifulSoup(response.content, \"html.parser\")\n",
    "\n",
    "    #print titles only\n",
    "    h1 = soup.find_all('td', attrs={'data-test': 'FIFTY_TWO_WK_RANGE-value'})\n",
    "    #print(h1.get_text())\n",
    "    doctor_n = []\n",
    "\n",
    "    for title in h1:\n",
    "        doctor_n.append(title.text.strip())\n",
    "    print(doctor_n)"
   ]
  },
  {
   "cell_type": "code",
   "execution_count": 86,
   "id": "e8f44e8f",
   "metadata": {},
   "outputs": [
    {
     "name": "stdout",
     "output_type": "stream",
     "text": [
      "['4.53 - 13.14', '7.90 - 12.68', '5.55 - 12.24', '26.36 - 66.71', '116.75 - 179.10', '39.56 - 57.00', '26.23 - 33.35', '3.56 - 10.33', '98.38 - 135.89', '9.46 - 16.70']\n"
     ]
    }
   ],
   "source": [
    "import itertools\n",
    "s = itertools.chain(['4.53 - 13.14'],\n",
    "['7.90 - 12.68'],\n",
    "['5.55 - 12.24'],\n",
    "['26.36 - 66.71'],\n",
    "['116.75 - 179.10'],\n",
    "['39.56 - 57.00'],\n",
    "['26.23 - 33.35'],\n",
    "['3.56 - 10.33'],\n",
    "['98.38 - 135.89'],\n",
    "['9.46 - 16.70'],\n",
    "\n",
    "\n",
    ")\n",
    "t = list(s)\n",
    "print(t)"
   ]
  },
  {
   "cell_type": "code",
   "execution_count": 38,
   "id": "451176bd",
   "metadata": {},
   "outputs": [
    {
     "name": "stdout",
     "output_type": "stream",
     "text": [
      "['7,162,967']\n",
      "['8,589,159']\n",
      "['7,144,872']\n",
      "['2,767,046']\n",
      "['7,081,198']\n",
      "['2,554,658']\n",
      "['6,684,233']\n",
      "['5,447,521']\n",
      "['8,850,683']\n",
      "['4,898,680']\n"
     ]
    }
   ],
   "source": [
    "urls = ['https://finance.yahoo.com/quote/IS?p=IS',\n",
    "'https://finance.yahoo.com/quote/UMC?p=UMC',\n",
    "'https://finance.yahoo.com/quote/NU?p=NU',\n",
    "'https://finance.yahoo.com/quote/FL?p=FL',\n",
    "'https://finance.yahoo.com/quote/NKE?p=NKE',\n",
    "'https://finance.yahoo.com/quote/CFG?p=CFG',\n",
    "'https://finance.yahoo.com/quote/VICI?p=VICI',\n",
    "'https://finance.yahoo.com/quote/SID?p=SID',\n",
    "'https://finance.yahoo.com/quote/MDT?p=MDT',\n",
    "'https://finance.yahoo.com/quote/DB?p=DB',]\n",
    "#scrape elements\n",
    "for url in urls:\n",
    "    response = requests.get(url)\n",
    "    soup = BeautifulSoup(response.content, \"html.parser\")\n",
    "\n",
    "    #print titles only\n",
    "    h1 = soup.find_all('td', attrs={'data-test': 'TD_VOLUME-value'})\n",
    "    #print(h1.get_text())\n",
    "    doctor_n = []\n",
    "\n",
    "    for title in h1:\n",
    "        doctor_n.append(title.text.strip())\n",
    "    print(doctor_n)"
   ]
  },
  {
   "cell_type": "code",
   "execution_count": 77,
   "id": "809c0c80",
   "metadata": {},
   "outputs": [
    {
     "name": "stdout",
     "output_type": "stream",
     "text": [
      "['7,162,967', '8,589,159', '7,144,872', '2,767,046', '7,081,198', '2,554,658', '6,684,233', '5,447,521', '8,850,683', '4,898,680']\n"
     ]
    }
   ],
   "source": [
    "import itertools\n",
    "u = itertools.chain(['7,162,967'],\n",
    "['8,589,159'],\n",
    "['7,144,872'],\n",
    "['2,767,046'],\n",
    "['7,081,198'],\n",
    "['2,554,658'],\n",
    "['6,684,233'],\n",
    "['5,447,521'],\n",
    "['8,850,683'],\n",
    "['4,898,680'],\n",
    "\n",
    ")\n",
    "v = list(u)\n",
    "print(v)"
   ]
  },
  {
   "cell_type": "code",
   "execution_count": 40,
   "id": "86436671",
   "metadata": {},
   "outputs": [
    {
     "name": "stdout",
     "output_type": "stream",
     "text": [
      "['4,242,909']\n",
      "['10,492,786']\n",
      "['12,461,793']\n",
      "['3,225,039']\n",
      "['7,179,885']\n",
      "['5,068,703']\n",
      "['7,606,334']\n",
      "['5,041,165']\n",
      "['6,842,836']\n",
      "['6,919,698']\n"
     ]
    }
   ],
   "source": [
    "urls = ['https://finance.yahoo.com/quote/IS?p=IS',\n",
    "'https://finance.yahoo.com/quote/UMC?p=UMC',\n",
    "'https://finance.yahoo.com/quote/NU?p=NU',\n",
    "'https://finance.yahoo.com/quote/FL?p=FL',\n",
    "'https://finance.yahoo.com/quote/NKE?p=NKE',\n",
    "'https://finance.yahoo.com/quote/CFG?p=CFG',\n",
    "'https://finance.yahoo.com/quote/VICI?p=VICI',\n",
    "'https://finance.yahoo.com/quote/SID?p=SID',\n",
    "'https://finance.yahoo.com/quote/MDT?p=MDT',\n",
    "'https://finance.yahoo.com/quote/DB?p=DB',]\n",
    "#scrape elements\n",
    "for url in urls:\n",
    "    response = requests.get(url)\n",
    "    soup = BeautifulSoup(response.content, \"html.parser\")\n",
    "\n",
    "    #print titles only\n",
    "    h1 = soup.find_all('td', attrs={'data-test': 'AVERAGE_VOLUME_3MONTH-value'})\n",
    "    #print(h1.get_text())\n",
    "    doctor_n = []\n",
    "\n",
    "    for title in h1:\n",
    "        doctor_n.append(title.text.strip())\n",
    "    print(doctor_n)"
   ]
  },
  {
   "cell_type": "code",
   "execution_count": 78,
   "id": "f9d40462",
   "metadata": {},
   "outputs": [
    {
     "name": "stdout",
     "output_type": "stream",
     "text": [
      "['4,242,909', '10,492,786', '12,461,793', '3,225,039', '7,179,885', '5,068,703', '7,606,334', '5,041,165', '6,842,836', '6,919,698']\n"
     ]
    }
   ],
   "source": [
    "import itertools\n",
    "w = itertools.chain(['4,242,909'],\n",
    "['10,492,786'],\n",
    "['12,461,793'],\n",
    "['3,225,039'],\n",
    "['7,179,885'],\n",
    "['5,068,703'],\n",
    "['7,606,334'],\n",
    "['5,041,165'],\n",
    "['6,842,836'],\n",
    "['6,919,698'],\n",
    "\n",
    "\n",
    ")\n",
    "x = list(w)\n",
    "print(x)"
   ]
  },
  {
   "cell_type": "code",
   "execution_count": 42,
   "id": "0bb7f304",
   "metadata": {
    "scrolled": true
   },
   "outputs": [
    {
     "name": "stdout",
     "output_type": "stream",
     "text": [
      "['7.349B']\n",
      "['23.665B']\n",
      "['38.77B']\n",
      "['3.028B']\n",
      "['220.022B']\n",
      "['20.371B']\n",
      "['21.622B']\n",
      "['7.394B']\n",
      "['150.762B']\n",
      "['27.717B']\n"
     ]
    }
   ],
   "source": [
    "urls = ['https://finance.yahoo.com/quote/IS?p=IS',\n",
    "'https://finance.yahoo.com/quote/UMC?p=UMC',\n",
    "'https://finance.yahoo.com/quote/NU?p=NU',\n",
    "'https://finance.yahoo.com/quote/FL?p=FL',\n",
    "'https://finance.yahoo.com/quote/NKE?p=NKE',\n",
    "'https://finance.yahoo.com/quote/CFG?p=CFG',\n",
    "'https://finance.yahoo.com/quote/VICI?p=VICI',\n",
    "'https://finance.yahoo.com/quote/SID?p=SID',\n",
    "'https://finance.yahoo.com/quote/MDT?p=MDT',\n",
    "'https://finance.yahoo.com/quote/DB?p=DB',]\n",
    "#scrape elements\n",
    "for url in urls:\n",
    "    response = requests.get(url)\n",
    "    soup = BeautifulSoup(response.content, \"html.parser\")\n",
    "\n",
    "    #print titles only\n",
    "    h1 = soup.find_all('td', attrs={'data-test': 'MARKET_CAP-value'})\n",
    "    #print(h1.get_text())\n",
    "    doctor_n = []\n",
    "\n",
    "    for title in h1:\n",
    "        doctor_n.append(title.text.strip())\n",
    "    print(doctor_n)"
   ]
  },
  {
   "cell_type": "code",
   "execution_count": 79,
   "id": "0e976cbf",
   "metadata": {},
   "outputs": [
    {
     "name": "stdout",
     "output_type": "stream",
     "text": [
      "['7.349B', '23.665B', '38.77B', '3.028B', '220.022B', '20.371B', '21.622B', '7.394B', '150.762B', '27.717B']\n"
     ]
    }
   ],
   "source": [
    "import itertools\n",
    "y = itertools.chain(['7.349B'],\n",
    "['23.665B'],\n",
    "['38.77B'],\n",
    "['3.028B'],\n",
    "['220.022B'],\n",
    "['20.371B'],\n",
    "['21.622B'],\n",
    "['7.394B'],\n",
    "['150.762B'],\n",
    "['27.717B'],\n",
    "\n",
    "\n",
    ")\n",
    "z = list(y)\n",
    "print(z)"
   ]
  },
  {
   "cell_type": "code",
   "execution_count": 44,
   "id": "7f52a7db",
   "metadata": {},
   "outputs": [
    {
     "name": "stdout",
     "output_type": "stream",
     "text": [
      "['88.50']\n",
      "['12.26']\n",
      "['N/A']\n",
      "['3.66']\n",
      "['36.71']\n",
      "['9.35']\n",
      "['16.41']\n",
      "['2.90']\n",
      "['30.97']\n",
      "['12.95']\n"
     ]
    }
   ],
   "source": [
    "urls = ['https://finance.yahoo.com/quote/IS?p=IS',\n",
    "'https://finance.yahoo.com/quote/UMC?p=UMC',\n",
    "'https://finance.yahoo.com/quote/NU?p=NU',\n",
    "'https://finance.yahoo.com/quote/FL?p=FL',\n",
    "'https://finance.yahoo.com/quote/NKE?p=NKE',\n",
    "'https://finance.yahoo.com/quote/CFG?p=CFG',\n",
    "'https://finance.yahoo.com/quote/VICI?p=VICI',\n",
    "'https://finance.yahoo.com/quote/SID?p=SID',\n",
    "'https://finance.yahoo.com/quote/MDT?p=MDT',\n",
    "'https://finance.yahoo.com/quote/DB?p=DB',]\n",
    "#scrape elements\n",
    "for url in urls:\n",
    "    response = requests.get(url)\n",
    "    soup = BeautifulSoup(response.content, \"html.parser\")\n",
    "\n",
    "    #print titles only\n",
    "    h1 = soup.find_all('td', attrs={'data-test': 'PE_RATIO-value'})\n",
    "    #print(h1.get_text())\n",
    "    doctor_n = []\n",
    "\n",
    "    for title in h1:\n",
    "        doctor_n.append(title.text.strip())\n",
    "    print(doctor_n)"
   ]
  },
  {
   "cell_type": "code",
   "execution_count": 80,
   "id": "f66720f1",
   "metadata": {},
   "outputs": [
    {
     "name": "stdout",
     "output_type": "stream",
     "text": [
      "['88.50', '12.26', 'N/A', '3.66', '36.71', '9.35', '16.41', '2.90', '30.97', '12.95']\n"
     ]
    }
   ],
   "source": [
    "import itertools\n",
    "PE_RATIO = itertools.chain(['88.50'],\n",
    "['12.26'],\n",
    "['N/A'],\n",
    "['3.66'],\n",
    "['36.71'],\n",
    "['9.35'],\n",
    "['16.41'],\n",
    "['2.90'],\n",
    "['30.97'],\n",
    "['12.95'],\n",
    ")\n",
    "za = list(PE_RATIO)\n",
    "print(za)"
   ]
  },
  {
   "cell_type": "code",
   "execution_count": 47,
   "id": "693b749a",
   "metadata": {},
   "outputs": [
    {
     "name": "stdout",
     "output_type": "stream",
     "text": [
      "['Feb 16, 2022']\n",
      "['N/A']\n",
      "['Feb 22, 2022']\n",
      "['May 19, 2022 - May 23, 2022']\n",
      "['Jun 22, 2022 - Jun 27, 2022']\n",
      "['Apr 19, 2022']\n",
      "['Apr 27, 2022 - May 02, 2022']\n",
      "['N/A']\n",
      "['May 26, 2022']\n",
      "['N/A']\n"
     ]
    }
   ],
   "source": [
    "urls = ['https://finance.yahoo.com/quote/IS?p=IS',\n",
    "'https://finance.yahoo.com/quote/UMC?p=UMC',\n",
    "'https://finance.yahoo.com/quote/NU?p=NU',\n",
    "'https://finance.yahoo.com/quote/FL?p=FL',\n",
    "'https://finance.yahoo.com/quote/NKE?p=NKE',\n",
    "'https://finance.yahoo.com/quote/CFG?p=CFG',\n",
    "'https://finance.yahoo.com/quote/VICI?p=VICI',\n",
    "'https://finance.yahoo.com/quote/SID?p=SID',\n",
    "'https://finance.yahoo.com/quote/MDT?p=MDT',\n",
    "'https://finance.yahoo.com/quote/DB?p=DB',]\n",
    "#scrape elements\n",
    "for url in urls:\n",
    "    response = requests.get(url)\n",
    "    soup = BeautifulSoup(response.content, \"html.parser\")\n",
    "\n",
    "    #print titles only\n",
    "    h1 = soup.find_all('td', attrs={'data-test': 'EARNINGS_DATE-value'})\n",
    "    #print(h1.get_text())\n",
    "    doctor_n = []\n",
    "\n",
    "    for title in h1:\n",
    "        doctor_n.append(title.text.strip())\n",
    "    print(doctor_n)"
   ]
  },
  {
   "cell_type": "code",
   "execution_count": 81,
   "id": "2d7b367a",
   "metadata": {},
   "outputs": [
    {
     "name": "stdout",
     "output_type": "stream",
     "text": [
      "['Feb 16, 2022', 'N/A', 'Feb 22, 2022', 'May 19, 2022 - May 23, 2022', 'Jun 22, 2022 - Jun 27, 2022', 'Apr 19, 2022', 'Apr 27, 2022 - May 02, 2022', 'N/A', 'May 26, 2022', 'N/A']\n"
     ]
    }
   ],
   "source": [
    "import itertools\n",
    "EARNINGS_DATE = itertools.chain(['Feb 16, 2022'],\n",
    "['N/A'],\n",
    "['Feb 22, 2022'],\n",
    "['May 19, 2022 - May 23, 2022'],\n",
    "['Jun 22, 2022 - Jun 27, 2022'],\n",
    "['Apr 19, 2022'],\n",
    "['Apr 27, 2022 - May 02, 2022'],\n",
    "['N/A'],\n",
    "['May 26, 2022'],\n",
    "['N/A'],\n",
    ")\n",
    "bcd = list(EARNINGS_DATE)\n",
    "print(bcd)"
   ]
  },
  {
   "cell_type": "code",
   "execution_count": 49,
   "id": "09c5551e",
   "metadata": {
    "scrolled": false
   },
   "outputs": [
    {
     "name": "stdout",
     "output_type": "stream",
     "text": [
      "['11.39']\n",
      "['12.36']\n",
      "['10.73']\n",
      "['34.80']\n",
      "['168.40']\n",
      "['61.16']\n",
      "['35.17']\n",
      "['7.36']\n",
      "['124.53']\n",
      "['11.43']\n"
     ]
    }
   ],
   "source": [
    "urls = ['https://finance.yahoo.com/quote/IS?p=IS',\n",
    "'https://finance.yahoo.com/quote/UMC?p=UMC',\n",
    "'https://finance.yahoo.com/quote/NU?p=NU',\n",
    "'https://finance.yahoo.com/quote/FL?p=FL',\n",
    "'https://finance.yahoo.com/quote/NKE?p=NKE',\n",
    "'https://finance.yahoo.com/quote/CFG?p=CFG',\n",
    "'https://finance.yahoo.com/quote/VICI?p=VICI',\n",
    "'https://finance.yahoo.com/quote/SID?p=SID',\n",
    "'https://finance.yahoo.com/quote/MDT?p=MDT',\n",
    "'https://finance.yahoo.com/quote/DB?p=DB',]\n",
    "#scrape elements\n",
    "for url in urls:\n",
    "    response = requests.get(url)\n",
    "    soup = BeautifulSoup(response.content, \"html.parser\")\n",
    "\n",
    "    #print titles only\n",
    "    h1 = soup.find_all('td', attrs={'data-test': 'ONE_YEAR_TARGET_PRICE-value'})\n",
    "    #print(h1.get_text())\n",
    "    doctor_n = []\n",
    "\n",
    "    for title in h1:\n",
    "        doctor_n.append(title.text.strip())\n",
    "    print(doctor_n)"
   ]
  },
  {
   "cell_type": "code",
   "execution_count": 82,
   "id": "955cb166",
   "metadata": {},
   "outputs": [
    {
     "name": "stdout",
     "output_type": "stream",
     "text": [
      "['11.39', '12.36', '10.73', '34.80', '168.40', '61.16', '35.17', '7.36', '124.53', '11.43']\n"
     ]
    }
   ],
   "source": [
    "import itertools\n",
    "EPS_RATIO = itertools.chain(['11.39'],\n",
    "['12.36'],\n",
    "['10.73'],\n",
    "['34.80'],\n",
    "['168.40'],\n",
    "['61.16'],\n",
    "['35.17'],\n",
    "['7.36'],\n",
    "['124.53'],\n",
    "['11.43'],\n",
    ")\n",
    "hij_ = list(EPS_RATIO)\n",
    "print(hij_)"
   ]
  },
  {
   "cell_type": "code",
   "execution_count": 52,
   "id": "3094a0f7",
   "metadata": {},
   "outputs": [
    {
     "name": "stdout",
     "output_type": "stream",
     "text": [
      "['0.06']\n",
      "['0.78']\n",
      "['-0.10']\n",
      "['8.61']\n",
      "['3.79']\n",
      "['5.16']\n",
      "['1.76']\n",
      "['1.88']\n",
      "['3.63']\n",
      "['1.02']\n"
     ]
    }
   ],
   "source": [
    "urls = ['https://finance.yahoo.com/quote/IS?p=IS',\n",
    "'https://finance.yahoo.com/quote/UMC?p=UMC',\n",
    "'https://finance.yahoo.com/quote/NU?p=NU',\n",
    "'https://finance.yahoo.com/quote/FL?p=FL',\n",
    "'https://finance.yahoo.com/quote/NKE?p=NKE',\n",
    "'https://finance.yahoo.com/quote/CFG?p=CFG',\n",
    "'https://finance.yahoo.com/quote/VICI?p=VICI',\n",
    "'https://finance.yahoo.com/quote/SID?p=SID',\n",
    "'https://finance.yahoo.com/quote/MDT?p=MDT',\n",
    "'https://finance.yahoo.com/quote/DB?p=DB',]\n",
    "#scrape elements\n",
    "for url in urls:\n",
    "    response = requests.get(url)\n",
    "    soup = BeautifulSoup(response.content, \"html.parser\")\n",
    "\n",
    "    #print titles only\n",
    "    h1 = soup.find_all('td', attrs={'data-test': 'EPS_RATIO-value'})\n",
    "    #print(h1.get_text())\n",
    "    doctor_n = []\n",
    "\n",
    "    for title in h1:\n",
    "        doctor_n.append(title.text.strip())\n",
    "    print(doctor_n)"
   ]
  },
  {
   "cell_type": "code",
   "execution_count": 83,
   "id": "5500398f",
   "metadata": {},
   "outputs": [
    {
     "name": "stdout",
     "output_type": "stream",
     "text": [
      "['11.39', '12.36', '10.73', '34.80', '168.40', '61.16', '35.17', '7.36', '124.53', '11.43']\n"
     ]
    }
   ],
   "source": [
    "import itertools\n",
    "EPS_RATIO = itertools.chain(['11.39'],\n",
    "['12.36'],\n",
    "['10.73'],\n",
    "['34.80'],\n",
    "['168.40'],\n",
    "['61.16'],\n",
    "['35.17'],\n",
    "['7.36'],\n",
    "['124.53'],\n",
    "['11.43'],\n",
    ")\n",
    "klm_ = list(EPS_RATIO)\n",
    "print(klm_)"
   ]
  },
  {
   "cell_type": "code",
   "execution_count": 88,
   "id": "7504cd04",
   "metadata": {},
   "outputs": [],
   "source": [
    "import pandas as pd\n",
    "\n",
    "# dataframe Name and Age columns\n",
    "df = pd.DataFrame({'Brand Titles': bc,\n",
    "                   'NYSE Titles': b,\n",
    "                   'Price': d,\n",
    "                   'Price change': f,\n",
    "                   'Price change%': h,\n",
    "                   'Previous Close': j,\n",
    "                   'Open': l,\n",
    "                   'Bid': n,\n",
    "                   'Ask': p,\n",
    "                   'Days Range': r,\n",
    "                   '52 Week Range': t,\n",
    "                   'Volume': v,\n",
    "                   'Avg. Volume': x,\n",
    "                   'Market Cap': z,\n",
    "                   'PE Ratio (TTM)': za,\n",
    "                   'EPS (TTM)': klm_,\n",
    "                   'Earnings Date': bcd,\n",
    "                   '1y Target Est': hij_,})\n",
    "# Create a Pandas Excel writer using XlsxWriter as the engine.\n",
    "#writer = pd.ExcelWriter('linkedindata.xlsx', engine='xlsxwriter')\n",
    "\n",
    "# Convert the dataframe to an XlsxWriter Excel object.\n",
    "#df.to_excel(writer, sheet_name='Sheet1', index=False)\n",
    "\n",
    "# Close the Pandas Excel writer and output the Excel file.\n",
    "#writer.save()\n"
   ]
  },
  {
   "cell_type": "code",
   "execution_count": 89,
   "id": "6de56cfe",
   "metadata": {},
   "outputs": [
    {
     "data": {
      "text/html": [
       "<div>\n",
       "<style scoped>\n",
       "    .dataframe tbody tr th:only-of-type {\n",
       "        vertical-align: middle;\n",
       "    }\n",
       "\n",
       "    .dataframe tbody tr th {\n",
       "        vertical-align: top;\n",
       "    }\n",
       "\n",
       "    .dataframe thead th {\n",
       "        text-align: right;\n",
       "    }\n",
       "</style>\n",
       "<table border=\"1\" class=\"dataframe\">\n",
       "  <thead>\n",
       "    <tr style=\"text-align: right;\">\n",
       "      <th></th>\n",
       "      <th>Brand Titles</th>\n",
       "      <th>NYSE Titles</th>\n",
       "      <th>Price</th>\n",
       "      <th>Price change</th>\n",
       "      <th>Price change%</th>\n",
       "      <th>Previous Close</th>\n",
       "      <th>Open</th>\n",
       "      <th>Bid</th>\n",
       "      <th>Ask</th>\n",
       "      <th>Days Range</th>\n",
       "      <th>52 Week Range</th>\n",
       "      <th>Volume</th>\n",
       "      <th>Avg. Volume</th>\n",
       "      <th>Market Cap</th>\n",
       "      <th>PE Ratio (TTM)</th>\n",
       "      <th>EPS (TTM)</th>\n",
       "      <th>Earnings Date</th>\n",
       "      <th>1y Target Est</th>\n",
       "    </tr>\n",
       "  </thead>\n",
       "  <tbody>\n",
       "    <tr>\n",
       "      <th>0</th>\n",
       "      <td>ironSource Ltd. (IS)</td>\n",
       "      <td>NYSE - NYSE Delayed Price. Currency in USD</td>\n",
       "      <td>5.31</td>\n",
       "      <td>+0.29</td>\n",
       "      <td>(+5.78%)</td>\n",
       "      <td>5.02</td>\n",
       "      <td>5.14</td>\n",
       "      <td>5.17 x 3200</td>\n",
       "      <td>0.00 x 1800</td>\n",
       "      <td>5.14 - 5.43</td>\n",
       "      <td>4.53 - 13.14</td>\n",
       "      <td>7,162,967</td>\n",
       "      <td>4,242,909</td>\n",
       "      <td>7.349B</td>\n",
       "      <td>88.50</td>\n",
       "      <td>11.39</td>\n",
       "      <td>Feb 16, 2022</td>\n",
       "      <td>11.39</td>\n",
       "    </tr>\n",
       "    <tr>\n",
       "      <th>1</th>\n",
       "      <td>United Microelectronics Corporation (UMC)</td>\n",
       "      <td>NYSE - NYSE Delayed Price. Currency in USD</td>\n",
       "      <td>9.56</td>\n",
       "      <td>+0.10</td>\n",
       "      <td>(+1.06%)</td>\n",
       "      <td>9.46</td>\n",
       "      <td>9.51</td>\n",
       "      <td>9.01 x 900</td>\n",
       "      <td>9.95 x 40700</td>\n",
       "      <td>9.45 - 9.60</td>\n",
       "      <td>7.90 - 12.68</td>\n",
       "      <td>8,589,159</td>\n",
       "      <td>10,492,786</td>\n",
       "      <td>23.665B</td>\n",
       "      <td>12.26</td>\n",
       "      <td>12.36</td>\n",
       "      <td>N/A</td>\n",
       "      <td>12.36</td>\n",
       "    </tr>\n",
       "    <tr>\n",
       "      <th>2</th>\n",
       "      <td>Nu Holdings Ltd. (NU)</td>\n",
       "      <td>NYSE - NYSE Delayed Price. Currency in USD</td>\n",
       "      <td>8.36</td>\n",
       "      <td>+0.30</td>\n",
       "      <td>(+3.72%)</td>\n",
       "      <td>8.06</td>\n",
       "      <td>8.17</td>\n",
       "      <td>8.28 x 2200</td>\n",
       "      <td>8.22 x 4000</td>\n",
       "      <td>8.05 - 8.46</td>\n",
       "      <td>5.55 - 12.24</td>\n",
       "      <td>7,144,872</td>\n",
       "      <td>12,461,793</td>\n",
       "      <td>38.77B</td>\n",
       "      <td>N/A</td>\n",
       "      <td>10.73</td>\n",
       "      <td>Feb 22, 2022</td>\n",
       "      <td>10.73</td>\n",
       "    </tr>\n",
       "    <tr>\n",
       "      <th>3</th>\n",
       "      <td>Foot Locker, Inc. (FL)</td>\n",
       "      <td>NYSE - NYSE Delayed Price. Currency in USD</td>\n",
       "      <td>31.51</td>\n",
       "      <td>+1.33</td>\n",
       "      <td>(+4.41%)</td>\n",
       "      <td>30.18</td>\n",
       "      <td>30.80</td>\n",
       "      <td>0.00 x 900</td>\n",
       "      <td>0.00 x 800</td>\n",
       "      <td>30.70 - 31.61</td>\n",
       "      <td>26.36 - 66.71</td>\n",
       "      <td>2,767,046</td>\n",
       "      <td>3,225,039</td>\n",
       "      <td>3.028B</td>\n",
       "      <td>3.66</td>\n",
       "      <td>34.80</td>\n",
       "      <td>May 19, 2022 - May 23, 2022</td>\n",
       "      <td>34.80</td>\n",
       "    </tr>\n",
       "    <tr>\n",
       "      <th>4</th>\n",
       "      <td>NIKE, Inc. (NKE)</td>\n",
       "      <td>NYSE - NYSE Delayed Price. Currency in USD</td>\n",
       "      <td>139.14</td>\n",
       "      <td>+4.33</td>\n",
       "      <td>(+3.21%)</td>\n",
       "      <td>134.81</td>\n",
       "      <td>137.85</td>\n",
       "      <td>0.00 x 800</td>\n",
       "      <td>139.15 x 800</td>\n",
       "      <td>136.95 - 139.75</td>\n",
       "      <td>116.75 - 179.10</td>\n",
       "      <td>7,081,198</td>\n",
       "      <td>7,179,885</td>\n",
       "      <td>220.022B</td>\n",
       "      <td>36.71</td>\n",
       "      <td>168.40</td>\n",
       "      <td>Jun 22, 2022 - Jun 27, 2022</td>\n",
       "      <td>168.40</td>\n",
       "    </tr>\n",
       "    <tr>\n",
       "      <th>5</th>\n",
       "      <td>Citizens Financial Group, Inc. (CFG)</td>\n",
       "      <td>NYSE - Nasdaq Real Time Price. Currency in USD</td>\n",
       "      <td>48.26</td>\n",
       "      <td>-1.70</td>\n",
       "      <td>(-3.41%)</td>\n",
       "      <td>49.96</td>\n",
       "      <td>49.45</td>\n",
       "      <td>48.41 x 800</td>\n",
       "      <td>48.42 x 900</td>\n",
       "      <td>48.26 - 49.85</td>\n",
       "      <td>39.56 - 57.00</td>\n",
       "      <td>2,554,658</td>\n",
       "      <td>5,068,703</td>\n",
       "      <td>20.371B</td>\n",
       "      <td>9.35</td>\n",
       "      <td>61.16</td>\n",
       "      <td>Apr 19, 2022</td>\n",
       "      <td>61.16</td>\n",
       "    </tr>\n",
       "    <tr>\n",
       "      <th>6</th>\n",
       "      <td>VICI Properties Inc. (VICI)</td>\n",
       "      <td>NYSE - NYSE Delayed Price. Currency in USD</td>\n",
       "      <td>28.89</td>\n",
       "      <td>+1.03</td>\n",
       "      <td>(+3.70%)</td>\n",
       "      <td>27.86</td>\n",
       "      <td>28.19</td>\n",
       "      <td>0.00 x 3000</td>\n",
       "      <td>0.00 x 2200</td>\n",
       "      <td>28.17 - 28.94</td>\n",
       "      <td>26.23 - 33.35</td>\n",
       "      <td>6,684,233</td>\n",
       "      <td>7,606,334</td>\n",
       "      <td>21.622B</td>\n",
       "      <td>16.41</td>\n",
       "      <td>35.17</td>\n",
       "      <td>Apr 27, 2022 - May 02, 2022</td>\n",
       "      <td>35.17</td>\n",
       "    </tr>\n",
       "    <tr>\n",
       "      <th>7</th>\n",
       "      <td>Companhia Siderúrgica Nacional (SID)</td>\n",
       "      <td>NYSE - NYSE Delayed Price. Currency in USD</td>\n",
       "      <td>5.44</td>\n",
       "      <td>-0.02</td>\n",
       "      <td>(-0.37%)</td>\n",
       "      <td>5.46</td>\n",
       "      <td>5.43</td>\n",
       "      <td>0.00 x 43500</td>\n",
       "      <td>5.67 x 42300</td>\n",
       "      <td>5.33 - 5.54</td>\n",
       "      <td>3.56 - 10.33</td>\n",
       "      <td>5,447,521</td>\n",
       "      <td>5,041,165</td>\n",
       "      <td>7.394B</td>\n",
       "      <td>2.90</td>\n",
       "      <td>7.36</td>\n",
       "      <td>N/A</td>\n",
       "      <td>7.36</td>\n",
       "    </tr>\n",
       "    <tr>\n",
       "      <th>8</th>\n",
       "      <td>Medtronic plc (MDT)</td>\n",
       "      <td>NYSE - NYSE Delayed Price. Currency in USD</td>\n",
       "      <td>112.38</td>\n",
       "      <td>+2.45</td>\n",
       "      <td>(+2.23%)</td>\n",
       "      <td>109.93</td>\n",
       "      <td>111.00</td>\n",
       "      <td>109.70 x 800</td>\n",
       "      <td>113.88 x 1300</td>\n",
       "      <td>110.69 - 112.47</td>\n",
       "      <td>98.38 - 135.89</td>\n",
       "      <td>8,850,683</td>\n",
       "      <td>6,842,836</td>\n",
       "      <td>150.762B</td>\n",
       "      <td>30.97</td>\n",
       "      <td>124.53</td>\n",
       "      <td>May 26, 2022</td>\n",
       "      <td>124.53</td>\n",
       "    </tr>\n",
       "    <tr>\n",
       "      <th>9</th>\n",
       "      <td>Deutsche Bank Aktiengesellschaft (DB)</td>\n",
       "      <td>NYSE - NYSE Delayed Price. Currency in USD</td>\n",
       "      <td>13.23</td>\n",
       "      <td>+0.32</td>\n",
       "      <td>(+2.48%)</td>\n",
       "      <td>12.91</td>\n",
       "      <td>13.30</td>\n",
       "      <td>0.00 x 1800</td>\n",
       "      <td>0.00 x 3000</td>\n",
       "      <td>13.15 - 13.36</td>\n",
       "      <td>9.46 - 16.70</td>\n",
       "      <td>4,898,680</td>\n",
       "      <td>6,919,698</td>\n",
       "      <td>27.717B</td>\n",
       "      <td>12.95</td>\n",
       "      <td>11.43</td>\n",
       "      <td>N/A</td>\n",
       "      <td>11.43</td>\n",
       "    </tr>\n",
       "  </tbody>\n",
       "</table>\n",
       "</div>"
      ],
      "text/plain": [
       "                                Brand Titles  \\\n",
       "0                       ironSource Ltd. (IS)   \n",
       "1  United Microelectronics Corporation (UMC)   \n",
       "2                      Nu Holdings Ltd. (NU)   \n",
       "3                     Foot Locker, Inc. (FL)   \n",
       "4                           NIKE, Inc. (NKE)   \n",
       "5       Citizens Financial Group, Inc. (CFG)   \n",
       "6                VICI Properties Inc. (VICI)   \n",
       "7       Companhia Siderúrgica Nacional (SID)   \n",
       "8                        Medtronic plc (MDT)   \n",
       "9      Deutsche Bank Aktiengesellschaft (DB)   \n",
       "\n",
       "                                      NYSE Titles   Price Price change  \\\n",
       "0      NYSE - NYSE Delayed Price. Currency in USD    5.31        +0.29   \n",
       "1      NYSE - NYSE Delayed Price. Currency in USD    9.56        +0.10   \n",
       "2      NYSE - NYSE Delayed Price. Currency in USD    8.36        +0.30   \n",
       "3      NYSE - NYSE Delayed Price. Currency in USD   31.51        +1.33   \n",
       "4      NYSE - NYSE Delayed Price. Currency in USD  139.14        +4.33   \n",
       "5  NYSE - Nasdaq Real Time Price. Currency in USD   48.26        -1.70   \n",
       "6      NYSE - NYSE Delayed Price. Currency in USD   28.89        +1.03   \n",
       "7      NYSE - NYSE Delayed Price. Currency in USD    5.44        -0.02   \n",
       "8      NYSE - NYSE Delayed Price. Currency in USD  112.38        +2.45   \n",
       "9      NYSE - NYSE Delayed Price. Currency in USD   13.23        +0.32   \n",
       "\n",
       "  Price change% Previous Close    Open           Bid            Ask  \\\n",
       "0      (+5.78%)           5.02    5.14   5.17 x 3200    0.00 x 1800   \n",
       "1      (+1.06%)           9.46    9.51    9.01 x 900   9.95 x 40700   \n",
       "2      (+3.72%)           8.06    8.17   8.28 x 2200    8.22 x 4000   \n",
       "3      (+4.41%)          30.18   30.80    0.00 x 900     0.00 x 800   \n",
       "4      (+3.21%)         134.81  137.85    0.00 x 800   139.15 x 800   \n",
       "5      (-3.41%)          49.96   49.45   48.41 x 800    48.42 x 900   \n",
       "6      (+3.70%)          27.86   28.19   0.00 x 3000    0.00 x 2200   \n",
       "7      (-0.37%)           5.46    5.43  0.00 x 43500   5.67 x 42300   \n",
       "8      (+2.23%)         109.93  111.00  109.70 x 800  113.88 x 1300   \n",
       "9      (+2.48%)          12.91   13.30   0.00 x 1800    0.00 x 3000   \n",
       "\n",
       "        Days Range    52 Week Range     Volume Avg. Volume Market Cap  \\\n",
       "0      5.14 - 5.43     4.53 - 13.14  7,162,967   4,242,909     7.349B   \n",
       "1      9.45 - 9.60     7.90 - 12.68  8,589,159  10,492,786    23.665B   \n",
       "2      8.05 - 8.46     5.55 - 12.24  7,144,872  12,461,793     38.77B   \n",
       "3    30.70 - 31.61    26.36 - 66.71  2,767,046   3,225,039     3.028B   \n",
       "4  136.95 - 139.75  116.75 - 179.10  7,081,198   7,179,885   220.022B   \n",
       "5    48.26 - 49.85    39.56 - 57.00  2,554,658   5,068,703    20.371B   \n",
       "6    28.17 - 28.94    26.23 - 33.35  6,684,233   7,606,334    21.622B   \n",
       "7      5.33 - 5.54     3.56 - 10.33  5,447,521   5,041,165     7.394B   \n",
       "8  110.69 - 112.47   98.38 - 135.89  8,850,683   6,842,836   150.762B   \n",
       "9    13.15 - 13.36     9.46 - 16.70  4,898,680   6,919,698    27.717B   \n",
       "\n",
       "  PE Ratio (TTM) EPS (TTM)                Earnings Date 1y Target Est  \n",
       "0          88.50     11.39                 Feb 16, 2022         11.39  \n",
       "1          12.26     12.36                          N/A         12.36  \n",
       "2            N/A     10.73                 Feb 22, 2022         10.73  \n",
       "3           3.66     34.80  May 19, 2022 - May 23, 2022         34.80  \n",
       "4          36.71    168.40  Jun 22, 2022 - Jun 27, 2022        168.40  \n",
       "5           9.35     61.16                 Apr 19, 2022         61.16  \n",
       "6          16.41     35.17  Apr 27, 2022 - May 02, 2022         35.17  \n",
       "7           2.90      7.36                          N/A          7.36  \n",
       "8          30.97    124.53                 May 26, 2022        124.53  \n",
       "9          12.95     11.43                          N/A         11.43  "
      ]
     },
     "execution_count": 89,
     "metadata": {},
     "output_type": "execute_result"
    }
   ],
   "source": [
    "df"
   ]
  },
  {
   "cell_type": "code",
   "execution_count": 90,
   "id": "f14db87b",
   "metadata": {},
   "outputs": [],
   "source": [
    "import pandas as pd\n",
    "\n",
    "# dataframe Name and Age columns\n",
    "df = pd.DataFrame({'Brand Titles': bc,\n",
    "                   'NYSE Titles': b,\n",
    "                   'Price': d,\n",
    "                   'Price change': f,\n",
    "                   'Price change%': h,\n",
    "                   'Previous Close': j,\n",
    "                   'Open': l,\n",
    "                   'Bid': n,\n",
    "                   'Ask': p,\n",
    "                   'Days Range': r,\n",
    "                   '52 Week Range': t,\n",
    "                   'Volume': v,\n",
    "                   'Avg. Volume': x,\n",
    "                   'Market Cap': z,\n",
    "                   'PE Ratio (TTM)': za,\n",
    "                   'EPS (TTM)': klm_,\n",
    "                   'Earnings Date': bcd,\n",
    "                   '1y Target Est': hij_,})\n",
    "# Create a Pandas Excel writer using XlsxWriter as the engine.\n",
    "writer = pd.ExcelWriter('yahoo-1t010-.xlsx', engine='xlsxwriter')\n",
    "\n",
    "# Convert the dataframe to an XlsxWriter Excel object.\n",
    "df.to_excel(writer, sheet_name='Sheet1', index=False)\n",
    "\n",
    "# Close the Pandas Excel writer and output the Excel file.\n",
    "writer.save()\n"
   ]
  },
  {
   "cell_type": "code",
   "execution_count": 91,
   "id": "52925de7",
   "metadata": {},
   "outputs": [
    {
     "data": {
      "text/plain": [
       "('https://finance.yahoo.com/quote/DB?p=DB',)"
      ]
     },
     "execution_count": 91,
     "metadata": {},
     "output_type": "execute_result"
    }
   ],
   "source": [
    "'https://finance.yahoo.com/quote/IS?p=IS',\n",
    "'https://finance.yahoo.com/quote/UMC?p=UMC',\n",
    "'https://finance.yahoo.com/quote/NU?p=NU',\n",
    "'https://finance.yahoo.com/quote/FL?p=FL',\n",
    "'https://finance.yahoo.com/quote/NKE?p=NKE',\n",
    "'https://finance.yahoo.com/quote/CFG?p=CFG',\n",
    "'https://finance.yahoo.com/quote/VICI?p=VICI',\n",
    "'https://finance.yahoo.com/quote/SID?p=SID',\n",
    "'https://finance.yahoo.com/quote/MDT?p=MDT',\n",
    "'https://finance.yahoo.com/quote/DB?p=DB',\n"
   ]
  },
  {
   "cell_type": "code",
   "execution_count": null,
   "id": "6fad7493",
   "metadata": {},
   "outputs": [],
   "source": []
  },
  {
   "cell_type": "code",
   "execution_count": null,
   "id": "260ca459",
   "metadata": {},
   "outputs": [],
   "source": []
  },
  {
   "cell_type": "code",
   "execution_count": null,
   "id": "88ccea83",
   "metadata": {},
   "outputs": [],
   "source": []
  },
  {
   "cell_type": "code",
   "execution_count": null,
   "id": "a0a23d2c",
   "metadata": {},
   "outputs": [],
   "source": []
  },
  {
   "cell_type": "code",
   "execution_count": null,
   "id": "4cdc3315",
   "metadata": {},
   "outputs": [],
   "source": []
  },
  {
   "cell_type": "code",
   "execution_count": null,
   "id": "c3008c4a",
   "metadata": {},
   "outputs": [],
   "source": []
  },
  {
   "cell_type": "code",
   "execution_count": null,
   "id": "54d6302f",
   "metadata": {},
   "outputs": [],
   "source": []
  },
  {
   "cell_type": "code",
   "execution_count": null,
   "id": "99ca69b6",
   "metadata": {},
   "outputs": [],
   "source": []
  },
  {
   "cell_type": "code",
   "execution_count": null,
   "id": "798cd5e4",
   "metadata": {},
   "outputs": [],
   "source": []
  }
 ],
 "metadata": {
  "kernelspec": {
   "display_name": "Python 3 (ipykernel)",
   "language": "python",
   "name": "python3"
  },
  "language_info": {
   "codemirror_mode": {
    "name": "ipython",
    "version": 3
   },
   "file_extension": ".py",
   "mimetype": "text/x-python",
   "name": "python",
   "nbconvert_exporter": "python",
   "pygments_lexer": "ipython3",
   "version": "3.9.7"
  }
 },
 "nbformat": 4,
 "nbformat_minor": 5
}
