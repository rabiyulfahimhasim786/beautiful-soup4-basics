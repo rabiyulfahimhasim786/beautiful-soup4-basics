{
 "cells": [
  {
   "cell_type": "code",
   "execution_count": 2,
   "id": "09f32294",
   "metadata": {},
   "outputs": [
    {
     "name": "stdout",
     "output_type": "stream",
     "text": [
      "/images/pwsitelogo.gif\n",
      "/resize/Shared/Images/Product/Better-Call-Saul/54260.jpg?bh=300\n",
      "/resize/Shared/Images/Product/Bob-Ross/52860.jpg?bh=300\n",
      "/resize/shared/images/50821.jpg?bh=300\n",
      "/resize/Shared/Images/Product/Cobra-Kai/54275.jpg?bh=300\n",
      "/resize/Shared/Images/Product/Curb-Your-Enthusiasm/54390.jpeg?bh=300\n",
      "/resize/Shared/Images/Product/Fresh-Prince/53327.jpg?bh=300\n",
      "/resize/Shared/Images/Product/Friends/51806a.jpg?bh=300\n",
      "/resize/Shared/Images/Product/Friends-Everything-I-Know/50227.jpg?bh=300\n",
      "/resize/Shared/Images/Product/Friends/51887.jpeg?bh=300\n",
      "/resize/Shared/Images/Product/Friends/51886c.jpeg?bh=300\n",
      "/resize/Shared/Images/Product/Loki/54362.png?bh=300\n",
      "/resize/Shared/Images/Product/Monty-Python/53088.jpg?bh=300\n",
      "/resize/shared/images/product/51024.jpg?bh=300\n",
      "/resize/Shared/Images/Product/Power-Rangers/53970.jpg?bh=300\n",
      "/resize/Shared/Images/Product/Rick-and-Morty/51848b.jpg?bh=300\n",
      "/resize/Shared/Images/Product/Rick-and-Morty/52264.jpg?bh=300\n",
      "/resize/Shared/Images/Product/Rick-and-Morty-12x24/54202.jpg?bh=300\n",
      "/resize/Shared/Images/Product/Seinfeld-George-Costanza/46525b.jpg?bh=300\n",
      "/resize/Shared/Images/Product/Seinfeld-Kramer-with-quote/48181.jpg?bh=300\n",
      "/resize/Shared/Images/Product/Sopranos/54389.jpeg?bh=300\n",
      "/resize/Shared/Images/Product/Squid-Game/54385.jpeg?bh=300\n",
      "/resize/Shared/Images/Product/Star-Trek/51133b.jpg?bh=300\n",
      "/resize/Shared/Images/Product/Star-Trek/54407.jpg?bh=300\n",
      "/resize/Shared/Images/Product/Stranger-Things/51891.jpg?bh=300\n",
      "/resize/Shared/Images/Product/Stranger-Things/51993.jpg?bh=300\n",
      "/resize/Shared/Images/Product/Stranger-Things/52272b.jpg?bh=300\n",
      "/resize/Shared/Images/Product/Stranger-Things-2/52443c.jpg?bh=300\n",
      "/resize/Shared/Images/Product/Stranger-Things-3/53248.jpg?bh=300\n",
      "/resize/Shared/Images/Product/Stranger-Things-3/53273b.jpeg?bh=300\n",
      "/resize/Shared/Images/Product/The-Bold-Type/53321.jpg?bh=300\n",
      "/resize/Shared/Images/Product/The-Mandalorian/53978.jpg?bh=300\n",
      "/resize/Shared/Images/Product/The-Mandalorian/53979.jpg?bh=300\n",
      "/resize/Shared/Images/Product/The-Mandalorian/53989.jpg?bh=300\n",
      "/resize/Shared/Images/Product/The-Mandalorian/53988.jpg?bh=300\n",
      "/resize/Shared/Images/Product/The-Mandalorian/53984.jpg?bh=300\n",
      "/resize/Shared/Images/Product/The-Mandalorian/53990.jpg?bh=300\n",
      "/resize/Shared/Images/Product/The-Mandalorian/54252.jpg?bh=300\n",
      "/resize/Shared/Images/Product/The-Mandalorian/54251.jpg?bh=300\n",
      "/resize/Shared/Images/Product/The-Office/54162.jpg?bh=300\n",
      "/resize/Shared/Images/Product/The-Office/48757.jpg?bh=300\n",
      "/resize/Shared/Images/Product/The-Office/53111b.jpeg?bh=300\n",
      "/resize/Shared/Images/Product/Twilight-Zone/54256.jpg?bh=300\n",
      "/resize/Shared/Images/Product/Wayne-s-World/53185.jpg?bh=300\n",
      "/resize/shared/images/50423b.jpg?bh=300\n",
      "/resize/Shared/Images/Product/X-Files-I-Want-To-Believe/27250.jpg?bh=300\n",
      "https://posterswholesale.americommerce.com/visa-mc-amex-discover-paypal.gif\n"
     ]
    }
   ],
   "source": [
    "import requests\n",
    "from bs4 import BeautifulSoup\n",
    "\t\n",
    "def getdata(url):\n",
    "\tr = requests.get(url)\n",
    "\treturn r.text\n",
    "\t\n",
    "htmldata = getdata(\"https://posterswholesale.americommerce.com/store/c/28-TV.aspx?ps=240\")\n",
    "soup = BeautifulSoup(htmldata, 'html.parser')\n",
    "for item in soup.find_all('img'):\n",
    "\tprint(item['src'])"
   ]
  },
  {
   "cell_type": "code",
   "execution_count": 3,
   "id": "3eb61f8a",
   "metadata": {},
   "outputs": [
    {
     "name": "stdout",
     "output_type": "stream",
     "text": [
      "https://posterswholesale.americommerce.com/images/pwsitelogo.gif\n",
      "https://posterswholesale.americommerce.com/resize/Shared/Images/Product/Better-Call-Saul/54260.jpg?bh=300\n",
      "https://posterswholesale.americommerce.com/resize/Shared/Images/Product/Bob-Ross/52860.jpg?bh=300\n",
      "https://posterswholesale.americommerce.com/resize/shared/images/50821.jpg?bh=300\n",
      "https://posterswholesale.americommerce.com/resize/Shared/Images/Product/Cobra-Kai/54275.jpg?bh=300\n",
      "https://posterswholesale.americommerce.com/resize/Shared/Images/Product/Curb-Your-Enthusiasm/54390.jpeg?bh=300\n",
      "https://posterswholesale.americommerce.com/resize/Shared/Images/Product/Fresh-Prince/53327.jpg?bh=300\n",
      "https://posterswholesale.americommerce.com/resize/Shared/Images/Product/Friends/51806a.jpg?bh=300\n",
      "https://posterswholesale.americommerce.com/resize/Shared/Images/Product/Friends-Everything-I-Know/50227.jpg?bh=300\n",
      "https://posterswholesale.americommerce.com/resize/Shared/Images/Product/Friends/51887.jpeg?bh=300\n",
      "https://posterswholesale.americommerce.com/resize/Shared/Images/Product/Friends/51886c.jpeg?bh=300\n",
      "https://posterswholesale.americommerce.com/resize/Shared/Images/Product/Loki/54362.png?bh=300\n",
      "https://posterswholesale.americommerce.com/resize/Shared/Images/Product/Monty-Python/53088.jpg?bh=300\n",
      "https://posterswholesale.americommerce.com/resize/shared/images/product/51024.jpg?bh=300\n",
      "https://posterswholesale.americommerce.com/resize/Shared/Images/Product/Power-Rangers/53970.jpg?bh=300\n",
      "https://posterswholesale.americommerce.com/resize/Shared/Images/Product/Rick-and-Morty/51848b.jpg?bh=300\n",
      "https://posterswholesale.americommerce.com/resize/Shared/Images/Product/Rick-and-Morty/52264.jpg?bh=300\n",
      "https://posterswholesale.americommerce.com/resize/Shared/Images/Product/Rick-and-Morty-12x24/54202.jpg?bh=300\n",
      "https://posterswholesale.americommerce.com/resize/Shared/Images/Product/Seinfeld-George-Costanza/46525b.jpg?bh=300\n",
      "https://posterswholesale.americommerce.com/resize/Shared/Images/Product/Seinfeld-Kramer-with-quote/48181.jpg?bh=300\n",
      "https://posterswholesale.americommerce.com/resize/Shared/Images/Product/Sopranos/54389.jpeg?bh=300\n",
      "https://posterswholesale.americommerce.com/resize/Shared/Images/Product/Squid-Game/54385.jpeg?bh=300\n",
      "https://posterswholesale.americommerce.com/resize/Shared/Images/Product/Star-Trek/51133b.jpg?bh=300\n",
      "https://posterswholesale.americommerce.com/resize/Shared/Images/Product/Star-Trek/54407.jpg?bh=300\n",
      "https://posterswholesale.americommerce.com/resize/Shared/Images/Product/Stranger-Things/51891.jpg?bh=300\n",
      "https://posterswholesale.americommerce.com/resize/Shared/Images/Product/Stranger-Things/51993.jpg?bh=300\n",
      "https://posterswholesale.americommerce.com/resize/Shared/Images/Product/Stranger-Things/52272b.jpg?bh=300\n",
      "https://posterswholesale.americommerce.com/resize/Shared/Images/Product/Stranger-Things-2/52443c.jpg?bh=300\n",
      "https://posterswholesale.americommerce.com/resize/Shared/Images/Product/Stranger-Things-3/53248.jpg?bh=300\n",
      "https://posterswholesale.americommerce.com/resize/Shared/Images/Product/Stranger-Things-3/53273b.jpeg?bh=300\n",
      "https://posterswholesale.americommerce.com/resize/Shared/Images/Product/The-Bold-Type/53321.jpg?bh=300\n",
      "https://posterswholesale.americommerce.com/resize/Shared/Images/Product/The-Mandalorian/53978.jpg?bh=300\n",
      "https://posterswholesale.americommerce.com/resize/Shared/Images/Product/The-Mandalorian/53979.jpg?bh=300\n",
      "https://posterswholesale.americommerce.com/resize/Shared/Images/Product/The-Mandalorian/53989.jpg?bh=300\n",
      "https://posterswholesale.americommerce.com/resize/Shared/Images/Product/The-Mandalorian/53988.jpg?bh=300\n",
      "https://posterswholesale.americommerce.com/resize/Shared/Images/Product/The-Mandalorian/53984.jpg?bh=300\n",
      "https://posterswholesale.americommerce.com/resize/Shared/Images/Product/The-Mandalorian/53990.jpg?bh=300\n",
      "https://posterswholesale.americommerce.com/resize/Shared/Images/Product/The-Mandalorian/54252.jpg?bh=300\n",
      "https://posterswholesale.americommerce.com/resize/Shared/Images/Product/The-Mandalorian/54251.jpg?bh=300\n",
      "https://posterswholesale.americommerce.com/resize/Shared/Images/Product/The-Office/54162.jpg?bh=300\n",
      "https://posterswholesale.americommerce.com/resize/Shared/Images/Product/The-Office/48757.jpg?bh=300\n",
      "https://posterswholesale.americommerce.com/resize/Shared/Images/Product/The-Office/53111b.jpeg?bh=300\n",
      "https://posterswholesale.americommerce.com/resize/Shared/Images/Product/Twilight-Zone/54256.jpg?bh=300\n",
      "https://posterswholesale.americommerce.com/resize/Shared/Images/Product/Wayne-s-World/53185.jpg?bh=300\n",
      "https://posterswholesale.americommerce.com/resize/shared/images/50423b.jpg?bh=300\n",
      "https://posterswholesale.americommerce.com/resize/Shared/Images/Product/X-Files-I-Want-To-Believe/27250.jpg?bh=300\n",
      "https://posterswholesale.americommerce.comhttps://posterswholesale.americommerce.com/visa-mc-amex-discover-paypal.gif\n"
     ]
    }
   ],
   "source": [
    "import requests\n",
    "from bs4 import BeautifulSoup\n",
    "\t\n",
    "def getdata(url):\n",
    "\tr = requests.get(url)\n",
    "\treturn r.text\n",
    "\t\n",
    "htmldata = getdata(\"https://posterswholesale.americommerce.com/store/c/28-TV.aspx?ps=240\")\n",
    "soup = BeautifulSoup(htmldata, 'html.parser')\n",
    "for item in soup.find_all('img'):\n",
    "    items = (item['src'])\n",
    "    a = 'https://posterswholesale.americommerce.com'\n",
    "    b = (a+items)\n",
    "    print(b)"
   ]
  },
  {
   "cell_type": "code",
   "execution_count": 4,
   "id": "db2124be",
   "metadata": {},
   "outputs": [],
   "source": [
    "#Thank-you for your output"
   ]
  },
  {
   "cell_type": "code",
   "execution_count": 32,
   "id": "1b8fae1b",
   "metadata": {},
   "outputs": [],
   "source": [
    "import requests\n",
    "from bs4 import BeautifulSoup\n",
    "\n",
    "images = soup.findAll('img')\n",
    "Source_URL = 'https://posterswholesale.americommerce.com/resize/Shared/Images/Product/X-Files-I-Want-To-Believe/27250.jpg?bh=300'\n",
    "r = requests.get(Source_URL).content\n",
    "# Enter File Name with Extension like jpg, png etc..\n",
    "with open(\"27250.jpg\",\"wb+\") as f:\n",
    "      f.write(r)"
   ]
  },
  {
   "cell_type": "code",
   "execution_count": 23,
   "id": "d4c49049",
   "metadata": {},
   "outputs": [],
   "source": [
    "#51993 start"
   ]
  },
  {
   "cell_type": "code",
   "execution_count": null,
   "id": "327b3f34",
   "metadata": {},
   "outputs": [],
   "source": []
  }
 ],
 "metadata": {
  "kernelspec": {
   "display_name": "Python 3 (ipykernel)",
   "language": "python",
   "name": "python3"
  },
  "language_info": {
   "codemirror_mode": {
    "name": "ipython",
    "version": 3
   },
   "file_extension": ".py",
   "mimetype": "text/x-python",
   "name": "python",
   "nbconvert_exporter": "python",
   "pygments_lexer": "ipython3",
   "version": "3.9.7"
  }
 },
 "nbformat": 4,
 "nbformat_minor": 5
}
