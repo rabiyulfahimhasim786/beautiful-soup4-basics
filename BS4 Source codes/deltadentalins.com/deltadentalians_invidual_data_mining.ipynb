{
  "nbformat": 4,
  "nbformat_minor": 0,
  "metadata": {
    "colab": {
      "provenance": []
    },
    "kernelspec": {
      "name": "python3",
      "display_name": "Python 3"
    },
    "language_info": {
      "name": "python"
    }
  },
  "cells": [
    {
      "cell_type": "code",
      "execution_count": 1,
      "metadata": {
        "id": "ZtZ417lKcEhS"
      },
      "outputs": [],
      "source": [
        "import bs4\n",
        "from bs4 import BeautifulSoup as bs\n",
        "import requests"
      ]
    },
    {
      "cell_type": "code",
      "source": [
        "import random\n",
        "user_agent_list = [\n",
        "'Mozilla/5.0 (X11; Linux x86_64) AppleWebKit/537.36 (KHTML, like Gecko) Ubuntu Chromium/37.0.2062.94 Chrome/37.0.2062.94 Safari/537.36', 'Mozilla/5.0 (Windows NT 6.1; WOW64) AppleWebKit/537.36 (KHTML, like Gecko) Chrome/45.0.2454.85 Safari/537.36', 'Mozilla/5.0 (Windows NT 6.1; WOW64; Trident/7.0; rv:11.0) like Gecko', 'Mozilla/5.0 (Windows NT 6.1; WOW64; rv:40.0) Gecko/20100101 Firefox/40.0', 'Mozilla/5.0 (Macintosh; Intel Mac OS X 10_10_5) AppleWebKit/600.8.9 (KHTML, like Gecko) Version/8.0.8 Safari/600.8.9', 'Mozilla/5.0 (iPad; CPU OS 8_4_1 like Mac OS X) AppleWebKit/600.1.4 (KHTML, like Gecko) Version/8.0 Mobile/12H321 Safari/600.1.4', 'Mozilla/5.0 (Windows NT 6.3; WOW64) AppleWebKit/537.36 (KHTML, like Gecko) Chrome/45.0.2454.85 Safari/537.36', 'Mozilla/5.0 (Windows NT 10.0; WOW64) AppleWebKit/537.36 (KHTML, like Gecko) Chrome/45.0.2454.85 Safari/537.36', 'Mozilla/5.0 (Windows NT 10.0; Win64; x64) AppleWebKit/537.36 (KHTML, like Gecko) Chrome/42.0.2311.135 Safari/537.36 Edge/12.10240', 'Mozilla/5.0 (Windows NT 6.3; WOW64; rv:40.0) Gecko/20100101 Firefox/40.0', 'Mozilla/5.0 (Windows NT 6.3; WOW64; Trident/7.0; rv:11.0) like Gecko', 'Mozilla/5.0 (Windows NT 6.1) AppleWebKit/537.36 (KHTML, like Gecko) Chrome/45.0.2454.85 Safari/537.36', 'Mozilla/5.0 (Windows NT 6.1; Trident/7.0; rv:11.0) like Gecko', 'Mozilla/5.0 (Windows NT 10.0; WOW64; rv:40.0) Gecko/20100101 Firefox/40.0', 'Mozilla/5.0 (Macintosh; Intel Mac OS X 10_10_4) AppleWebKit/600.7.12 (KHTML, like Gecko) Version/8.0.7 Safari/600.7.12', 'Mozilla/5.0 (Macintosh; Intel Mac OS X 10_10_5) AppleWebKit/537.36 (KHTML, like Gecko) Chrome/45.0.2454.85 Safari/537.36', 'Mozilla/5.0 (Macintosh; Intel Mac OS X 10.10; rv:40.0) Gecko/20100101 Firefox/40.0', 'Mozilla/5.0 (Macintosh; Intel Mac OS X 10_9_5) AppleWebKit/600.8.9 (KHTML, like Gecko) Version/7.1.8 Safari/537.85.17', 'Mozilla/5.0 (iPad; CPU OS 8_4 like Mac OS X) AppleWebKit/600.1.4 (KHTML, like Gecko) Version/8.0 Mobile/12H143 Safari/600.1.4', 'Mozilla/5.0 (iPad; CPU OS 8_3 like Mac OS X) AppleWebKit/600.1.4 (KHTML, like Gecko) Version/8.0 Mobile/12F69 Safari/600.1.4', 'Mozilla/5.0 (Windows NT 6.1; rv:40.0) Gecko/20100101 Firefox/40.0', 'Mozilla/5.0 (compatible; MSIE 10.0; Windows NT 6.1; WOW64; Trident/6.0)', 'Mozilla/5.0 (compatible; MSIE 9.0; Windows NT 6.1; WOW64; Trident/5.0)', 'Mozilla/5.0 (Windows NT 6.3; WOW64; Trident/7.0; Touch; rv:11.0) like Gecko', 'Mozilla/5.0 (Windows NT 5.1; rv:40.0) Gecko/20100101 Firefox/40.0', 'Mozilla/5.0 (Windows NT 5.1) AppleWebKit/537.36 (KHTML, like Gecko) Chrome/45.0.2454.85 Safari/537.36', 'Mozilla/5.0 (Macintosh; Intel Mac OS X 10_10_3) AppleWebKit/600.6.3 (KHTML, like Gecko) Version/8.0.6 Safari/600.6.3', 'Mozilla/5.0 (Macintosh; Intel Mac OS X 10_10_3) AppleWebKit/600.5.17 (KHTML, like Gecko) Version/8.0.5 Safari/600.5.17', 'Mozilla/5.0 (Windows NT 6.1; WOW64; rv:38.0) Gecko/20100101 Firefox/38.0', 'Mozilla/5.0 (Windows NT 6.1; WOW64) AppleWebKit/537.36 (KHTML, like Gecko) Chrome/44.0.2403.157 Safari/537.36', 'Mozilla/5.0 (iPhone; CPU iPhone OS 8_4_1 like Mac OS X) AppleWebKit/600.1.4 (KHTML, like Gecko) Version/8.0 Mobile/12H321 Safari/600.1.4', 'Mozilla/5.0 (Windows NT 10.0; WOW64; Trident/7.0; rv:11.0) like Gecko', 'Mozilla/5.0 (iPad; CPU OS 7_1_2 like Mac OS X) AppleWebKit/537.51.2 (KHTML, like Gecko) Version/7.0 Mobile/11D257 Safari/9537.53', 'Mozilla/5.0 (compatible; MSIE 9.0; Windows NT 6.1; Trident/5.0)', 'Mozilla/5.0 (Macintosh; Intel Mac OS X 10_9_5) AppleWebKit/537.36 (KHTML, like Gecko) Chrome/45.0.2454.85 Safari/537.36', 'Mozilla/5.0 (Macintosh; Intel Mac OS X 10_10_4) AppleWebKit/537.36 (KHTML, like Gecko) Chrome/45.0.2454.85 Safari/537.36', 'Mozilla/5.0 (Macintosh; Intel Mac OS X 10.9; rv:40.0) Gecko/20100101 Firefox/40.0', 'Mozilla/5.0 (compatible; MSIE 10.0; Windows NT 6.1; Trident/6.0)', 'Mozilla/5.0 (Windows NT 6.0) AppleWebKit/537.36 (KHTML, like Gecko) Chrome/45.0.2454.85 Safari/537.36', 'Mozilla/5.0 (Windows NT 6.3; WOW64) AppleWebKit/537.36 (KHTML, like Gecko) Chrome/44.0.2403.157 Safari/537.36', 'Mozilla/5.0 (X11; CrOS x86_64 7077.134.0) AppleWebKit/537.36 (KHTML, like Gecko) Chrome/44.0.2403.156 Safari/537.36', 'Mozilla/5.0 (Macintosh; Intel Mac OS X 10_9_5) AppleWebKit/600.7.12 (KHTML, like Gecko) Version/7.1.7 Safari/537.85.16', 'Mozilla/5.0 (Windows NT 6.0; rv:40.0) Gecko/20100101 Firefox/40.0', 'Mozilla/5.0 (Macintosh; Intel Mac OS X 10.6; rv:40.0) Gecko/20100101 Firefox/40.0', 'Mozilla/5.0 (iPad; CPU OS 8_1_3 like Mac OS X) AppleWebKit/600.1.4 (KHTML, like Gecko) Version/8.0 Mobile/12B466 Safari/600.1.4', 'Mozilla/5.0 (Macintosh; Intel Mac OS X 10_10_2) AppleWebKit/600.3.18 (KHTML, like Gecko) Version/8.0.3 Safari/600.3.18', 'Mozilla/5.0 (Macintosh; Intel Mac OS X 10_10_3) AppleWebKit/537.36 (KHTML, like Gecko) Chrome/45.0.2454.85 Safari/537.36', 'Mozilla/5.0 (Windows NT 6.2; WOW64) AppleWebKit/537.36 (KHTML, like Gecko) Chrome/45.0.2454.85 Safari/537.36', 'Mozilla/5.0 (Windows NT 6.1; Win64; x64; Trident/7.0; rv:11.0) like Gecko', 'Mozilla/5.0 (Macintosh; Intel Mac OS X 10_10_5) AppleWebKit/537.36 (KHTML, like Gecko) Chrome/44.0.2403.157 Safari/537.36', 'Mozilla/5.0 (iPad; CPU OS 8_1_2 like Mac OS X) AppleWebKit/600.1.4 (KHTML, like Gecko) Version/8.0 Mobile/12B440 Safari/600.1.4', 'Mozilla/5.0 (Linux; U; Android 4.0.3; en-us; KFTT Build/IML74K) AppleWebKit/537.36 (KHTML, like Gecko) Silk/3.68 like Chrome/39.0.2171.93 Safari/537.36', 'Mozilla/5.0 (iPad; CPU OS 8_2 like Mac OS X) AppleWebKit/600.1.4 (KHTML, like Gecko) Version/8.0 Mobile/12D508 Safari/600.1.4', 'Mozilla/5.0 (Windows NT 6.1; WOW64; rv:39.0) Gecko/20100101 Firefox/39.0', 'Mozilla/5.0 (iPad; CPU OS 7_1_1 like Mac OS X) AppleWebKit/537.51.2 (KHTML, like Gecko) Version/7.0 Mobile/11D201 Safari/9537.53', 'Mozilla/5.0 (Linux; U; Android 4.4.3; en-us; KFTHWI Build/KTU84M) AppleWebKit/537.36 (KHTML, like Gecko) Silk/3.68 like Chrome/39.0.2171.93 Safari/537.36', 'Mozilla/5.0 (Macintosh; Intel Mac OS X 10_9_5) AppleWebKit/600.6.3 (KHTML, like Gecko) Version/7.1.6 Safari/537.85.15', 'Mozilla/5.0 (Macintosh; Intel Mac OS X 10_10_2) AppleWebKit/600.4.10 (KHTML, like Gecko) Version/8.0.4 Safari/600.4.10']"
      ],
      "metadata": {
        "id": "iogrspijcLK5"
      },
      "execution_count": 2,
      "outputs": []
    },
    {
      "cell_type": "code",
      "source": [
        "url = 'https://www.deltadentalins.com/find-a-dentist/details/?providerKey=GRP240610798240610798002PRV31365140300&network=2ppo,2premier,2deltacare,DCSUBIND,DCSUBMED,DCSUBCON&free_text=General%20Dentist&lat=29.7604267&long=-95.3698028&location=Houston,%20TX,%20USA&distance=60&specialty=General%20Dentist&sort_field=distance&sort_order=asc&page=2'"
      ],
      "metadata": {
        "id": "TVjgANrXcOkA"
      },
      "execution_count": 3,
      "outputs": []
    },
    {
      "cell_type": "code",
      "source": [
        "for i in range(1,2):\n",
        "  #Pick a random user agent\n",
        "  user_agent = random.choice(user_agent_list)\n",
        "  headers = {'User-Agent': user_agent }\n",
        "  # print(user_agent)\n",
        "\n",
        "#link = 'https://www.deltadentalins.com/find-a-dentist/directory-results/?network=2ppo,2premier,2deltacare,DCSUBIND,DCSUBMED,DCSUBCON&free_text=General%20Dentist&lat=29.7604267&long=-95.3698028&location=Houston,%20TX,%20USA&distance=60&specialty=General%20Dentist&sort_field=distance&sort_order=asc&page=1'\n",
        "page = requests.get(url, headers = headers)\n",
        "\n",
        "print(page)\n",
        "\n",
        "soup = bs(page.content, 'html.parser')"
      ],
      "metadata": {
        "colab": {
          "base_uri": "https://localhost:8080/"
        },
        "id": "Bv4MTyBucZ9p",
        "outputId": "c32bdb52-9b4c-408b-f38f-7cbec7f7a788"
      },
      "execution_count": 4,
      "outputs": [
        {
          "output_type": "stream",
          "name": "stdout",
          "text": [
            "<Response [200]>\n"
          ]
        }
      ]
    },
    {
      "cell_type": "code",
      "source": [
        "Doctorname = soup.find_all('div', class_=\"dentist-info-wrapper\")\n",
        "Doctornames = []\n",
        "for title in Doctorname:\n",
        "  Doctornames.append(title.text.strip())\n",
        "print(Doctornames)\n",
        "len(Doctornames)"
      ],
      "metadata": {
        "colab": {
          "base_uri": "https://localhost:8080/"
        },
        "id": "cAPfLlXsch1o",
        "outputId": "15c56518-f44e-4f84-8c99-cc2cfa7c6eb8"
      },
      "execution_count": 23,
      "outputs": [
        {
          "output_type": "stream",
          "name": "stdout",
          "text": [
            "['Amy Milman']\n"
          ]
        },
        {
          "output_type": "execute_result",
          "data": {
            "text/plain": [
              "1"
            ]
          },
          "metadata": {},
          "execution_count": 23
        }
      ]
    },
    {
      "cell_type": "code",
      "source": [
        "Doctordegree = soup.find_all('span', class_=\"practice-languages\")\n",
        "Doctordegrees = []\n",
        "for title in Doctordegree:\n",
        "  Doctordegrees.append(title.text.strip())\n",
        "print(Doctordegrees)\n",
        "len(Doctordegrees)"
      ],
      "metadata": {
        "colab": {
          "base_uri": "https://localhost:8080/"
        },
        "id": "xeGA-w2Sc8CI",
        "outputId": "8beaa183-e098-4129-9020-d84bd2e0c2d7"
      },
      "execution_count": 21,
      "outputs": [
        {
          "output_type": "stream",
          "name": "stdout",
          "text": [
            "['University of Texas Health Science Center at Houston Dental School, 12/2020']\n"
          ]
        },
        {
          "output_type": "execute_result",
          "data": {
            "text/plain": [
              "1"
            ]
          },
          "metadata": {},
          "execution_count": 21
        }
      ]
    },
    {
      "cell_type": "code",
      "source": [
        "Doctorgender = soup.find_all('span', class_=\"gender-info\")\n",
        "Doctorgenders = []\n",
        "for title in Doctorgender:\n",
        "  Doctorgenders.append(title.text.strip())\n",
        "print(Doctorgenders)"
      ],
      "metadata": {
        "colab": {
          "base_uri": "https://localhost:8080/"
        },
        "id": "wXdHjTcpdeSO",
        "outputId": "bcd924a3-cf89-43db-9cca-f2fa07dca7d3"
      },
      "execution_count": 8,
      "outputs": [
        {
          "output_type": "stream",
          "name": "stdout",
          "text": [
            "['Female']\n"
          ]
        }
      ]
    },
    {
      "cell_type": "code",
      "source": [
        "Doctorlicense = soup.find_all('div', class_=\"data-row\")\n",
        "Doctorlicenses = []\n",
        "for title in Doctorlicense:\n",
        "  Doctorlicenses.append(title.text.strip())\n",
        "print(Doctorlicenses)\n",
        "Doctorlicenses[0]"
      ],
      "metadata": {
        "colab": {
          "base_uri": "https://localhost:8080/",
          "height": 53
        },
        "id": "ArgFC3LadoxB",
        "outputId": "36d11d7f-03b3-441b-f646-90bea8b1aee9"
      },
      "execution_count": 16,
      "outputs": [
        {
          "output_type": "stream",
          "name": "stdout",
          "text": [
            "['Provider NPI:1912519331', 'License:36578, TX']\n"
          ]
        },
        {
          "output_type": "execute_result",
          "data": {
            "text/plain": [
              "'Provider NPI:1912519331'"
            ],
            "application/vnd.google.colaboratory.intrinsic+json": {
              "type": "string"
            }
          },
          "metadata": {},
          "execution_count": 16
        }
      ]
    },
    {
      "cell_type": "code",
      "source": [
        "Doctorhospitalname = soup.find_all('a', class_=\"dd-link block-link\")\n",
        "Doctorhospitalnames = []\n",
        "for title in Doctorhospitalname:\n",
        "  Doctorhospitalnames.append(title.text.strip())\n",
        "print(Doctorhospitalnames)\n",
        "len(Doctorhospitalnames)"
      ],
      "metadata": {
        "colab": {
          "base_uri": "https://localhost:8080/"
        },
        "id": "SwWZU9ROd9Rd",
        "outputId": "37c1976a-1362-42f0-827c-6b4b60c800a7"
      },
      "execution_count": 20,
      "outputs": [
        {
          "output_type": "stream",
          "name": "stdout",
          "text": [
            "['Jonathan Penchas DMD M Ed']\n"
          ]
        },
        {
          "output_type": "execute_result",
          "data": {
            "text/plain": [
              "1"
            ]
          },
          "metadata": {},
          "execution_count": 20
        }
      ]
    },
    {
      "cell_type": "code",
      "source": [
        "# Doctoraddressstreet = soup.find_all('div', class_=\"address-line\")\n",
        "# Doctoraddressstreets = []\n",
        "# for title in Doctoraddressstreet:\n",
        "#   Doctoraddressstreets.append(title.text.strip())\n",
        "# print(Doctoraddressstreets)"
      ],
      "metadata": {
        "colab": {
          "base_uri": "https://localhost:8080/"
        },
        "id": "D2clc5IbesC2",
        "outputId": "f5ece535-b528-4b22-ae96-fcf591567107"
      },
      "execution_count": 11,
      "outputs": [
        {
          "output_type": "stream",
          "name": "stdout",
          "text": [
            "['808 Travis St Ste T60,']\n"
          ]
        }
      ]
    },
    {
      "cell_type": "code",
      "source": [
        "Doctoraddressstreet = soup.find_all('div', class_=\"dentist-contact card\")\n",
        "Doctoraddressstreets = []\n",
        "for title in Doctoraddressstreet:\n",
        "  Doctoraddressstreets.append(title.text.strip())\n",
        "print(Doctoraddressstreets)\n",
        "len(Doctoraddressstreets)"
      ],
      "metadata": {
        "colab": {
          "base_uri": "https://localhost:8080/"
        },
        "id": "UHwz32ese1lN",
        "outputId": "2bfdb5fe-502e-46d3-f547-ac3375a14622"
      },
      "execution_count": 18,
      "outputs": [
        {
          "output_type": "stream",
          "name": "stdout",
          "text": [
            "['0.3 miGet directionsJonathan Penchas DMD M Ed808 Travis St Ste T60, Houston, TX, 77002-5760(713) 227-5757office@midtowndentistry.comFax: (713) 225-1844http://www.midtowndentistry.com']\n"
          ]
        },
        {
          "output_type": "execute_result",
          "data": {
            "text/plain": [
              "1"
            ]
          },
          "metadata": {},
          "execution_count": 18
        }
      ]
    },
    {
      "cell_type": "code",
      "source": [
        "Doctorworkinhours = soup.find_all('div', class_=\"hours\")\n",
        "Doctorworkinhourses = []\n",
        "for title in Doctorworkinhours:\n",
        "  Doctorworkinhourses.append(title.text.strip())\n",
        "print(Doctorworkinhourses)\n",
        "len(Doctorworkinhourses)"
      ],
      "metadata": {
        "colab": {
          "base_uri": "https://localhost:8080/"
        },
        "id": "ua15QSlXfNah",
        "outputId": "214bffbf-ee11-4e56-e7d5-d945bf96098a"
      },
      "execution_count": 13,
      "outputs": [
        {
          "output_type": "stream",
          "name": "stdout",
          "text": [
            "['Mon:Tue:Wed:Thurs:Fri:Sat:Sun:08:00 AM  -  05:00 PM08:00 AM  -  05:00 PM08:00 AM  -  05:00 PM08:00 AM  -  05:00 PM08:00 AM  -  05:00 PM08:00 AM  -  05:00 PMCall For Details']\n"
          ]
        }
      ]
    },
    {
      "cell_type": "code",
      "source": [
        "import pandas as pd\n",
        "df = pd.DataFrame({'Doctor_name':Doctornames[0],\n",
        "                   'Doctordegrees':Doctordegrees,\n",
        "                   'Doctorgender': Doctorgenders,\n",
        "                   'Doctornpi': Doctorlicenses[0],\n",
        "                   'Doctorlicense': Doctorlicenses[1],\n",
        "                   'Doctorhospitalname': Doctorhospitalnames,\n",
        "                   'Address':Doctoraddressstreets,\n",
        "                   'Doctorworkinhourses': Doctorworkinhourses,\n",
        "                    })\n",
        "df.to_csv('deltadentalins.csv', index=False)"
      ],
      "metadata": {
        "id": "3vNdM7offhWK"
      },
      "execution_count": 36,
      "outputs": []
    },
    {
      "cell_type": "code",
      "source": [],
      "metadata": {
        "colab": {
          "base_uri": "https://localhost:8080/"
        },
        "id": "QT66zBKTmKCi",
        "outputId": "5e6a5156-b864-42d5-dfb9-08a86bf082de"
      },
      "execution_count": 37,
      "outputs": [
        {
          "output_type": "stream",
          "name": "stdout",
          "text": [
            "0\n",
            "1\n",
            "2\n",
            "3\n",
            "4\n",
            "5\n",
            "6\n",
            "7\n",
            "8\n",
            "9\n"
          ]
        }
      ]
    },
    {
      "cell_type": "code",
      "source": [
        "Doctorname = soup.find_all('div', class_=\"dentist-info-wrapper\")\n",
        "Doctordegree = soup.find_all('span', class_=\"practice-languages\")\n",
        "Doctorgender = soup.find_all('span', class_=\"gender-info\")\n",
        "Doctorlicense = soup.find_all('div', class_=\"data-row\")\n",
        "Doctorhospitalname = soup.find_all('a', class_=\"dd-link block-link\")\n",
        "Doctoraddressstreet = soup.find_all('div', class_=\"dentist-contact card\")\n",
        "Doctorworkinhours = soup.find_all('div', class_=\"hours\")\n",
        "\n",
        "\n",
        "Doctornames = []\n",
        "Doctordegrees = []\n",
        "Doctorgenders = []\n",
        "Doctorlicenses = []\n",
        "Doctorhospitalnames = []\n",
        "Doctoraddressstreets = []\n",
        "Doctorworkinhourses = []\n",
        "\n",
        "for title in Doctorname:\n",
        "  Doctornames.append(title.text.strip())\n",
        "print(Doctornames)\n",
        "# len(Doctornames)\n",
        "\n",
        "for title in Doctorname:\n",
        "  Doctornames.append(title.text.strip())\n",
        "for title in Doctordegree:\n",
        "  Doctordegrees.append(title.text.strip())\n",
        "print(Doctordegrees)\n",
        "# len(Doctordegrees)\n",
        "for title in Doctorgender:\n",
        "  Doctorgenders.append(title.text.strip())\n",
        "print(Doctorgenders)\n",
        "for title in Doctorlicense:\n",
        "  Doctorlicenses.append(title.text.strip())\n",
        "print(Doctorlicenses)\n",
        "# Doctorlicenses[0]\n",
        "for title in Doctorhospitalname:\n",
        "  Doctorhospitalnames.append(title.text.strip())\n",
        "print(Doctorhospitalnames)\n",
        "len(Doctorhospitalnames)\n",
        "for title in Doctoraddressstreet:\n",
        "  Doctoraddressstreets.append(title.text.strip())\n",
        "print(Doctoraddressstreets)\n",
        "len(Doctoraddressstreets)\n",
        "for title in Doctorworkinhours:\n",
        "  Doctorworkinhourses.append(title.text.strip())\n",
        "print(Doctorworkinhourses)\n",
        "len(Doctorworkinhourses)\n",
        "import pandas as pd\n",
        "df = pd.DataFrame.from_dict({'Doctor_name':Doctornames[0],\n",
        "                   'Doctordegrees':Doctordegrees,\n",
        "                   'Doctorgender': Doctorgenders,\n",
        "                   'Doctornpi': Doctorlicenses[0],\n",
        "                   'Doctorlicense': Doctorlicenses[1],\n",
        "                   'Doctorhospitalname': Doctorhospitalnames,\n",
        "                   'Address':Doctoraddressstreets,\n",
        "                   'Doctorworkinhourses': Doctorworkinhourses,\n",
        "                    })\n",
        "df.to_csv('deltadentalins1.csv', index=False)"
      ],
      "metadata": {
        "colab": {
          "base_uri": "https://localhost:8080/"
        },
        "id": "aYgf9wbHhmiN",
        "outputId": "b90e50b1-f40b-4db5-bafd-ee543d632f22"
      },
      "execution_count": 34,
      "outputs": [
        {
          "output_type": "stream",
          "name": "stdout",
          "text": [
            "['Amy Milman']\n",
            "['University of Texas Health Science Center at Houston Dental School, 12/2020']\n",
            "['Female']\n",
            "['Provider NPI:1912519331', 'License:36578, TX']\n",
            "['Jonathan Penchas DMD M Ed']\n",
            "['0.3 miGet directionsJonathan Penchas DMD M Ed808 Travis St Ste T60, Houston, TX, 77002-5760(713) 227-5757office@midtowndentistry.comFax: (713) 225-1844http://www.midtowndentistry.com']\n",
            "['Mon:Tue:Wed:Thurs:Fri:Sat:Sun:08:00 AM  -  05:00 PM08:00 AM  -  05:00 PM08:00 AM  -  05:00 PM08:00 AM  -  05:00 PM08:00 AM  -  05:00 PM08:00 AM  -  05:00 PMCall For Details']\n"
          ]
        }
      ]
    }
  ]
}