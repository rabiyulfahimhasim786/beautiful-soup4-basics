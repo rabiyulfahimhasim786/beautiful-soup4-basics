{
  "nbformat": 4,
  "nbformat_minor": 0,
  "metadata": {
    "colab": {
      "provenance": []
    },
    "kernelspec": {
      "name": "python3",
      "display_name": "Python 3"
    },
    "language_info": {
      "name": "python"
    }
  },
  "cells": [
    {
      "cell_type": "code",
      "source": [
        "import bs4\n",
        "from bs4 import BeautifulSoup as bs\n",
        "import requests"
      ],
      "metadata": {
        "id": "6PYoXZ4zdbNG"
      },
      "execution_count": null,
      "outputs": []
    },
    {
      "cell_type": "code",
      "source": [
        "import random\n",
        "user_agent_list = [\n",
        "'Mozilla/5.0 (X11; Linux x86_64) AppleWebKit/537.36 (KHTML, like Gecko) Ubuntu Chromium/37.0.2062.94 Chrome/37.0.2062.94 Safari/537.36', 'Mozilla/5.0 (Windows NT 6.1; WOW64) AppleWebKit/537.36 (KHTML, like Gecko) Chrome/45.0.2454.85 Safari/537.36', 'Mozilla/5.0 (Windows NT 6.1; WOW64; Trident/7.0; rv:11.0) like Gecko', 'Mozilla/5.0 (Windows NT 6.1; WOW64; rv:40.0) Gecko/20100101 Firefox/40.0', 'Mozilla/5.0 (Macintosh; Intel Mac OS X 10_10_5) AppleWebKit/600.8.9 (KHTML, like Gecko) Version/8.0.8 Safari/600.8.9', 'Mozilla/5.0 (iPad; CPU OS 8_4_1 like Mac OS X) AppleWebKit/600.1.4 (KHTML, like Gecko) Version/8.0 Mobile/12H321 Safari/600.1.4', 'Mozilla/5.0 (Windows NT 6.3; WOW64) AppleWebKit/537.36 (KHTML, like Gecko) Chrome/45.0.2454.85 Safari/537.36', 'Mozilla/5.0 (Windows NT 10.0; WOW64) AppleWebKit/537.36 (KHTML, like Gecko) Chrome/45.0.2454.85 Safari/537.36', 'Mozilla/5.0 (Windows NT 10.0; Win64; x64) AppleWebKit/537.36 (KHTML, like Gecko) Chrome/42.0.2311.135 Safari/537.36 Edge/12.10240', 'Mozilla/5.0 (Windows NT 6.3; WOW64; rv:40.0) Gecko/20100101 Firefox/40.0', 'Mozilla/5.0 (Windows NT 6.3; WOW64; Trident/7.0; rv:11.0) like Gecko', 'Mozilla/5.0 (Windows NT 6.1) AppleWebKit/537.36 (KHTML, like Gecko) Chrome/45.0.2454.85 Safari/537.36', 'Mozilla/5.0 (Windows NT 6.1; Trident/7.0; rv:11.0) like Gecko', 'Mozilla/5.0 (Windows NT 10.0; WOW64; rv:40.0) Gecko/20100101 Firefox/40.0', 'Mozilla/5.0 (Macintosh; Intel Mac OS X 10_10_4) AppleWebKit/600.7.12 (KHTML, like Gecko) Version/8.0.7 Safari/600.7.12', 'Mozilla/5.0 (Macintosh; Intel Mac OS X 10_10_5) AppleWebKit/537.36 (KHTML, like Gecko) Chrome/45.0.2454.85 Safari/537.36', 'Mozilla/5.0 (Macintosh; Intel Mac OS X 10.10; rv:40.0) Gecko/20100101 Firefox/40.0', 'Mozilla/5.0 (Macintosh; Intel Mac OS X 10_9_5) AppleWebKit/600.8.9 (KHTML, like Gecko) Version/7.1.8 Safari/537.85.17', 'Mozilla/5.0 (iPad; CPU OS 8_4 like Mac OS X) AppleWebKit/600.1.4 (KHTML, like Gecko) Version/8.0 Mobile/12H143 Safari/600.1.4', 'Mozilla/5.0 (iPad; CPU OS 8_3 like Mac OS X) AppleWebKit/600.1.4 (KHTML, like Gecko) Version/8.0 Mobile/12F69 Safari/600.1.4', 'Mozilla/5.0 (Windows NT 6.1; rv:40.0) Gecko/20100101 Firefox/40.0', 'Mozilla/5.0 (compatible; MSIE 10.0; Windows NT 6.1; WOW64; Trident/6.0)', 'Mozilla/5.0 (compatible; MSIE 9.0; Windows NT 6.1; WOW64; Trident/5.0)', 'Mozilla/5.0 (Windows NT 6.3; WOW64; Trident/7.0; Touch; rv:11.0) like Gecko', 'Mozilla/5.0 (Windows NT 5.1; rv:40.0) Gecko/20100101 Firefox/40.0', 'Mozilla/5.0 (Windows NT 5.1) AppleWebKit/537.36 (KHTML, like Gecko) Chrome/45.0.2454.85 Safari/537.36', 'Mozilla/5.0 (Macintosh; Intel Mac OS X 10_10_3) AppleWebKit/600.6.3 (KHTML, like Gecko) Version/8.0.6 Safari/600.6.3', 'Mozilla/5.0 (Macintosh; Intel Mac OS X 10_10_3) AppleWebKit/600.5.17 (KHTML, like Gecko) Version/8.0.5 Safari/600.5.17', 'Mozilla/5.0 (Windows NT 6.1; WOW64; rv:38.0) Gecko/20100101 Firefox/38.0', 'Mozilla/5.0 (Windows NT 6.1; WOW64) AppleWebKit/537.36 (KHTML, like Gecko) Chrome/44.0.2403.157 Safari/537.36', 'Mozilla/5.0 (iPhone; CPU iPhone OS 8_4_1 like Mac OS X) AppleWebKit/600.1.4 (KHTML, like Gecko) Version/8.0 Mobile/12H321 Safari/600.1.4', 'Mozilla/5.0 (Windows NT 10.0; WOW64; Trident/7.0; rv:11.0) like Gecko', 'Mozilla/5.0 (iPad; CPU OS 7_1_2 like Mac OS X) AppleWebKit/537.51.2 (KHTML, like Gecko) Version/7.0 Mobile/11D257 Safari/9537.53', 'Mozilla/5.0 (compatible; MSIE 9.0; Windows NT 6.1; Trident/5.0)', 'Mozilla/5.0 (Macintosh; Intel Mac OS X 10_9_5) AppleWebKit/537.36 (KHTML, like Gecko) Chrome/45.0.2454.85 Safari/537.36', 'Mozilla/5.0 (Macintosh; Intel Mac OS X 10_10_4) AppleWebKit/537.36 (KHTML, like Gecko) Chrome/45.0.2454.85 Safari/537.36', 'Mozilla/5.0 (Macintosh; Intel Mac OS X 10.9; rv:40.0) Gecko/20100101 Firefox/40.0', 'Mozilla/5.0 (compatible; MSIE 10.0; Windows NT 6.1; Trident/6.0)', 'Mozilla/5.0 (Windows NT 6.0) AppleWebKit/537.36 (KHTML, like Gecko) Chrome/45.0.2454.85 Safari/537.36', 'Mozilla/5.0 (Windows NT 6.3; WOW64) AppleWebKit/537.36 (KHTML, like Gecko) Chrome/44.0.2403.157 Safari/537.36', 'Mozilla/5.0 (X11; CrOS x86_64 7077.134.0) AppleWebKit/537.36 (KHTML, like Gecko) Chrome/44.0.2403.156 Safari/537.36', 'Mozilla/5.0 (Macintosh; Intel Mac OS X 10_9_5) AppleWebKit/600.7.12 (KHTML, like Gecko) Version/7.1.7 Safari/537.85.16', 'Mozilla/5.0 (Windows NT 6.0; rv:40.0) Gecko/20100101 Firefox/40.0', 'Mozilla/5.0 (Macintosh; Intel Mac OS X 10.6; rv:40.0) Gecko/20100101 Firefox/40.0', 'Mozilla/5.0 (iPad; CPU OS 8_1_3 like Mac OS X) AppleWebKit/600.1.4 (KHTML, like Gecko) Version/8.0 Mobile/12B466 Safari/600.1.4', 'Mozilla/5.0 (Macintosh; Intel Mac OS X 10_10_2) AppleWebKit/600.3.18 (KHTML, like Gecko) Version/8.0.3 Safari/600.3.18', 'Mozilla/5.0 (Macintosh; Intel Mac OS X 10_10_3) AppleWebKit/537.36 (KHTML, like Gecko) Chrome/45.0.2454.85 Safari/537.36', 'Mozilla/5.0 (Windows NT 6.2; WOW64) AppleWebKit/537.36 (KHTML, like Gecko) Chrome/45.0.2454.85 Safari/537.36', 'Mozilla/5.0 (Windows NT 6.1; Win64; x64; Trident/7.0; rv:11.0) like Gecko', 'Mozilla/5.0 (Macintosh; Intel Mac OS X 10_10_5) AppleWebKit/537.36 (KHTML, like Gecko) Chrome/44.0.2403.157 Safari/537.36', 'Mozilla/5.0 (iPad; CPU OS 8_1_2 like Mac OS X) AppleWebKit/600.1.4 (KHTML, like Gecko) Version/8.0 Mobile/12B440 Safari/600.1.4', 'Mozilla/5.0 (Linux; U; Android 4.0.3; en-us; KFTT Build/IML74K) AppleWebKit/537.36 (KHTML, like Gecko) Silk/3.68 like Chrome/39.0.2171.93 Safari/537.36', 'Mozilla/5.0 (iPad; CPU OS 8_2 like Mac OS X) AppleWebKit/600.1.4 (KHTML, like Gecko) Version/8.0 Mobile/12D508 Safari/600.1.4', 'Mozilla/5.0 (Windows NT 6.1; WOW64; rv:39.0) Gecko/20100101 Firefox/39.0', 'Mozilla/5.0 (iPad; CPU OS 7_1_1 like Mac OS X) AppleWebKit/537.51.2 (KHTML, like Gecko) Version/7.0 Mobile/11D201 Safari/9537.53', 'Mozilla/5.0 (Linux; U; Android 4.4.3; en-us; KFTHWI Build/KTU84M) AppleWebKit/537.36 (KHTML, like Gecko) Silk/3.68 like Chrome/39.0.2171.93 Safari/537.36', 'Mozilla/5.0 (Macintosh; Intel Mac OS X 10_9_5) AppleWebKit/600.6.3 (KHTML, like Gecko) Version/7.1.6 Safari/537.85.15', 'Mozilla/5.0 (Macintosh; Intel Mac OS X 10_10_2) AppleWebKit/600.4.10 (KHTML, like Gecko) Version/8.0.4 Safari/600.4.10']"
      ],
      "metadata": {
        "id": "bkTFD-pfdd-s"
      },
      "execution_count": null,
      "outputs": []
    },
    {
      "cell_type": "code",
      "source": [
        "urllist = []\n",
        "for i in range(1, 10):\n",
        "  print(i)\n",
        "  url = \"https://www.deltadentalins.com/find-a-dentist/directory-results/?network=2ppo,2premier,2deltacare,DCSUBIND,DCSUBMED,DCSUBCON&free_text=General%20Dentist&lat=29.7604267&long=-95.3698028&location=Houston,%20TX,%20USA&distance=60&specialty=General%20Dentist&sort_field=distance&sort_order=asc&page={}\".format(i)\n",
        "  print(url)\n",
        "  urllist.append(url)\n",
        "# 'https://www.deltadentalins.com/find-a-dentist/directory-results/?network=2ppo,2premier,2deltacare,DCSUBIND,DCSUBMED,DCSUBCON&free_text=General%20Dentist&lat=29.7604267&long=-95.3698028&location=Houston,%20TX,%20USA&distance=60&specialty=General%20Dentist&sort_field=distance&sort_order=asc&page={}'"
      ],
      "metadata": {
        "colab": {
          "base_uri": "https://localhost:8080/"
        },
        "id": "RIdmr0gX7J5P",
        "outputId": "55599ee6-60c1-43a2-9ef1-6727eafa51c1"
      },
      "execution_count": null,
      "outputs": [
        {
          "output_type": "stream",
          "name": "stdout",
          "text": [
            "1\n",
            "https://www.deltadentalins.com/find-a-dentist/directory-results/?network=2ppo,2premier,2deltacare,DCSUBIND,DCSUBMED,DCSUBCON&free_text=General%20Dentist&lat=29.7604267&long=-95.3698028&location=Houston,%20TX,%20USA&distance=60&specialty=General%20Dentist&sort_field=distance&sort_order=asc&page=1\n",
            "2\n",
            "https://www.deltadentalins.com/find-a-dentist/directory-results/?network=2ppo,2premier,2deltacare,DCSUBIND,DCSUBMED,DCSUBCON&free_text=General%20Dentist&lat=29.7604267&long=-95.3698028&location=Houston,%20TX,%20USA&distance=60&specialty=General%20Dentist&sort_field=distance&sort_order=asc&page=2\n",
            "3\n",
            "https://www.deltadentalins.com/find-a-dentist/directory-results/?network=2ppo,2premier,2deltacare,DCSUBIND,DCSUBMED,DCSUBCON&free_text=General%20Dentist&lat=29.7604267&long=-95.3698028&location=Houston,%20TX,%20USA&distance=60&specialty=General%20Dentist&sort_field=distance&sort_order=asc&page=3\n",
            "4\n",
            "https://www.deltadentalins.com/find-a-dentist/directory-results/?network=2ppo,2premier,2deltacare,DCSUBIND,DCSUBMED,DCSUBCON&free_text=General%20Dentist&lat=29.7604267&long=-95.3698028&location=Houston,%20TX,%20USA&distance=60&specialty=General%20Dentist&sort_field=distance&sort_order=asc&page=4\n",
            "5\n",
            "https://www.deltadentalins.com/find-a-dentist/directory-results/?network=2ppo,2premier,2deltacare,DCSUBIND,DCSUBMED,DCSUBCON&free_text=General%20Dentist&lat=29.7604267&long=-95.3698028&location=Houston,%20TX,%20USA&distance=60&specialty=General%20Dentist&sort_field=distance&sort_order=asc&page=5\n",
            "6\n",
            "https://www.deltadentalins.com/find-a-dentist/directory-results/?network=2ppo,2premier,2deltacare,DCSUBIND,DCSUBMED,DCSUBCON&free_text=General%20Dentist&lat=29.7604267&long=-95.3698028&location=Houston,%20TX,%20USA&distance=60&specialty=General%20Dentist&sort_field=distance&sort_order=asc&page=6\n",
            "7\n",
            "https://www.deltadentalins.com/find-a-dentist/directory-results/?network=2ppo,2premier,2deltacare,DCSUBIND,DCSUBMED,DCSUBCON&free_text=General%20Dentist&lat=29.7604267&long=-95.3698028&location=Houston,%20TX,%20USA&distance=60&specialty=General%20Dentist&sort_field=distance&sort_order=asc&page=7\n",
            "8\n",
            "https://www.deltadentalins.com/find-a-dentist/directory-results/?network=2ppo,2premier,2deltacare,DCSUBIND,DCSUBMED,DCSUBCON&free_text=General%20Dentist&lat=29.7604267&long=-95.3698028&location=Houston,%20TX,%20USA&distance=60&specialty=General%20Dentist&sort_field=distance&sort_order=asc&page=8\n",
            "9\n",
            "https://www.deltadentalins.com/find-a-dentist/directory-results/?network=2ppo,2premier,2deltacare,DCSUBIND,DCSUBMED,DCSUBCON&free_text=General%20Dentist&lat=29.7604267&long=-95.3698028&location=Houston,%20TX,%20USA&distance=60&specialty=General%20Dentist&sort_field=distance&sort_order=asc&page=9\n"
          ]
        }
      ]
    },
    {
      "cell_type": "code",
      "source": [
        "urllist"
      ],
      "metadata": {
        "colab": {
          "base_uri": "https://localhost:8080/"
        },
        "id": "1LaPQZ5L7eFR",
        "outputId": "1ade3f41-9607-4675-c761-16ef0f8b4379"
      },
      "execution_count": null,
      "outputs": [
        {
          "output_type": "execute_result",
          "data": {
            "text/plain": [
              "['https://www.deltadentalins.com/find-a-dentist/directory-results/?network=2ppo,2premier,2deltacare,DCSUBIND,DCSUBMED,DCSUBCON&free_text=General%20Dentist&lat=29.7604267&long=-95.3698028&location=Houston,%20TX,%20USA&distance=60&specialty=General%20Dentist&sort_field=distance&sort_order=asc&page=1',\n",
              " 'https://www.deltadentalins.com/find-a-dentist/directory-results/?network=2ppo,2premier,2deltacare,DCSUBIND,DCSUBMED,DCSUBCON&free_text=General%20Dentist&lat=29.7604267&long=-95.3698028&location=Houston,%20TX,%20USA&distance=60&specialty=General%20Dentist&sort_field=distance&sort_order=asc&page=2',\n",
              " 'https://www.deltadentalins.com/find-a-dentist/directory-results/?network=2ppo,2premier,2deltacare,DCSUBIND,DCSUBMED,DCSUBCON&free_text=General%20Dentist&lat=29.7604267&long=-95.3698028&location=Houston,%20TX,%20USA&distance=60&specialty=General%20Dentist&sort_field=distance&sort_order=asc&page=3',\n",
              " 'https://www.deltadentalins.com/find-a-dentist/directory-results/?network=2ppo,2premier,2deltacare,DCSUBIND,DCSUBMED,DCSUBCON&free_text=General%20Dentist&lat=29.7604267&long=-95.3698028&location=Houston,%20TX,%20USA&distance=60&specialty=General%20Dentist&sort_field=distance&sort_order=asc&page=4',\n",
              " 'https://www.deltadentalins.com/find-a-dentist/directory-results/?network=2ppo,2premier,2deltacare,DCSUBIND,DCSUBMED,DCSUBCON&free_text=General%20Dentist&lat=29.7604267&long=-95.3698028&location=Houston,%20TX,%20USA&distance=60&specialty=General%20Dentist&sort_field=distance&sort_order=asc&page=5',\n",
              " 'https://www.deltadentalins.com/find-a-dentist/directory-results/?network=2ppo,2premier,2deltacare,DCSUBIND,DCSUBMED,DCSUBCON&free_text=General%20Dentist&lat=29.7604267&long=-95.3698028&location=Houston,%20TX,%20USA&distance=60&specialty=General%20Dentist&sort_field=distance&sort_order=asc&page=6',\n",
              " 'https://www.deltadentalins.com/find-a-dentist/directory-results/?network=2ppo,2premier,2deltacare,DCSUBIND,DCSUBMED,DCSUBCON&free_text=General%20Dentist&lat=29.7604267&long=-95.3698028&location=Houston,%20TX,%20USA&distance=60&specialty=General%20Dentist&sort_field=distance&sort_order=asc&page=7',\n",
              " 'https://www.deltadentalins.com/find-a-dentist/directory-results/?network=2ppo,2premier,2deltacare,DCSUBIND,DCSUBMED,DCSUBCON&free_text=General%20Dentist&lat=29.7604267&long=-95.3698028&location=Houston,%20TX,%20USA&distance=60&specialty=General%20Dentist&sort_field=distance&sort_order=asc&page=8',\n",
              " 'https://www.deltadentalins.com/find-a-dentist/directory-results/?network=2ppo,2premier,2deltacare,DCSUBIND,DCSUBMED,DCSUBCON&free_text=General%20Dentist&lat=29.7604267&long=-95.3698028&location=Houston,%20TX,%20USA&distance=60&specialty=General%20Dentist&sort_field=distance&sort_order=asc&page=9']"
            ]
          },
          "metadata": {},
          "execution_count": 37
        }
      ]
    },
    {
      "cell_type": "code",
      "source": [
        "for i in range(1,2):\n",
        "  #Pick a random user agent\n",
        "  user_agent = random.choice(user_agent_list)\n",
        "  headers = {'User-Agent': user_agent }\n",
        "  # print(user_agent)\n",
        "\n",
        "# link = 'https://www.deltadentalins.com/find-a-dentist/directory-results/?network=2ppo,2premier,2deltacare,DCSUBIND,DCSUBMED,DCSUBCON&free_text=General%20Dentist&lat=29.7604267&long=-95.3698028&location=Houston,%20TX,%20USA&distance=60&specialty=General%20Dentist&office_hours=&office_access=&sort_field=distance&page=1&special_needs=&patient_considerations=&sort_order=asc'\n",
        "# for pagenumber in range(10):\n",
        "for link in urllist:\n",
        "  page = requests.get(link, headers = headers)\n",
        "\n",
        "  print(page)\n",
        "\n",
        "  soup = bs(page.content, 'html.parser')\n",
        "  # #it gives us the visual representation of data\n",
        "\n",
        "  a = soup.find_all('a', class_=\"dd-link dentist-name\")\n",
        "  b = soup.find_all('div', class_=\"dentist-speciality-cont\")\n",
        "  c = soup.find_all('div', class_=\"address-line\")\n",
        "  d = soup.find_all('span', class_=\"city\")\n",
        "  e = soup.find_all('span', class_=\"state\")\n",
        "  f = soup.find_all('span', class_=\"zip-code\")\n",
        "  g = soup.find_all('div', class_=\"contact-section\")\n",
        "  h = soup.find_all('div', class_=\"provider-network\")\n",
        "\n",
        "  Doctor_name = []\n",
        "  Specialty = []\n",
        "  category  = []\n",
        "  Address  = []\n",
        "  City = []\n",
        "  State = []\n",
        "  Zip_code = []\n",
        "  Contact = []\n",
        "  Hospital = []\n",
        "\n",
        "  for title in a:\n",
        "    Doctor_name.append(title.text.strip())\n",
        "  for title in b:\n",
        "    Specialty.append(title.text.strip())\n",
        "  for title in c:\n",
        "    Address.append(title.text.strip())\n",
        "  for title in d:\n",
        "    City.append(title.text.strip())\n",
        "  for title in e:\n",
        "    State.append(title.text.strip())\n",
        "  for title in f:\n",
        "    Zip_code.append(title.text.strip())\n",
        "  for title in g:\n",
        "    Contact.append(title.text.strip())\n",
        "  for title in h:\n",
        "    Hospital.append(title.text.strip())\n",
        "\n",
        "  import pandas as pd\n",
        "  df = pd.DataFrame({'Doctor_name':Doctor_name,\n",
        "                    'Specialty':Specialty,\n",
        "                    'Address':Address,\n",
        "                    'City':City[0],#[0] - Array\n",
        "                    'State':State,\n",
        "                    'Zip_code':Zip_code,\n",
        "                    'Contact':Contact,\n",
        "                    'Hospital':Hospital,\n",
        "  \n",
        "                    })\n",
        "  df\n",
        "  import re\n",
        "  #urldata = 'https://www.deltadentalins.com/find-a-dentist/directory-results/?network=2ppo,2premier,2deltacare,DCSUBIND,DCSUBMED,DCSUBCON&free_text=General%20Dentist&lat=29.7604267&long=-95.3698028&location=Houston,%20TX,%20USA&distance=60&specialty=General%20Dentist&sort_field=distance&sort_order=asc&page=9'\n",
        "  urldataset = list(map(int, re.findall('\\d+', link)))\n",
        "  print(urldataset[-1])\n",
        "  urlvalues = str(urldataset[-1])\n",
        "  df.to_csv(str(urldataset[-1])+'.csv', index=False)"
      ],
      "metadata": {
        "colab": {
          "base_uri": "https://localhost:8080/"
        },
        "id": "ZAPxfDBH8SiN",
        "outputId": "b17fbbc7-08a2-4528-9514-0485c243b729"
      },
      "execution_count": null,
      "outputs": [
        {
          "output_type": "stream",
          "name": "stdout",
          "text": [
            "<Response [200]>\n",
            "1\n",
            "<Response [200]>\n",
            "2\n",
            "<Response [200]>\n",
            "3\n",
            "<Response [200]>\n",
            "4\n",
            "<Response [200]>\n",
            "5\n",
            "<Response [200]>\n",
            "6\n",
            "<Response [200]>\n",
            "7\n",
            "<Response [200]>\n",
            "8\n",
            "<Response [200]>\n",
            "9\n"
          ]
        }
      ]
    },
    {
      "cell_type": "code",
      "source": [
        "import re\n",
        "urldata = 'https://www.deltadentalins.com/find-a-dentist/directory-results/?network=2ppo,2premier,2deltacare,DCSUBIND,DCSUBMED,DCSUBCON&free_text=General%20Dentist&lat=29.7604267&long=-95.3698028&location=Houston,%20TX,%20USA&distance=60&specialty=General%20Dentist&sort_field=distance&sort_order=asc&page=9'\n",
        "urldataset = list(map(int, re.findall('\\d+', urldata)))\n",
        "print(urldataset[-1])\n",
        "print(list(map(int, re.findall('\\d+', urldata))))"
      ],
      "metadata": {
        "colab": {
          "base_uri": "https://localhost:8080/"
        },
        "id": "fYnEBcqE_P7U",
        "outputId": "0b055af2-1d72-4b67-86f2-e1de55698d0e"
      },
      "execution_count": null,
      "outputs": [
        {
          "output_type": "stream",
          "name": "stdout",
          "text": [
            "9\n",
            "[2, 2, 2, 20, 29, 7604267, 95, 3698028, 20, 20, 60, 20, 9]\n"
          ]
        }
      ]
    },
    {
      "cell_type": "code",
      "source": [
        "for i in range(1,2):\n",
        "  #Pick a random user agent\n",
        "  user_agent = random.choice(user_agent_list)\n",
        "  headers = {'User-Agent': user_agent }\n",
        "  # print(user_agent)\n",
        "\n",
        "link = 'https://www.deltadentalins.com/find-a-dentist/directory-results/?network=2ppo,2premier,2deltacare,DCSUBIND,DCSUBMED,DCSUBCON&free_text=General%20Dentist&lat=29.7604267&long=-95.3698028&location=Houston,%20TX,%20USA&distance=60&specialty=General%20Dentist&office_hours=&office_access=&sort_field=distance&page=1&special_needs=&patient_considerations=&sort_order=asc'\n",
        "page = requests.get(link, headers = headers)\n",
        "\n",
        "print(page)\n",
        "\n",
        "soup = bs(page.content, 'html.parser')\n",
        "# #it gives us the visual representation of data\n",
        "\n",
        "a = soup.find_all('a', class_=\"dd-link dentist-name\")\n",
        "b = soup.find_all('div', class_=\"dentist-speciality-cont\")\n",
        "c = soup.find_all('div', class_=\"address-line\")\n",
        "d = soup.find_all('span', class_=\"city\")\n",
        "e = soup.find_all('span', class_=\"state\")\n",
        "f = soup.find_all('span', class_=\"zip-code\")\n",
        "g = soup.find_all('div', class_=\"contact-section\")\n",
        "h = soup.find_all('div', class_=\"provider-network\")\n",
        "\n",
        "Doctor_name = []\n",
        "Specialty = []\n",
        "category  = []\n",
        "Address  = []\n",
        "City = []\n",
        "State = []\n",
        "Zip_code = []\n",
        "Contact = []\n",
        "Hospital = []\n",
        "\n",
        "for title in a:\n",
        "  Doctor_name.append(title.text.strip())\n",
        "for title in b:\n",
        "  Specialty.append(title.text.strip())\n",
        "for title in c:\n",
        " Address.append(title.text.strip())\n",
        "for title in d:\n",
        "  City.append(title.text.strip())\n",
        "for title in e:\n",
        " State.append(title.text.strip())\n",
        "for title in f:\n",
        "  Zip_code.append(title.text.strip())\n",
        "for title in g:\n",
        "  Contact.append(title.text.strip())\n",
        "for title in h:\n",
        "  Hospital.append(title.text.strip())\n",
        "\n",
        "import pandas as pd\n",
        "df = pd.DataFrame({'Doctor_name':Doctor_name,\n",
        "                   'Specialty':Specialty,\n",
        "                   'Address':Address,\n",
        "                   'City':City[0],#[0] - Array\n",
        "                   'State':State,\n",
        "                   'Zip_code':Zip_code,\n",
        "                   'Contact':Contact,\n",
        "                   'Hospital':Hospital,\n",
        " \n",
        "                   })\n",
        "df\n",
        "\n",
        "df.to_csv('data.csv', index=False)"
      ],
      "metadata": {
        "colab": {
          "base_uri": "https://localhost:8080/"
        },
        "id": "OpkwBSQwNj-8",
        "outputId": "202e96bc-0b07-4238-9a50-f1eb57dc64c4"
      },
      "execution_count": null,
      "outputs": [
        {
          "output_type": "stream",
          "name": "stdout",
          "text": [
            "<Response [200]>\n"
          ]
        }
      ]
    },
    {
      "cell_type": "code",
      "source": [
        "for i in range(11, 20):\n",
        "  print(i)\n",
        "  url = \"https://www.deltadentalins.com/{}\".format(i)\n",
        "  print(url)"
      ],
      "metadata": {
        "colab": {
          "base_uri": "https://localhost:8080/"
        },
        "id": "xHp6TBbz6Gas",
        "outputId": "14bb0944-679d-43e1-a141-6ed0e7af7f79"
      },
      "execution_count": null,
      "outputs": [
        {
          "output_type": "stream",
          "name": "stdout",
          "text": [
            "11\n",
            "https://www.deltadentalins.com/11\n",
            "12\n",
            "https://www.deltadentalins.com/12\n",
            "13\n",
            "https://www.deltadentalins.com/13\n",
            "14\n",
            "https://www.deltadentalins.com/14\n",
            "15\n",
            "https://www.deltadentalins.com/15\n",
            "16\n",
            "https://www.deltadentalins.com/16\n",
            "17\n",
            "https://www.deltadentalins.com/17\n",
            "18\n",
            "https://www.deltadentalins.com/18\n",
            "19\n",
            "https://www.deltadentalins.com/19\n"
          ]
        }
      ]
    },
    {
      "cell_type": "code",
      "source": [
        "url = \"https://www.deltadentalins.com/{}\".format(1)\n",
        "print(url)"
      ],
      "metadata": {
        "colab": {
          "base_uri": "https://localhost:8080/"
        },
        "id": "86M5JpYj6Zh7",
        "outputId": "52c0e7e3-e497-476a-aca5-206b81c99675"
      },
      "execution_count": null,
      "outputs": [
        {
          "output_type": "stream",
          "name": "stdout",
          "text": [
            "https://www.deltadentalins.com/1\n"
          ]
        }
      ]
    },
    {
      "cell_type": "code",
      "source": [
        "for i in range(1,2):\n",
        "  #Pick a random user agent\n",
        "  user_agent = random.choice(user_agent_list)\n",
        "  headers = {'User-Agent': user_agent }\n",
        "  # print(user_agent)\n",
        "\n",
        "# link = 'https://www.deltadentalins.com/find-a-dentist/directory-results/?network=2ppo,2premier,2deltacare,DCSUBIND,DCSUBMED,DCSUBCON&free_text=General%20Dentist&lat=29.7604267&long=-95.3698028&location=Houston,%20TX,%20USA&distance=60&specialty=General%20Dentist&office_hours=&office_access=&sort_field=distance&page=1&special_needs=&patient_considerations=&sort_order=asc'\n",
        "for pagenumber in range(10):\n",
        "  for link in urllist:\n",
        "    page = requests.get(link, headers = headers)\n",
        "\n",
        "    print(page)\n",
        "\n",
        "    soup = bs(page.content, 'html.parser')\n",
        "    # #it gives us the visual representation of data\n",
        "\n",
        "    a = soup.find_all('a', class_=\"dd-link dentist-name\")\n",
        "    b = soup.find_all('div', class_=\"dentist-speciality-cont\")\n",
        "    c = soup.find_all('div', class_=\"address-line\")\n",
        "    d = soup.find_all('span', class_=\"city\")\n",
        "    e = soup.find_all('span', class_=\"state\")\n",
        "    f = soup.find_all('span', class_=\"zip-code\")\n",
        "    g = soup.find_all('div', class_=\"contact-section\")\n",
        "    h = soup.find_all('div', class_=\"provider-network\")\n",
        "\n",
        "    Doctor_name = []\n",
        "    Specialty = []\n",
        "    category  = []\n",
        "    Address  = []\n",
        "    City = []\n",
        "    State = []\n",
        "    Zip_code = []\n",
        "    Contact = []\n",
        "    Hospital = []\n",
        "\n",
        "    for title in a:\n",
        "      Doctor_name.append(title.text.strip())\n",
        "    for title in b:\n",
        "      Specialty.append(title.text.strip())\n",
        "    for title in c:\n",
        "      Address.append(title.text.strip())\n",
        "    for title in d:\n",
        "      City.append(title.text.strip())\n",
        "    for title in e:\n",
        "      State.append(title.text.strip())\n",
        "    for title in f:\n",
        "      Zip_code.append(title.text.strip())\n",
        "    for title in g:\n",
        "      Contact.append(title.text.strip())\n",
        "    for title in h:\n",
        "      Hospital.append(title.text.strip())\n",
        "\n",
        "    import pandas as pd\n",
        "    df = pd.DataFrame({'Doctor_name':Doctor_name,\n",
        "                      'Specialty':Specialty,\n",
        "                      'Address':Address,\n",
        "                      'City':City[0],#[0] - Array\n",
        "                      'State':State,\n",
        "                      'Zip_code':Zip_code,\n",
        "                      'Contact':Contact,\n",
        "                      'Hospital':Hospital,\n",
        "    \n",
        "                      })\n",
        "    df\n",
        "    \n",
        "    df.to_csv(str(pagenumber)+'.csv', index=False)"
      ],
      "metadata": {
        "colab": {
          "base_uri": "https://localhost:8080/"
        },
        "id": "0hwZD1Jm7SiF",
        "outputId": "50c617dc-489e-4bf7-9425-b3c73694d689"
      },
      "execution_count": null,
      "outputs": [
        {
          "output_type": "stream",
          "name": "stdout",
          "text": [
            "<Response [200]>\n",
            "<Response [200]>\n",
            "<Response [200]>\n",
            "<Response [200]>\n",
            "<Response [200]>\n",
            "<Response [200]>\n",
            "<Response [200]>\n",
            "<Response [200]>\n",
            "<Response [200]>\n",
            "<Response [200]>\n",
            "<Response [200]>\n",
            "<Response [200]>\n",
            "<Response [200]>\n",
            "<Response [200]>\n",
            "<Response [200]>\n",
            "<Response [200]>\n",
            "<Response [200]>\n",
            "<Response [200]>\n",
            "<Response [200]>\n",
            "<Response [200]>\n",
            "<Response [200]>\n",
            "<Response [200]>\n",
            "<Response [200]>\n",
            "<Response [200]>\n",
            "<Response [200]>\n",
            "<Response [200]>\n",
            "<Response [200]>\n",
            "<Response [200]>\n",
            "<Response [200]>\n",
            "<Response [200]>\n",
            "<Response [200]>\n",
            "<Response [200]>\n",
            "<Response [200]>\n",
            "<Response [200]>\n",
            "<Response [200]>\n",
            "<Response [200]>\n",
            "<Response [200]>\n",
            "<Response [200]>\n",
            "<Response [200]>\n",
            "<Response [200]>\n",
            "<Response [200]>\n",
            "<Response [200]>\n",
            "<Response [200]>\n",
            "<Response [200]>\n",
            "<Response [200]>\n",
            "<Response [200]>\n",
            "<Response [200]>\n",
            "<Response [200]>\n",
            "<Response [200]>\n",
            "<Response [200]>\n",
            "<Response [200]>\n",
            "<Response [200]>\n",
            "<Response [200]>\n",
            "<Response [200]>\n",
            "<Response [200]>\n",
            "<Response [200]>\n",
            "<Response [200]>\n",
            "<Response [200]>\n",
            "<Response [200]>\n",
            "<Response [200]>\n",
            "<Response [200]>\n",
            "<Response [200]>\n",
            "<Response [200]>\n",
            "<Response [200]>\n",
            "<Response [200]>\n",
            "<Response [200]>\n",
            "<Response [200]>\n",
            "<Response [200]>\n",
            "<Response [200]>\n",
            "<Response [200]>\n",
            "<Response [200]>\n",
            "<Response [200]>\n",
            "<Response [200]>\n",
            "<Response [200]>\n",
            "<Response [200]>\n",
            "<Response [200]>\n",
            "<Response [200]>\n",
            "<Response [200]>\n",
            "<Response [200]>\n",
            "<Response [200]>\n",
            "<Response [200]>\n",
            "<Response [200]>\n",
            "<Response [200]>\n",
            "<Response [200]>\n",
            "<Response [200]>\n",
            "<Response [200]>\n",
            "<Response [200]>\n",
            "<Response [200]>\n",
            "<Response [200]>\n",
            "<Response [200]>\n",
            "<Response [200]>\n",
            "<Response [200]>\n",
            "<Response [200]>\n",
            "<Response [200]>\n",
            "<Response [200]>\n",
            "<Response [200]>\n",
            "<Response [200]>\n",
            "<Response [200]>\n",
            "<Response [200]>\n",
            "<Response [200]>\n"
          ]
        }
      ]
    }
  ]
}