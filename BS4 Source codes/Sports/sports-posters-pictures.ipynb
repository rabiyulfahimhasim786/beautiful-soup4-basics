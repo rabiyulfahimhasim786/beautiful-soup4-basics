{
 "cells": [
  {
   "cell_type": "code",
   "execution_count": 2,
   "id": "b7293707",
   "metadata": {},
   "outputs": [
    {
     "name": "stdout",
     "output_type": "stream",
     "text": [
      "/images/pwsitelogo.gif\n",
      "/resize/Shared/Images/Product/Ali-vs-Tyson/52026.jpeg?bh=300\n",
      "/resize/Shared/Images/Product/Arizona-Diamondbacks/52741.jpg?bh=300\n",
      "/resize/Shared/Images/Product/Baltimore-Ravens/53396.jpg?bh=300\n",
      "/resize/Shared/Images/Product/Barcelona/52503.jpg?bh=300\n",
      "/resize/Shared/Images/Product/Black-Power-Salute/51844.jpg?bh=300\n",
      "/resize/Shared/Images/Product/Boston-Red-Sox/53064.jpg?bh=300\n",
      "/resize/Shared/Images/Product/Boston-Red-Sox/52734.jpg?bh=300\n",
      "/resize/Shared/Images/Product/Boston-Red-Sox/52736.jpg?bh=300\n",
      "/resize/Shared/Images/Product/Boston-Red-Sox/52733.jpg?bh=300\n",
      "/resize/Shared/Images/Product/Cleveland-Cavaliers/52473.jpg?bh=300\n",
      "/resize/Shared/Images/Product/Cleveland-Cavaliers/52542.jpg?bh=300\n",
      "/resize/Shared/Images/Product/Cleveland-Indians/52721.jpg?bh=300\n",
      "/resize/Shared/Images/Product/Colorado-Rockies/52745.jpg?bh=300\n",
      "/resize/Shared/Images/Product/Colorado-Rockies/52744.jpg?bh=300\n",
      "/resize/Shared/Images/Product/Colorado-Rockies/52743.jpg?bh=300\n",
      "/resize/Shared/Images/Product/Detroit-Pistons/52480.jpg?bh=300\n",
      "/resize/Shared/Images/Product/Indiana-Pacers/52068.jpg?bh=300\n",
      "/resize/Shared/Images/Product/Indiana-Pacers/52069.jpg?bh=300\n",
      "/resize/Shared/Images/Product/Kansas-City-Chiefs/53208.jpg?bh=300\n",
      "/resize/Shared/Images/Product/Liverpool/52510.jpg?bh=300\n",
      "/resize/Shared/Images/Product/Los-Angeles-Dodgers/54226.jpg?bh=300\n",
      "/resize/Shared/Images/Product/Manchester-United/52507.jpg?bh=300\n",
      "/resize/Shared/Images/Product/Manchester-United/52508.jpg?bh=300\n",
      "/resize/Shared/Images/Product/Manchester-United/52509.jpg?bh=300\n",
      "/resize/Shared/Images/Product/MLB-Ace-Pitchers/52717.jpg?bh=300\n",
      "/resize/Shared/Images/Product/Muhammad-Ali/50959c.jpg?bh=300\n",
      "/resize/shared/images/50919.jpg?bh=300\n",
      "/resize/Shared/Images/Product/Muhammad-Ali/50498b.jpg?bh=300\n",
      "/resize/Shared/Images/Product/Muhammad-Ali-Vs-Sonny-Liston/42473c.jpg?bh=300\n",
      "/resize/shared/images/40371b.jpg?bh=300\n",
      "/resize/Shared/Images/Product/NASCAR/54138.jpg?bh=300\n",
      "/resize/Shared/Images/Product/New-York-Yankees/52737.jpg?bh=300\n",
      "/resize/Shared/Images/Product/Pittsburgh-Pirates/52776.jpg?bh=300\n",
      "/resize/Shared/Images/Product/Pittsburgh-Steelers/52540.jpg?bh=300\n",
      "/resize/Shared/Images/Product/San-Francisco-49ers/53991.jpg?bh=300\n",
      "/resize/Shared/Images/Product/Tampa-Bay-Buccaneers/54361.png?bh=300\n",
      "/resize/Shared/Images/Product/Tyson/53239.jpg?bh=300\n",
      "/resize/Shared/Images/Product/Washington-Nationals-clone/52725.jpg?bh=300\n",
      "/resize/Shared/Images/Product/Washington-Nationals/53961.jpg?bh=300\n",
      "https://posterswholesale.americommerce.com/visa-mc-amex-discover-paypal.gif\n"
     ]
    }
   ],
   "source": [
    "import requests\n",
    "from bs4 import BeautifulSoup\n",
    "\t\n",
    "def getdata(url):\n",
    "\tr = requests.get(url)\n",
    "\treturn r.text\n",
    "\t\n",
    "htmldata = getdata(\"https://posterswholesale.americommerce.com/store/c/29-Sports.aspx\")\n",
    "soup = BeautifulSoup(htmldata, 'html.parser')\n",
    "for item in soup.find_all('img'):\n",
    "\tprint(item['src'])"
   ]
  },
  {
   "cell_type": "code",
   "execution_count": 3,
   "id": "48c8390c",
   "metadata": {},
   "outputs": [
    {
     "name": "stdout",
     "output_type": "stream",
     "text": [
      "https://posterswholesale.americommerce.com/images/pwsitelogo.gif\n",
      "https://posterswholesale.americommerce.com/resize/Shared/Images/Product/Ali-vs-Tyson/52026.jpeg?bh=300\n",
      "https://posterswholesale.americommerce.com/resize/Shared/Images/Product/Arizona-Diamondbacks/52741.jpg?bh=300\n",
      "https://posterswholesale.americommerce.com/resize/Shared/Images/Product/Baltimore-Ravens/53396.jpg?bh=300\n",
      "https://posterswholesale.americommerce.com/resize/Shared/Images/Product/Barcelona/52503.jpg?bh=300\n",
      "https://posterswholesale.americommerce.com/resize/Shared/Images/Product/Black-Power-Salute/51844.jpg?bh=300\n",
      "https://posterswholesale.americommerce.com/resize/Shared/Images/Product/Boston-Red-Sox/53064.jpg?bh=300\n",
      "https://posterswholesale.americommerce.com/resize/Shared/Images/Product/Boston-Red-Sox/52734.jpg?bh=300\n",
      "https://posterswholesale.americommerce.com/resize/Shared/Images/Product/Boston-Red-Sox/52736.jpg?bh=300\n",
      "https://posterswholesale.americommerce.com/resize/Shared/Images/Product/Boston-Red-Sox/52733.jpg?bh=300\n",
      "https://posterswholesale.americommerce.com/resize/Shared/Images/Product/Cleveland-Cavaliers/52473.jpg?bh=300\n",
      "https://posterswholesale.americommerce.com/resize/Shared/Images/Product/Cleveland-Cavaliers/52542.jpg?bh=300\n",
      "https://posterswholesale.americommerce.com/resize/Shared/Images/Product/Cleveland-Indians/52721.jpg?bh=300\n",
      "https://posterswholesale.americommerce.com/resize/Shared/Images/Product/Colorado-Rockies/52745.jpg?bh=300\n",
      "https://posterswholesale.americommerce.com/resize/Shared/Images/Product/Colorado-Rockies/52744.jpg?bh=300\n",
      "https://posterswholesale.americommerce.com/resize/Shared/Images/Product/Colorado-Rockies/52743.jpg?bh=300\n",
      "https://posterswholesale.americommerce.com/resize/Shared/Images/Product/Detroit-Pistons/52480.jpg?bh=300\n",
      "https://posterswholesale.americommerce.com/resize/Shared/Images/Product/Indiana-Pacers/52068.jpg?bh=300\n",
      "https://posterswholesale.americommerce.com/resize/Shared/Images/Product/Indiana-Pacers/52069.jpg?bh=300\n",
      "https://posterswholesale.americommerce.com/resize/Shared/Images/Product/Kansas-City-Chiefs/53208.jpg?bh=300\n",
      "https://posterswholesale.americommerce.com/resize/Shared/Images/Product/Liverpool/52510.jpg?bh=300\n",
      "https://posterswholesale.americommerce.com/resize/Shared/Images/Product/Los-Angeles-Dodgers/54226.jpg?bh=300\n",
      "https://posterswholesale.americommerce.com/resize/Shared/Images/Product/Manchester-United/52507.jpg?bh=300\n",
      "https://posterswholesale.americommerce.com/resize/Shared/Images/Product/Manchester-United/52508.jpg?bh=300\n",
      "https://posterswholesale.americommerce.com/resize/Shared/Images/Product/Manchester-United/52509.jpg?bh=300\n",
      "https://posterswholesale.americommerce.com/resize/Shared/Images/Product/MLB-Ace-Pitchers/52717.jpg?bh=300\n",
      "https://posterswholesale.americommerce.com/resize/Shared/Images/Product/Muhammad-Ali/50959c.jpg?bh=300\n",
      "https://posterswholesale.americommerce.com/resize/shared/images/50919.jpg?bh=300\n",
      "https://posterswholesale.americommerce.com/resize/Shared/Images/Product/Muhammad-Ali/50498b.jpg?bh=300\n",
      "https://posterswholesale.americommerce.com/resize/Shared/Images/Product/Muhammad-Ali-Vs-Sonny-Liston/42473c.jpg?bh=300\n",
      "https://posterswholesale.americommerce.com/resize/shared/images/40371b.jpg?bh=300\n",
      "https://posterswholesale.americommerce.com/resize/Shared/Images/Product/NASCAR/54138.jpg?bh=300\n",
      "https://posterswholesale.americommerce.com/resize/Shared/Images/Product/New-York-Yankees/52737.jpg?bh=300\n",
      "https://posterswholesale.americommerce.com/resize/Shared/Images/Product/Pittsburgh-Pirates/52776.jpg?bh=300\n",
      "https://posterswholesale.americommerce.com/resize/Shared/Images/Product/Pittsburgh-Steelers/52540.jpg?bh=300\n",
      "https://posterswholesale.americommerce.com/resize/Shared/Images/Product/San-Francisco-49ers/53991.jpg?bh=300\n",
      "https://posterswholesale.americommerce.com/resize/Shared/Images/Product/Tampa-Bay-Buccaneers/54361.png?bh=300\n",
      "https://posterswholesale.americommerce.com/resize/Shared/Images/Product/Tyson/53239.jpg?bh=300\n",
      "https://posterswholesale.americommerce.com/resize/Shared/Images/Product/Washington-Nationals-clone/52725.jpg?bh=300\n",
      "https://posterswholesale.americommerce.com/resize/Shared/Images/Product/Washington-Nationals/53961.jpg?bh=300\n",
      "https://posterswholesale.americommerce.comhttps://posterswholesale.americommerce.com/visa-mc-amex-discover-paypal.gif\n"
     ]
    }
   ],
   "source": [
    "import requests\n",
    "from bs4 import BeautifulSoup\n",
    "\t\n",
    "def getdata(url):\n",
    "\tr = requests.get(url)\n",
    "\treturn r.text\n",
    "\t\n",
    "htmldata = getdata(\"https://posterswholesale.americommerce.com/store/c/29-Sports.aspx\")\n",
    "soup = BeautifulSoup(htmldata, 'html.parser')\n",
    "for item in soup.find_all('img'):\n",
    "    items = (item['src'])\n",
    "    a = 'https://posterswholesale.americommerce.com'\n",
    "    b = (a+items)\n",
    "    print(b)"
   ]
  },
  {
   "cell_type": "code",
   "execution_count": 4,
   "id": "1c5c036a",
   "metadata": {},
   "outputs": [],
   "source": [
    "#Thank-you for your output"
   ]
  },
  {
   "cell_type": "code",
   "execution_count": 37,
   "id": "e0f88c1a",
   "metadata": {},
   "outputs": [],
   "source": [
    "import requests\n",
    "from bs4 import BeautifulSoup\n",
    "\n",
    "images = soup.findAll('img')\n",
    "Source_URL = 'https://posterswholesale.americommerce.com/resize/Shared/Images/Product/Washington-Nationals/53961.jpg?bh=300'\n",
    "r = requests.get(Source_URL).content\n",
    "# Enter File Name with Extension like jpg, png etc..\n",
    "with open(\"53961.jpg\",\"wb+\") as f:\n",
    "      f.write(r)"
   ]
  },
  {
   "cell_type": "code",
   "execution_count": null,
   "id": "be3ccfc9",
   "metadata": {},
   "outputs": [],
   "source": []
  }
 ],
 "metadata": {
  "kernelspec": {
   "display_name": "Python 3 (ipykernel)",
   "language": "python",
   "name": "python3"
  },
  "language_info": {
   "codemirror_mode": {
    "name": "ipython",
    "version": 3
   },
   "file_extension": ".py",
   "mimetype": "text/x-python",
   "name": "python",
   "nbconvert_exporter": "python",
   "pygments_lexer": "ipython3",
   "version": "3.9.7"
  }
 },
 "nbformat": 4,
 "nbformat_minor": 5
}
