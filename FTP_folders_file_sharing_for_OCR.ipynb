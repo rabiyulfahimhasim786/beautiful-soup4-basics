{
  "nbformat": 4,
  "nbformat_minor": 0,
  "metadata": {
    "colab": {
      "name": "FTP_folders_file_sharing_for_OCR.ipynb",
      "provenance": [],
      "collapsed_sections": [],
      "include_colab_link": true
    },
    "kernelspec": {
      "name": "python3",
      "display_name": "Python 3"
    },
    "language_info": {
      "name": "python"
    }
  },
  "cells": [
    {
      "cell_type": "markdown",
      "metadata": {
        "id": "view-in-github",
        "colab_type": "text"
      },
      "source": [
        "<a href=\"https://colab.research.google.com/github/rabiyulfahimhasim786/beautiful-soup4-basics/blob/main/FTP_folders_file_sharing_for_OCR.ipynb\" target=\"_parent\"><img src=\"https://colab.research.google.com/assets/colab-badge.svg\" alt=\"Open In Colab\"/></a>"
      ]
    },
    {
      "cell_type": "code",
      "execution_count": null,
      "metadata": {
        "colab": {
          "base_uri": "https://localhost:8080/",
          "height": 36
        },
        "id": "rUSTPyESghNg",
        "outputId": "3d0f6fae-31c2-479d-8cd2-6047790de21d"
      },
      "outputs": [
        {
          "output_type": "execute_result",
          "data": {
            "text/plain": [
              "'250 CWD command successful'"
            ],
            "application/vnd.google.colaboratory.intrinsic+json": {
              "type": "string"
            }
          },
          "metadata": {},
          "execution_count": 8
        }
      ],
      "source": [
        "# Import Module\n",
        "import ftplib\n",
        " \n",
        "# Fill Required Information\n",
        "HOSTNAME = \"74.208.51.69\"\n",
        "USERNAME = \"stockftpusr\"\n",
        "PASSWORD = \"T11wz8w_\"\n",
        "#Connect FTP Server\n",
        "ftp_server = ftplib.FTP(HOSTNAME, USERNAME, PASSWORD)\n",
        "#ftp_server.login()\n",
        "# force UTF-8 encoding\n",
        "ftp_server.encoding = \"utf-8\"\n",
        "#ftp_server.cwd changing required directory\n",
        "ftp_server.cwd('/assets/yahoo/yahoo_empty/')"
      ]
    },
    {
      "cell_type": "code",
      "source": [
        "# Get list of files\n",
        "ftp_server.dir()"
      ],
      "metadata": {
        "colab": {
          "base_uri": "https://localhost:8080/"
        },
        "id": "I5oP3pa7gwyO",
        "outputId": "e93c76ec-2c41-4ad5-a2fb-0c4150abee43"
      },
      "execution_count": null,
      "outputs": [
        {
          "output_type": "stream",
          "name": "stdout",
          "text": [
            "-rw-r--r--   1 stockftpusr psacln      12906 Jun 30 14:34 data1002.csv\n",
            "-rw-r--r--   1 stockftpusr psacln       9197 Jun  7 20:49 data300.csv\n",
            "-rw-r--r--   1 stockftpusr psacln       9646 Jun  9 20:47 data600.csv\n",
            "-rw-r--r--   1 stockftpusr psacln        418 Jul 13 07:46 table_3284e53ad583448983e865508ca7d5e4_page_1.csv\n"
          ]
        }
      ]
    },
    {
      "cell_type": "code",
      "source": [
        "\n",
        "# Close the Connection\n",
        "ftp_server.quit()\n"
      ],
      "metadata": {
        "colab": {
          "base_uri": "https://localhost:8080/",
          "height": 36
        },
        "id": "LF_Zx92VhJJ3",
        "outputId": "4e288cbb-0bf8-4022-8962-37c0fbf93dd7"
      },
      "execution_count": null,
      "outputs": [
        {
          "output_type": "execute_result",
          "data": {
            "text/plain": [
              "'221 Goodbye.'"
            ],
            "application/vnd.google.colaboratory.intrinsic+json": {
              "type": "string"
            }
          },
          "metadata": {},
          "execution_count": 10
        }
      ]
    },
    {
      "cell_type": "code",
      "source": [
        "#ftp_server.quit()"
      ],
      "metadata": {
        "id": "HZS9bMvphKOC"
      },
      "execution_count": null,
      "outputs": []
    },
    {
      "cell_type": "code",
      "source": [
        "import ftplib\n",
        "import os\n",
        "FTP_HOST = \"74.208.51.69\"\n",
        "FTP_USER = \"stockftpusr\"\n",
        "FTP_PASS = \"T11wz8w_\"\n",
        "\n",
        "ftp = ftplib.FTP(FTP_HOST, FTP_USER, FTP_PASS)\n",
        "ftp.encoding = \"utf-8\"\n",
        "ftp.cwd('/assets/yahoo/yahoo_empty/') \n",
        "\n",
        "dirFTP = \"sample_data/test/tables/20b78d599f669962745da48ca96f1f691784d53665344f9d2ff3feb553fb8daa/\"#uploadig folder name \n",
        "toFTP = os.listdir(dirFTP)\n",
        "\n",
        "for filename in toFTP:\n",
        "    with open(os.path.join(dirFTP,filename), 'rb') as file:  #Here I open the file using it's  full path\n",
        "        ftp.storbinary(f'STOR {filename}', file)  #Here I store the file in the FTP using only it's name as I intended\n",
        "\n",
        "ftp.quit()"
      ],
      "metadata": {
        "id": "RJ3mF4eVhL8C",
        "colab": {
          "base_uri": "https://localhost:8080/",
          "height": 36
        },
        "outputId": "8d973e3e-0a1d-47ba-9518-7ea7f12cd58c"
      },
      "execution_count": null,
      "outputs": [
        {
          "output_type": "execute_result",
          "data": {
            "text/plain": [
              "'221 Goodbye.'"
            ],
            "application/vnd.google.colaboratory.intrinsic+json": {
              "type": "string"
            }
          },
          "metadata": {},
          "execution_count": 7
        }
      ]
    }
  ]
}