{
 "cells": [
  {
   "cell_type": "code",
   "execution_count": 9,
   "id": "908b6567",
   "metadata": {},
   "outputs": [],
   "source": [
    "import pandas as pd"
   ]
  },
  {
   "cell_type": "code",
   "execution_count": 10,
   "id": "88564367",
   "metadata": {},
   "outputs": [],
   "source": [
    "raw_data = ({'Job Titles': ['Junior Software Engineer', 'Junior Software Engineer', 'Jr Software Developer', 'Junior Software Development Engineer-IND', 'Software Engineer - Python (Jr level)'],\n",
    "             'Companyname': ['Mako IT Lab', 'Mangtas', 'Siemens Technology India', 'Ingram Micro', 'NielsenIQ'],\n",
    "              'Location': ['Chennai, Tamil Nadu, India On-site', 'India Remote', 'Chennai, Tamil Nadu, India On-site', 'Chennai, Tamil Nadu, India', 'Chennai, Tamil Nadu, India'],})"
   ]
  },
  {
   "cell_type": "code",
   "execution_count": 11,
   "id": "035a1cbc",
   "metadata": {},
   "outputs": [],
   "source": [
    "df = pd.DataFrame(raw_data, columns = ['Job Titles', 'Companyname', 'Location'])"
   ]
  },
  {
   "cell_type": "code",
   "execution_count": 27,
   "id": "0e603f7d",
   "metadata": {},
   "outputs": [],
   "source": [
    "df.to_csv('E:\\webscrapping files\\linkedindata.csv', index = False, sep='\\t')"
   ]
  },
  {
   "cell_type": "code",
   "execution_count": 28,
   "id": "a259bd19",
   "metadata": {},
   "outputs": [
    {
     "data": {
      "text/html": [
       "<div>\n",
       "<style scoped>\n",
       "    .dataframe tbody tr th:only-of-type {\n",
       "        vertical-align: middle;\n",
       "    }\n",
       "\n",
       "    .dataframe tbody tr th {\n",
       "        vertical-align: top;\n",
       "    }\n",
       "\n",
       "    .dataframe thead th {\n",
       "        text-align: right;\n",
       "    }\n",
       "</style>\n",
       "<table border=\"1\" class=\"dataframe\">\n",
       "  <thead>\n",
       "    <tr style=\"text-align: right;\">\n",
       "      <th></th>\n",
       "      <th>Job Titles</th>\n",
       "      <th>Companyname</th>\n",
       "      <th>Location</th>\n",
       "    </tr>\n",
       "  </thead>\n",
       "  <tbody>\n",
       "    <tr>\n",
       "      <th>0</th>\n",
       "      <td>Junior Software Engineer</td>\n",
       "      <td>Mako IT Lab</td>\n",
       "      <td>Chennai, Tamil Nadu, India On-site</td>\n",
       "    </tr>\n",
       "    <tr>\n",
       "      <th>1</th>\n",
       "      <td>Junior Software Engineer</td>\n",
       "      <td>Mangtas</td>\n",
       "      <td>India Remote</td>\n",
       "    </tr>\n",
       "    <tr>\n",
       "      <th>2</th>\n",
       "      <td>Jr Software Developer</td>\n",
       "      <td>Siemens Technology India</td>\n",
       "      <td>Chennai, Tamil Nadu, India On-site</td>\n",
       "    </tr>\n",
       "    <tr>\n",
       "      <th>3</th>\n",
       "      <td>Junior Software Development Engineer-IND</td>\n",
       "      <td>Ingram Micro</td>\n",
       "      <td>Chennai, Tamil Nadu, India</td>\n",
       "    </tr>\n",
       "    <tr>\n",
       "      <th>4</th>\n",
       "      <td>Software Engineer - Python (Jr level)</td>\n",
       "      <td>NielsenIQ</td>\n",
       "      <td>Chennai, Tamil Nadu, India</td>\n",
       "    </tr>\n",
       "  </tbody>\n",
       "</table>\n",
       "</div>"
      ],
      "text/plain": [
       "                                 Job Titles               Companyname  \\\n",
       "0                  Junior Software Engineer               Mako IT Lab   \n",
       "1                  Junior Software Engineer                   Mangtas   \n",
       "2                     Jr Software Developer  Siemens Technology India   \n",
       "3  Junior Software Development Engineer-IND              Ingram Micro   \n",
       "4     Software Engineer - Python (Jr level)                 NielsenIQ   \n",
       "\n",
       "                             Location  \n",
       "0  Chennai, Tamil Nadu, India On-site  \n",
       "1                        India Remote  \n",
       "2  Chennai, Tamil Nadu, India On-site  \n",
       "3          Chennai, Tamil Nadu, India  \n",
       "4          Chennai, Tamil Nadu, India  "
      ]
     },
     "execution_count": 28,
     "metadata": {},
     "output_type": "execute_result"
    }
   ],
   "source": [
    "df"
   ]
  },
  {
   "cell_type": "code",
   "execution_count": 29,
   "id": "bea89606",
   "metadata": {},
   "outputs": [],
   "source": [
    "df1 = pd.read_csv('E:\\webscrapping files\\linkedindata.csv',sep='\\t')"
   ]
  },
  {
   "cell_type": "code",
   "execution_count": 40,
   "id": "d89c89db",
   "metadata": {},
   "outputs": [
    {
     "data": {
      "text/html": [
       "<div>\n",
       "<style scoped>\n",
       "    .dataframe tbody tr th:only-of-type {\n",
       "        vertical-align: middle;\n",
       "    }\n",
       "\n",
       "    .dataframe tbody tr th {\n",
       "        vertical-align: top;\n",
       "    }\n",
       "\n",
       "    .dataframe thead th {\n",
       "        text-align: right;\n",
       "    }\n",
       "</style>\n",
       "<table border=\"1\" class=\"dataframe\">\n",
       "  <thead>\n",
       "    <tr style=\"text-align: right;\">\n",
       "      <th></th>\n",
       "      <th>Job Titles</th>\n",
       "      <th>Companyname</th>\n",
       "      <th>Location</th>\n",
       "    </tr>\n",
       "  </thead>\n",
       "  <tbody>\n",
       "    <tr>\n",
       "      <th>0</th>\n",
       "      <td>Junior Software Engineer</td>\n",
       "      <td>Mako IT Lab</td>\n",
       "      <td>Chennai, Tamil Nadu, India On-site</td>\n",
       "    </tr>\n",
       "    <tr>\n",
       "      <th>1</th>\n",
       "      <td>Junior Software Engineer</td>\n",
       "      <td>Mangtas</td>\n",
       "      <td>India Remote</td>\n",
       "    </tr>\n",
       "    <tr>\n",
       "      <th>2</th>\n",
       "      <td>Jr Software Developer</td>\n",
       "      <td>Siemens Technology India</td>\n",
       "      <td>Chennai, Tamil Nadu, India On-site</td>\n",
       "    </tr>\n",
       "    <tr>\n",
       "      <th>3</th>\n",
       "      <td>Junior Software Development Engineer-IND</td>\n",
       "      <td>Ingram Micro</td>\n",
       "      <td>Chennai, Tamil Nadu, India</td>\n",
       "    </tr>\n",
       "    <tr>\n",
       "      <th>4</th>\n",
       "      <td>Software Engineer - Python (Jr level)</td>\n",
       "      <td>NielsenIQ</td>\n",
       "      <td>Chennai, Tamil Nadu, India</td>\n",
       "    </tr>\n",
       "  </tbody>\n",
       "</table>\n",
       "</div>"
      ],
      "text/plain": [
       "                                 Job Titles               Companyname  \\\n",
       "0                  Junior Software Engineer               Mako IT Lab   \n",
       "1                  Junior Software Engineer                   Mangtas   \n",
       "2                     Jr Software Developer  Siemens Technology India   \n",
       "3  Junior Software Development Engineer-IND              Ingram Micro   \n",
       "4     Software Engineer - Python (Jr level)                 NielsenIQ   \n",
       "\n",
       "                             Location  \n",
       "0  Chennai, Tamil Nadu, India On-site  \n",
       "1                        India Remote  \n",
       "2  Chennai, Tamil Nadu, India On-site  \n",
       "3          Chennai, Tamil Nadu, India  \n",
       "4          Chennai, Tamil Nadu, India  "
      ]
     },
     "execution_count": 40,
     "metadata": {},
     "output_type": "execute_result"
    }
   ],
   "source": [
    "df1"
   ]
  },
  {
   "cell_type": "code",
   "execution_count": 51,
   "id": "5cdbb442",
   "metadata": {},
   "outputs": [],
   "source": [
    "import pandas as pd\n",
    "writer = pd.ExcelWriter('linkedindata.xlsx', engine='xlsxwriter')\n",
    "writer.save()"
   ]
  },
  {
   "cell_type": "code",
   "execution_count": 53,
   "id": "4f313872",
   "metadata": {},
   "outputs": [],
   "source": [
    "import pandas as pd\n",
    "\n",
    "# dataframe Name and Age columns\n",
    "df = pd.DataFrame({'Job Titles': ['Junior Software Engineer', 'Junior Software Engineer', 'Jr Software Developer', 'Junior Software Development Engineer-IND', 'Software Engineer - Python (Jr level)'],\n",
    "             'Companyname': ['Mako IT Lab', 'Mangtas', 'Siemens Technology India', 'Ingram Micro', 'NielsenIQ'],\n",
    "              'Location': ['Chennai, Tamil Nadu, India On-site', 'India Remote', 'Chennai, Tamil Nadu, India On-site', 'Chennai, Tamil Nadu, India', 'Chennai, Tamil Nadu, India'],})\n",
    "# Create a Pandas Excel writer using XlsxWriter as the engine.\n",
    "writer = pd.ExcelWriter('linkedindata.xlsx', engine='xlsxwriter')\n",
    "\n",
    "# Convert the dataframe to an XlsxWriter Excel object.\n",
    "df.to_excel(writer, sheet_name='Sheet1', index=False)\n",
    "\n",
    "# Close the Pandas Excel writer and output the Excel file.\n",
    "writer.save()"
   ]
  },
  {
   "cell_type": "code",
   "execution_count": 50,
   "id": "27d55cd3",
   "metadata": {},
   "outputs": [
    {
     "data": {
      "text/html": [
       "<div>\n",
       "<style scoped>\n",
       "    .dataframe tbody tr th:only-of-type {\n",
       "        vertical-align: middle;\n",
       "    }\n",
       "\n",
       "    .dataframe tbody tr th {\n",
       "        vertical-align: top;\n",
       "    }\n",
       "\n",
       "    .dataframe thead th {\n",
       "        text-align: right;\n",
       "    }\n",
       "</style>\n",
       "<table border=\"1\" class=\"dataframe\">\n",
       "  <thead>\n",
       "    <tr style=\"text-align: right;\">\n",
       "      <th></th>\n",
       "      <th>Job Titles</th>\n",
       "      <th>Companyname</th>\n",
       "      <th>Location</th>\n",
       "    </tr>\n",
       "  </thead>\n",
       "  <tbody>\n",
       "    <tr>\n",
       "      <th>0</th>\n",
       "      <td>Junior Software Engineer</td>\n",
       "      <td>Mako IT Lab</td>\n",
       "      <td>Chennai, Tamil Nadu, India On-site</td>\n",
       "    </tr>\n",
       "    <tr>\n",
       "      <th>1</th>\n",
       "      <td>Junior Software Engineer</td>\n",
       "      <td>Mangtas</td>\n",
       "      <td>India Remote</td>\n",
       "    </tr>\n",
       "    <tr>\n",
       "      <th>2</th>\n",
       "      <td>Jr Software Developer</td>\n",
       "      <td>Siemens Technology India</td>\n",
       "      <td>Chennai, Tamil Nadu, India On-site</td>\n",
       "    </tr>\n",
       "    <tr>\n",
       "      <th>3</th>\n",
       "      <td>Junior Software Development Engineer-IND</td>\n",
       "      <td>Ingram Micro</td>\n",
       "      <td>Chennai, Tamil Nadu, India</td>\n",
       "    </tr>\n",
       "    <tr>\n",
       "      <th>4</th>\n",
       "      <td>Software Engineer - Python (Jr level)</td>\n",
       "      <td>NielsenIQ</td>\n",
       "      <td>Chennai, Tamil Nadu, India</td>\n",
       "    </tr>\n",
       "  </tbody>\n",
       "</table>\n",
       "</div>"
      ],
      "text/plain": [
       "                                 Job Titles               Companyname  \\\n",
       "0                  Junior Software Engineer               Mako IT Lab   \n",
       "1                  Junior Software Engineer                   Mangtas   \n",
       "2                     Jr Software Developer  Siemens Technology India   \n",
       "3  Junior Software Development Engineer-IND              Ingram Micro   \n",
       "4     Software Engineer - Python (Jr level)                 NielsenIQ   \n",
       "\n",
       "                             Location  \n",
       "0  Chennai, Tamil Nadu, India On-site  \n",
       "1                        India Remote  \n",
       "2  Chennai, Tamil Nadu, India On-site  \n",
       "3          Chennai, Tamil Nadu, India  \n",
       "4          Chennai, Tamil Nadu, India  "
      ]
     },
     "execution_count": 50,
     "metadata": {},
     "output_type": "execute_result"
    }
   ],
   "source": [
    "df"
   ]
  },
  {
   "cell_type": "code",
   "execution_count": 54,
   "id": "86a0eff6",
   "metadata": {},
   "outputs": [],
   "source": [
    "import pandas as pd\n",
    "writer = pd.ExcelWriter('movies-demo.xlsx', engine='xlsxwriter')\n",
    "writer.save()"
   ]
  },
  {
   "cell_type": "code",
   "execution_count": 66,
   "id": "a2f83ea0",
   "metadata": {},
   "outputs": [],
   "source": [
    "import pandas as pd\n",
    "\n",
    "# dataframe Name and Age columns\n",
    "df = pd.DataFrame({'Movie Title': ['A Star Is Born', 'Airplane', 'Alien', 'Aliens', 'Army of Darkness', 'Arnold Schwarzenegger', 'Assassin Of Youth', 'Avengers Endgame', 'Avengers Infinity Saga', 'Avengers Infinity War', 'Back To The Future', 'Back To The Future', 'Back To The Future', 'Batman Joker', 'Batman Joker', 'Beetlejuice', 'Beetlejuice', 'Beetlejuice', 'Big Lebowski', 'Big Trouble In Little China', 'Black Panther', 'Blade Runner', 'Blood In, Blood Out', 'Blow', 'Breakfast Club', 'Breakfast Club', 'Bride Of Frankenstein', 'Bride of Frankenstein', 'Bruce Lee', 'Bullitt', 'Caddyshack', 'Casablanca', \"Child's Play 2\", 'Church of Horror', 'Clint Eastwood', 'Clint Eastwood Dirty Harry', 'Commando', 'Creature From The Black Lagoon', 'Dazed and Confused', \"Devil's Harvest\", 'Dirty Dancing', 'Dracula', 'Dumb and Dumber', 'E.T.', 'E.T.', 'Edward Scissorhands', 'Eraserhead', 'Evil Dead'],\n",
    "                   #'Stock': ['In Stock', 'In Stock', 'In Stock', 'Temporarily Out of Stock', 'In Stock', 'In Stock', 'In Stock', 'In Stock', 'In Stock', 'Temporarily Out of Stock', 'In Stock', 'Temporarily Out of Stock', 'Temporarily Out of Stock', 'Temporarily Out of Stock', 'In Stock', 'In Stock', 'Temporarily Out of Stock', 'Temporarily Out of Stock', 'Temporarily Out of Stock', 'In Stock', 'In Stock', 'In Stock', 'In Stock', 'In Stock', 'In Stock', 'Temporarily Out of Stock', 'Temporarily Out of Stock', 'In Stock', 'In Stock', 'Temporarily Out of Stock', 'Temporarily Out of Stock', 'In Stock', 'In Stock', 'Temporarily Out of Stock', 'In Stock', 'In Stock', 'Temporarily Out of Stock', 'In Stock', 'Temporarily Out of Stock', 'In Stock', 'In Stock', 'In Stock', 'In Stock', 'In Stock', 'In Stock', 'In Stock', 'In Stock', 'In Stock', 'In Stock', 'In Stock'],\n",
    "                   'Item Number': ['Item #: 53330 -', 'Item #: 53220 -', 'Item #: 51543 -', 'Item #: 53267 -', 'Item #: 44853 -', 'Item #: 51823 -', 'Item #: 52466 -', 'Item #: 53184c -', 'Item #: 54340 -', 'Item #: 52709 -', 'Item #: 53366b -', 'Item #: 53224 -', 'Item #: 48452 -', 'Item #: 51827 -', 'Item #: 51687 -', 'Item #: 52043 -', 'Item #: 53414 -', 'Item #: 54313 -', 'Item #: 47287 -', 'Item #: 53162 -', 'Item #: 52575 -', 'Item #: 52577 -', 'Item #: 52097b -', 'Item #: 44589 -', 'Item #: 44719 -', 'Item #: 53365 -', 'Item #: 51685 -', 'Item #: 53238b -', 'Item #: 53173 -', 'Item #: 53192b -', 'Item #: 50830 -', 'Item #: 50867b -', 'Item #: 53221 -', 'Item #: 53170b -', 'Item #: 51303 -', 'Item #: 52392 -', 'Item #: 54066 -', 'Item #: 52827 -', 'Item #: 48552 -', 'Item #: 38371 -', 'Item #: 49932b -', 'Item #: 51199b -', 'Item #: 47088 -', 'Item #: 28288 -', 'Item #: 53351 -', 'Item #: 41427 -', 'Item #: 54305 -', 'Item #: 42865b -'],\n",
    "                   'Retail Price': ['$7.99', '$8.99', '$8.99', '$8.99', '$8.99', '$8.99', '$8.99', '$8.99', '$8.99', '$8.99', '$8.99', '$8.99', '$8.99', '$8.99', '$8.99', '$8.99', '$8.99', '$8.99', '$8.99', '$8.99', '$8.99', '$8.99', '$8.99', '$8.99', '$8.99', '$8.99', '$8.99', '$8.99', '$8.99', '$8.99', '$8.99', '$8.99', '$8.99', '$8.99', '$7.99', '$8.99', '$8.99', '$8.99', '$8.99', '$8.99', '$8.99', '$8.99', '$8.99', '$9.99', '$8.99', '$8.99', '$8.99', '$8.99'],})\n",
    "\n",
    "# Create a Pandas Excel writer using XlsxWriter as the engine.\n",
    "writer = pd.ExcelWriter('movies-demo.xlsx', engine='xlsxwriter')\n",
    "\n",
    "# Convert the dataframe to an XlsxWriter Excel object.\n",
    "df.to_excel(writer, sheet_name='Sheet1', index=False)\n",
    "\n",
    "# Close the Pandas Excel writer and output the Excel file.\n",
    "writer.save()"
   ]
  },
  {
   "cell_type": "code",
   "execution_count": null,
   "id": "8d9c59a3",
   "metadata": {},
   "outputs": [],
   "source": []
  }
 ],
 "metadata": {
  "kernelspec": {
   "display_name": "Python 3 (ipykernel)",
   "language": "python",
   "name": "python3"
  },
  "language_info": {
   "codemirror_mode": {
    "name": "ipython",
    "version": 3
   },
   "file_extension": ".py",
   "mimetype": "text/x-python",
   "name": "python",
   "nbconvert_exporter": "python",
   "pygments_lexer": "ipython3",
   "version": "3.9.7"
  }
 },
 "nbformat": 4,
 "nbformat_minor": 5
}
