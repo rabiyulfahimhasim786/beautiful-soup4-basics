{
 "cells": [
  {
   "cell_type": "code",
   "execution_count": 9,
   "id": "908b6567",
   "metadata": {},
   "outputs": [],
   "source": [
    "import pandas as pd"
   ]
  },
  {
   "cell_type": "code",
   "execution_count": 10,
   "id": "88564367",
   "metadata": {},
   "outputs": [],
   "source": [
    "raw_data = ({'Job Titles': ['Junior Software Engineer', 'Junior Software Engineer', 'Jr Software Developer', 'Junior Software Development Engineer-IND', 'Software Engineer - Python (Jr level)'],\n",
    "             'Companyname': ['Mako IT Lab', 'Mangtas', 'Siemens Technology India', 'Ingram Micro', 'NielsenIQ'],\n",
    "              'Location': ['Chennai, Tamil Nadu, India On-site', 'India Remote', 'Chennai, Tamil Nadu, India On-site', 'Chennai, Tamil Nadu, India', 'Chennai, Tamil Nadu, India'],})"
   ]
  },
  {
   "cell_type": "code",
   "execution_count": 11,
   "id": "035a1cbc",
   "metadata": {},
   "outputs": [],
   "source": [
    "df = pd.DataFrame(raw_data, columns = ['Job Titles', 'Companyname', 'Location'])"
   ]
  },
  {
   "cell_type": "code",
   "execution_count": 27,
   "id": "0e603f7d",
   "metadata": {},
   "outputs": [],
   "source": [
    "df.to_csv('E:\\webscrapping files\\linkedindata.csv', index = False, sep='\\t')"
   ]
  },
  {
   "cell_type": "code",
   "execution_count": 28,
   "id": "a259bd19",
   "metadata": {},
   "outputs": [
    {
     "data": {
      "text/html": [
       "<div>\n",
       "<style scoped>\n",
       "    .dataframe tbody tr th:only-of-type {\n",
       "        vertical-align: middle;\n",
       "    }\n",
       "\n",
       "    .dataframe tbody tr th {\n",
       "        vertical-align: top;\n",
       "    }\n",
       "\n",
       "    .dataframe thead th {\n",
       "        text-align: right;\n",
       "    }\n",
       "</style>\n",
       "<table border=\"1\" class=\"dataframe\">\n",
       "  <thead>\n",
       "    <tr style=\"text-align: right;\">\n",
       "      <th></th>\n",
       "      <th>Job Titles</th>\n",
       "      <th>Companyname</th>\n",
       "      <th>Location</th>\n",
       "    </tr>\n",
       "  </thead>\n",
       "  <tbody>\n",
       "    <tr>\n",
       "      <th>0</th>\n",
       "      <td>Junior Software Engineer</td>\n",
       "      <td>Mako IT Lab</td>\n",
       "      <td>Chennai, Tamil Nadu, India On-site</td>\n",
       "    </tr>\n",
       "    <tr>\n",
       "      <th>1</th>\n",
       "      <td>Junior Software Engineer</td>\n",
       "      <td>Mangtas</td>\n",
       "      <td>India Remote</td>\n",
       "    </tr>\n",
       "    <tr>\n",
       "      <th>2</th>\n",
       "      <td>Jr Software Developer</td>\n",
       "      <td>Siemens Technology India</td>\n",
       "      <td>Chennai, Tamil Nadu, India On-site</td>\n",
       "    </tr>\n",
       "    <tr>\n",
       "      <th>3</th>\n",
       "      <td>Junior Software Development Engineer-IND</td>\n",
       "      <td>Ingram Micro</td>\n",
       "      <td>Chennai, Tamil Nadu, India</td>\n",
       "    </tr>\n",
       "    <tr>\n",
       "      <th>4</th>\n",
       "      <td>Software Engineer - Python (Jr level)</td>\n",
       "      <td>NielsenIQ</td>\n",
       "      <td>Chennai, Tamil Nadu, India</td>\n",
       "    </tr>\n",
       "  </tbody>\n",
       "</table>\n",
       "</div>"
      ],
      "text/plain": [
       "                                 Job Titles               Companyname  \\\n",
       "0                  Junior Software Engineer               Mako IT Lab   \n",
       "1                  Junior Software Engineer                   Mangtas   \n",
       "2                     Jr Software Developer  Siemens Technology India   \n",
       "3  Junior Software Development Engineer-IND              Ingram Micro   \n",
       "4     Software Engineer - Python (Jr level)                 NielsenIQ   \n",
       "\n",
       "                             Location  \n",
       "0  Chennai, Tamil Nadu, India On-site  \n",
       "1                        India Remote  \n",
       "2  Chennai, Tamil Nadu, India On-site  \n",
       "3          Chennai, Tamil Nadu, India  \n",
       "4          Chennai, Tamil Nadu, India  "
      ]
     },
     "execution_count": 28,
     "metadata": {},
     "output_type": "execute_result"
    }
   ],
   "source": [
    "df"
   ]
  },
  {
   "cell_type": "code",
   "execution_count": 29,
   "id": "bea89606",
   "metadata": {},
   "outputs": [],
   "source": [
    "df1 = pd.read_csv('E:\\webscrapping files\\linkedindata.csv',sep='\\t')"
   ]
  },
  {
   "cell_type": "code",
   "execution_count": 40,
   "id": "d89c89db",
   "metadata": {},
   "outputs": [
    {
     "data": {
      "text/html": [
       "<div>\n",
       "<style scoped>\n",
       "    .dataframe tbody tr th:only-of-type {\n",
       "        vertical-align: middle;\n",
       "    }\n",
       "\n",
       "    .dataframe tbody tr th {\n",
       "        vertical-align: top;\n",
       "    }\n",
       "\n",
       "    .dataframe thead th {\n",
       "        text-align: right;\n",
       "    }\n",
       "</style>\n",
       "<table border=\"1\" class=\"dataframe\">\n",
       "  <thead>\n",
       "    <tr style=\"text-align: right;\">\n",
       "      <th></th>\n",
       "      <th>Job Titles</th>\n",
       "      <th>Companyname</th>\n",
       "      <th>Location</th>\n",
       "    </tr>\n",
       "  </thead>\n",
       "  <tbody>\n",
       "    <tr>\n",
       "      <th>0</th>\n",
       "      <td>Junior Software Engineer</td>\n",
       "      <td>Mako IT Lab</td>\n",
       "      <td>Chennai, Tamil Nadu, India On-site</td>\n",
       "    </tr>\n",
       "    <tr>\n",
       "      <th>1</th>\n",
       "      <td>Junior Software Engineer</td>\n",
       "      <td>Mangtas</td>\n",
       "      <td>India Remote</td>\n",
       "    </tr>\n",
       "    <tr>\n",
       "      <th>2</th>\n",
       "      <td>Jr Software Developer</td>\n",
       "      <td>Siemens Technology India</td>\n",
       "      <td>Chennai, Tamil Nadu, India On-site</td>\n",
       "    </tr>\n",
       "    <tr>\n",
       "      <th>3</th>\n",
       "      <td>Junior Software Development Engineer-IND</td>\n",
       "      <td>Ingram Micro</td>\n",
       "      <td>Chennai, Tamil Nadu, India</td>\n",
       "    </tr>\n",
       "    <tr>\n",
       "      <th>4</th>\n",
       "      <td>Software Engineer - Python (Jr level)</td>\n",
       "      <td>NielsenIQ</td>\n",
       "      <td>Chennai, Tamil Nadu, India</td>\n",
       "    </tr>\n",
       "  </tbody>\n",
       "</table>\n",
       "</div>"
      ],
      "text/plain": [
       "                                 Job Titles               Companyname  \\\n",
       "0                  Junior Software Engineer               Mako IT Lab   \n",
       "1                  Junior Software Engineer                   Mangtas   \n",
       "2                     Jr Software Developer  Siemens Technology India   \n",
       "3  Junior Software Development Engineer-IND              Ingram Micro   \n",
       "4     Software Engineer - Python (Jr level)                 NielsenIQ   \n",
       "\n",
       "                             Location  \n",
       "0  Chennai, Tamil Nadu, India On-site  \n",
       "1                        India Remote  \n",
       "2  Chennai, Tamil Nadu, India On-site  \n",
       "3          Chennai, Tamil Nadu, India  \n",
       "4          Chennai, Tamil Nadu, India  "
      ]
     },
     "execution_count": 40,
     "metadata": {},
     "output_type": "execute_result"
    }
   ],
   "source": [
    "df1"
   ]
  },
  {
   "cell_type": "code",
   "execution_count": 51,
   "id": "5cdbb442",
   "metadata": {},
   "outputs": [],
   "source": [
    "import pandas as pd\n",
    "writer = pd.ExcelWriter('linkedindata.xlsx', engine='xlsxwriter')\n",
    "writer.save()"
   ]
  },
  {
   "cell_type": "code",
   "execution_count": 53,
   "id": "4f313872",
   "metadata": {},
   "outputs": [],
   "source": [
    "import pandas as pd\n",
    "\n",
    "# dataframe Name and Age columns\n",
    "df = pd.DataFrame({'Job Titles': ['Junior Software Engineer', 'Junior Software Engineer', 'Jr Software Developer', 'Junior Software Development Engineer-IND', 'Software Engineer - Python (Jr level)'],\n",
    "             'Companyname': ['Mako IT Lab', 'Mangtas', 'Siemens Technology India', 'Ingram Micro', 'NielsenIQ'],\n",
    "              'Location': ['Chennai, Tamil Nadu, India On-site', 'India Remote', 'Chennai, Tamil Nadu, India On-site', 'Chennai, Tamil Nadu, India', 'Chennai, Tamil Nadu, India'],})\n",
    "# Create a Pandas Excel writer using XlsxWriter as the engine.\n",
    "writer = pd.ExcelWriter('linkedindata.xlsx', engine='xlsxwriter')\n",
    "\n",
    "# Convert the dataframe to an XlsxWriter Excel object.\n",
    "df.to_excel(writer, sheet_name='Sheet1', index=False)\n",
    "\n",
    "# Close the Pandas Excel writer and output the Excel file.\n",
    "writer.save()"
   ]
  },
  {
   "cell_type": "code",
   "execution_count": 50,
   "id": "27d55cd3",
   "metadata": {},
   "outputs": [
    {
     "data": {
      "text/html": [
       "<div>\n",
       "<style scoped>\n",
       "    .dataframe tbody tr th:only-of-type {\n",
       "        vertical-align: middle;\n",
       "    }\n",
       "\n",
       "    .dataframe tbody tr th {\n",
       "        vertical-align: top;\n",
       "    }\n",
       "\n",
       "    .dataframe thead th {\n",
       "        text-align: right;\n",
       "    }\n",
       "</style>\n",
       "<table border=\"1\" class=\"dataframe\">\n",
       "  <thead>\n",
       "    <tr style=\"text-align: right;\">\n",
       "      <th></th>\n",
       "      <th>Job Titles</th>\n",
       "      <th>Companyname</th>\n",
       "      <th>Location</th>\n",
       "    </tr>\n",
       "  </thead>\n",
       "  <tbody>\n",
       "    <tr>\n",
       "      <th>0</th>\n",
       "      <td>Junior Software Engineer</td>\n",
       "      <td>Mako IT Lab</td>\n",
       "      <td>Chennai, Tamil Nadu, India On-site</td>\n",
       "    </tr>\n",
       "    <tr>\n",
       "      <th>1</th>\n",
       "      <td>Junior Software Engineer</td>\n",
       "      <td>Mangtas</td>\n",
       "      <td>India Remote</td>\n",
       "    </tr>\n",
       "    <tr>\n",
       "      <th>2</th>\n",
       "      <td>Jr Software Developer</td>\n",
       "      <td>Siemens Technology India</td>\n",
       "      <td>Chennai, Tamil Nadu, India On-site</td>\n",
       "    </tr>\n",
       "    <tr>\n",
       "      <th>3</th>\n",
       "      <td>Junior Software Development Engineer-IND</td>\n",
       "      <td>Ingram Micro</td>\n",
       "      <td>Chennai, Tamil Nadu, India</td>\n",
       "    </tr>\n",
       "    <tr>\n",
       "      <th>4</th>\n",
       "      <td>Software Engineer - Python (Jr level)</td>\n",
       "      <td>NielsenIQ</td>\n",
       "      <td>Chennai, Tamil Nadu, India</td>\n",
       "    </tr>\n",
       "  </tbody>\n",
       "</table>\n",
       "</div>"
      ],
      "text/plain": [
       "                                 Job Titles               Companyname  \\\n",
       "0                  Junior Software Engineer               Mako IT Lab   \n",
       "1                  Junior Software Engineer                   Mangtas   \n",
       "2                     Jr Software Developer  Siemens Technology India   \n",
       "3  Junior Software Development Engineer-IND              Ingram Micro   \n",
       "4     Software Engineer - Python (Jr level)                 NielsenIQ   \n",
       "\n",
       "                             Location  \n",
       "0  Chennai, Tamil Nadu, India On-site  \n",
       "1                        India Remote  \n",
       "2  Chennai, Tamil Nadu, India On-site  \n",
       "3          Chennai, Tamil Nadu, India  \n",
       "4          Chennai, Tamil Nadu, India  "
      ]
     },
     "execution_count": 50,
     "metadata": {},
     "output_type": "execute_result"
    }
   ],
   "source": [
    "df"
   ]
  },
  {
   "cell_type": "code",
   "execution_count": 54,
   "id": "86a0eff6",
   "metadata": {},
   "outputs": [],
   "source": [
    "import pandas as pd\n",
    "writer = pd.ExcelWriter('movies-demo.xlsx', engine='xlsxwriter')\n",
    "writer.save()"
   ]
  },
  {
   "cell_type": "code",
   "execution_count": 66,
   "id": "a2f83ea0",
   "metadata": {},
   "outputs": [],
   "source": [
    "import pandas as pd\n",
    "\n",
    "# dataframe Name and Age columns\n",
    "df = pd.DataFrame({'Job Titles': ['Junior Software Engineer', 'Junior Software Engineer', 'Jr Software Developer', 'Junior Software Development Engineer-IND', 'Software Engineer - Python (Jr level)'],\n",
    "             'Companyname': ['Mako IT Lab', 'Mangtas', 'Siemens Technology India', 'Ingram Micro', 'NielsenIQ'],\n",
    "              'Location': ['Chennai, Tamil Nadu, India On-site', 'India Remote', 'Chennai, Tamil Nadu, India On-site', 'Chennai, Tamil Nadu, India', 'Chennai, Tamil Nadu, India'],})\n",
    "\n",
    "# Create a Pandas Excel writer using XlsxWriter as the engine.\n",
    "writer = pd.ExcelWriter('movies-demo.xlsx', engine='xlsxwriter')\n",
    "\n",
    "# Convert the dataframe to an XlsxWriter Excel object.\n",
    "df.to_excel(writer, sheet_name='Sheet1', index=False)\n",
    "\n",
    "# Close the Pandas Excel writer and output the Excel file.\n",
    "writer.save()"
   ]
  },
  {
   "cell_type": "code",
   "execution_count": null,
   "id": "8d9c59a3",
   "metadata": {},
   "outputs": [],
   "source": []
  }
 ],
 "metadata": {
  "kernelspec": {
   "display_name": "Python 3 (ipykernel)",
   "language": "python",
   "name": "python3"
  },
  "language_info": {
   "codemirror_mode": {
    "name": "ipython",
    "version": 3
   },
   "file_extension": ".py",
   "mimetype": "text/x-python",
   "name": "python",
   "nbconvert_exporter": "python",
   "pygments_lexer": "ipython3",
   "version": "3.9.7"
  }
 },
 "nbformat": 4,
 "nbformat_minor": 5
}
