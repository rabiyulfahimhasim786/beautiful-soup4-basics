{
  "nbformat": 4,
  "nbformat_minor": 0,
  "metadata": {
    "colab": {
      "name": "base01.ipynb",
      "provenance": [],
      "collapsed_sections": []
    },
    "kernelspec": {
      "name": "python3",
      "display_name": "Python 3"
    },
    "language_info": {
      "name": "python"
    }
  },
  "cells": [
    {
      "cell_type": "code",
      "execution_count": null,
      "metadata": {
        "colab": {
          "base_uri": "https://localhost:8080/"
        },
        "id": "i-3xnwwWpZhN",
        "outputId": "aabda181-e925-45cd-8a04-4c97c3cf1cd7"
      },
      "outputs": [
        {
          "output_type": "stream",
          "name": "stdout",
          "text": [
            "Requirement already satisfied: bs4 in /usr/local/lib/python3.7/dist-packages (0.0.1)\n",
            "Requirement already satisfied: beautifulsoup4 in /usr/local/lib/python3.7/dist-packages (from bs4) (4.6.3)\n"
          ]
        }
      ],
      "source": [
        "pip install bs4\n"
      ]
    },
    {
      "cell_type": "code",
      "source": [
        ""
      ],
      "metadata": {
        "id": "NTMobV_t4pyv"
      },
      "execution_count": null,
      "outputs": []
    },
    {
      "cell_type": "code",
      "source": [
        "import requests, bs4\n",
        "from bs4 import BeautifulSoup\n",
        "from csv import writer"
      ],
      "metadata": {
        "id": "qzxfhA70p3nR"
      },
      "execution_count": null,
      "outputs": []
    },
    {
      "cell_type": "code",
      "source": [
        "pip install lxml"
      ],
      "metadata": {
        "colab": {
          "base_uri": "https://localhost:8080/"
        },
        "id": "Oo10QNAdpjmM",
        "outputId": "726d0f61-81be-49a6-b9d2-639c8ba502e1"
      },
      "execution_count": null,
      "outputs": [
        {
          "output_type": "stream",
          "name": "stdout",
          "text": [
            "Requirement already satisfied: lxml in /usr/local/lib/python3.7/dist-packages (4.2.6)\n"
          ]
        }
      ]
    },
    {
      "cell_type": "code",
      "source": [
        "url = \"https://www.pararius.com/apartments/amsterdam?ac=1\"\n",
        "page = requests.get(url)\n"
      ],
      "metadata": {
        "id": "ed9kNe3hp5SJ"
      },
      "execution_count": null,
      "outputs": []
    },
    {
      "cell_type": "code",
      "source": [
        ""
      ],
      "metadata": {
        "id": "m0Cw6hWq4AOd"
      },
      "execution_count": null,
      "outputs": []
    },
    {
      "cell_type": "code",
      "source": [
        "soup = BeautifulSoup(page.content, 'html.parser')\n",
        "lists = soup.find_all('section', class_=\"listing-search-item\")\n"
      ],
      "metadata": {
        "id": "vZ915Z_wqHF6"
      },
      "execution_count": null,
      "outputs": []
    },
    {
      "cell_type": "code",
      "source": [
        "with open('housing.csv','w', encoding='utf8', newline='') as f:\n",
        " thewriter = writer(f)\n",
        " header = ['Title', 'Location', 'Price', 'Area']\n",
        " thewriter.writerow(header)\n",
        " for list in lists:\n",
        "   title = list.find('a', class_=\"listing-search-item__link--title\").text.replace('\\n', '')\n",
        "   location = list.find('div', class_=\"listing-search-item__location\").text.replace('\\n', '')\n",
        "   price = list.find('div', class_=\"listing-search-item__price\").text.replace('\\n', '')\n",
        "   area = list.find('div', class_=\"listing-search-item__features\").text.replace('\\n', '')\n",
        "   info = [title, location, price, area]\n",
        "   thewriter.writerow(info)"
      ],
      "metadata": {
        "id": "y4kcAnBEqLZX"
      },
      "execution_count": null,
      "outputs": []
    },
    {
      "cell_type": "code",
      "source": [
        "print(f.closed)"
      ],
      "metadata": {
        "colab": {
          "base_uri": "https://localhost:8080/"
        },
        "id": "gyUUPpBw4quV",
        "outputId": "34563297-cb27-47be-ebc6-33e4f56d8b8e"
      },
      "execution_count": null,
      "outputs": [
        {
          "output_type": "stream",
          "name": "stdout",
          "text": [
            "True\n"
          ]
        }
      ]
    }
  ]
}