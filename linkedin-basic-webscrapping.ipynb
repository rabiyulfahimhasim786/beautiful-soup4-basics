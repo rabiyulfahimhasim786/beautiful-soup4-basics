{
 "cells": [
  {
   "cell_type": "code",
   "execution_count": 104,
   "id": "6018f7cb",
   "metadata": {},
   "outputs": [],
   "source": [
    "import time , selenium, bs4, csv"
   ]
  },
  {
   "cell_type": "code",
   "execution_count": 105,
   "id": "9bd37544",
   "metadata": {},
   "outputs": [
    {
     "name": "stderr",
     "output_type": "stream",
     "text": [
      "C:\\Users\\Admin\\AppData\\Local\\Temp/ipykernel_6092/2391737037.py:6: DeprecationWarning: executable_path has been deprecated, please pass in a Service object\n",
      "  driver = webdriver.Chrome(\"E:\\webscrapping files\\chromedriver_win32\\chromedriver.exe\")\n",
      "C:\\Users\\Admin\\AppData\\Local\\Temp/ipykernel_6092/2391737037.py:16: DeprecationWarning: find_element_by_* commands are deprecated. Please use find_element() instead\n",
      "  username = driver.find_element_by_id(\"username\")\n",
      "C:\\Users\\Admin\\AppData\\Local\\Temp/ipykernel_6092/2391737037.py:25: DeprecationWarning: find_element_by_* commands are deprecated. Please use find_element() instead\n",
      "  pword = driver.find_element_by_id(\"password\")\n",
      "C:\\Users\\Admin\\AppData\\Local\\Temp/ipykernel_6092/2391737037.py:35: DeprecationWarning: find_element_by_* commands are deprecated. Please use find_element() instead\n",
      "  driver.find_element_by_xpath(\"//button[@type='submit']\").click()\n"
     ]
    }
   ],
   "source": [
    "from selenium import webdriver\n",
    "from bs4 import BeautifulSoup\n",
    "from csv import writer\n",
    "\n",
    "# Creating a webdriver instance\n",
    "driver = webdriver.Chrome(\"Your driver folder path\")\n",
    "# This instance will be used to log into LinkedIn\n",
    " \n",
    "# Opening linkedIn's login page\n",
    "driver.get(\"https://linkedin.com/uas/login\")\n",
    " \n",
    "# waiting for the page to load\n",
    "time.sleep(5)\n",
    " \n",
    "# entering username\n",
    "username = driver.find_element_by_id(\"username\")\n",
    " \n",
    "# In case of an error, try changing the element\n",
    "# tag used here.\n",
    " \n",
    "# Enter Your Email Address\n",
    "username.send_keys(\"username\") \n",
    " \n",
    "# entering password\n",
    "pword = driver.find_element_by_id(\"password\")\n",
    "# In case of an error, try changing the element \n",
    "# tag used here.\n",
    " \n",
    "# Enter Your Password\n",
    "pword.send_keys(\"password\") \n",
    " \n",
    "# Clicking on the log in button\n",
    "# Format (syntax) of writing XPath --> \n",
    "# //tagname[@attribute='value']\n",
    "driver.find_element_by_xpath(\"//button[@type='submit']\").click()\n",
    "# In case of an error, try changing the\n",
    "# XPath used here"
   ]
  },
  {
   "cell_type": "code",
   "execution_count": 106,
   "id": "b3bf7d53",
   "metadata": {},
   "outputs": [
    {
     "name": "stderr",
     "output_type": "stream",
     "text": [
      "C:\\Users\\Admin\\AppData\\Local\\Temp/ipykernel_6092/113602763.py:1: DeprecationWarning: find_element_by_* commands are deprecated. Please use find_element() instead\n",
      "  jobs = driver.find_element_by_xpath(\"//a[@data-link-to='jobs']/span\")\n"
     ]
    }
   ],
   "source": [
    "jobs = driver.find_element_by_xpath(\"//a[@data-link-to='jobs']/span\")\n",
    "# In case of an error, try changing the XPath.\n",
    " \n",
    "jobs.click()\n"
   ]
  },
  {
   "cell_type": "code",
   "execution_count": 126,
   "id": "6710f57d",
   "metadata": {},
   "outputs": [],
   "source": [
    "job_src = driver.page_source\n",
    " \n",
    "soup = BeautifulSoup(job_src, 'lxml') "
   ]
  },
  {
   "cell_type": "code",
   "execution_count": 108,
   "id": "d02a2967",
   "metadata": {},
   "outputs": [],
   "source": [
    "#with open('linkedin.csv','w', encoding='utf8', newline='') as f:\n",
    "    #thewriter = writer(f)\n",
    "    #header = ['Job Titles', 'Companyname', 'Location']\n",
    "    #thewriter.writerow(header)"
   ]
  },
  {
   "cell_type": "code",
   "execution_count": 127,
   "id": "aae4429f",
   "metadata": {},
   "outputs": [
    {
     "name": "stdout",
     "output_type": "stream",
     "text": [
      "['Junior Software Engineer', 'Junior Software Engineer', 'Jr Software Developer', 'Junior Software Development Engineer-IND', 'Software Engineer - Python (Jr level)']\n"
     ]
    }
   ],
   "source": [
    "jobs_html = soup.find_all('a', {'class': 'job-card-list__title'})\n",
    "# In case of an error, try changing the XPath.\n",
    " \n",
    "job_titles = []\n",
    " \n",
    "for title in jobs_html:\n",
    " job_titles.append(title.text.strip())\n",
    " \n",
    "print(job_titles)\n"
   ]
  },
  {
   "cell_type": "code",
   "execution_count": 128,
   "id": "41642493",
   "metadata": {},
   "outputs": [
    {
     "name": "stdout",
     "output_type": "stream",
     "text": [
      "['Mako IT Lab', 'Mangtas', 'Siemens Technology India', 'Ingram Micro', 'NielsenIQ']\n"
     ]
    }
   ],
   "source": [
    "company_name_html = soup.find_all(\n",
    " 'div', {'class': 'job-card-container__company-name'})\n",
    "company_names = []\n",
    " \n",
    "for name in company_name_html:\n",
    " company_names.append(name.text.strip())\n",
    " \n",
    "print(company_names)"
   ]
  },
  {
   "cell_type": "code",
   "execution_count": 129,
   "id": "473b4bce",
   "metadata": {},
   "outputs": [
    {
     "name": "stdout",
     "output_type": "stream",
     "text": [
      "['Chennai, Tamil Nadu, India On-site', 'India Remote', 'Chennai, Tamil Nadu, India On-site', 'Chennai, Tamil Nadu, India', 'Chennai, Tamil Nadu, India']\n"
     ]
    }
   ],
   "source": [
    "import re # for removing the extra blank spaces\n",
    " \n",
    "location_html = soup.find_all(\n",
    " 'ul', {'class': 'job-card-container__metadata-wrapper'})\n",
    " \n",
    "location_list = []\n",
    " \n",
    "for loc in location_html:\n",
    " res = re.sub('\\n\\n +', ' ', loc.text.strip())\n",
    " \n",
    " location_list.append(res)\n",
    " \n",
    "print(location_list)"
   ]
  },
  {
   "cell_type": "code",
   "execution_count": 130,
   "id": "9a0846f0",
   "metadata": {},
   "outputs": [],
   "source": [
    "#info = [job_titles, company_names, location_list]\n",
    "#thewriter.writerow(info)\n",
    "#print(f.closed)"
   ]
  },
  {
   "cell_type": "code",
   "execution_count": 131,
   "id": "d94c7a6c",
   "metadata": {},
   "outputs": [],
   "source": [
    "#with open('linkedin.csv','w', encoding='utf8', newline='') as f:\n",
    "    #thewriter = writer(f)\n",
    "    #header = ['Job Titles', 'Companyname', 'Location']\n",
    "    #thewriter.writerow(header)\n",
    "    #info = [job_titles, company_names, location_list]\n",
    "    #thewriter.writerow(info)\n",
    "    #print(f.closed)"
   ]
  },
  {
   "cell_type": "code",
   "execution_count": 132,
   "id": "d487f1e1",
   "metadata": {},
   "outputs": [],
   "source": [
    "import requests\n",
    "\n",
    "url = \"https://www.linkedin.com/jobs/\"\n",
    "page = requests.get(url)\n",
    "\n",
    "soup = BeautifulSoup(page.content, 'html.parser')\n",
    "lists = soup.find_all('section', class_=\"artdeco-card ember-view mb2 ph3 pt4 pb1\")\n",
    "for list in lists:\n",
    "    title = list.find('a', class_=\"job-card-list__title\")\n",
    "    company_name = list.find('div', class_=\"job-card-container__company-name\")\n",
    "    location = list.find('ul', class_=\"job-card-container__metadata-wrapper\").text.replace('\\n\\n+', '')\n",
    "    #area = list.find('div', class_=\"artdeco-entity-lockup__caption ember-view\").text.replace('\\n', '')\n",
    "    info = [title, company_name, location, area]\n",
    "    print(info)"
   ]
  },
  {
   "cell_type": "code",
   "execution_count": 133,
   "id": "8dae42c2",
   "metadata": {},
   "outputs": [],
   "source": [
    "#with open('housing.csv','w', encoding='utf8', newline='') as f:\n",
    "    #thewriter = writer(f)\n",
    "    #header = ['Title', 'company_name', 'location', 'area']\n",
    "    #thewriter.writerow(header)\n",
    "for list in lists:\n",
    "    title = list.find('a', class_=\"job-card-list__title\").text.replace('\\n', '')\n",
    "    company_name = list.find('div', class_=\"job-card-container__company-name\").text.replace('\\n', '')\n",
    "    location = list.find('ul', class_=\"job-card-container__metadata-wrapper\").text.replace('\\n', '')\n",
    "    #area = list.find('div', class_=\"artdeco-entity-lockup__caption ember-view\").text.replace('\\n', '')\n",
    "    info = [title, company_name, location, area]\n",
    "    print(info)\n",
    "    #thewriter.writerow(info)\n",
    "        #print(f.closed)"
   ]
  },
  {
   "cell_type": "code",
   "execution_count": null,
   "id": "2949a066",
   "metadata": {},
   "outputs": [],
   "source": []
  },
  {
   "cell_type": "code",
   "execution_count": null,
   "id": "5fddf75d",
   "metadata": {},
   "outputs": [],
   "source": []
  }
 ],
 "metadata": {
  "kernelspec": {
   "display_name": "Python 3 (ipykernel)",
   "language": "python",
   "name": "python3"
  },
  "language_info": {
   "codemirror_mode": {
    "name": "ipython",
    "version": 3
   },
   "file_extension": ".py",
   "mimetype": "text/x-python",
   "name": "python",
   "nbconvert_exporter": "python",
   "pygments_lexer": "ipython3",
   "version": "3.9.7"
  }
 },
 "nbformat": 4,
 "nbformat_minor": 5
}
